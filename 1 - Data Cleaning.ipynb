{
 "cells": [
  {
   "cell_type": "code",
   "execution_count": 1,
   "id": "12643e16-b9b6-4a46-8b1b-2a32f709dd2d",
   "metadata": {
    "pycharm": {
     "name": "#%%\n"
    }
   },
   "outputs": [],
   "source": [
    "import pandas as pd\n",
    "import re\n",
    "from pandarallel import pandarallel\n",
    "from os import path\n",
    "from unicodedata import normalize"
   ]
  },
  {
   "cell_type": "code",
   "execution_count": 2,
   "id": "eca3c78c-36f9-4e18-9cdc-0716c792ca14",
   "metadata": {
    "pycharm": {
     "name": "#%%\n"
    }
   },
   "outputs": [
    {
     "name": "stdout",
     "output_type": "stream",
     "text": [
      "INFO: Pandarallel will run on 10 workers.\n",
      "INFO: Pandarallel will use Memory file system to transfer data between the main process and workers.\n"
     ]
    }
   ],
   "source": [
    "pandarallel.initialize(progress_bar=True)"
   ]
  },
  {
   "cell_type": "markdown",
   "id": "2ebd4ff2-6c1b-47b1-a2f8-1499e8823a5d",
   "metadata": {
    "pycharm": {
     "name": "#%% md\n"
    }
   },
   "source": [
    "# Carregar os dados\n",
    "\n",
    "O conjunto de dados possui 1.195.278 tweets extraídos utilizando o Twitter Stream Extractor.\n",
    "\n",
    "Aproximadamente 600k foram obtidos em 2019.\n",
    "\n",
    "E o restante dos tweets foram obtidos durante 17 e 18 de agosto.\n",
    "\n",
    "\n",
    "Dataset apenas para fins educacionais, para uso em produção recomendo a coleta durante um longo período para diminuir vieses temporais (dia dos pais, situação política, natal)\n",
    "\n",
    "Referência:\n",
    "- [Twitter Stream Extractor](https://github.com/AlanTaranti/twitter_stream_extractor)"
   ]
  },
  {
   "cell_type": "code",
   "execution_count": 3,
   "id": "dcef9320-7e47-4015-859c-41344e62da41",
   "metadata": {
    "pycharm": {
     "name": "#%%\n"
    }
   },
   "outputs": [
    {
     "data": {
      "text/plain": "                          id  \\\n178264   1559861409684635648   \n296504   1559897350839181312   \n443997   1559955219471032321   \n142010   1559846654869704704   \n46305    1559753239385489411   \n502273   1559970739247349766   \n1165709  1161363697962561537   \n1106339  1161241464539615232   \n947021   1160954462191661058   \n42987    1559751801238421504   \n\n                                                      text  \n178264   Bom dia!! Quartou direto do estúdio da previsã...  \n296504   @vinioboy 🗡- mas você cresceu mesmo, desde que...  \n443997     @Tali_Mito22 CAMBADA DE SAFADO FILHO DA PPPPPPP  \n142010   @BolsonaroSP @onyxlorenzoni Tá bom 👍 VOVÓ MAFALDA  \n46305    @seafroes Sim, cara o fandom é muito de boa el...  \n502273   @lovenazuly Eu ia entrar agora lá, obrigado pe...  \n1165709                                    Nenhumaaaaaa !!  \n1106339  jovem classe média pagando 180 reais em ingres...  \n947021                                Eu amo meus bebês. ♡  \n42987          @pollynhalima lindas 👩‍❤️‍💋‍👩👩‍❤️‍💋‍👩💓💓💓💓💓💓  ",
      "text/html": "<div>\n<style scoped>\n    .dataframe tbody tr th:only-of-type {\n        vertical-align: middle;\n    }\n\n    .dataframe tbody tr th {\n        vertical-align: top;\n    }\n\n    .dataframe thead th {\n        text-align: right;\n    }\n</style>\n<table border=\"1\" class=\"dataframe\">\n  <thead>\n    <tr style=\"text-align: right;\">\n      <th></th>\n      <th>id</th>\n      <th>text</th>\n    </tr>\n  </thead>\n  <tbody>\n    <tr>\n      <th>178264</th>\n      <td>1559861409684635648</td>\n      <td>Bom dia!! Quartou direto do estúdio da previsã...</td>\n    </tr>\n    <tr>\n      <th>296504</th>\n      <td>1559897350839181312</td>\n      <td>@vinioboy 🗡- mas você cresceu mesmo, desde que...</td>\n    </tr>\n    <tr>\n      <th>443997</th>\n      <td>1559955219471032321</td>\n      <td>@Tali_Mito22 CAMBADA DE SAFADO FILHO DA PPPPPPP</td>\n    </tr>\n    <tr>\n      <th>142010</th>\n      <td>1559846654869704704</td>\n      <td>@BolsonaroSP @onyxlorenzoni Tá bom 👍 VOVÓ MAFALDA</td>\n    </tr>\n    <tr>\n      <th>46305</th>\n      <td>1559753239385489411</td>\n      <td>@seafroes Sim, cara o fandom é muito de boa el...</td>\n    </tr>\n    <tr>\n      <th>502273</th>\n      <td>1559970739247349766</td>\n      <td>@lovenazuly Eu ia entrar agora lá, obrigado pe...</td>\n    </tr>\n    <tr>\n      <th>1165709</th>\n      <td>1161363697962561537</td>\n      <td>Nenhumaaaaaa !!</td>\n    </tr>\n    <tr>\n      <th>1106339</th>\n      <td>1161241464539615232</td>\n      <td>jovem classe média pagando 180 reais em ingres...</td>\n    </tr>\n    <tr>\n      <th>947021</th>\n      <td>1160954462191661058</td>\n      <td>Eu amo meus bebês. ♡</td>\n    </tr>\n    <tr>\n      <th>42987</th>\n      <td>1559751801238421504</td>\n      <td>@pollynhalima lindas 👩‍❤️‍💋‍👩👩‍❤️‍💋‍👩💓💓💓💓💓💓</td>\n    </tr>\n  </tbody>\n</table>\n</div>"
     },
     "execution_count": 3,
     "metadata": {},
     "output_type": "execute_result"
    }
   ],
   "source": [
    "# Definir caminho do arquivo\n",
    "filename = \"raw_data.parquet.gzip\"\n",
    "directory = \"data\"\n",
    "filepath = path.join(directory, filename)\n",
    "\n",
    "# Carregar dados\n",
    "data = pd.read_parquet(filepath)\n",
    "\n",
    "# Amostra dos dados\n",
    "data.sample(10)"
   ]
  },
  {
   "cell_type": "code",
   "execution_count": 4,
   "id": "562c6426-11b9-4898-9e7d-1a01c4182540",
   "metadata": {
    "pycharm": {
     "name": "#%%\n"
    }
   },
   "outputs": [
    {
     "name": "stdout",
     "output_type": "stream",
     "text": [
      "<class 'pandas.core.frame.DataFrame'>\n",
      "RangeIndex: 1195278 entries, 0 to 1195277\n",
      "Data columns (total 2 columns):\n",
      " #   Column  Non-Null Count    Dtype \n",
      "---  ------  --------------    ----- \n",
      " 0   id      1195278 non-null  object\n",
      " 1   text    1195278 non-null  object\n",
      "dtypes: object(2)\n",
      "memory usage: 18.2+ MB\n"
     ]
    }
   ],
   "source": [
    "data.info()"
   ]
  },
  {
   "cell_type": "markdown",
   "id": "045a1abf-d500-4cda-8975-d6b7e718dce5",
   "metadata": {
    "pycharm": {
     "name": "#%% md\n"
    }
   },
   "source": [
    "# Limpeza\n",
    "\n",
    "Aqui o objetivo é tratarmos os dados para remover tweets duplicados e remover do tweet informações que não serão úteis para análise de sentimentos."
   ]
  },
  {
   "cell_type": "markdown",
   "id": "29d31e29-4196-499b-a061-b977ca82c98c",
   "metadata": {
    "pycharm": {
     "name": "#%% md\n"
    }
   },
   "source": [
    "## Remover duplicatas"
   ]
  },
  {
   "cell_type": "code",
   "execution_count": 14,
   "outputs": [
    {
     "name": "stdout",
     "output_type": "stream",
     "text": [
      "Quantidade de Tweets duplicados: 383\n"
     ]
    }
   ],
   "source": [
    "duplicados = data[\"id\"].duplicated().sum()\n",
    "\n",
    "print(\"Quantidade de Tweets duplicados: {}\".format(duplicados))"
   ],
   "metadata": {
    "collapsed": false,
    "pycharm": {
     "name": "#%%\n"
    }
   }
  },
  {
   "cell_type": "code",
   "execution_count": 15,
   "id": "8913e200-dffb-44e3-814c-b3e47b57f497",
   "metadata": {
    "pycharm": {
     "name": "#%%\n"
    }
   },
   "outputs": [],
   "source": [
    "data = data[data[\"id\"].duplicated(keep=\"first\") == False]"
   ]
  },
  {
   "cell_type": "markdown",
   "id": "d3aba829-fa13-4299-a375-135be5093c01",
   "metadata": {
    "pycharm": {
     "name": "#%% md\n"
    }
   },
   "source": [
    "## Tratamento do Texto"
   ]
  },
  {
   "cell_type": "code",
   "execution_count": 17,
   "id": "67b38f55-435b-47eb-ae23-9cd3b6028366",
   "metadata": {
    "pycharm": {
     "name": "#%%\n"
    }
   },
   "outputs": [],
   "source": [
    "def clean_data(string):\n",
    "\n",
    "    # Normalizar a string\n",
    "    string_tratada = normalize(\"NFC\", string)\n",
    "\n",
    "    # Converter para minuscula\n",
    "    string_tratada = string_tratada.lower()\n",
    "\n",
    "    # Remover referencia a outros usuários\n",
    "    string_tratada = re.sub(\"(@[\\w]+ | @[\\w]+)\", \" \", string_tratada)\n",
    "\n",
    "    # Remover new line\n",
    "    string_tratada = re.sub(\"\\n\", \" \", string_tratada)\n",
    "\n",
    "    # Remover as hashtags\n",
    "    string_tratada = re.sub(\"(#.+ | #.+)\", \" \", string_tratada)\n",
    "\n",
    "    # Remover os links\n",
    "    string_tratada = re.sub(\"\\w+:\\/\\/\\S+\", \" \", string_tratada)\n",
    "\n",
    "    # Remover Numeros\n",
    "    string_tratada = re.sub(\"\\d\", \" \", string_tratada)\n",
    "\n",
    "    # Remover underline\n",
    "    string_tratada = re.sub(\"_\", \" \", string_tratada)\n",
    "\n",
    "    # Tratar Repetições — Permite no máximo 3\n",
    "    string_tratada = re.sub(r\"(.+?)\\1{3,}\", r\"\\1\\1\\1\", string_tratada)\n",
    "\n",
    "    # Remover espaços extras\n",
    "    string_tratada = re.sub(\" +\", \" \", string_tratada)\n",
    "    string_tratada = re.sub(\"(^ )\", \"\", string_tratada)\n",
    "    string_tratada = re.sub(\"( $)\", \"\", string_tratada)\n",
    "\n",
    "    return string_tratada"
   ]
  },
  {
   "cell_type": "markdown",
   "id": "ad4759a2-f0cd-4010-af68-1c818ce18ca1",
   "metadata": {
    "pycharm": {
     "name": "#%% md\n"
    }
   },
   "source": [
    "## Demonstração de função de limpeza de dados"
   ]
  },
  {
   "cell_type": "code",
   "execution_count": 23,
   "id": "ec469059-1baa-472b-9a15-d39ef3905dd0",
   "metadata": {
    "pycharm": {
     "name": "#%%\n"
    }
   },
   "outputs": [
    {
     "name": "stdout",
     "output_type": "stream",
     "text": [
      "Tweet Original : @MondayMMorning Eu sempre assisto o clipe pois o boy dela é sucesso 😍\n",
      "\n",
      "Tweet Limpo    : eu sempre assisto o clipe pois o boy dela é sucesso 😍\n"
     ]
    }
   ],
   "source": [
    "tweet = data[\"text\"].sample(1).values[0]\n",
    "tweet_limpo = clean_data(tweet)\n",
    "\n",
    "print(\"Tweet Original : {}\".format(tweet))\n",
    "print(\"\")\n",
    "print(\"Tweet Limpo    : {}\".format(tweet_limpo))"
   ]
  },
  {
   "cell_type": "markdown",
   "id": "b2a608c8-6231-4f78-b235-3b4e099e77bd",
   "metadata": {
    "pycharm": {
     "name": "#%% md\n"
    }
   },
   "source": [
    "## Aplicação da Limpeza"
   ]
  },
  {
   "cell_type": "code",
   "execution_count": 24,
   "id": "448e6ffa-ae5d-4c38-94bc-500bd8d1785b",
   "metadata": {
    "pycharm": {
     "name": "#%%\n"
    }
   },
   "outputs": [
    {
     "data": {
      "text/plain": "VBox(children=(HBox(children=(IntProgress(value=0, description='0.00%', max=119490), Label(value='0 / 119490')…",
      "application/vnd.jupyter.widget-view+json": {
       "version_major": 2,
       "version_minor": 0,
       "model_id": "483469c976c442aab19d569c56a84c80"
      }
     },
     "metadata": {},
     "output_type": "display_data"
    }
   ],
   "source": [
    "data[\"text\"] = data[\"text\"].parallel_apply(clean_data)"
   ]
  },
  {
   "cell_type": "markdown",
   "id": "11c98a2a-183b-4f5e-b01b-affa1c9c645e",
   "metadata": {
    "pycharm": {
     "name": "#%% md\n"
    }
   },
   "source": [
    "# Salvar Dados"
   ]
  },
  {
   "cell_type": "code",
   "execution_count": 25,
   "id": "f9cff263-48c8-4fb1-98c1-e7ffb9cbe9c9",
   "metadata": {
    "pycharm": {
     "name": "#%%\n"
    }
   },
   "outputs": [],
   "source": [
    "# Definir caminho do arquivo\n",
    "filename = \"cleaned_data.parquet.gzip\"\n",
    "directory = \"data\"\n",
    "filepath = path.join(directory, filename)\n",
    "\n",
    "# Salvar Dados\n",
    "data.to_parquet(filepath, compression=\"gzip\")"
   ]
  },
  {
   "cell_type": "code",
   "execution_count": null,
   "id": "1c36af51-c653-4db0-a61e-ad0d9a8e5295",
   "metadata": {
    "pycharm": {
     "name": "#%%\n"
    }
   },
   "outputs": [],
   "source": []
  }
 ],
 "metadata": {
  "kernelspec": {
   "display_name": "Python 3 (ipykernel)",
   "language": "python",
   "name": "python3"
  },
  "language_info": {
   "codemirror_mode": {
    "name": "ipython",
    "version": 3
   },
   "file_extension": ".py",
   "mimetype": "text/x-python",
   "name": "python",
   "nbconvert_exporter": "python",
   "pygments_lexer": "ipython3",
   "version": "3.10.4"
  }
 },
 "nbformat": 4,
 "nbformat_minor": 5
}