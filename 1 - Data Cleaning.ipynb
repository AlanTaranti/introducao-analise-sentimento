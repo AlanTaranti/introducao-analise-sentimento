{
 "cells": [
  {
   "cell_type": "code",
   "execution_count": 1,
   "id": "12643e16-b9b6-4a46-8b1b-2a32f709dd2d",
   "metadata": {
    "pycharm": {
     "name": "#%%\n"
    }
   },
   "outputs": [],
   "source": [
    "import pandas as pd\n",
    "import re\n",
    "from pandarallel import pandarallel\n",
    "from os import path\n",
    "from unicodedata import normalize"
   ]
  },
  {
   "cell_type": "code",
   "execution_count": 2,
   "id": "eca3c78c-36f9-4e18-9cdc-0716c792ca14",
   "metadata": {
    "pycharm": {
     "name": "#%%\n"
    }
   },
   "outputs": [
    {
     "name": "stdout",
     "output_type": "stream",
     "text": [
      "INFO: Pandarallel will run on 10 workers.\n",
      "INFO: Pandarallel will use Memory file system to transfer data between the main process and workers.\n"
     ]
    }
   ],
   "source": [
    "pandarallel.initialize(progress_bar=True)"
   ]
  },
  {
   "cell_type": "markdown",
   "id": "2ebd4ff2-6c1b-47b1-a2f8-1499e8823a5d",
   "metadata": {
    "pycharm": {
     "name": "#%% md\n"
    }
   },
   "source": [
    "# Carregar os dados\n",
    "\n",
    "O conjunto de dados possui 1.195.278 tweets extraídos utilizando o Twitter Stream Extractor.\n",
    "\n",
    "Aproximadamente 600k foram obtidos em 2019.\n",
    "\n",
    "E o restante dos tweets foram obtidos durante 17 e 18 de agosto.\n",
    "\n",
    "\n",
    "Dataset apenas para fins educacionais, para uso em produção recomendo a coleta durante um longo período para diminuir vieses temporais (dia dos pais, situação política, natal)\n",
    "\n",
    "Referência:\n",
    "- [Twitter Stream Extractor](https://github.com/AlanTaranti/twitter_stream_extractor)"
   ]
  },
  {
   "cell_type": "code",
   "execution_count": 3,
   "id": "dcef9320-7e47-4015-859c-41344e62da41",
   "metadata": {
    "pycharm": {
     "name": "#%%\n"
    }
   },
   "outputs": [
    {
     "data": {
      "text/plain": "                         id                                               text\n550420  1559989009291649024  @aluizioikk Você finalmente vai usar a fantasi...\n557530  1559990843678887938                                 @euleoguedes Adoro\n679762  1160631667276603392                          te encontrei até qm fim 🎶\n725530  1160686364104564736                                      Pelo demoro 😴\n563410  1559992343859699712             @heyitspotter_ @_miguel_mf BRIGADE FR😭\n313645  1559901819740082179                           Tive um sonho bom hoje 💖\n369987  1559915868494221313  @hggandelman @corelinajones @misfitsvampira @V...\n555714  1559990387225370624  Se viene Ouahabinha masterclass https://t.co/N...\n201953  1559869498651451394                           @uarmyego Parabens!!!! 😐\n913567  1160916327407771648              Brigado, meu eu leonino agradece... 😛",
      "text/html": "<div>\n<style scoped>\n    .dataframe tbody tr th:only-of-type {\n        vertical-align: middle;\n    }\n\n    .dataframe tbody tr th {\n        vertical-align: top;\n    }\n\n    .dataframe thead th {\n        text-align: right;\n    }\n</style>\n<table border=\"1\" class=\"dataframe\">\n  <thead>\n    <tr style=\"text-align: right;\">\n      <th></th>\n      <th>id</th>\n      <th>text</th>\n    </tr>\n  </thead>\n  <tbody>\n    <tr>\n      <th>550420</th>\n      <td>1559989009291649024</td>\n      <td>@aluizioikk Você finalmente vai usar a fantasi...</td>\n    </tr>\n    <tr>\n      <th>557530</th>\n      <td>1559990843678887938</td>\n      <td>@euleoguedes Adoro</td>\n    </tr>\n    <tr>\n      <th>679762</th>\n      <td>1160631667276603392</td>\n      <td>te encontrei até qm fim 🎶</td>\n    </tr>\n    <tr>\n      <th>725530</th>\n      <td>1160686364104564736</td>\n      <td>Pelo demoro 😴</td>\n    </tr>\n    <tr>\n      <th>563410</th>\n      <td>1559992343859699712</td>\n      <td>@heyitspotter_ @_miguel_mf BRIGADE FR😭</td>\n    </tr>\n    <tr>\n      <th>313645</th>\n      <td>1559901819740082179</td>\n      <td>Tive um sonho bom hoje 💖</td>\n    </tr>\n    <tr>\n      <th>369987</th>\n      <td>1559915868494221313</td>\n      <td>@hggandelman @corelinajones @misfitsvampira @V...</td>\n    </tr>\n    <tr>\n      <th>555714</th>\n      <td>1559990387225370624</td>\n      <td>Se viene Ouahabinha masterclass https://t.co/N...</td>\n    </tr>\n    <tr>\n      <th>201953</th>\n      <td>1559869498651451394</td>\n      <td>@uarmyego Parabens!!!! 😐</td>\n    </tr>\n    <tr>\n      <th>913567</th>\n      <td>1160916327407771648</td>\n      <td>Brigado, meu eu leonino agradece... 😛</td>\n    </tr>\n  </tbody>\n</table>\n</div>"
     },
     "execution_count": 3,
     "metadata": {},
     "output_type": "execute_result"
    }
   ],
   "source": [
    "# Definir caminho do arquivo\n",
    "filename = \"raw_data.parquet.gzip\"\n",
    "directory = \"data\"\n",
    "filepath = path.join(directory, filename)\n",
    "\n",
    "# Carregar dados\n",
    "data = pd.read_parquet(filepath)\n",
    "\n",
    "# Amostra dos dados\n",
    "data.sample(10)"
   ]
  },
  {
   "cell_type": "code",
   "execution_count": 4,
   "id": "562c6426-11b9-4898-9e7d-1a01c4182540",
   "metadata": {
    "pycharm": {
     "name": "#%%\n"
    }
   },
   "outputs": [
    {
     "name": "stdout",
     "output_type": "stream",
     "text": [
      "<class 'pandas.core.frame.DataFrame'>\n",
      "RangeIndex: 1195278 entries, 0 to 1195277\n",
      "Data columns (total 2 columns):\n",
      " #   Column  Non-Null Count    Dtype \n",
      "---  ------  --------------    ----- \n",
      " 0   id      1195278 non-null  object\n",
      " 1   text    1195278 non-null  object\n",
      "dtypes: object(2)\n",
      "memory usage: 18.2+ MB\n"
     ]
    }
   ],
   "source": [
    "data.info()"
   ]
  },
  {
   "cell_type": "markdown",
   "id": "045a1abf-d500-4cda-8975-d6b7e718dce5",
   "metadata": {
    "pycharm": {
     "name": "#%% md\n"
    }
   },
   "source": [
    "# Limpeza\n",
    "\n",
    "Aqui o objetivo é tratarmos os dados para remover tweets duplicados e remover do tweet informações que não serão úteis para análise de sentimentos."
   ]
  },
  {
   "cell_type": "markdown",
   "id": "29d31e29-4196-499b-a061-b977ca82c98c",
   "metadata": {
    "pycharm": {
     "name": "#%% md\n"
    }
   },
   "source": [
    "## Remover duplicatas"
   ]
  },
  {
   "cell_type": "code",
   "execution_count": 5,
   "outputs": [
    {
     "name": "stdout",
     "output_type": "stream",
     "text": [
      "Quantidade de Tweets duplicados: 383\n"
     ]
    }
   ],
   "source": [
    "duplicados = data[\"id\"].duplicated().sum()\n",
    "\n",
    "print(\"Quantidade de Tweets duplicados: {}\".format(duplicados))"
   ],
   "metadata": {
    "collapsed": false,
    "pycharm": {
     "name": "#%%\n"
    }
   }
  },
  {
   "cell_type": "code",
   "execution_count": 6,
   "id": "8913e200-dffb-44e3-814c-b3e47b57f497",
   "metadata": {
    "pycharm": {
     "name": "#%%\n"
    }
   },
   "outputs": [],
   "source": [
    "data = data[data[\"id\"].duplicated(keep=\"first\") == False]"
   ]
  },
  {
   "cell_type": "markdown",
   "id": "d3aba829-fa13-4299-a375-135be5093c01",
   "metadata": {
    "pycharm": {
     "name": "#%% md\n"
    }
   },
   "source": [
    "## Tratamento do Texto"
   ]
  },
  {
   "cell_type": "code",
   "execution_count": 7,
   "id": "67b38f55-435b-47eb-ae23-9cd3b6028366",
   "metadata": {
    "pycharm": {
     "name": "#%%\n"
    }
   },
   "outputs": [],
   "source": [
    "def clean_data(string):\n",
    "\n",
    "    # Normalizar a string\n",
    "    string_tratada = normalize(\"NFC\", string)\n",
    "\n",
    "    # Converter para minuscula\n",
    "    string_tratada = string_tratada.lower()\n",
    "\n",
    "    # Remover referencia a outros usuários\n",
    "    string_tratada = re.sub(\"(@[\\w]+ | @[\\w]+)\", \" \", string_tratada)\n",
    "\n",
    "    # Remover new line\n",
    "    string_tratada = re.sub(\"\\n\", \" \", string_tratada)\n",
    "\n",
    "    # Remover as hashtags\n",
    "    string_tratada = re.sub(\"(#.+ | #.+)\", \" \", string_tratada)\n",
    "\n",
    "    # Remover os links\n",
    "    string_tratada = re.sub(\"\\w+:\\/\\/\\S+\", \" \", string_tratada)\n",
    "\n",
    "    # Remover Numeros\n",
    "    string_tratada = re.sub(\"\\d\", \" \", string_tratada)\n",
    "\n",
    "    # Remover underline\n",
    "    string_tratada = re.sub(\"_\", \" \", string_tratada)\n",
    "\n",
    "    # Tratar Repetições — Permite no máximo 3\n",
    "    string_tratada = re.sub(r\"(.+?)\\1{3,}\", r\"\\1\\1\\1\", string_tratada)\n",
    "\n",
    "    # Remover espaços extras\n",
    "    string_tratada = re.sub(\" +\", \" \", string_tratada)\n",
    "    string_tratada = re.sub(\"(^ )\", \"\", string_tratada)\n",
    "    string_tratada = re.sub(\"( $)\", \"\", string_tratada)\n",
    "\n",
    "    return string_tratada"
   ]
  },
  {
   "cell_type": "markdown",
   "id": "ad4759a2-f0cd-4010-af68-1c818ce18ca1",
   "metadata": {
    "pycharm": {
     "name": "#%% md\n"
    }
   },
   "source": [
    "## Demonstração de função de limpeza de dados"
   ]
  },
  {
   "cell_type": "code",
   "execution_count": 8,
   "id": "ec469059-1baa-472b-9a15-d39ef3905dd0",
   "metadata": {
    "pycharm": {
     "name": "#%%\n"
    }
   },
   "outputs": [
    {
     "name": "stdout",
     "output_type": "stream",
     "text": [
      "Tweet Original : @jauremodest uhum 😔\n",
      "\n",
      "Tweet Limpo    : uhum 😔\n"
     ]
    }
   ],
   "source": [
    "tweet = data[\"text\"].sample(1).values[0]\n",
    "tweet_limpo = clean_data(tweet)\n",
    "\n",
    "print(\"Tweet Original : {}\".format(tweet))\n",
    "print(\"\")\n",
    "print(\"Tweet Limpo    : {}\".format(tweet_limpo))"
   ]
  },
  {
   "cell_type": "markdown",
   "id": "b2a608c8-6231-4f78-b235-3b4e099e77bd",
   "metadata": {
    "pycharm": {
     "name": "#%% md\n"
    }
   },
   "source": [
    "## Aplicação da Limpeza"
   ]
  },
  {
   "cell_type": "code",
   "execution_count": 9,
   "id": "448e6ffa-ae5d-4c38-94bc-500bd8d1785b",
   "metadata": {
    "pycharm": {
     "name": "#%%\n"
    }
   },
   "outputs": [
    {
     "data": {
      "text/plain": "VBox(children=(HBox(children=(IntProgress(value=0, description='0.00%', max=119490), Label(value='0 / 119490')…",
      "application/vnd.jupyter.widget-view+json": {
       "version_major": 2,
       "version_minor": 0,
       "model_id": "07aa7e9b5d2d419da78fd653d3336d40"
      }
     },
     "metadata": {},
     "output_type": "display_data"
    }
   ],
   "source": [
    "data[\"text\"] = data[\"text\"].parallel_apply(clean_data)"
   ]
  },
  {
   "cell_type": "markdown",
   "id": "11c98a2a-183b-4f5e-b01b-affa1c9c645e",
   "metadata": {
    "pycharm": {
     "name": "#%% md\n"
    }
   },
   "source": [
    "# Salvar Dados"
   ]
  },
  {
   "cell_type": "code",
   "execution_count": 10,
   "id": "f9cff263-48c8-4fb1-98c1-e7ffb9cbe9c9",
   "metadata": {
    "pycharm": {
     "name": "#%%\n"
    }
   },
   "outputs": [],
   "source": [
    "# Definir caminho do arquivo\n",
    "filename = \"cleaned_data.parquet.gzip\"\n",
    "directory = \"data\"\n",
    "filepath = path.join(directory, filename)\n",
    "\n",
    "# Salvar Dados\n",
    "data.to_parquet(filepath, compression=\"gzip\")"
   ]
  },
  {
   "cell_type": "code",
   "execution_count": 10,
   "id": "1c36af51-c653-4db0-a61e-ad0d9a8e5295",
   "metadata": {
    "pycharm": {
     "name": "#%%\n"
    }
   },
   "outputs": [],
   "source": []
  }
 ],
 "metadata": {
  "kernelspec": {
   "display_name": "Python 3 (ipykernel)",
   "language": "python",
   "name": "python3"
  },
  "language_info": {
   "codemirror_mode": {
    "name": "ipython",
    "version": 3
   },
   "file_extension": ".py",
   "mimetype": "text/x-python",
   "name": "python",
   "nbconvert_exporter": "python",
   "pygments_lexer": "ipython3",
   "version": "3.10.4"
  }
 },
 "nbformat": 4,
 "nbformat_minor": 5
}