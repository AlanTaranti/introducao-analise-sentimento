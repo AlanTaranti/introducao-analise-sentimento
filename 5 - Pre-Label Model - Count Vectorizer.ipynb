{
 "cells": [
  {
   "cell_type": "code",
   "execution_count": 1,
   "metadata": {
    "collapsed": true,
    "pycharm": {
     "name": "#%%\n"
    }
   },
   "outputs": [],
   "source": [
    "import re\n",
    "from os import path\n",
    "from time import time\n",
    "\n",
    "import nltk\n",
    "import numpy as np\n",
    "import pandas as pd\n",
    "import matplotlib.pyplot as plt\n",
    "from pandarallel import pandarallel\n",
    "\n",
    "from sklearn.preprocessing import StandardScaler\n",
    "from sklearn.naive_bayes import MultinomialNB\n",
    "from sklearn.ensemble import AdaBoostClassifier\n",
    "from sklearn.metrics import f1_score\n",
    "from sklearn.model_selection import train_test_split, learning_curve, RandomizedSearchCV, cross_val_score\n",
    "from sklearn.feature_extraction.text import CountVectorizer"
   ]
  },
  {
   "cell_type": "code",
   "execution_count": 2,
   "outputs": [
    {
     "name": "stdout",
     "output_type": "stream",
     "text": [
      "INFO: Pandarallel will run on 10 workers.\n",
      "INFO: Pandarallel will use Memory file system to transfer data between the main process and workers.\n"
     ]
    }
   ],
   "source": [
    "pandarallel.initialize(progress_bar=True)"
   ],
   "metadata": {
    "collapsed": false,
    "pycharm": {
     "name": "#%%\n"
    }
   }
  },
  {
   "cell_type": "markdown",
   "source": [
    "# Carregar os dados"
   ],
   "metadata": {
    "collapsed": false,
    "pycharm": {
     "name": "#%% md\n"
    }
   }
  },
  {
   "cell_type": "markdown",
   "source": [
    "## Tweets"
   ],
   "metadata": {
    "collapsed": false,
    "pycharm": {
     "name": "#%% md\n"
    }
   }
  },
  {
   "cell_type": "code",
   "execution_count": 3,
   "outputs": [
    {
     "data": {
      "text/plain": "                         id  \\\n7599    1559741070115840001   \n508985  1160685655833362439   \n364605  1559988907286171648   \n559847  1160722556996988928   \n723163  1160987642764435457   \n789793  1161112103312338949   \n853839  1161279776168054784   \n773189  1161073157161324545   \n579982  1160746977690365952   \n365871  1559989425337155591   \n\n                                                     text     score  label  \n7599    copa do mundo feminina sub- ⚽ converteu! goool...  1.244147      1  \n508985  - follow the profile and activate the notifica...  1.064913      1  \n364605  todas as vezes que tem jogo do flamengo lembro... -0.146058     -1  \n559847                               uhum sei prova ent 😌  0.484211      1  \n723163                    se não for assim eu nem quero 💙  0.732456      1  \n789793                                    vou ir dormir 😴 -0.080780     -1  \n853839  como assim ??? 😂😂😂 estou parva para a minha vi...  0.883874      1  \n773189                         vovo.ja. amam parabeisss 👍  0.522114      1  \n579982                        aff vou ter que ir embora 💔 -0.121951     -1  \n365871           é vai ser no primeiro turno.🇧🇷🇧🇷🇧🇷👏👏👏💪💪💪  3.228784      1  ",
      "text/html": "<div>\n<style scoped>\n    .dataframe tbody tr th:only-of-type {\n        vertical-align: middle;\n    }\n\n    .dataframe tbody tr th {\n        vertical-align: top;\n    }\n\n    .dataframe thead th {\n        text-align: right;\n    }\n</style>\n<table border=\"1\" class=\"dataframe\">\n  <thead>\n    <tr style=\"text-align: right;\">\n      <th></th>\n      <th>id</th>\n      <th>text</th>\n      <th>score</th>\n      <th>label</th>\n    </tr>\n  </thead>\n  <tbody>\n    <tr>\n      <th>7599</th>\n      <td>1559741070115840001</td>\n      <td>copa do mundo feminina sub- ⚽ converteu! goool...</td>\n      <td>1.244147</td>\n      <td>1</td>\n    </tr>\n    <tr>\n      <th>508985</th>\n      <td>1160685655833362439</td>\n      <td>- follow the profile and activate the notifica...</td>\n      <td>1.064913</td>\n      <td>1</td>\n    </tr>\n    <tr>\n      <th>364605</th>\n      <td>1559988907286171648</td>\n      <td>todas as vezes que tem jogo do flamengo lembro...</td>\n      <td>-0.146058</td>\n      <td>-1</td>\n    </tr>\n    <tr>\n      <th>559847</th>\n      <td>1160722556996988928</td>\n      <td>uhum sei prova ent 😌</td>\n      <td>0.484211</td>\n      <td>1</td>\n    </tr>\n    <tr>\n      <th>723163</th>\n      <td>1160987642764435457</td>\n      <td>se não for assim eu nem quero 💙</td>\n      <td>0.732456</td>\n      <td>1</td>\n    </tr>\n    <tr>\n      <th>789793</th>\n      <td>1161112103312338949</td>\n      <td>vou ir dormir 😴</td>\n      <td>-0.080780</td>\n      <td>-1</td>\n    </tr>\n    <tr>\n      <th>853839</th>\n      <td>1161279776168054784</td>\n      <td>como assim ??? 😂😂😂 estou parva para a minha vi...</td>\n      <td>0.883874</td>\n      <td>1</td>\n    </tr>\n    <tr>\n      <th>773189</th>\n      <td>1161073157161324545</td>\n      <td>vovo.ja. amam parabeisss 👍</td>\n      <td>0.522114</td>\n      <td>1</td>\n    </tr>\n    <tr>\n      <th>579982</th>\n      <td>1160746977690365952</td>\n      <td>aff vou ter que ir embora 💔</td>\n      <td>-0.121951</td>\n      <td>-1</td>\n    </tr>\n    <tr>\n      <th>365871</th>\n      <td>1559989425337155591</td>\n      <td>é vai ser no primeiro turno.🇧🇷🇧🇷🇧🇷👏👏👏💪💪💪</td>\n      <td>3.228784</td>\n      <td>1</td>\n    </tr>\n  </tbody>\n</table>\n</div>"
     },
     "execution_count": 3,
     "metadata": {},
     "output_type": "execute_result"
    }
   ],
   "source": [
    "# Definir caminho do arquivo\n",
    "filename = \"labeled_data.parquet.gzip\"\n",
    "directory = \"data\"\n",
    "filepath = path.join(directory, filename)\n",
    "\n",
    "# Carregar dados\n",
    "data = pd.read_parquet(filepath)\n",
    "\n",
    "# Amostra dos dados\n",
    "data.sample(10)"
   ],
   "metadata": {
    "collapsed": false,
    "pycharm": {
     "name": "#%%\n"
    }
   }
  },
  {
   "cell_type": "markdown",
   "source": [
    "## Limpeza de Dados\n",
    "\n",
    "No modelo Soma das Frequencias*, precisamos saber a quantidade de determinadas palavras que aparecem em tweets positivos, negativos e neutros.\n",
    "\n",
    "Removeremos as Stopwords (palavras que não adicionam muito significado ao texto).\n",
    "\n",
    "Para melhorar o modelo, utilizaremos o Stemming, que visa remove alguns [afixos](https://pt.wikipedia.org/wiki/Afixo) das palavras. Exemplo: papel gramatical, tempo, morfologia derivacional, deixando apenas o radical da palavra.\n",
    "Assim, contaremos apenas os radicais das palavras em vez de suas derivações.\n",
    "\n",
    "Referências:\n",
    "\n",
    "- [StopWords](https://en.wikipedia.org/wiki/Stop_word)\n",
    "- [Stemming](https://en.wikipedia.org/wiki/Stemming)"
   ],
   "metadata": {
    "collapsed": false,
    "pycharm": {
     "name": "#%% md\n"
    }
   }
  },
  {
   "cell_type": "code",
   "execution_count": 4,
   "outputs": [],
   "source": [
    "def preprocess_data(string, stopwords, stemmer=None):\n",
    "\n",
    "    # Remover os Emojis e Pontuações\n",
    "    string_tratada = re.sub(\"\\W\", \" \", string)\n",
    "\n",
    "    # Remover stopwords\n",
    "    string_tratada = \" \".join(\n",
    "        [substring for substring in string_tratada.split() if substring not in stopwords]\n",
    "    )\n",
    "\n",
    "    # Stemming\n",
    "    if stemmer:\n",
    "        string_tratada = \" \".join([stemmer.stem(substring) for substring in string_tratada.split()])\n",
    "\n",
    "    # Remover espaços extras\n",
    "    string_tratada = re.sub(\" +\", \" \", string_tratada)\n",
    "    string_tratada = re.sub(\"(^ )\", \"\", string_tratada)\n",
    "    string_tratada = re.sub(\"( $)\", \"\", string_tratada)\n",
    "\n",
    "    return string_tratada"
   ],
   "metadata": {
    "collapsed": false,
    "pycharm": {
     "name": "#%%\n"
    }
   }
  },
  {
   "cell_type": "code",
   "execution_count": 5,
   "outputs": [],
   "source": [
    "# Obter as stopwords\n",
    "portuguese_stopwords = nltk.corpus.stopwords.words(\"portuguese\")\n",
    "\n",
    "# Inicializar o Stemmer\n",
    "rlp_stemmer = nltk.stem.RSLPStemmer()"
   ],
   "metadata": {
    "collapsed": false,
    "pycharm": {
     "name": "#%%\n"
    }
   }
  },
  {
   "cell_type": "code",
   "execution_count": 6,
   "outputs": [
    {
     "data": {
      "text/plain": "16             de\n47      estávamos\n69            for\n59    estivéramos\n44          estas\ndtype: object"
     },
     "execution_count": 6,
     "metadata": {},
     "output_type": "execute_result"
    }
   ],
   "source": [
    "# Mostra das stopwords\n",
    "pd.Series(portuguese_stopwords).sample(5)"
   ],
   "metadata": {
    "collapsed": false,
    "pycharm": {
     "name": "#%%\n"
    }
   }
  },
  {
   "cell_type": "markdown",
   "source": [
    "### Demonstração do Tratamento"
   ],
   "metadata": {
    "collapsed": false,
    "pycharm": {
     "name": "#%% md\n"
    }
   }
  },
  {
   "cell_type": "code",
   "execution_count": 7,
   "outputs": [
    {
     "name": "stdout",
     "output_type": "stream",
     "text": [
      "Tweet Original: dorme bem mô 💞\n",
      "\n",
      "Tweet Limpo   : dorme bem mô\n",
      "\n",
      "Tweet Stemed  : dorm bem mô\n"
     ]
    }
   ],
   "source": [
    "tweet = data[\"text\"].sample(1).values[0]\n",
    "tweet_limpo = preprocess_data(tweet, portuguese_stopwords)\n",
    "tweet_limpo_stemmed = preprocess_data(tweet, portuguese_stopwords, rlp_stemmer)\n",
    "\n",
    "print(\"Tweet Original: {}\".format(tweet))\n",
    "print(\"\")\n",
    "print(\"Tweet Limpo   : {}\".format(tweet_limpo))\n",
    "print(\"\")\n",
    "print(\"Tweet Stemed  : {}\".format(tweet_limpo_stemmed))"
   ],
   "metadata": {
    "collapsed": false,
    "pycharm": {
     "name": "#%%\n"
    }
   }
  },
  {
   "cell_type": "markdown",
   "source": [
    "## Aplicação da Limpeza"
   ],
   "metadata": {
    "collapsed": false,
    "pycharm": {
     "name": "#%% md\n"
    }
   }
  },
  {
   "cell_type": "code",
   "execution_count": 8,
   "outputs": [
    {
     "data": {
      "text/plain": "VBox(children=(HBox(children=(IntProgress(value=0, description='0.00%', max=91196), Label(value='0 / 91196')))…",
      "application/vnd.jupyter.widget-view+json": {
       "version_major": 2,
       "version_minor": 0,
       "model_id": "e9acba256a9942b6acbb909e32a6c689"
      }
     },
     "metadata": {},
     "output_type": "display_data"
    }
   ],
   "source": [
    "data[\"cleaned\"] = data[\"text\"].parallel_apply(\n",
    "    lambda x: preprocess_data(x, portuguese_stopwords, rlp_stemmer)\n",
    ")"
   ],
   "metadata": {
    "collapsed": false,
    "pycharm": {
     "name": "#%%\n"
    }
   }
  },
  {
   "cell_type": "code",
   "execution_count": 9,
   "outputs": [
    {
     "data": {
      "text/plain": "                         id  \\\n624568  1160846876737978368   \n759672  1161051804785885185   \n449664  1160583479911997441   \n534576  1160709463285948417   \n781553  1161091416233263105   \n\n                                                     text     score  label  \\\n624568  silav. fatereşk:dalak. lê em ê li wateya penkr...  0.522114      1   \n759672  eu to chorando pq meu irmão vai ter um baby bo...  0.732456      1   \n449664                   as espinhas voltaram com força 😪 -0.080913     -1   \n534576                  alguém pra apalpar minha peida? 😔 -0.146058     -1   \n781553                               a minha é incrível 💙  0.732456      1   \n\n                                                  cleaned  \n624568  silav fatereşk dalak lê ê li watey penkreas bi...  \n759672  to chor pq irm vai ter baby boy sempr quil mãe...  \n449664                                      esp volt forç  \n534576                              alguém pra apalp peid  \n781553                                               incr  ",
      "text/html": "<div>\n<style scoped>\n    .dataframe tbody tr th:only-of-type {\n        vertical-align: middle;\n    }\n\n    .dataframe tbody tr th {\n        vertical-align: top;\n    }\n\n    .dataframe thead th {\n        text-align: right;\n    }\n</style>\n<table border=\"1\" class=\"dataframe\">\n  <thead>\n    <tr style=\"text-align: right;\">\n      <th></th>\n      <th>id</th>\n      <th>text</th>\n      <th>score</th>\n      <th>label</th>\n      <th>cleaned</th>\n    </tr>\n  </thead>\n  <tbody>\n    <tr>\n      <th>624568</th>\n      <td>1160846876737978368</td>\n      <td>silav. fatereşk:dalak. lê em ê li wateya penkr...</td>\n      <td>0.522114</td>\n      <td>1</td>\n      <td>silav fatereşk dalak lê ê li watey penkreas bi...</td>\n    </tr>\n    <tr>\n      <th>759672</th>\n      <td>1161051804785885185</td>\n      <td>eu to chorando pq meu irmão vai ter um baby bo...</td>\n      <td>0.732456</td>\n      <td>1</td>\n      <td>to chor pq irm vai ter baby boy sempr quil mãe...</td>\n    </tr>\n    <tr>\n      <th>449664</th>\n      <td>1160583479911997441</td>\n      <td>as espinhas voltaram com força 😪</td>\n      <td>-0.080913</td>\n      <td>-1</td>\n      <td>esp volt forç</td>\n    </tr>\n    <tr>\n      <th>534576</th>\n      <td>1160709463285948417</td>\n      <td>alguém pra apalpar minha peida? 😔</td>\n      <td>-0.146058</td>\n      <td>-1</td>\n      <td>alguém pra apalp peid</td>\n    </tr>\n    <tr>\n      <th>781553</th>\n      <td>1161091416233263105</td>\n      <td>a minha é incrível 💙</td>\n      <td>0.732456</td>\n      <td>1</td>\n      <td>incr</td>\n    </tr>\n  </tbody>\n</table>\n</div>"
     },
     "execution_count": 9,
     "metadata": {},
     "output_type": "execute_result"
    }
   ],
   "source": [
    "data.sample(5)"
   ],
   "metadata": {
    "collapsed": false,
    "pycharm": {
     "name": "#%%\n"
    }
   }
  },
  {
   "cell_type": "markdown",
   "source": [
    "# Modelo Count Vectorizer\n",
    "\n",
    "Este modelo utiliza uma matriz esparsa com a frequencia de cada palavra."
   ],
   "metadata": {
    "collapsed": false,
    "pycharm": {
     "name": "#%% md\n"
    }
   }
  },
  {
   "cell_type": "markdown",
   "source": [
    "### Separar conjuntos de treinamento e teste\n",
    "\n",
    "Aqui faremos a separação de conjunto de treino e teste.\n",
    "\n",
    "O dicionário será criado utilizando o conjunto de treino, e posteriormente verificado sua eficácia no conjunto de teste."
   ],
   "metadata": {
    "collapsed": false,
    "pycharm": {
     "name": "#%% md\n"
    }
   }
  },
  {
   "cell_type": "code",
   "execution_count": 10,
   "outputs": [],
   "source": [
    "X_train, X_test = train_test_split(data, random_state=42)"
   ],
   "metadata": {
    "collapsed": false,
    "pycharm": {
     "name": "#%%\n"
    }
   }
  },
  {
   "cell_type": "markdown",
   "source": [
    "### Count Vectorizer"
   ],
   "metadata": {
    "collapsed": false,
    "pycharm": {
     "name": "#%% md\n"
    }
   }
  },
  {
   "cell_type": "code",
   "execution_count": 11,
   "outputs": [
    {
     "data": {
      "text/plain": "CountVectorizer()",
      "text/html": "<style>#sk-container-id-1 {color: black;background-color: white;}#sk-container-id-1 pre{padding: 0;}#sk-container-id-1 div.sk-toggleable {background-color: white;}#sk-container-id-1 label.sk-toggleable__label {cursor: pointer;display: block;width: 100%;margin-bottom: 0;padding: 0.3em;box-sizing: border-box;text-align: center;}#sk-container-id-1 label.sk-toggleable__label-arrow:before {content: \"▸\";float: left;margin-right: 0.25em;color: #696969;}#sk-container-id-1 label.sk-toggleable__label-arrow:hover:before {color: black;}#sk-container-id-1 div.sk-estimator:hover label.sk-toggleable__label-arrow:before {color: black;}#sk-container-id-1 div.sk-toggleable__content {max-height: 0;max-width: 0;overflow: hidden;text-align: left;background-color: #f0f8ff;}#sk-container-id-1 div.sk-toggleable__content pre {margin: 0.2em;color: black;border-radius: 0.25em;background-color: #f0f8ff;}#sk-container-id-1 input.sk-toggleable__control:checked~div.sk-toggleable__content {max-height: 200px;max-width: 100%;overflow: auto;}#sk-container-id-1 input.sk-toggleable__control:checked~label.sk-toggleable__label-arrow:before {content: \"▾\";}#sk-container-id-1 div.sk-estimator input.sk-toggleable__control:checked~label.sk-toggleable__label {background-color: #d4ebff;}#sk-container-id-1 div.sk-label input.sk-toggleable__control:checked~label.sk-toggleable__label {background-color: #d4ebff;}#sk-container-id-1 input.sk-hidden--visually {border: 0;clip: rect(1px 1px 1px 1px);clip: rect(1px, 1px, 1px, 1px);height: 1px;margin: -1px;overflow: hidden;padding: 0;position: absolute;width: 1px;}#sk-container-id-1 div.sk-estimator {font-family: monospace;background-color: #f0f8ff;border: 1px dotted black;border-radius: 0.25em;box-sizing: border-box;margin-bottom: 0.5em;}#sk-container-id-1 div.sk-estimator:hover {background-color: #d4ebff;}#sk-container-id-1 div.sk-parallel-item::after {content: \"\";width: 100%;border-bottom: 1px solid gray;flex-grow: 1;}#sk-container-id-1 div.sk-label:hover label.sk-toggleable__label {background-color: #d4ebff;}#sk-container-id-1 div.sk-serial::before {content: \"\";position: absolute;border-left: 1px solid gray;box-sizing: border-box;top: 0;bottom: 0;left: 50%;z-index: 0;}#sk-container-id-1 div.sk-serial {display: flex;flex-direction: column;align-items: center;background-color: white;padding-right: 0.2em;padding-left: 0.2em;position: relative;}#sk-container-id-1 div.sk-item {position: relative;z-index: 1;}#sk-container-id-1 div.sk-parallel {display: flex;align-items: stretch;justify-content: center;background-color: white;position: relative;}#sk-container-id-1 div.sk-item::before, #sk-container-id-1 div.sk-parallel-item::before {content: \"\";position: absolute;border-left: 1px solid gray;box-sizing: border-box;top: 0;bottom: 0;left: 50%;z-index: -1;}#sk-container-id-1 div.sk-parallel-item {display: flex;flex-direction: column;z-index: 1;position: relative;background-color: white;}#sk-container-id-1 div.sk-parallel-item:first-child::after {align-self: flex-end;width: 50%;}#sk-container-id-1 div.sk-parallel-item:last-child::after {align-self: flex-start;width: 50%;}#sk-container-id-1 div.sk-parallel-item:only-child::after {width: 0;}#sk-container-id-1 div.sk-dashed-wrapped {border: 1px dashed gray;margin: 0 0.4em 0.5em 0.4em;box-sizing: border-box;padding-bottom: 0.4em;background-color: white;}#sk-container-id-1 div.sk-label label {font-family: monospace;font-weight: bold;display: inline-block;line-height: 1.2em;}#sk-container-id-1 div.sk-label-container {text-align: center;}#sk-container-id-1 div.sk-container {/* jupyter's `normalize.less` sets `[hidden] { display: none; }` but bootstrap.min.css set `[hidden] { display: none !important; }` so we also need the `!important` here to be able to override the default hidden behavior on the sphinx rendered scikit-learn.org. See: https://github.com/scikit-learn/scikit-learn/issues/21755 */display: inline-block !important;position: relative;}#sk-container-id-1 div.sk-text-repr-fallback {display: none;}</style><div id=\"sk-container-id-1\" class=\"sk-top-container\"><div class=\"sk-text-repr-fallback\"><pre>CountVectorizer()</pre><b>In a Jupyter environment, please rerun this cell to show the HTML representation or trust the notebook. <br />On GitHub, the HTML representation is unable to render, please try loading this page with nbviewer.org.</b></div><div class=\"sk-container\" hidden><div class=\"sk-item\"><div class=\"sk-estimator sk-toggleable\"><input class=\"sk-toggleable__control sk-hidden--visually\" id=\"sk-estimator-id-1\" type=\"checkbox\" checked><label for=\"sk-estimator-id-1\" class=\"sk-toggleable__label sk-toggleable__label-arrow\">CountVectorizer</label><div class=\"sk-toggleable__content\"><pre>CountVectorizer()</pre></div></div></div></div></div>"
     },
     "execution_count": 11,
     "metadata": {},
     "output_type": "execute_result"
    }
   ],
   "source": [
    "vectorizer = CountVectorizer()\n",
    "vectorizer.fit(X_train[\"cleaned\"])"
   ],
   "metadata": {
    "collapsed": false,
    "pycharm": {
     "name": "#%%\n"
    }
   }
  },
  {
   "cell_type": "markdown",
   "source": [
    "#### Aplicar a Geração do Feature Vector em todo o Dataset de Treino"
   ],
   "metadata": {
    "collapsed": false,
    "pycharm": {
     "name": "#%% md\n"
    }
   }
  },
  {
   "cell_type": "code",
   "execution_count": 12,
   "outputs": [],
   "source": [
    "X_features_train = vectorizer.transform(X_train[\"cleaned\"])\n",
    "y_features_train = X_train[\"label\"]"
   ],
   "metadata": {
    "collapsed": false,
    "pycharm": {
     "name": "#%%\n"
    }
   }
  },
  {
   "cell_type": "markdown",
   "source": [
    "#### Aplicar a Geração do Feature Vector em todo o Dataset de Teste"
   ],
   "metadata": {
    "collapsed": false,
    "pycharm": {
     "name": "#%% md\n"
    }
   }
  },
  {
   "cell_type": "code",
   "execution_count": 13,
   "outputs": [],
   "source": [
    "X_features_test = vectorizer.transform(X_test[\"cleaned\"])\n",
    "y_features_test = X_test[\"label\"]"
   ],
   "metadata": {
    "collapsed": false,
    "pycharm": {
     "name": "#%%\n"
    }
   }
  },
  {
   "cell_type": "markdown",
   "source": [
    "## Feature Scaling\n",
    "\n",
    "Aqui vamos normalizar os dados utilizando o Standard Scaler\n",
    "\n",
    "\n",
    "Referências:\n",
    " - [https://en.wikipedia.org/wiki/Normalization_(statistics)](https://en.wikipedia.org/wiki/Normalization_(statistics))\n",
    " - [https://en.wikipedia.org/wiki/Standard_score](https://en.wikipedia.org/wiki/Standard_score)\n",
    " - [https://scikit-learn.org/stable/modules/preprocessing.html#standardization-or-mean-removal-and-variance-scaling](https://scikit-learn.org/stable/modules/preprocessing.html#standardization-or-mean-removal-and-variance-scaling)"
   ],
   "metadata": {
    "collapsed": false,
    "pycharm": {
     "name": "#%% md\n"
    }
   }
  },
  {
   "cell_type": "code",
   "execution_count": 14,
   "outputs": [
    {
     "data": {
      "text/plain": "StandardScaler(with_mean=False)",
      "text/html": "<style>#sk-container-id-2 {color: black;background-color: white;}#sk-container-id-2 pre{padding: 0;}#sk-container-id-2 div.sk-toggleable {background-color: white;}#sk-container-id-2 label.sk-toggleable__label {cursor: pointer;display: block;width: 100%;margin-bottom: 0;padding: 0.3em;box-sizing: border-box;text-align: center;}#sk-container-id-2 label.sk-toggleable__label-arrow:before {content: \"▸\";float: left;margin-right: 0.25em;color: #696969;}#sk-container-id-2 label.sk-toggleable__label-arrow:hover:before {color: black;}#sk-container-id-2 div.sk-estimator:hover label.sk-toggleable__label-arrow:before {color: black;}#sk-container-id-2 div.sk-toggleable__content {max-height: 0;max-width: 0;overflow: hidden;text-align: left;background-color: #f0f8ff;}#sk-container-id-2 div.sk-toggleable__content pre {margin: 0.2em;color: black;border-radius: 0.25em;background-color: #f0f8ff;}#sk-container-id-2 input.sk-toggleable__control:checked~div.sk-toggleable__content {max-height: 200px;max-width: 100%;overflow: auto;}#sk-container-id-2 input.sk-toggleable__control:checked~label.sk-toggleable__label-arrow:before {content: \"▾\";}#sk-container-id-2 div.sk-estimator input.sk-toggleable__control:checked~label.sk-toggleable__label {background-color: #d4ebff;}#sk-container-id-2 div.sk-label input.sk-toggleable__control:checked~label.sk-toggleable__label {background-color: #d4ebff;}#sk-container-id-2 input.sk-hidden--visually {border: 0;clip: rect(1px 1px 1px 1px);clip: rect(1px, 1px, 1px, 1px);height: 1px;margin: -1px;overflow: hidden;padding: 0;position: absolute;width: 1px;}#sk-container-id-2 div.sk-estimator {font-family: monospace;background-color: #f0f8ff;border: 1px dotted black;border-radius: 0.25em;box-sizing: border-box;margin-bottom: 0.5em;}#sk-container-id-2 div.sk-estimator:hover {background-color: #d4ebff;}#sk-container-id-2 div.sk-parallel-item::after {content: \"\";width: 100%;border-bottom: 1px solid gray;flex-grow: 1;}#sk-container-id-2 div.sk-label:hover label.sk-toggleable__label {background-color: #d4ebff;}#sk-container-id-2 div.sk-serial::before {content: \"\";position: absolute;border-left: 1px solid gray;box-sizing: border-box;top: 0;bottom: 0;left: 50%;z-index: 0;}#sk-container-id-2 div.sk-serial {display: flex;flex-direction: column;align-items: center;background-color: white;padding-right: 0.2em;padding-left: 0.2em;position: relative;}#sk-container-id-2 div.sk-item {position: relative;z-index: 1;}#sk-container-id-2 div.sk-parallel {display: flex;align-items: stretch;justify-content: center;background-color: white;position: relative;}#sk-container-id-2 div.sk-item::before, #sk-container-id-2 div.sk-parallel-item::before {content: \"\";position: absolute;border-left: 1px solid gray;box-sizing: border-box;top: 0;bottom: 0;left: 50%;z-index: -1;}#sk-container-id-2 div.sk-parallel-item {display: flex;flex-direction: column;z-index: 1;position: relative;background-color: white;}#sk-container-id-2 div.sk-parallel-item:first-child::after {align-self: flex-end;width: 50%;}#sk-container-id-2 div.sk-parallel-item:last-child::after {align-self: flex-start;width: 50%;}#sk-container-id-2 div.sk-parallel-item:only-child::after {width: 0;}#sk-container-id-2 div.sk-dashed-wrapped {border: 1px dashed gray;margin: 0 0.4em 0.5em 0.4em;box-sizing: border-box;padding-bottom: 0.4em;background-color: white;}#sk-container-id-2 div.sk-label label {font-family: monospace;font-weight: bold;display: inline-block;line-height: 1.2em;}#sk-container-id-2 div.sk-label-container {text-align: center;}#sk-container-id-2 div.sk-container {/* jupyter's `normalize.less` sets `[hidden] { display: none; }` but bootstrap.min.css set `[hidden] { display: none !important; }` so we also need the `!important` here to be able to override the default hidden behavior on the sphinx rendered scikit-learn.org. See: https://github.com/scikit-learn/scikit-learn/issues/21755 */display: inline-block !important;position: relative;}#sk-container-id-2 div.sk-text-repr-fallback {display: none;}</style><div id=\"sk-container-id-2\" class=\"sk-top-container\"><div class=\"sk-text-repr-fallback\"><pre>StandardScaler(with_mean=False)</pre><b>In a Jupyter environment, please rerun this cell to show the HTML representation or trust the notebook. <br />On GitHub, the HTML representation is unable to render, please try loading this page with nbviewer.org.</b></div><div class=\"sk-container\" hidden><div class=\"sk-item\"><div class=\"sk-estimator sk-toggleable\"><input class=\"sk-toggleable__control sk-hidden--visually\" id=\"sk-estimator-id-2\" type=\"checkbox\" checked><label for=\"sk-estimator-id-2\" class=\"sk-toggleable__label sk-toggleable__label-arrow\">StandardScaler</label><div class=\"sk-toggleable__content\"><pre>StandardScaler(with_mean=False)</pre></div></div></div></div></div>"
     },
     "execution_count": 14,
     "metadata": {},
     "output_type": "execute_result"
    }
   ],
   "source": [
    "# Inicializar o Scaler\n",
    "scaler = StandardScaler(with_mean=False)\n",
    "\n",
    "# Treinar o Scaler\n",
    "scaler.fit(X_features_train)"
   ],
   "metadata": {
    "collapsed": false,
    "pycharm": {
     "name": "#%%\n"
    }
   }
  },
  {
   "cell_type": "code",
   "execution_count": 15,
   "outputs": [],
   "source": [
    "# Transformar o conjunto de treinamento\n",
    "X_features_train_scaled = scaler.transform(X_features_train)"
   ],
   "metadata": {
    "collapsed": false,
    "pycharm": {
     "name": "#%%\n"
    }
   }
  },
  {
   "cell_type": "code",
   "execution_count": 16,
   "outputs": [],
   "source": [
    "X_features_test_scaled = scaler.transform(X_features_test)"
   ],
   "metadata": {
    "collapsed": false,
    "pycharm": {
     "name": "#%%\n"
    }
   }
  },
  {
   "cell_type": "markdown",
   "source": [
    "# Learning\n"
   ],
   "metadata": {
    "collapsed": false,
    "pycharm": {
     "name": "#%% md\n"
    }
   }
  },
  {
   "cell_type": "markdown",
   "source": [
    "## Baseline Score\n",
    "\n",
    "Aqui vamos, criar um score de base. Ou seja, o resultado que conseguiriamos com o menor esforço possível (que é atribuir indiscriminadamente qualquer valor)\n",
    "\n",
    "Referências:\n",
    "- [https://scikit-learn.org/stable/modules/model_evaluation.html#precision-recall-f-measure-metrics](https://scikit-learn.org/stable/modules/model_evaluation.html#precision-recall-f-measure-metrics)"
   ],
   "metadata": {
    "collapsed": false,
    "pycharm": {
     "name": "#%% md\n"
    }
   }
  },
  {
   "cell_type": "code",
   "execution_count": 17,
   "outputs": [
    {
     "name": "stdout",
     "output_type": "stream",
     "text": [
      "F-Score: 3.64%\n"
     ]
    }
   ],
   "source": [
    "# Assumindo tudo como 0\n",
    "score_assumindo_tudo_neutro = f1_score(\n",
    "    y_features_train, [0 for _ in y_features_train], average=\"weighted\"\n",
    ")\n",
    "\n",
    "print(\"F-Score: {:.2f}%\".format(score_assumindo_tudo_neutro * 100))"
   ],
   "metadata": {
    "collapsed": false,
    "pycharm": {
     "name": "#%%\n"
    }
   }
  },
  {
   "cell_type": "code",
   "execution_count": 18,
   "outputs": [
    {
     "name": "stdout",
     "output_type": "stream",
     "text": [
      "F-Score: 11.62%\n"
     ]
    }
   ],
   "source": [
    "# Assumindo tudo como -1\n",
    "score_assumindo_tudo_negativo = f1_score(\n",
    "    y_features_train, [-1 for _ in y_features_train], average=\"weighted\"\n",
    ")\n",
    "\n",
    "print(\"F-Score: {:.2f}%\".format(score_assumindo_tudo_negativo * 100))"
   ],
   "metadata": {
    "collapsed": false,
    "pycharm": {
     "name": "#%%\n"
    }
   }
  },
  {
   "cell_type": "code",
   "execution_count": 19,
   "outputs": [
    {
     "name": "stdout",
     "output_type": "stream",
     "text": [
      "F-Score: 43.03%\n"
     ]
    }
   ],
   "source": [
    "# Assumindo tudo como 1\n",
    "score_assumindo_tudo_positivo = f1_score(\n",
    "    y_features_train, [1 for _ in y_features_train], average=\"weighted\"\n",
    ")\n",
    "\n",
    "print(\"F-Score: {:.2f}%\".format(score_assumindo_tudo_positivo * 100))"
   ],
   "metadata": {
    "collapsed": false,
    "pycharm": {
     "name": "#%%\n"
    }
   }
  },
  {
   "cell_type": "code",
   "execution_count": 20,
   "outputs": [
    {
     "name": "stdout",
     "output_type": "stream",
     "text": [
      "F-Score: 43.03%\n"
     ]
    }
   ],
   "source": [
    "# Baseline Score\n",
    "baseline_score = np.max(\n",
    "    [\n",
    "        score_assumindo_tudo_neutro,\n",
    "        score_assumindo_tudo_negativo,\n",
    "        score_assumindo_tudo_positivo,\n",
    "    ]\n",
    ")\n",
    "\n",
    "print(\"F-Score: {:.2f}%\".format(baseline_score * 100))"
   ],
   "metadata": {
    "collapsed": false,
    "pycharm": {
     "name": "#%%\n"
    }
   }
  },
  {
   "cell_type": "markdown",
   "source": [
    "## Naive Bayes\n",
    "\n",
    "Referências:\n",
    "- [https://en.wikipedia.org/wiki/Naive_Bayes_classifier](https://en.wikipedia.org/wiki/Naive_Bayes_classifier)\n",
    "- [https://scikit-learn.org/stable/modules/naive_bayes.html#multinomial-naive-bayes](https://scikit-learn.org/stable/modules/naive_bayes.html#multinomial-naive-bayes)"
   ],
   "metadata": {
    "collapsed": false,
    "pycharm": {
     "name": "#%% md\n"
    }
   }
  },
  {
   "cell_type": "code",
   "execution_count": 21,
   "outputs": [],
   "source": [
    "nb = MultinomialNB()"
   ],
   "metadata": {
    "collapsed": false,
    "pycharm": {
     "name": "#%%\n"
    }
   }
  },
  {
   "cell_type": "markdown",
   "source": [
    "### Otimização de Hyperparametros\n",
    "\n",
    "Nesse passo, vamos tentar encontrar a melhor combinação de hyperparametros para o modelo\n",
    "\n",
    "Referências:\n",
    "\n",
    "- [https://scikit-learn.org/stable/modules/grid_search.html#randomized-parameter-search](https://scikit-learn.org/stable/modules/grid_search.html#randomized-parameter-search)"
   ],
   "metadata": {
    "collapsed": false,
    "pycharm": {
     "name": "#%% md\n"
    }
   }
  },
  {
   "cell_type": "code",
   "execution_count": 22,
   "outputs": [
    {
     "name": "stdout",
     "output_type": "stream",
     "text": [
      "Best F-Score: 54.50%\n"
     ]
    }
   ],
   "source": [
    "params = {\n",
    "    \"alpha\": np.sort(np.append(np.linspace(0.5, 1.5, 20), 1)),\n",
    "}\n",
    "\n",
    "clf = RandomizedSearchCV(nb, params, n_iter=10, scoring=\"f1_weighted\", n_jobs=-1, random_state=42)\n",
    "clf.fit(X_features_train_scaled, y_features_train)\n",
    "\n",
    "print(\"Best F-Score: {:.2f}%\".format(clf.best_score_ * 100))"
   ],
   "metadata": {
    "collapsed": false,
    "pycharm": {
     "name": "#%%\n"
    }
   }
  },
  {
   "cell_type": "code",
   "execution_count": 23,
   "outputs": [
    {
     "data": {
      "text/plain": "{'alpha': 1.394736842105263}"
     },
     "execution_count": 23,
     "metadata": {},
     "output_type": "execute_result"
    }
   ],
   "source": [
    "clf.best_params_"
   ],
   "metadata": {
    "collapsed": false,
    "pycharm": {
     "name": "#%%\n"
    }
   }
  },
  {
   "cell_type": "code",
   "execution_count": 24,
   "outputs": [],
   "source": [
    "classifier = clf.best_estimator_"
   ],
   "metadata": {
    "collapsed": false,
    "pycharm": {
     "name": "#%%\n"
    }
   }
  },
  {
   "cell_type": "markdown",
   "source": [
    "#### Comparação com Métrica base"
   ],
   "metadata": {
    "collapsed": false,
    "pycharm": {
     "name": "#%% md\n"
    }
   }
  },
  {
   "cell_type": "code",
   "execution_count": 25,
   "outputs": [
    {
     "name": "stdout",
     "output_type": "stream",
     "text": [
      "Score Baseline : 43.03%\n",
      "Score Modelo   : 54.50%\n",
      "Diferença      : 11.48%\n"
     ]
    }
   ],
   "source": [
    "print(\"Score Baseline : {:.2f}%\".format(baseline_score*100))\n",
    "print(\"Score Modelo   : {:.2f}%\".format(clf.best_score_*100))\n",
    "print(\"Diferença      : {:.2f}%\".format(np.abs(baseline_score-clf.best_score_)*100))"
   ],
   "metadata": {
    "collapsed": false,
    "pycharm": {
     "name": "#%%\n"
    }
   }
  },
  {
   "cell_type": "markdown",
   "source": [
    "### Performance no Conjunto de Treino"
   ],
   "metadata": {
    "collapsed": false,
    "pycharm": {
     "name": "#%% md\n"
    }
   }
  },
  {
   "cell_type": "code",
   "execution_count": 26,
   "outputs": [
    {
     "name": "stdout",
     "output_type": "stream",
     "text": [
      "F-Score: 61.72%\n"
     ]
    }
   ],
   "source": [
    "y_pred = classifier.predict(X_features_train_scaled)\n",
    "score = f1_score(y_features_train, y_pred, average=\"weighted\")\n",
    "print(\"F-Score: {:.2f}%\".format(score * 100))"
   ],
   "metadata": {
    "collapsed": false,
    "pycharm": {
     "name": "#%%\n"
    }
   }
  },
  {
   "cell_type": "markdown",
   "source": [
    "### Curva de Aprendizado"
   ],
   "metadata": {
    "collapsed": false,
    "pycharm": {
     "name": "#%% md\n"
    }
   }
  },
  {
   "cell_type": "code",
   "execution_count": 27,
   "outputs": [],
   "source": [
    "def plot_learning_curve(estimator, X, y, scoring):\n",
    "\n",
    "    plt.figure(figsize=(8, 6))\n",
    "    plt.title(\"Learning Curve\")\n",
    "\n",
    "    plt.xlabel(\"Training examples\")\n",
    "    plt.ylabel(\"Score: {}\".format(scoring))\n",
    "\n",
    "    train_sizes, train_scores, test_scores = learning_curve(\n",
    "        estimator, X, y, scoring=scoring, n_jobs=-1\n",
    "    )\n",
    "\n",
    "    train_scores_mean = np.mean(train_scores, axis=1)\n",
    "    train_scores_std = np.std(train_scores, axis=1)\n",
    "    test_scores_mean = np.mean(test_scores, axis=1)\n",
    "    test_scores_std = np.std(test_scores, axis=1)\n",
    "\n",
    "    plt.ylim(round(min([np.min(train_scores), np.min(test_scores)]), 2) - 0.01, 1.01)\n",
    "\n",
    "    plt.grid()\n",
    "\n",
    "    plt.fill_between(\n",
    "        train_sizes,\n",
    "        train_scores_mean - train_scores_std,\n",
    "        train_scores_mean + train_scores_std,\n",
    "        alpha=0.1,\n",
    "        color=\"r\",\n",
    "    )\n",
    "\n",
    "    plt.fill_between(\n",
    "        train_sizes,\n",
    "        test_scores_mean - test_scores_std,\n",
    "        test_scores_mean + test_scores_std,\n",
    "        alpha=0.1,\n",
    "        color=\"g\",\n",
    "    )\n",
    "\n",
    "    plt.plot(train_sizes, train_scores_mean, \"o-\", color=\"r\", label=\"Training score\")\n",
    "    plt.plot(\n",
    "        train_sizes, test_scores_mean, \"o-\", color=\"g\", label=\"Cross-validation score\"\n",
    "    )\n",
    "\n",
    "    plt.legend(loc=\"best\")\n",
    "\n",
    "    return plt"
   ],
   "metadata": {
    "collapsed": false,
    "pycharm": {
     "name": "#%%\n"
    }
   }
  },
  {
   "cell_type": "code",
   "execution_count": 28,
   "outputs": [
    {
     "data": {
      "text/plain": "<Figure size 800x600 with 1 Axes>",
      "image/png": "[encoded data removed]"
     },
     "metadata": {},
     "output_type": "display_data"
    }
   ],
   "source": [
    "plt = plot_learning_curve(\n",
    "    classifier, X_features_train_scaled, y_features_train, scoring=\"f1_weighted\"\n",
    ")\n",
    "plt.show()"
   ],
   "metadata": {
    "collapsed": false,
    "pycharm": {
     "name": "#%%\n"
    }
   }
  },
  {
   "cell_type": "markdown",
   "source": [
    "## Ada Boost\n",
    "\n",
    "Referências:\n",
    "- [https://en.wikipedia.org/wiki/AdaBoost](https://en.wikipedia.org/wiki/AdaBoost)\n",
    "- [https://scikit-learn.org/stable/modules/ensemble.html#adaboost](https://scikit-learn.org/stable/modules/ensemble.html#adaboost)"
   ],
   "metadata": {
    "collapsed": false,
    "pycharm": {
     "name": "#%% md\n"
    }
   }
  },
  {
   "cell_type": "code",
   "execution_count": 29,
   "outputs": [],
   "source": [
    "ada = AdaBoostClassifier(\n",
    "    base_estimator=MultinomialNB(alpha=1.39),\n",
    "    random_state=42,\n",
    ")"
   ],
   "metadata": {
    "collapsed": false,
    "pycharm": {
     "name": "#%%\n"
    }
   }
  },
  {
   "cell_type": "markdown",
   "source": [
    "### Otimização de Hyperparametros\n",
    "\n",
    "Nesse passo, vamos tentar encontrar a melhor combinação de hyperparametros para o modelo\n",
    "\n",
    "Referências:\n",
    "\n",
    "- [https://scikit-learn.org/stable/modules/grid_search.html#randomized-parameter-search](https://scikit-learn.org/stable/modules/grid_search.html#randomized-parameter-search)"
   ],
   "metadata": {
    "collapsed": false,
    "pycharm": {
     "name": "#%% md\n"
    }
   }
  },
  {
   "cell_type": "code",
   "execution_count": 30,
   "outputs": [],
   "source": [
    "#params = {\n",
    "#    \"n_estimators\": [int(x) for x in np.logspace(1, 2.6, 20)],\n",
    "#    \"learning_rate\": np.sort(np.append(np.linspace(0.25, 5, 100), 1)),\n",
    "#}\n",
    "\n",
    "#clf = RandomizedSearchCV(ada, params, n_iter=10, scoring=\"f1_weighted\", n_jobs=10, random_state=42)\n",
    "#clf.fit(X_features_train_scaled, y_features_train)\n",
    "\n",
    "#print(\"Best F-Score: {:.2f}%\".format(clf.best_score_ * 100))"
   ],
   "metadata": {
    "collapsed": false,
    "pycharm": {
     "name": "#%%\n"
    }
   }
  },
  {
   "cell_type": "code",
   "execution_count": 31,
   "outputs": [
    {
     "name": "stdout",
     "output_type": "stream",
     "text": [
      "{'n_estimators': 12, 'learning_rate': 0.5378787878787878}\n"
     ]
    }
   ],
   "source": [
    "#clf.best_params_\n",
    "print(\"{'n_estimators': 12, 'learning_rate': 0.5378787878787878}\")"
   ],
   "metadata": {
    "collapsed": false,
    "pycharm": {
     "name": "#%%\n"
    }
   }
  },
  {
   "cell_type": "code",
   "execution_count": 32,
   "outputs": [
    {
     "name": "stdout",
     "output_type": "stream",
     "text": [
      "F-Score: 60.03%\n"
     ]
    }
   ],
   "source": [
    "#classifier = clf.best_estimator_\n",
    "\n",
    "classifier = AdaBoostClassifier(\n",
    "    base_estimator=MultinomialNB(alpha=1.39),\n",
    "    n_estimators=12,\n",
    "    learning_rate=0.5378,\n",
    "    random_state=42,\n",
    ")\n",
    "\n",
    "\n",
    "scores = cross_val_score(\n",
    "    classifier, X_features_train_scaled, y_features_train, scoring=\"f1_weighted\"\n",
    ")\n",
    "ada_score = scores.mean()\n",
    "\n",
    "print(\"F-Score: {:.2f}%\".format(ada_score * 100))"
   ],
   "metadata": {
    "collapsed": false,
    "pycharm": {
     "name": "#%%\n"
    }
   }
  },
  {
   "cell_type": "code",
   "execution_count": 33,
   "outputs": [
    {
     "data": {
      "text/plain": "AdaBoostClassifier(base_estimator=MultinomialNB(alpha=1.39),\n                   learning_rate=0.5378, n_estimators=12, random_state=42)",
      "text/html": "<style>#sk-container-id-3 {color: black;background-color: white;}#sk-container-id-3 pre{padding: 0;}#sk-container-id-3 div.sk-toggleable {background-color: white;}#sk-container-id-3 label.sk-toggleable__label {cursor: pointer;display: block;width: 100%;margin-bottom: 0;padding: 0.3em;box-sizing: border-box;text-align: center;}#sk-container-id-3 label.sk-toggleable__label-arrow:before {content: \"▸\";float: left;margin-right: 0.25em;color: #696969;}#sk-container-id-3 label.sk-toggleable__label-arrow:hover:before {color: black;}#sk-container-id-3 div.sk-estimator:hover label.sk-toggleable__label-arrow:before {color: black;}#sk-container-id-3 div.sk-toggleable__content {max-height: 0;max-width: 0;overflow: hidden;text-align: left;background-color: #f0f8ff;}#sk-container-id-3 div.sk-toggleable__content pre {margin: 0.2em;color: black;border-radius: 0.25em;background-color: #f0f8ff;}#sk-container-id-3 input.sk-toggleable__control:checked~div.sk-toggleable__content {max-height: 200px;max-width: 100%;overflow: auto;}#sk-container-id-3 input.sk-toggleable__control:checked~label.sk-toggleable__label-arrow:before {content: \"▾\";}#sk-container-id-3 div.sk-estimator input.sk-toggleable__control:checked~label.sk-toggleable__label {background-color: #d4ebff;}#sk-container-id-3 div.sk-label input.sk-toggleable__control:checked~label.sk-toggleable__label {background-color: #d4ebff;}#sk-container-id-3 input.sk-hidden--visually {border: 0;clip: rect(1px 1px 1px 1px);clip: rect(1px, 1px, 1px, 1px);height: 1px;margin: -1px;overflow: hidden;padding: 0;position: absolute;width: 1px;}#sk-container-id-3 div.sk-estimator {font-family: monospace;background-color: #f0f8ff;border: 1px dotted black;border-radius: 0.25em;box-sizing: border-box;margin-bottom: 0.5em;}#sk-container-id-3 div.sk-estimator:hover {background-color: #d4ebff;}#sk-container-id-3 div.sk-parallel-item::after {content: \"\";width: 100%;border-bottom: 1px solid gray;flex-grow: 1;}#sk-container-id-3 div.sk-label:hover label.sk-toggleable__label {background-color: #d4ebff;}#sk-container-id-3 div.sk-serial::before {content: \"\";position: absolute;border-left: 1px solid gray;box-sizing: border-box;top: 0;bottom: 0;left: 50%;z-index: 0;}#sk-container-id-3 div.sk-serial {display: flex;flex-direction: column;align-items: center;background-color: white;padding-right: 0.2em;padding-left: 0.2em;position: relative;}#sk-container-id-3 div.sk-item {position: relative;z-index: 1;}#sk-container-id-3 div.sk-parallel {display: flex;align-items: stretch;justify-content: center;background-color: white;position: relative;}#sk-container-id-3 div.sk-item::before, #sk-container-id-3 div.sk-parallel-item::before {content: \"\";position: absolute;border-left: 1px solid gray;box-sizing: border-box;top: 0;bottom: 0;left: 50%;z-index: -1;}#sk-container-id-3 div.sk-parallel-item {display: flex;flex-direction: column;z-index: 1;position: relative;background-color: white;}#sk-container-id-3 div.sk-parallel-item:first-child::after {align-self: flex-end;width: 50%;}#sk-container-id-3 div.sk-parallel-item:last-child::after {align-self: flex-start;width: 50%;}#sk-container-id-3 div.sk-parallel-item:only-child::after {width: 0;}#sk-container-id-3 div.sk-dashed-wrapped {border: 1px dashed gray;margin: 0 0.4em 0.5em 0.4em;box-sizing: border-box;padding-bottom: 0.4em;background-color: white;}#sk-container-id-3 div.sk-label label {font-family: monospace;font-weight: bold;display: inline-block;line-height: 1.2em;}#sk-container-id-3 div.sk-label-container {text-align: center;}#sk-container-id-3 div.sk-container {/* jupyter's `normalize.less` sets `[hidden] { display: none; }` but bootstrap.min.css set `[hidden] { display: none !important; }` so we also need the `!important` here to be able to override the default hidden behavior on the sphinx rendered scikit-learn.org. See: https://github.com/scikit-learn/scikit-learn/issues/21755 */display: inline-block !important;position: relative;}#sk-container-id-3 div.sk-text-repr-fallback {display: none;}</style><div id=\"sk-container-id-3\" class=\"sk-top-container\"><div class=\"sk-text-repr-fallback\"><pre>AdaBoostClassifier(base_estimator=MultinomialNB(alpha=1.39),\n                   learning_rate=0.5378, n_estimators=12, random_state=42)</pre><b>In a Jupyter environment, please rerun this cell to show the HTML representation or trust the notebook. <br />On GitHub, the HTML representation is unable to render, please try loading this page with nbviewer.org.</b></div><div class=\"sk-container\" hidden><div class=\"sk-item sk-dashed-wrapped\"><div class=\"sk-label-container\"><div class=\"sk-label sk-toggleable\"><input class=\"sk-toggleable__control sk-hidden--visually\" id=\"sk-estimator-id-3\" type=\"checkbox\" ><label for=\"sk-estimator-id-3\" class=\"sk-toggleable__label sk-toggleable__label-arrow\">AdaBoostClassifier</label><div class=\"sk-toggleable__content\"><pre>AdaBoostClassifier(base_estimator=MultinomialNB(alpha=1.39),\n                   learning_rate=0.5378, n_estimators=12, random_state=42)</pre></div></div></div><div class=\"sk-parallel\"><div class=\"sk-parallel-item\"><div class=\"sk-item\"><div class=\"sk-label-container\"><div class=\"sk-label sk-toggleable\"><input class=\"sk-toggleable__control sk-hidden--visually\" id=\"sk-estimator-id-4\" type=\"checkbox\" ><label for=\"sk-estimator-id-4\" class=\"sk-toggleable__label sk-toggleable__label-arrow\">base_estimator: MultinomialNB</label><div class=\"sk-toggleable__content\"><pre>MultinomialNB(alpha=1.39)</pre></div></div></div><div class=\"sk-serial\"><div class=\"sk-item\"><div class=\"sk-estimator sk-toggleable\"><input class=\"sk-toggleable__control sk-hidden--visually\" id=\"sk-estimator-id-5\" type=\"checkbox\" ><label for=\"sk-estimator-id-5\" class=\"sk-toggleable__label sk-toggleable__label-arrow\">MultinomialNB</label><div class=\"sk-toggleable__content\"><pre>MultinomialNB(alpha=1.39)</pre></div></div></div></div></div></div></div></div></div></div>"
     },
     "execution_count": 33,
     "metadata": {},
     "output_type": "execute_result"
    }
   ],
   "source": [
    "classifier.fit(X_features_train_scaled, y_features_train)"
   ],
   "metadata": {
    "collapsed": false,
    "pycharm": {
     "name": "#%%\n"
    }
   }
  },
  {
   "cell_type": "markdown",
   "source": [
    "#### Comparação com Métrica base"
   ],
   "metadata": {
    "collapsed": false,
    "pycharm": {
     "name": "#%% md\n"
    }
   }
  },
  {
   "cell_type": "code",
   "execution_count": 50,
   "outputs": [
    {
     "name": "stdout",
     "output_type": "stream",
     "text": [
      "Score Baseline : 43.03%\n",
      "Score Modelo   : 60.03%\n",
      "Diferença      : 17.01%\n"
     ]
    }
   ],
   "source": [
    "print(\"Score Baseline : {:.2f}%\".format(baseline_score*100))\n",
    "print(\"Score Modelo   : {:.2f}%\".format(ada_score*100))\n",
    "print(\"Diferença      : {:.2f}%\".format(np.abs(baseline_score-ada_score)*100))"
   ],
   "metadata": {
    "collapsed": false,
    "pycharm": {
     "name": "#%%\n"
    }
   }
  },
  {
   "cell_type": "markdown",
   "source": [
    "### Performance no Conjunto de Treino"
   ],
   "metadata": {
    "collapsed": false,
    "pycharm": {
     "name": "#%% md\n"
    }
   }
  },
  {
   "cell_type": "code",
   "execution_count": 35,
   "outputs": [
    {
     "name": "stdout",
     "output_type": "stream",
     "text": [
      "F-Score: 65.88%\n"
     ]
    }
   ],
   "source": [
    "y_pred = classifier.predict(X_features_train_scaled)\n",
    "score = f1_score(y_features_train, y_pred, average=\"weighted\")\n",
    "print(\"F-Score: {:.2f}%\".format(score * 100))"
   ],
   "metadata": {
    "collapsed": false,
    "pycharm": {
     "name": "#%%\n"
    }
   }
  },
  {
   "cell_type": "markdown",
   "source": [
    "### Curva de Aprendizado"
   ],
   "metadata": {
    "collapsed": false,
    "pycharm": {
     "name": "#%% md\n"
    }
   }
  },
  {
   "cell_type": "code",
   "execution_count": 36,
   "outputs": [
    {
     "data": {
      "text/plain": "<Figure size 800x600 with 1 Axes>",
      "image/png": "[encoded data removed]"
     },
     "metadata": {},
     "output_type": "display_data"
    }
   ],
   "source": [
    "plt = plot_learning_curve(\n",
    "    classifier, X_features_train_scaled, y_features_train, scoring=\"f1_weighted\"\n",
    ")\n",
    "plt.show()"
   ],
   "metadata": {
    "collapsed": false,
    "pycharm": {
     "name": "#%%\n"
    }
   }
  },
  {
   "cell_type": "markdown",
   "source": [
    "## Validação em conjunto de Teste"
   ],
   "metadata": {
    "collapsed": false,
    "pycharm": {
     "name": "#%% md\n"
    }
   }
  },
  {
   "cell_type": "code",
   "execution_count": 37,
   "outputs": [
    {
     "name": "stdout",
     "output_type": "stream",
     "text": [
      "F-Score: 60.13%\n"
     ]
    }
   ],
   "source": [
    "y_pred = classifier.predict(X_features_test_scaled)\n",
    "score = f1_score(y_features_test, y_pred, average=\"weighted\")\n",
    "print(\"F-Score: {:.2f}%\".format(score * 100))"
   ],
   "metadata": {
    "collapsed": false,
    "pycharm": {
     "name": "#%%\n"
    }
   }
  },
  {
   "cell_type": "markdown",
   "source": [
    "### Preditos Positivos"
   ],
   "metadata": {
    "collapsed": false,
    "pycharm": {
     "name": "#%% md\n"
    }
   }
  },
  {
   "cell_type": "code",
   "execution_count": 38,
   "outputs": [],
   "source": [
    "preditos_positivos = X_test[y_pred == 1]"
   ],
   "metadata": {
    "collapsed": false,
    "pycharm": {
     "name": "#%%\n"
    }
   }
  },
  {
   "cell_type": "markdown",
   "source": [
    "#### Falso Positivo -> Negativo"
   ],
   "metadata": {
    "collapsed": false,
    "pycharm": {
     "name": "#%% md\n"
    }
   }
  },
  {
   "cell_type": "code",
   "execution_count": 39,
   "outputs": [
    {
     "data": {
      "text/plain": "array(['a juliana vai sair 😒',\n       'se o desfile de de setembro for no quartel dnv eu penso seriamente em não participar 😔 mas sei que vou ser obrigada',\n       'feio sim! 😩', 'kkk eu n tenho nem ideia ainda hsusgsuabsuah 😭😭',\n       'cheguei agora da casa da fer, minha vontade era de ficar mais com ela lá 😩',\n       'curitiba? 😔', 'muito bom dia, com aquela preguiça de garota 😴🥵',\n       'o vai dar um tempo no canal 😞 ele pediu para continuarmos vigilantes até ele voltar.',\n       'mas eu só jogo dia de sábado 😭😭😭',\n       'as mentiradas no telegram e no zap dando algum resultado... 😒😒'],\n      dtype=object)"
     },
     "execution_count": 39,
     "metadata": {},
     "output_type": "execute_result"
    }
   ],
   "source": [
    "preditos_positivos[preditos_positivos[\"label\"] == -1][\"text\"].sample(10).values"
   ],
   "metadata": {
    "collapsed": false,
    "pycharm": {
     "name": "#%%\n"
    }
   }
  },
  {
   "cell_type": "markdown",
   "source": [
    "#### Falso Positivo -> Neutro"
   ],
   "metadata": {
    "collapsed": false,
    "pycharm": {
     "name": "#%% md\n"
    }
   }
  },
  {
   "cell_type": "code",
   "execution_count": 40,
   "outputs": [
    {
     "data": {
      "text/plain": "array(['estou fazendo strogonoff de carne 😅', 'faltou a gozada 🔥🤤',\n       'eu tambem 😂 se ficar sozinha no quarto qualquer barulho me assusta',\n       'trabalhei o dia todo, fui para o evento tá empresa, foi algo incrível, palestras e tudo mais, cheguei em casa agr, tô morto👎🏻 mas só agradecer por tudo🙏',\n       'agora sim estou ansiosa...👀👀', 'obrigado 🔥',\n       'faz tempo q n pego um fluxo q as pessoas perguntam se eu to namorando kkk sei sossegar c mh própria companhia, graças a deus 😅',\n       'agora sim começa o meu ano. 😅', 'ksksks grita e nois tem muitos😂',\n       'renatinho lima já tomou seu chimarrão, espero que ele tenha descido bem quentinho 😂'],\n      dtype=object)"
     },
     "execution_count": 40,
     "metadata": {},
     "output_type": "execute_result"
    }
   ],
   "source": [
    "preditos_positivos[preditos_positivos[\"label\"] == 0][\"text\"].sample(10).values"
   ],
   "metadata": {
    "collapsed": false,
    "pycharm": {
     "name": "#%%\n"
    }
   }
  },
  {
   "cell_type": "markdown",
   "source": [
    "#### Verdadeiro Positivo"
   ],
   "metadata": {
    "collapsed": false,
    "pycharm": {
     "name": "#%% md\n"
    }
   }
  },
  {
   "cell_type": "code",
   "execution_count": 41,
   "outputs": [
    {
     "data": {
      "text/plain": "array(['perfeição na terra 😍',\n       'será que isso é real tbm? tá perfeito demais, eu podia ficar o dia inteiro na beira do mar assistindo isso!! ✌🏻❤️',\n       'como não amar a dahyun? sempre sorrindo ❤', 'amém. 🙏',\n       'bom diaa, renovado 💪',\n       'quase torceu o pescoço e saiu rindo 😂 😂 😂', 'ele e pica 😂😂😂',\n       'gratidão 😍',\n       'realmente está espetacular! ainda bem que deu tempo para eu fotografar antes das pétalas cairem, 🙌…',\n       'parabéns lela te amoo💗'], dtype=object)"
     },
     "execution_count": 41,
     "metadata": {},
     "output_type": "execute_result"
    }
   ],
   "source": [
    "preditos_positivos[preditos_positivos[\"label\"] == 1][\"text\"].sample(10).values"
   ],
   "metadata": {
    "collapsed": false,
    "pycharm": {
     "name": "#%%\n"
    }
   }
  },
  {
   "cell_type": "markdown",
   "source": [
    "### Preditos Negativos"
   ],
   "metadata": {
    "collapsed": false,
    "pycharm": {
     "name": "#%% md\n"
    }
   }
  },
  {
   "cell_type": "code",
   "execution_count": 42,
   "outputs": [],
   "source": [
    "preditos_negativos = X_test[y_pred == -1]"
   ],
   "metadata": {
    "collapsed": false,
    "pycharm": {
     "name": "#%%\n"
    }
   }
  },
  {
   "cell_type": "markdown",
   "source": [
    "#### Falso Negativo -> Positivo"
   ],
   "metadata": {
    "collapsed": false,
    "pycharm": {
     "name": "#%% md\n"
    }
   }
  },
  {
   "cell_type": "code",
   "execution_count": 43,
   "outputs": [
    {
     "data": {
      "text/plain": "array(['🎶🎶eu querendo cortar laço ela querendo fazer nó.🎵🎵',\n       'meu que foda, eu mal sei se a pessoa me quer por perto 👍',\n       'honestidade sem empatia é crueldade ✨bom dia✨',\n       'vim fazer um procedimento nos dentes e esqueci de comer direito.. agora vou ter que ficar com fome 🙌',\n       'tomei a dose do covid, só dor agora😍',\n       'eu perdi quase kg por estresse, trabalhar com bike e até mesmo, estar evitando comer gordura todo dia!.. mas tá sendo muito difícil recuperar esses kilinhos de forma saudável!!.. comprei até aveia!!kkk eu vou conseguir!! 💪💪',\n       'pesadelo de pobre é morrer de tiro 🎶', 'amo éste tema de 💕',\n       'os spoilers foram o máximo, a destruição se aproxima 🔥🔥🔥',\n       'bateu o soninho, vou aproveitar antes q vá embora, tchau 💋'],\n      dtype=object)"
     },
     "execution_count": 43,
     "metadata": {},
     "output_type": "execute_result"
    }
   ],
   "source": [
    "preditos_negativos[preditos_negativos[\"label\"] == 1][\"text\"].sample(10).values"
   ],
   "metadata": {
    "collapsed": false,
    "pycharm": {
     "name": "#%%\n"
    }
   }
  },
  {
   "cell_type": "markdown",
   "source": [
    "#### Falso Negativo -> Neutro"
   ],
   "metadata": {
    "collapsed": false,
    "pycharm": {
     "name": "#%% md\n"
    }
   }
  },
  {
   "cell_type": "code",
   "execution_count": 44,
   "outputs": [
    {
     "data": {
      "text/plain": "array(['só oq eu preciso hj!! 😢',\n       'estas depressões noturnas só se resolvem de uma maneira... à chandler! mas tenho que ter alguém com quem partilhar as piadas 😅',\n       'a sensação de falta de ar é uma das piores que se pode sentir pqp 😥',\n       'esse gerson parece eu qnd corto p meio 😅',\n       'o sono faz falar à toa 😂',\n       'indo pra minha consulta, agr vou deixar de ser uma fit de centavos \\U0001f979😂',\n       'me senti mal agora, eu sempre durmo umas h 😅',\n       'mano que dor no meu coração 😢',\n       'cada segundo q passa a preocupação aumenta mais 😰',\n       'seria errado querer tomar uma cerveja hoje ? 😢'], dtype=object)"
     },
     "execution_count": 44,
     "metadata": {},
     "output_type": "execute_result"
    }
   ],
   "source": [
    "preditos_negativos[preditos_negativos[\"label\"] == 0][\"text\"].sample(10).values"
   ],
   "metadata": {
    "collapsed": false,
    "pycharm": {
     "name": "#%%\n"
    }
   }
  },
  {
   "cell_type": "markdown",
   "source": [
    "#### Verdadeiro Negativo"
   ],
   "metadata": {
    "collapsed": false,
    "pycharm": {
     "name": "#%% md\n"
    }
   }
  },
  {
   "cell_type": "code",
   "execution_count": 45,
   "outputs": [
    {
     "data": {
      "text/plain": "array(['tô cheia de sono 😴', 'me estresso tao fácil, pqp 😒',\n       'matemática foi ok agr falta química 😭',\n       'eu não aguento mais notícia ruim, chega 😭',\n       'to aqui no eng mais queria tá no jaca 😓',\n       'opoxa, quando você instalar de novo me chama, aí jogamos juntos! 😞',\n       'só pq eu não quero trabalha mais nesse ibiraci , aparece um trampo atrás do outro pra mim 😑 aceitar ou não , eis a questão !?',\n       '😔 a vida é triste', 'tô com um mal estar 😓',\n       'ai to passando mal 😖'], dtype=object)"
     },
     "execution_count": 45,
     "metadata": {},
     "output_type": "execute_result"
    }
   ],
   "source": [
    "preditos_negativos[preditos_negativos[\"label\"] == -1][\"text\"].sample(10).values"
   ],
   "metadata": {
    "collapsed": false,
    "pycharm": {
     "name": "#%%\n"
    }
   }
  },
  {
   "cell_type": "markdown",
   "source": [
    "### Preditos Neutros"
   ],
   "metadata": {
    "collapsed": false,
    "pycharm": {
     "name": "#%% md\n"
    }
   }
  },
  {
   "cell_type": "code",
   "execution_count": 46,
   "outputs": [],
   "source": [
    "preditos_neutros = X_test[y_pred == 0]"
   ],
   "metadata": {
    "collapsed": false,
    "pycharm": {
     "name": "#%%\n"
    }
   }
  },
  {
   "cell_type": "markdown",
   "source": [
    "#### Falso Neutro -> Positivo"
   ],
   "metadata": {
    "collapsed": false,
    "pycharm": {
     "name": "#%% md\n"
    }
   }
  },
  {
   "cell_type": "code",
   "execution_count": 47,
   "outputs": [
    {
     "data": {
      "text/plain": "array(['peliculon... 👏💪👌', 'tô tentando apagar fogo c gasolina... 🎶',\n       'ontem a minha sandra vez os convites po batizado do lourenço tao lindos 💙🥺',\n       'algumas pessoas me perguntando o que eu fiz pra perder peso. passei por um de espadas e a torre, perdi kg em uma semana. não recomendo!😌',\n       'vou entrar com um processo contra ela. ela chamou os carecas de cabeça de ovo. fiquei chocado 😁😁',\n       'acho que ela quis me assustar, deve ser a algum componente. mas eu não bebo mesmo. 😊',\n       'pra ir pra cadeia né drácula em falar nisso como está a construção do muro do méxico pra o brasil já fiscalizar se tem um dinheiro 💰💰💰💸💰 esperando vc lá pra tú e o pé de pinga mijado vagabundo 🤟🤘✌️😎👉👉',\n       'quando era miúda e tinha aulas de dança era comum ver alguém sair mais tristonho se o professor não lhe tivesse dado uma única nota/correção durante a aula. sentiamo-nos invisíveis. se levantamos a questão é porque gostamos do belenenses e da académica. 💜',\n       'manuela cismou que vai morar na amanda, olha que lutaaa. a criança arruma três bolsas e fala que vai pra titia 😂😂😂',\n       'só pra dizer que esse aqui me desconfigurou ❤️\\u200d🩹❤️\\u200d🩹❤️\\u200d🩹'],\n      dtype=object)"
     },
     "execution_count": 47,
     "metadata": {},
     "output_type": "execute_result"
    }
   ],
   "source": [
    "preditos_neutros[preditos_neutros[\"label\"] == 1][\"text\"].sample(10).values"
   ],
   "metadata": {
    "collapsed": false,
    "pycharm": {
     "name": "#%%\n"
    }
   }
  },
  {
   "cell_type": "markdown",
   "source": [
    "#### Falso Neutro -> Negativo"
   ],
   "metadata": {
    "collapsed": false,
    "pycharm": {
     "name": "#%% md\n"
    }
   }
  },
  {
   "cell_type": "code",
   "execution_count": 48,
   "outputs": [
    {
     "data": {
      "text/plain": "array(['minha mãe que arrumou uma infecção intestinal 😓',\n       'eu tô com frio, aí calço meias quentinhas e pantufas. aí esquento os pés, eles suam, ficam gelados... ó, vida, ó azar... 😩',\n       'e começou a rir porque eu não podia xingar ele de volta 😭😭😭 gringo filho da puta',\n       'greve de ônibus, achei q teria aquela folguinha kkk uber 😑',\n       'eu mereço um chororô desse sendo que nem tá no meio do rolo 😒',\n       'nas asf😭😭',\n       'assisto um ep de sintonia e outro de chernobyl kkk jaja termino as duas 😒',\n       'o que foi esse quarto episódio de years and years? 😨 acho que nunca uma série me chocou tanto com um episódio',\n       'meu amigo gringo é diabético e ficou anos pagando uma ambulância porque desmaiou de hipoglicemia no cinema... 😔 eu fico de cara com essas histórias, país neoliberal podre',\n       'amboi porn!! 😠'], dtype=object)"
     },
     "execution_count": 48,
     "metadata": {},
     "output_type": "execute_result"
    }
   ],
   "source": [
    "preditos_neutros[preditos_neutros[\"label\"] == -1][\"text\"].sample(10).values"
   ],
   "metadata": {
    "collapsed": false,
    "pycharm": {
     "name": "#%%\n"
    }
   }
  },
  {
   "cell_type": "markdown",
   "source": [
    "#### Verdadeiro Neutro"
   ],
   "metadata": {
    "collapsed": false,
    "pycharm": {
     "name": "#%% md\n"
    }
   }
  },
  {
   "cell_type": "code",
   "execution_count": 49,
   "outputs": [
    {
     "data": {
      "text/plain": "array(['sou louca pra ficar ctg, tem vez que eu passo na rua e tu fica olhando 👀 — kkk brinca muito',\n       'o cm da revista deixou o twitt programado sen ter tomado un café antes e claro, pasan estas cousas 😂',\n       'se já usou as almas e subiu nível vai sem medo de morrer, o que vier depois é sempre lucro e se estiver morrendo muito, sebo nas canelas até a próxima fogueira 🔥 sem pensar duas vezes hehe',\n       'botafogo é mesmo uma surpresa, não imaginava isso 😅 anyway vou fazer :q',\n       'fiquei curioso, ficaram sem assunto no meio do encontro? 😂🤣',\n       'não queria reclamar, mas como já é o terceiro riolu que choca, podia vir um cherubi da próxima vez, né? 😅 só falta…',\n       'não.. cara. é a característica do signo. hahaha eu só faço merda mermo. 😂',\n       'o erro do jovem é entrar no twitter na aula (tenho medo do que aparece na minha timeline😰😰) kakaka',\n       'e isso decididamente não te impede de ser lulopet. 😂',\n       'nao ne, vai que ela posta mais indireta no twitter pro kid comentar 😥'],\n      dtype=object)"
     },
     "execution_count": 49,
     "metadata": {},
     "output_type": "execute_result"
    }
   ],
   "source": [
    "preditos_neutros[preditos_neutros[\"label\"] == 0][\"text\"].sample(10).values"
   ],
   "metadata": {
    "collapsed": false,
    "pycharm": {
     "name": "#%%\n"
    }
   }
  },
  {
   "cell_type": "code",
   "execution_count": 49,
   "outputs": [],
   "source": [],
   "metadata": {
    "collapsed": false,
    "pycharm": {
     "name": "#%%\n"
    }
   }
  },
  {
   "cell_type": "code",
   "execution_count": 49,
   "outputs": [],
   "source": [],
   "metadata": {
    "collapsed": false,
    "pycharm": {
     "name": "#%%\n"
    }
   }
  }
 ],
 "metadata": {
  "kernelspec": {
   "display_name": "Python 3",
   "language": "python",
   "name": "python3"
  },
  "language_info": {
   "codemirror_mode": {
    "name": "ipython",
    "version": 2
   },
   "file_extension": ".py",
   "mimetype": "text/x-python",
   "name": "python",
   "nbconvert_exporter": "python",
   "pygments_lexer": "ipython2",
   "version": "2.7.6"
  }
 },
 "nbformat": 4,
 "nbformat_minor": 0
}