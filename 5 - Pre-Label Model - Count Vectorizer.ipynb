{
 "cells": [
  {
   "cell_type": "code",
   "execution_count": 1,
   "metadata": {
    "collapsed": true,
    "pycharm": {
     "name": "#%%\n"
    }
   },
   "outputs": [],
   "source": [
    "import re\n",
    "from os import path\n",
    "\n",
    "import nltk\n",
    "import numpy as np\n",
    "import pandas as pd\n",
    "import matplotlib.pyplot as plt\n",
    "from pandarallel import pandarallel\n",
    "\n",
    "from sklearn.preprocessing import StandardScaler\n",
    "from sklearn.naive_bayes import MultinomialNB\n",
    "from sklearn.metrics import f1_score\n",
    "from sklearn.feature_selection import SelectPercentile, f_classif\n",
    "from sklearn.model_selection import (\n",
    "    train_test_split,\n",
    "    learning_curve,\n",
    "    RandomizedSearchCV,\n",
    ")\n",
    "from sklearn.feature_extraction.text import CountVectorizer"
   ]
  },
  {
   "cell_type": "code",
   "execution_count": 2,
   "outputs": [
    {
     "name": "stdout",
     "output_type": "stream",
     "text": [
      "INFO: Pandarallel will run on 10 workers.\n",
      "INFO: Pandarallel will use Memory file system to transfer data between the main process and workers.\n"
     ]
    }
   ],
   "source": [
    "pandarallel.initialize(progress_bar=True)"
   ],
   "metadata": {
    "collapsed": false,
    "pycharm": {
     "name": "#%%\n"
    }
   }
  },
  {
   "cell_type": "markdown",
   "source": [
    "# Carregar os dados"
   ],
   "metadata": {
    "collapsed": false,
    "pycharm": {
     "name": "#%% md\n"
    }
   }
  },
  {
   "cell_type": "markdown",
   "source": [
    "## Tweets"
   ],
   "metadata": {
    "collapsed": false,
    "pycharm": {
     "name": "#%% md\n"
    }
   }
  },
  {
   "cell_type": "code",
   "execution_count": 3,
   "outputs": [
    {
     "data": {
      "text/plain": "                         id  \\\n290119  1559953338287915013   \n493349  1160675662321111048   \n667297  1160908601160032256   \n247301  1559916180273504257   \n357669  1559986200974442496   \n181942  1559890688325652480   \n161135  1559881610111107072   \n189184  1559893708472025089   \n156702  1559879517635747840   \n372846  1559992156470796292   \n\n                                                     text     score  label  \n290119                                      muito bom 😹😹😹  0.427119      1  \n493349  eliana aposta em look all black e barriguinha ...  0.677937      1  \n667297                                       mo gatinha 💖  0.713381      1  \n247301  se o flamengo vencer hoje o furacão e domingo ...  0.779012      1  \n357669                     eu i a cria enchendo a pança 😅  0.179654      0  \n181942                              homem serve p isso 😝😝  0.850806      1  \n161135  queria dormir o dia todo hoje 🥹 me sentindo tr... -0.118421     -1  \n189184                                 tô muito feliz 🥰😍🙌  1.238362      1  \n156702      mas há males na vida que vem para o bem...🎼🎶💃  1.275093      1  \n372846               só existe um jeito de tudo melhorar😋  0.633515      1  ",
      "text/html": "<div>\n<style scoped>\n    .dataframe tbody tr th:only-of-type {\n        vertical-align: middle;\n    }\n\n    .dataframe tbody tr th {\n        vertical-align: top;\n    }\n\n    .dataframe thead th {\n        text-align: right;\n    }\n</style>\n<table border=\"1\" class=\"dataframe\">\n  <thead>\n    <tr style=\"text-align: right;\">\n      <th></th>\n      <th>id</th>\n      <th>text</th>\n      <th>score</th>\n      <th>label</th>\n    </tr>\n  </thead>\n  <tbody>\n    <tr>\n      <th>290119</th>\n      <td>1559953338287915013</td>\n      <td>muito bom 😹😹😹</td>\n      <td>0.427119</td>\n      <td>1</td>\n    </tr>\n    <tr>\n      <th>493349</th>\n      <td>1160675662321111048</td>\n      <td>eliana aposta em look all black e barriguinha ...</td>\n      <td>0.677937</td>\n      <td>1</td>\n    </tr>\n    <tr>\n      <th>667297</th>\n      <td>1160908601160032256</td>\n      <td>mo gatinha 💖</td>\n      <td>0.713381</td>\n      <td>1</td>\n    </tr>\n    <tr>\n      <th>247301</th>\n      <td>1559916180273504257</td>\n      <td>se o flamengo vencer hoje o furacão e domingo ...</td>\n      <td>0.779012</td>\n      <td>1</td>\n    </tr>\n    <tr>\n      <th>357669</th>\n      <td>1559986200974442496</td>\n      <td>eu i a cria enchendo a pança 😅</td>\n      <td>0.179654</td>\n      <td>0</td>\n    </tr>\n    <tr>\n      <th>181942</th>\n      <td>1559890688325652480</td>\n      <td>homem serve p isso 😝😝</td>\n      <td>0.850806</td>\n      <td>1</td>\n    </tr>\n    <tr>\n      <th>161135</th>\n      <td>1559881610111107072</td>\n      <td>queria dormir o dia todo hoje 🥹 me sentindo tr...</td>\n      <td>-0.118421</td>\n      <td>-1</td>\n    </tr>\n    <tr>\n      <th>189184</th>\n      <td>1559893708472025089</td>\n      <td>tô muito feliz 🥰😍🙌</td>\n      <td>1.238362</td>\n      <td>1</td>\n    </tr>\n    <tr>\n      <th>156702</th>\n      <td>1559879517635747840</td>\n      <td>mas há males na vida que vem para o bem...🎼🎶💃</td>\n      <td>1.275093</td>\n      <td>1</td>\n    </tr>\n    <tr>\n      <th>372846</th>\n      <td>1559992156470796292</td>\n      <td>só existe um jeito de tudo melhorar😋</td>\n      <td>0.633515</td>\n      <td>1</td>\n    </tr>\n  </tbody>\n</table>\n</div>"
     },
     "execution_count": 3,
     "metadata": {},
     "output_type": "execute_result"
    }
   ],
   "source": [
    "# Definir caminho do arquivo\n",
    "filename = \"labeled_data.parquet.gzip\"\n",
    "directory = \"data\"\n",
    "filepath = path.join(directory, filename)\n",
    "\n",
    "# Carregar dados\n",
    "data = pd.read_parquet(filepath)\n",
    "\n",
    "# Amostra dos dados\n",
    "data.sample(10)"
   ],
   "metadata": {
    "collapsed": false,
    "pycharm": {
     "name": "#%%\n"
    }
   }
  },
  {
   "cell_type": "markdown",
   "source": [
    "## Limpeza de Dados\n",
    "\n",
    "No modelo Soma das Frequencias*, precisamos saber a quantidade de determinadas palavras que aparecem em tweets positivos, negativos e neutros.\n",
    "\n",
    "Removeremos as Stopwords (palavras que não adicionam muito significado ao texto).\n",
    "\n",
    "Para melhorar o modelo, utilizaremos o Stemming, que visa remove alguns [afixos](https://pt.wikipedia.org/wiki/Afixo) das palavras. Exemplo: papel gramatical, tempo, morfologia derivacional, deixando apenas o radical da palavra.\n",
    "Assim, contaremos apenas os radicais das palavras em vez de suas derivações.\n",
    "\n",
    "Referências:\n",
    "\n",
    "- [StopWords](https://en.wikipedia.org/wiki/Stop_word)\n",
    "- [Stemming](https://en.wikipedia.org/wiki/Stemming)"
   ],
   "metadata": {
    "collapsed": false,
    "pycharm": {
     "name": "#%% md\n"
    }
   }
  },
  {
   "cell_type": "code",
   "execution_count": 4,
   "outputs": [],
   "source": [
    "def preprocess_data(string, stopwords, stemmer=None):\n",
    "\n",
    "    # Remover os Emojis e Pontuações\n",
    "    string_tratada = re.sub(\"\\W\", \" \", string)\n",
    "\n",
    "    # Remover stopwords\n",
    "    string_tratada = \" \".join(\n",
    "        [\n",
    "            substring\n",
    "            for substring in string_tratada.split()\n",
    "            if substring not in stopwords\n",
    "        ]\n",
    "    )\n",
    "\n",
    "    # Stemming\n",
    "    if stemmer:\n",
    "        string_tratada = \" \".join(\n",
    "            [stemmer.stem(substring) for substring in string_tratada.split()]\n",
    "        )\n",
    "\n",
    "    # Remover espaços extras\n",
    "    string_tratada = re.sub(\" +\", \" \", string_tratada)\n",
    "    string_tratada = re.sub(\"(^ )\", \"\", string_tratada)\n",
    "    string_tratada = re.sub(\"( $)\", \"\", string_tratada)\n",
    "\n",
    "    return string_tratada"
   ],
   "metadata": {
    "collapsed": false,
    "pycharm": {
     "name": "#%%\n"
    }
   }
  },
  {
   "cell_type": "code",
   "execution_count": 5,
   "outputs": [],
   "source": [
    "# Obter as stopwords\n",
    "portuguese_stopwords = nltk.corpus.stopwords.words(\"portuguese\")\n",
    "\n",
    "# Inicializar o Stemmer\n",
    "rlp_stemmer = nltk.stem.RSLPStemmer()"
   ],
   "metadata": {
    "collapsed": false,
    "pycharm": {
     "name": "#%%\n"
    }
   }
  },
  {
   "cell_type": "code",
   "execution_count": 6,
   "outputs": [
    {
     "data": {
      "text/plain": "83       hão\n118    muito\n1          à\n164      sua\n27      elas\ndtype: object"
     },
     "execution_count": 6,
     "metadata": {},
     "output_type": "execute_result"
    }
   ],
   "source": [
    "# Mostra das stopwords\n",
    "pd.Series(portuguese_stopwords).sample(5)"
   ],
   "metadata": {
    "collapsed": false,
    "pycharm": {
     "name": "#%%\n"
    }
   }
  },
  {
   "cell_type": "markdown",
   "source": [
    "### Demonstração do Tratamento"
   ],
   "metadata": {
    "collapsed": false,
    "pycharm": {
     "name": "#%% md\n"
    }
   }
  },
  {
   "cell_type": "code",
   "execution_count": 7,
   "outputs": [
    {
     "name": "stdout",
     "output_type": "stream",
     "text": [
      "Tweet Original: ahahaha olha, cuida do meu ruski, e de ti também ❤\n",
      "\n",
      "Tweet Limpo   : ahahaha olha cuida ruski ti\n",
      "\n",
      "Tweet Stemed  : ahahah olh cuid rusk ti\n"
     ]
    }
   ],
   "source": [
    "tweet = data[\"text\"].sample(1).values[0]\n",
    "tweet_limpo = preprocess_data(tweet, portuguese_stopwords)\n",
    "tweet_limpo_stemmed = preprocess_data(tweet, portuguese_stopwords, rlp_stemmer)\n",
    "\n",
    "print(\"Tweet Original: {}\".format(tweet))\n",
    "print(\"\")\n",
    "print(\"Tweet Limpo   : {}\".format(tweet_limpo))\n",
    "print(\"\")\n",
    "print(\"Tweet Stemed  : {}\".format(tweet_limpo_stemmed))"
   ],
   "metadata": {
    "collapsed": false,
    "pycharm": {
     "name": "#%%\n"
    }
   }
  },
  {
   "cell_type": "markdown",
   "source": [
    "## Aplicação da Limpeza"
   ],
   "metadata": {
    "collapsed": false,
    "pycharm": {
     "name": "#%% md\n"
    }
   }
  },
  {
   "cell_type": "code",
   "execution_count": 8,
   "outputs": [
    {
     "data": {
      "text/plain": "VBox(children=(HBox(children=(IntProgress(value=0, description='0.00%', max=91196), Label(value='0 / 91196')))…",
      "application/vnd.jupyter.widget-view+json": {
       "version_major": 2,
       "version_minor": 0,
       "model_id": "597f9288ff09420695c697f12f6a38a3"
      }
     },
     "metadata": {},
     "output_type": "display_data"
    }
   ],
   "source": [
    "data[\"cleaned\"] = data[\"text\"].parallel_apply(\n",
    "    lambda x: preprocess_data(x, portuguese_stopwords, rlp_stemmer)\n",
    ")"
   ],
   "metadata": {
    "collapsed": false,
    "pycharm": {
     "name": "#%%\n"
    }
   }
  },
  {
   "cell_type": "code",
   "execution_count": 9,
   "outputs": [
    {
     "data": {
      "text/plain": "                         id                                           text  \\\n86270   1559839520983490561  tudo que eu queria era não ir pra mrg hoje 😪😪   \n480825  1160639259629502470                                 cosita linda 😍   \n596896  1160766914974691329                atrofiar com o dala é do crlh 😂   \n177619  1559888887576776705    😫 só pq eu tô pobre e tava tudo no precinho   \n6686    1559740705727303680        vc está casada com uma maior de idade 😎   \n\n           score  label                  cleaned  \n86270  -0.161826     -1  tud quer ir pra mrg hoj  \n480825  0.677937      1               cosit lind  \n596896  0.220968      0          atrofi dal crlh  \n177619 -0.145610     -1  pq tô pobr tav tud prec  \n6686    0.493369      1          vc cas mai idad  ",
      "text/html": "<div>\n<style scoped>\n    .dataframe tbody tr th:only-of-type {\n        vertical-align: middle;\n    }\n\n    .dataframe tbody tr th {\n        vertical-align: top;\n    }\n\n    .dataframe thead th {\n        text-align: right;\n    }\n</style>\n<table border=\"1\" class=\"dataframe\">\n  <thead>\n    <tr style=\"text-align: right;\">\n      <th></th>\n      <th>id</th>\n      <th>text</th>\n      <th>score</th>\n      <th>label</th>\n      <th>cleaned</th>\n    </tr>\n  </thead>\n  <tbody>\n    <tr>\n      <th>86270</th>\n      <td>1559839520983490561</td>\n      <td>tudo que eu queria era não ir pra mrg hoje 😪😪</td>\n      <td>-0.161826</td>\n      <td>-1</td>\n      <td>tud quer ir pra mrg hoj</td>\n    </tr>\n    <tr>\n      <th>480825</th>\n      <td>1160639259629502470</td>\n      <td>cosita linda 😍</td>\n      <td>0.677937</td>\n      <td>1</td>\n      <td>cosit lind</td>\n    </tr>\n    <tr>\n      <th>596896</th>\n      <td>1160766914974691329</td>\n      <td>atrofiar com o dala é do crlh 😂</td>\n      <td>0.220968</td>\n      <td>0</td>\n      <td>atrofi dal crlh</td>\n    </tr>\n    <tr>\n      <th>177619</th>\n      <td>1559888887576776705</td>\n      <td>😫 só pq eu tô pobre e tava tudo no precinho</td>\n      <td>-0.145610</td>\n      <td>-1</td>\n      <td>pq tô pobr tav tud prec</td>\n    </tr>\n    <tr>\n      <th>6686</th>\n      <td>1559740705727303680</td>\n      <td>vc está casada com uma maior de idade 😎</td>\n      <td>0.493369</td>\n      <td>1</td>\n      <td>vc cas mai idad</td>\n    </tr>\n  </tbody>\n</table>\n</div>"
     },
     "execution_count": 9,
     "metadata": {},
     "output_type": "execute_result"
    }
   ],
   "source": [
    "data.sample(5)"
   ],
   "metadata": {
    "collapsed": false,
    "pycharm": {
     "name": "#%%\n"
    }
   }
  },
  {
   "cell_type": "markdown",
   "source": [
    "# Engenharia de Atributos: Count Vectorizer\n",
    "\n",
    "Este modelo utiliza uma matriz esparsa com a frequencia de cada palavra."
   ],
   "metadata": {
    "collapsed": false,
    "pycharm": {
     "name": "#%% md\n"
    }
   }
  },
  {
   "cell_type": "markdown",
   "source": [
    "### Separar conjuntos de treinamento e teste\n",
    "\n",
    "Aqui faremos a separação de conjunto de treino e teste.\n",
    "\n",
    "O dicionário será criado utilizando o conjunto de treino, e posteriormente verificado sua eficácia no conjunto de teste."
   ],
   "metadata": {
    "collapsed": false,
    "pycharm": {
     "name": "#%% md\n"
    }
   }
  },
  {
   "cell_type": "code",
   "execution_count": 10,
   "outputs": [],
   "source": [
    "X_train, X_test = train_test_split(data, random_state=42)"
   ],
   "metadata": {
    "collapsed": false,
    "pycharm": {
     "name": "#%%\n"
    }
   }
  },
  {
   "cell_type": "markdown",
   "source": [
    "### Count Vectorizer"
   ],
   "metadata": {
    "collapsed": false,
    "pycharm": {
     "name": "#%% md\n"
    }
   }
  },
  {
   "cell_type": "code",
   "execution_count": 11,
   "outputs": [
    {
     "data": {
      "text/plain": "CountVectorizer(ngram_range=(1, 2))",
      "text/html": "<style>#sk-container-id-1 {color: black;background-color: white;}#sk-container-id-1 pre{padding: 0;}#sk-container-id-1 div.sk-toggleable {background-color: white;}#sk-container-id-1 label.sk-toggleable__label {cursor: pointer;display: block;width: 100%;margin-bottom: 0;padding: 0.3em;box-sizing: border-box;text-align: center;}#sk-container-id-1 label.sk-toggleable__label-arrow:before {content: \"▸\";float: left;margin-right: 0.25em;color: #696969;}#sk-container-id-1 label.sk-toggleable__label-arrow:hover:before {color: black;}#sk-container-id-1 div.sk-estimator:hover label.sk-toggleable__label-arrow:before {color: black;}#sk-container-id-1 div.sk-toggleable__content {max-height: 0;max-width: 0;overflow: hidden;text-align: left;background-color: #f0f8ff;}#sk-container-id-1 div.sk-toggleable__content pre {margin: 0.2em;color: black;border-radius: 0.25em;background-color: #f0f8ff;}#sk-container-id-1 input.sk-toggleable__control:checked~div.sk-toggleable__content {max-height: 200px;max-width: 100%;overflow: auto;}#sk-container-id-1 input.sk-toggleable__control:checked~label.sk-toggleable__label-arrow:before {content: \"▾\";}#sk-container-id-1 div.sk-estimator input.sk-toggleable__control:checked~label.sk-toggleable__label {background-color: #d4ebff;}#sk-container-id-1 div.sk-label input.sk-toggleable__control:checked~label.sk-toggleable__label {background-color: #d4ebff;}#sk-container-id-1 input.sk-hidden--visually {border: 0;clip: rect(1px 1px 1px 1px);clip: rect(1px, 1px, 1px, 1px);height: 1px;margin: -1px;overflow: hidden;padding: 0;position: absolute;width: 1px;}#sk-container-id-1 div.sk-estimator {font-family: monospace;background-color: #f0f8ff;border: 1px dotted black;border-radius: 0.25em;box-sizing: border-box;margin-bottom: 0.5em;}#sk-container-id-1 div.sk-estimator:hover {background-color: #d4ebff;}#sk-container-id-1 div.sk-parallel-item::after {content: \"\";width: 100%;border-bottom: 1px solid gray;flex-grow: 1;}#sk-container-id-1 div.sk-label:hover label.sk-toggleable__label {background-color: #d4ebff;}#sk-container-id-1 div.sk-serial::before {content: \"\";position: absolute;border-left: 1px solid gray;box-sizing: border-box;top: 0;bottom: 0;left: 50%;z-index: 0;}#sk-container-id-1 div.sk-serial {display: flex;flex-direction: column;align-items: center;background-color: white;padding-right: 0.2em;padding-left: 0.2em;position: relative;}#sk-container-id-1 div.sk-item {position: relative;z-index: 1;}#sk-container-id-1 div.sk-parallel {display: flex;align-items: stretch;justify-content: center;background-color: white;position: relative;}#sk-container-id-1 div.sk-item::before, #sk-container-id-1 div.sk-parallel-item::before {content: \"\";position: absolute;border-left: 1px solid gray;box-sizing: border-box;top: 0;bottom: 0;left: 50%;z-index: -1;}#sk-container-id-1 div.sk-parallel-item {display: flex;flex-direction: column;z-index: 1;position: relative;background-color: white;}#sk-container-id-1 div.sk-parallel-item:first-child::after {align-self: flex-end;width: 50%;}#sk-container-id-1 div.sk-parallel-item:last-child::after {align-self: flex-start;width: 50%;}#sk-container-id-1 div.sk-parallel-item:only-child::after {width: 0;}#sk-container-id-1 div.sk-dashed-wrapped {border: 1px dashed gray;margin: 0 0.4em 0.5em 0.4em;box-sizing: border-box;padding-bottom: 0.4em;background-color: white;}#sk-container-id-1 div.sk-label label {font-family: monospace;font-weight: bold;display: inline-block;line-height: 1.2em;}#sk-container-id-1 div.sk-label-container {text-align: center;}#sk-container-id-1 div.sk-container {/* jupyter's `normalize.less` sets `[hidden] { display: none; }` but bootstrap.min.css set `[hidden] { display: none !important; }` so we also need the `!important` here to be able to override the default hidden behavior on the sphinx rendered scikit-learn.org. See: https://github.com/scikit-learn/scikit-learn/issues/21755 */display: inline-block !important;position: relative;}#sk-container-id-1 div.sk-text-repr-fallback {display: none;}</style><div id=\"sk-container-id-1\" class=\"sk-top-container\"><div class=\"sk-text-repr-fallback\"><pre>CountVectorizer(ngram_range=(1, 2))</pre><b>In a Jupyter environment, please rerun this cell to show the HTML representation or trust the notebook. <br />On GitHub, the HTML representation is unable to render, please try loading this page with nbviewer.org.</b></div><div class=\"sk-container\" hidden><div class=\"sk-item\"><div class=\"sk-estimator sk-toggleable\"><input class=\"sk-toggleable__control sk-hidden--visually\" id=\"sk-estimator-id-1\" type=\"checkbox\" checked><label for=\"sk-estimator-id-1\" class=\"sk-toggleable__label sk-toggleable__label-arrow\">CountVectorizer</label><div class=\"sk-toggleable__content\"><pre>CountVectorizer(ngram_range=(1, 2))</pre></div></div></div></div></div>"
     },
     "execution_count": 11,
     "metadata": {},
     "output_type": "execute_result"
    }
   ],
   "source": [
    "vectorizer = CountVectorizer(ngram_range=(1, 2))\n",
    "vectorizer.fit(X_train[\"cleaned\"])"
   ],
   "metadata": {
    "collapsed": false,
    "pycharm": {
     "name": "#%%\n"
    }
   }
  },
  {
   "cell_type": "markdown",
   "source": [
    "#### Aplicar a Geração do Feature Vector em todo o Dataset de Treino"
   ],
   "metadata": {
    "collapsed": false,
    "pycharm": {
     "name": "#%% md\n"
    }
   }
  },
  {
   "cell_type": "code",
   "execution_count": 12,
   "outputs": [],
   "source": [
    "X_features_train = vectorizer.transform(X_train[\"cleaned\"])\n",
    "y_features_train = X_train[\"label\"]"
   ],
   "metadata": {
    "collapsed": false,
    "pycharm": {
     "name": "#%%\n"
    }
   }
  },
  {
   "cell_type": "markdown",
   "source": [
    "#### Aplicar a Geração do Feature Vector em todo o Dataset de Teste"
   ],
   "metadata": {
    "collapsed": false,
    "pycharm": {
     "name": "#%% md\n"
    }
   }
  },
  {
   "cell_type": "code",
   "execution_count": 13,
   "outputs": [],
   "source": [
    "X_features_test = vectorizer.transform(X_test[\"cleaned\"])\n",
    "y_features_test = X_test[\"label\"]"
   ],
   "metadata": {
    "collapsed": false,
    "pycharm": {
     "name": "#%%\n"
    }
   }
  },
  {
   "cell_type": "markdown",
   "source": [
    "## Seleção de Atributos\n",
    "\n",
    "Referência:\n",
    "\n",
    "- [https://en.wikipedia.org/wiki/Feature_selection](https://en.wikipedia.org/wiki/Feature_selection)\n",
    "- [https://scikit-learn.org/stable/modules/feature_selection.html#univariate-feature-selection](https://scikit-learn.org/stable/modules/feature_selection.html#univariate-feature-selection)"
   ],
   "metadata": {
    "collapsed": false,
    "pycharm": {
     "name": "#%% md\n"
    }
   }
  },
  {
   "cell_type": "code",
   "execution_count": 14,
   "outputs": [
    {
     "data": {
      "text/plain": "SelectPercentile(percentile=50)",
      "text/html": "<style>#sk-container-id-2 {color: black;background-color: white;}#sk-container-id-2 pre{padding: 0;}#sk-container-id-2 div.sk-toggleable {background-color: white;}#sk-container-id-2 label.sk-toggleable__label {cursor: pointer;display: block;width: 100%;margin-bottom: 0;padding: 0.3em;box-sizing: border-box;text-align: center;}#sk-container-id-2 label.sk-toggleable__label-arrow:before {content: \"▸\";float: left;margin-right: 0.25em;color: #696969;}#sk-container-id-2 label.sk-toggleable__label-arrow:hover:before {color: black;}#sk-container-id-2 div.sk-estimator:hover label.sk-toggleable__label-arrow:before {color: black;}#sk-container-id-2 div.sk-toggleable__content {max-height: 0;max-width: 0;overflow: hidden;text-align: left;background-color: #f0f8ff;}#sk-container-id-2 div.sk-toggleable__content pre {margin: 0.2em;color: black;border-radius: 0.25em;background-color: #f0f8ff;}#sk-container-id-2 input.sk-toggleable__control:checked~div.sk-toggleable__content {max-height: 200px;max-width: 100%;overflow: auto;}#sk-container-id-2 input.sk-toggleable__control:checked~label.sk-toggleable__label-arrow:before {content: \"▾\";}#sk-container-id-2 div.sk-estimator input.sk-toggleable__control:checked~label.sk-toggleable__label {background-color: #d4ebff;}#sk-container-id-2 div.sk-label input.sk-toggleable__control:checked~label.sk-toggleable__label {background-color: #d4ebff;}#sk-container-id-2 input.sk-hidden--visually {border: 0;clip: rect(1px 1px 1px 1px);clip: rect(1px, 1px, 1px, 1px);height: 1px;margin: -1px;overflow: hidden;padding: 0;position: absolute;width: 1px;}#sk-container-id-2 div.sk-estimator {font-family: monospace;background-color: #f0f8ff;border: 1px dotted black;border-radius: 0.25em;box-sizing: border-box;margin-bottom: 0.5em;}#sk-container-id-2 div.sk-estimator:hover {background-color: #d4ebff;}#sk-container-id-2 div.sk-parallel-item::after {content: \"\";width: 100%;border-bottom: 1px solid gray;flex-grow: 1;}#sk-container-id-2 div.sk-label:hover label.sk-toggleable__label {background-color: #d4ebff;}#sk-container-id-2 div.sk-serial::before {content: \"\";position: absolute;border-left: 1px solid gray;box-sizing: border-box;top: 0;bottom: 0;left: 50%;z-index: 0;}#sk-container-id-2 div.sk-serial {display: flex;flex-direction: column;align-items: center;background-color: white;padding-right: 0.2em;padding-left: 0.2em;position: relative;}#sk-container-id-2 div.sk-item {position: relative;z-index: 1;}#sk-container-id-2 div.sk-parallel {display: flex;align-items: stretch;justify-content: center;background-color: white;position: relative;}#sk-container-id-2 div.sk-item::before, #sk-container-id-2 div.sk-parallel-item::before {content: \"\";position: absolute;border-left: 1px solid gray;box-sizing: border-box;top: 0;bottom: 0;left: 50%;z-index: -1;}#sk-container-id-2 div.sk-parallel-item {display: flex;flex-direction: column;z-index: 1;position: relative;background-color: white;}#sk-container-id-2 div.sk-parallel-item:first-child::after {align-self: flex-end;width: 50%;}#sk-container-id-2 div.sk-parallel-item:last-child::after {align-self: flex-start;width: 50%;}#sk-container-id-2 div.sk-parallel-item:only-child::after {width: 0;}#sk-container-id-2 div.sk-dashed-wrapped {border: 1px dashed gray;margin: 0 0.4em 0.5em 0.4em;box-sizing: border-box;padding-bottom: 0.4em;background-color: white;}#sk-container-id-2 div.sk-label label {font-family: monospace;font-weight: bold;display: inline-block;line-height: 1.2em;}#sk-container-id-2 div.sk-label-container {text-align: center;}#sk-container-id-2 div.sk-container {/* jupyter's `normalize.less` sets `[hidden] { display: none; }` but bootstrap.min.css set `[hidden] { display: none !important; }` so we also need the `!important` here to be able to override the default hidden behavior on the sphinx rendered scikit-learn.org. See: https://github.com/scikit-learn/scikit-learn/issues/21755 */display: inline-block !important;position: relative;}#sk-container-id-2 div.sk-text-repr-fallback {display: none;}</style><div id=\"sk-container-id-2\" class=\"sk-top-container\"><div class=\"sk-text-repr-fallback\"><pre>SelectPercentile(percentile=50)</pre><b>In a Jupyter environment, please rerun this cell to show the HTML representation or trust the notebook. <br />On GitHub, the HTML representation is unable to render, please try loading this page with nbviewer.org.</b></div><div class=\"sk-container\" hidden><div class=\"sk-item\"><div class=\"sk-estimator sk-toggleable\"><input class=\"sk-toggleable__control sk-hidden--visually\" id=\"sk-estimator-id-2\" type=\"checkbox\" checked><label for=\"sk-estimator-id-2\" class=\"sk-toggleable__label sk-toggleable__label-arrow\">SelectPercentile</label><div class=\"sk-toggleable__content\"><pre>SelectPercentile(percentile=50)</pre></div></div></div></div></div>"
     },
     "execution_count": 14,
     "metadata": {},
     "output_type": "execute_result"
    }
   ],
   "source": [
    "selector = SelectPercentile(f_classif, percentile=50)\n",
    "\n",
    "selector.fit(X_features_train, y_features_train)"
   ],
   "metadata": {
    "collapsed": false,
    "pycharm": {
     "name": "#%%\n"
    }
   }
  },
  {
   "cell_type": "code",
   "execution_count": 15,
   "outputs": [],
   "source": [
    "X_features_train_selected = selector.transform(X_features_train)\n",
    "X_features_test_selected = selector.transform(X_features_test)"
   ],
   "metadata": {
    "collapsed": false,
    "pycharm": {
     "name": "#%%\n"
    }
   }
  },
  {
   "cell_type": "markdown",
   "source": [
    "## Feature Scaling\n",
    "\n",
    "Aqui vamos normalizar os dados utilizando o Standard Scaler\n",
    "\n",
    "\n",
    "Referências:\n",
    " - [https://en.wikipedia.org/wiki/Normalization_(statistics)](https://en.wikipedia.org/wiki/Normalization_(statistics))\n",
    " - [https://en.wikipedia.org/wiki/Standard_score](https://en.wikipedia.org/wiki/Standard_score)\n",
    " - [https://scikit-learn.org/stable/modules/preprocessing.html#standardization-or-mean-removal-and-variance-scaling](https://scikit-learn.org/stable/modules/preprocessing.html#standardization-or-mean-removal-and-variance-scaling)"
   ],
   "metadata": {
    "collapsed": false,
    "pycharm": {
     "name": "#%% md\n"
    }
   }
  },
  {
   "cell_type": "code",
   "execution_count": 16,
   "outputs": [
    {
     "data": {
      "text/plain": "StandardScaler(with_mean=False)",
      "text/html": "<style>#sk-container-id-3 {color: black;background-color: white;}#sk-container-id-3 pre{padding: 0;}#sk-container-id-3 div.sk-toggleable {background-color: white;}#sk-container-id-3 label.sk-toggleable__label {cursor: pointer;display: block;width: 100%;margin-bottom: 0;padding: 0.3em;box-sizing: border-box;text-align: center;}#sk-container-id-3 label.sk-toggleable__label-arrow:before {content: \"▸\";float: left;margin-right: 0.25em;color: #696969;}#sk-container-id-3 label.sk-toggleable__label-arrow:hover:before {color: black;}#sk-container-id-3 div.sk-estimator:hover label.sk-toggleable__label-arrow:before {color: black;}#sk-container-id-3 div.sk-toggleable__content {max-height: 0;max-width: 0;overflow: hidden;text-align: left;background-color: #f0f8ff;}#sk-container-id-3 div.sk-toggleable__content pre {margin: 0.2em;color: black;border-radius: 0.25em;background-color: #f0f8ff;}#sk-container-id-3 input.sk-toggleable__control:checked~div.sk-toggleable__content {max-height: 200px;max-width: 100%;overflow: auto;}#sk-container-id-3 input.sk-toggleable__control:checked~label.sk-toggleable__label-arrow:before {content: \"▾\";}#sk-container-id-3 div.sk-estimator input.sk-toggleable__control:checked~label.sk-toggleable__label {background-color: #d4ebff;}#sk-container-id-3 div.sk-label input.sk-toggleable__control:checked~label.sk-toggleable__label {background-color: #d4ebff;}#sk-container-id-3 input.sk-hidden--visually {border: 0;clip: rect(1px 1px 1px 1px);clip: rect(1px, 1px, 1px, 1px);height: 1px;margin: -1px;overflow: hidden;padding: 0;position: absolute;width: 1px;}#sk-container-id-3 div.sk-estimator {font-family: monospace;background-color: #f0f8ff;border: 1px dotted black;border-radius: 0.25em;box-sizing: border-box;margin-bottom: 0.5em;}#sk-container-id-3 div.sk-estimator:hover {background-color: #d4ebff;}#sk-container-id-3 div.sk-parallel-item::after {content: \"\";width: 100%;border-bottom: 1px solid gray;flex-grow: 1;}#sk-container-id-3 div.sk-label:hover label.sk-toggleable__label {background-color: #d4ebff;}#sk-container-id-3 div.sk-serial::before {content: \"\";position: absolute;border-left: 1px solid gray;box-sizing: border-box;top: 0;bottom: 0;left: 50%;z-index: 0;}#sk-container-id-3 div.sk-serial {display: flex;flex-direction: column;align-items: center;background-color: white;padding-right: 0.2em;padding-left: 0.2em;position: relative;}#sk-container-id-3 div.sk-item {position: relative;z-index: 1;}#sk-container-id-3 div.sk-parallel {display: flex;align-items: stretch;justify-content: center;background-color: white;position: relative;}#sk-container-id-3 div.sk-item::before, #sk-container-id-3 div.sk-parallel-item::before {content: \"\";position: absolute;border-left: 1px solid gray;box-sizing: border-box;top: 0;bottom: 0;left: 50%;z-index: -1;}#sk-container-id-3 div.sk-parallel-item {display: flex;flex-direction: column;z-index: 1;position: relative;background-color: white;}#sk-container-id-3 div.sk-parallel-item:first-child::after {align-self: flex-end;width: 50%;}#sk-container-id-3 div.sk-parallel-item:last-child::after {align-self: flex-start;width: 50%;}#sk-container-id-3 div.sk-parallel-item:only-child::after {width: 0;}#sk-container-id-3 div.sk-dashed-wrapped {border: 1px dashed gray;margin: 0 0.4em 0.5em 0.4em;box-sizing: border-box;padding-bottom: 0.4em;background-color: white;}#sk-container-id-3 div.sk-label label {font-family: monospace;font-weight: bold;display: inline-block;line-height: 1.2em;}#sk-container-id-3 div.sk-label-container {text-align: center;}#sk-container-id-3 div.sk-container {/* jupyter's `normalize.less` sets `[hidden] { display: none; }` but bootstrap.min.css set `[hidden] { display: none !important; }` so we also need the `!important` here to be able to override the default hidden behavior on the sphinx rendered scikit-learn.org. See: https://github.com/scikit-learn/scikit-learn/issues/21755 */display: inline-block !important;position: relative;}#sk-container-id-3 div.sk-text-repr-fallback {display: none;}</style><div id=\"sk-container-id-3\" class=\"sk-top-container\"><div class=\"sk-text-repr-fallback\"><pre>StandardScaler(with_mean=False)</pre><b>In a Jupyter environment, please rerun this cell to show the HTML representation or trust the notebook. <br />On GitHub, the HTML representation is unable to render, please try loading this page with nbviewer.org.</b></div><div class=\"sk-container\" hidden><div class=\"sk-item\"><div class=\"sk-estimator sk-toggleable\"><input class=\"sk-toggleable__control sk-hidden--visually\" id=\"sk-estimator-id-3\" type=\"checkbox\" checked><label for=\"sk-estimator-id-3\" class=\"sk-toggleable__label sk-toggleable__label-arrow\">StandardScaler</label><div class=\"sk-toggleable__content\"><pre>StandardScaler(with_mean=False)</pre></div></div></div></div></div>"
     },
     "execution_count": 16,
     "metadata": {},
     "output_type": "execute_result"
    }
   ],
   "source": [
    "# Inicializar o Scaler\n",
    "scaler = StandardScaler(with_mean=False)\n",
    "\n",
    "# Treinar o Scaler\n",
    "scaler.fit(X_features_train_selected)"
   ],
   "metadata": {
    "collapsed": false,
    "pycharm": {
     "name": "#%%\n"
    }
   }
  },
  {
   "cell_type": "code",
   "execution_count": 17,
   "outputs": [],
   "source": [
    "# Transformar o conjunto de treinamento\n",
    "X_features_train_scaled = scaler.transform(X_features_train_selected)"
   ],
   "metadata": {
    "collapsed": false,
    "pycharm": {
     "name": "#%%\n"
    }
   }
  },
  {
   "cell_type": "code",
   "execution_count": 18,
   "outputs": [],
   "source": [
    "X_features_test_scaled = scaler.transform(X_features_test_selected)"
   ],
   "metadata": {
    "collapsed": false,
    "pycharm": {
     "name": "#%%\n"
    }
   }
  },
  {
   "cell_type": "markdown",
   "source": [
    "# Learning\n"
   ],
   "metadata": {
    "collapsed": false,
    "pycharm": {
     "name": "#%% md\n"
    }
   }
  },
  {
   "cell_type": "markdown",
   "source": [
    "## Baseline Score\n",
    "\n",
    "Aqui vamos, criar um score de base. Ou seja, o resultado que conseguiriamos com o menor esforço possível (que é atribuir indiscriminadamente qualquer valor)\n",
    "\n",
    "Referências:\n",
    "- [https://scikit-learn.org/stable/modules/model_evaluation.html#precision-recall-f-measure-metrics](https://scikit-learn.org/stable/modules/model_evaluation.html#precision-recall-f-measure-metrics)"
   ],
   "metadata": {
    "collapsed": false,
    "pycharm": {
     "name": "#%% md\n"
    }
   }
  },
  {
   "cell_type": "code",
   "execution_count": 19,
   "outputs": [
    {
     "name": "stdout",
     "output_type": "stream",
     "text": [
      "F-Score: 3.64%\n"
     ]
    }
   ],
   "source": [
    "# Assumindo tudo como 0\n",
    "score_assumindo_tudo_neutro = f1_score(\n",
    "    y_features_train, [0 for _ in y_features_train], average=\"weighted\"\n",
    ")\n",
    "\n",
    "print(\"F-Score: {:.2f}%\".format(score_assumindo_tudo_neutro * 100))"
   ],
   "metadata": {
    "collapsed": false,
    "pycharm": {
     "name": "#%%\n"
    }
   }
  },
  {
   "cell_type": "code",
   "execution_count": 20,
   "outputs": [
    {
     "name": "stdout",
     "output_type": "stream",
     "text": [
      "F-Score: 11.62%\n"
     ]
    }
   ],
   "source": [
    "# Assumindo tudo como -1\n",
    "score_assumindo_tudo_negativo = f1_score(\n",
    "    y_features_train, [-1 for _ in y_features_train], average=\"weighted\"\n",
    ")\n",
    "\n",
    "print(\"F-Score: {:.2f}%\".format(score_assumindo_tudo_negativo * 100))"
   ],
   "metadata": {
    "collapsed": false,
    "pycharm": {
     "name": "#%%\n"
    }
   }
  },
  {
   "cell_type": "code",
   "execution_count": 21,
   "outputs": [
    {
     "name": "stdout",
     "output_type": "stream",
     "text": [
      "F-Score: 43.03%\n"
     ]
    }
   ],
   "source": [
    "# Assumindo tudo como 1\n",
    "score_assumindo_tudo_positivo = f1_score(\n",
    "    y_features_train, [1 for _ in y_features_train], average=\"weighted\"\n",
    ")\n",
    "\n",
    "print(\"F-Score: {:.2f}%\".format(score_assumindo_tudo_positivo * 100))"
   ],
   "metadata": {
    "collapsed": false,
    "pycharm": {
     "name": "#%%\n"
    }
   }
  },
  {
   "cell_type": "code",
   "execution_count": 22,
   "outputs": [
    {
     "name": "stdout",
     "output_type": "stream",
     "text": [
      "F-Score: 43.03%\n"
     ]
    }
   ],
   "source": [
    "# Baseline Score\n",
    "baseline_score = np.max(\n",
    "    [\n",
    "        score_assumindo_tudo_neutro,\n",
    "        score_assumindo_tudo_negativo,\n",
    "        score_assumindo_tudo_positivo,\n",
    "    ]\n",
    ")\n",
    "\n",
    "print(\"F-Score: {:.2f}%\".format(baseline_score * 100))"
   ],
   "metadata": {
    "collapsed": false,
    "pycharm": {
     "name": "#%%\n"
    }
   }
  },
  {
   "cell_type": "markdown",
   "source": [
    "## Naive Bayes\n",
    "\n",
    "Referências:\n",
    "- [https://en.wikipedia.org/wiki/Naive_Bayes_classifier](https://en.wikipedia.org/wiki/Naive_Bayes_classifier)\n",
    "- [https://scikit-learn.org/stable/modules/naive_bayes.html#multinomial-naive-bayes](https://scikit-learn.org/stable/modules/naive_bayes.html#multinomial-naive-bayes)"
   ],
   "metadata": {
    "collapsed": false,
    "pycharm": {
     "name": "#%% md\n"
    }
   }
  },
  {
   "cell_type": "code",
   "execution_count": 23,
   "outputs": [],
   "source": [
    "nb = MultinomialNB()"
   ],
   "metadata": {
    "collapsed": false,
    "pycharm": {
     "name": "#%%\n"
    }
   }
  },
  {
   "cell_type": "markdown",
   "source": [
    "### Otimização de Hyperparametros\n",
    "\n",
    "Nesse passo, vamos tentar encontrar a melhor combinação de hyperparametros para o modelo\n",
    "\n",
    "Referências:\n",
    "\n",
    "- [https://scikit-learn.org/stable/modules/grid_search.html#randomized-parameter-search](https://scikit-learn.org/stable/modules/grid_search.html#randomized-parameter-search)"
   ],
   "metadata": {
    "collapsed": false,
    "pycharm": {
     "name": "#%% md\n"
    }
   }
  },
  {
   "cell_type": "code",
   "execution_count": 24,
   "outputs": [
    {
     "name": "stdout",
     "output_type": "stream",
     "text": [
      "Best F-Score: 65.97%\n"
     ]
    }
   ],
   "source": [
    "params = {\n",
    "    \"alpha\": np.sort(np.append(np.linspace(0.5, 1.5, 20), 1)),\n",
    "}\n",
    "\n",
    "clf = RandomizedSearchCV(\n",
    "    nb, params, n_iter=10, scoring=\"f1_weighted\", n_jobs=-1, random_state=42\n",
    ")\n",
    "clf.fit(X_features_train_scaled, y_features_train)\n",
    "\n",
    "print(\"Best F-Score: {:.2f}%\".format(clf.best_score_ * 100))"
   ],
   "metadata": {
    "collapsed": false,
    "pycharm": {
     "name": "#%%\n"
    }
   }
  },
  {
   "cell_type": "code",
   "execution_count": 25,
   "outputs": [
    {
     "data": {
      "text/plain": "{'alpha': 1.394736842105263}"
     },
     "execution_count": 25,
     "metadata": {},
     "output_type": "execute_result"
    }
   ],
   "source": [
    "clf.best_params_"
   ],
   "metadata": {
    "collapsed": false,
    "pycharm": {
     "name": "#%%\n"
    }
   }
  },
  {
   "cell_type": "code",
   "execution_count": 26,
   "outputs": [],
   "source": [
    "classifier = clf.best_estimator_"
   ],
   "metadata": {
    "collapsed": false,
    "pycharm": {
     "name": "#%%\n"
    }
   }
  },
  {
   "cell_type": "markdown",
   "source": [
    "#### Comparação com Métrica base"
   ],
   "metadata": {
    "collapsed": false,
    "pycharm": {
     "name": "#%% md\n"
    }
   }
  },
  {
   "cell_type": "code",
   "execution_count": 27,
   "outputs": [
    {
     "name": "stdout",
     "output_type": "stream",
     "text": [
      "Score Baseline : 43.03%\n",
      "Score Modelo   : 65.97%\n",
      "Diferença      : 22.95%\n"
     ]
    }
   ],
   "source": [
    "print(\"Score Baseline : {:.2f}%\".format(baseline_score * 100))\n",
    "print(\"Score Modelo   : {:.2f}%\".format(clf.best_score_ * 100))\n",
    "print(\"Diferença      : {:.2f}%\".format(np.abs(baseline_score - clf.best_score_) * 100))"
   ],
   "metadata": {
    "collapsed": false,
    "pycharm": {
     "name": "#%%\n"
    }
   }
  },
  {
   "cell_type": "markdown",
   "source": [
    "### Performance no Conjunto de Treino"
   ],
   "metadata": {
    "collapsed": false,
    "pycharm": {
     "name": "#%% md\n"
    }
   }
  },
  {
   "cell_type": "code",
   "execution_count": 28,
   "outputs": [
    {
     "name": "stdout",
     "output_type": "stream",
     "text": [
      "F-Score: 87.18%\n"
     ]
    }
   ],
   "source": [
    "y_pred = classifier.predict(X_features_train_scaled)\n",
    "score = f1_score(y_features_train, y_pred, average=\"weighted\")\n",
    "print(\"F-Score: {:.2f}%\".format(score * 100))"
   ],
   "metadata": {
    "collapsed": false,
    "pycharm": {
     "name": "#%%\n"
    }
   }
  },
  {
   "cell_type": "markdown",
   "source": [
    "### Curva de Aprendizado"
   ],
   "metadata": {
    "collapsed": false,
    "pycharm": {
     "name": "#%% md\n"
    }
   }
  },
  {
   "cell_type": "code",
   "execution_count": 29,
   "outputs": [],
   "source": [
    "def plot_learning_curve(estimator, X, y, scoring):\n",
    "\n",
    "    plt.figure(figsize=(8, 6))\n",
    "    plt.title(\"Learning Curve\")\n",
    "\n",
    "    plt.xlabel(\"Training examples\")\n",
    "    plt.ylabel(\"Score: {}\".format(scoring))\n",
    "\n",
    "    train_sizes, train_scores, test_scores = learning_curve(\n",
    "        estimator, X, y, scoring=scoring, n_jobs=-1\n",
    "    )\n",
    "\n",
    "    train_scores_mean = np.mean(train_scores, axis=1)\n",
    "    train_scores_std = np.std(train_scores, axis=1)\n",
    "    test_scores_mean = np.mean(test_scores, axis=1)\n",
    "    test_scores_std = np.std(test_scores, axis=1)\n",
    "\n",
    "    plt.ylim(round(min([np.min(train_scores), np.min(test_scores)]), 2) - 0.01, 1.01)\n",
    "\n",
    "    plt.grid()\n",
    "\n",
    "    plt.fill_between(\n",
    "        train_sizes,\n",
    "        train_scores_mean - train_scores_std,\n",
    "        train_scores_mean + train_scores_std,\n",
    "        alpha=0.1,\n",
    "        color=\"r\",\n",
    "    )\n",
    "\n",
    "    plt.fill_between(\n",
    "        train_sizes,\n",
    "        test_scores_mean - test_scores_std,\n",
    "        test_scores_mean + test_scores_std,\n",
    "        alpha=0.1,\n",
    "        color=\"g\",\n",
    "    )\n",
    "\n",
    "    plt.plot(train_sizes, train_scores_mean, \"o-\", color=\"r\", label=\"Training score\")\n",
    "    plt.plot(\n",
    "        train_sizes, test_scores_mean, \"o-\", color=\"g\", label=\"Cross-validation score\"\n",
    "    )\n",
    "\n",
    "    plt.legend(loc=\"best\")\n",
    "\n",
    "    return plt"
   ],
   "metadata": {
    "collapsed": false,
    "pycharm": {
     "name": "#%%\n"
    }
   }
  },
  {
   "cell_type": "code",
   "execution_count": 30,
   "outputs": [
    {
     "data": {
      "text/plain": "<Figure size 800x600 with 1 Axes>",
      "image/png": "[encoded data removed]"
     },
     "metadata": {},
     "output_type": "display_data"
    }
   ],
   "source": [
    "plt = plot_learning_curve(\n",
    "    classifier, X_features_train_scaled, y_features_train, scoring=\"f1_weighted\"\n",
    ")\n",
    "plt.show()"
   ],
   "metadata": {
    "collapsed": false,
    "pycharm": {
     "name": "#%%\n"
    }
   }
  },
  {
   "cell_type": "markdown",
   "source": [
    "## Validação em conjunto de Teste"
   ],
   "metadata": {
    "collapsed": false,
    "pycharm": {
     "name": "#%% md\n"
    }
   }
  },
  {
   "cell_type": "code",
   "execution_count": 31,
   "outputs": [
    {
     "name": "stdout",
     "output_type": "stream",
     "text": [
      "F-Score: 59.26%\n"
     ]
    }
   ],
   "source": [
    "y_pred = classifier.predict(X_features_test_scaled)\n",
    "score = f1_score(y_features_test, y_pred, average=\"weighted\")\n",
    "print(\"F-Score: {:.2f}%\".format(score * 100))"
   ],
   "metadata": {
    "collapsed": false,
    "pycharm": {
     "name": "#%%\n"
    }
   }
  },
  {
   "cell_type": "markdown",
   "source": [
    "### Preditos Positivos"
   ],
   "metadata": {
    "collapsed": false,
    "pycharm": {
     "name": "#%% md\n"
    }
   }
  },
  {
   "cell_type": "code",
   "execution_count": 32,
   "outputs": [],
   "source": [
    "preditos_positivos = X_test[y_pred == 1]"
   ],
   "metadata": {
    "collapsed": false,
    "pycharm": {
     "name": "#%%\n"
    }
   }
  },
  {
   "cell_type": "markdown",
   "source": [
    "#### Falso Positivo -> Negativo"
   ],
   "metadata": {
    "collapsed": false,
    "pycharm": {
     "name": "#%% md\n"
    }
   }
  },
  {
   "cell_type": "code",
   "execution_count": 33,
   "outputs": [
    {
     "data": {
      "text/plain": "array(['pois é poxa, é uma pena mesmo 😐',\n       'então espera sair depois você estuda 😭😭😭',\n       'será que o tt derrubou o alcance do meu perfil tbm? sacanagem 😒',\n       'já não tenho idade p jogar uma peladinha intensa de h 😣',\n       'ate rem 😭😭😭 congrats po 😭', 'louca por um bolo de chocolate 😕',\n       'a gente surtando e eles 😑😑', 'nem dessa eu posso participar 😡',\n       'inveja total 😔', 'puse sex,no ptm😞'], dtype=object)"
     },
     "execution_count": 33,
     "metadata": {},
     "output_type": "execute_result"
    }
   ],
   "source": [
    "preditos_positivos[preditos_positivos[\"label\"] == -1][\"text\"].sample(10).values"
   ],
   "metadata": {
    "collapsed": false,
    "pycharm": {
     "name": "#%%\n"
    }
   }
  },
  {
   "cell_type": "markdown",
   "source": [
    "#### Falso Positivo -> Neutro"
   ],
   "metadata": {
    "collapsed": false,
    "pycharm": {
     "name": "#%% md\n"
    }
   }
  },
  {
   "cell_type": "code",
   "execution_count": 34,
   "outputs": [
    {
     "data": {
      "text/plain": "array(['quero larga uns ha ha ha na canela 👀',\n       'postei uma foto tão 🔥 no meus melhores amigos do insta...',\n       'segundo o ibge, água preta tem mil habitantes. e a cada pessoas, é candidato a conselheiro tutelar 😂',\n       '🙋eu concordo plenamente e se quiser assino em baixo 😅',\n       'sem tempo pra esses pseudo desconstruídos 😂', '💯 amor.',\n       'nada passa batido 🤗👀', 'apreciava todo o dia 😢',\n       'o frota era o ícone da família tradicional e cristã do psl... sem ele, como ficará essa imagem? 😱',\n       'sei nem ir lá, ela tá de brincadeirinha 😂'], dtype=object)"
     },
     "execution_count": 34,
     "metadata": {},
     "output_type": "execute_result"
    }
   ],
   "source": [
    "preditos_positivos[preditos_positivos[\"label\"] == 0][\"text\"].sample(10).values"
   ],
   "metadata": {
    "collapsed": false,
    "pycharm": {
     "name": "#%%\n"
    }
   }
  },
  {
   "cell_type": "markdown",
   "source": [
    "#### Verdadeiro Positivo"
   ],
   "metadata": {
    "collapsed": false,
    "pycharm": {
     "name": "#%% md\n"
    }
   }
  },
  {
   "cell_type": "code",
   "execution_count": 35,
   "outputs": [
    {
     "data": {
      "text/plain": "array(['ficou mesmo ✌🏻', 'se depender d mim as lágrimas vão t afogar 🎶',\n       'viva o amor ! 💖', 'eu tbm ❤', 'feliz dia dos pais ❤', 'nada ❤️',\n       'se o açaí for do pará kkkķkkk açaí. sou exigente, não aceito menos em nada. rann ❤',\n       'sdv garantido. 🇧🇷 bolsonaro 🇧🇷 ▶️ \" \" 👉reeleito em 🇧🇷 governa até ▶️ .',\n       'ajudo! chama no dm 😎', 'feliz aniversário 🎈'], dtype=object)"
     },
     "execution_count": 35,
     "metadata": {},
     "output_type": "execute_result"
    }
   ],
   "source": [
    "preditos_positivos[preditos_positivos[\"label\"] == 1][\"text\"].sample(10).values"
   ],
   "metadata": {
    "collapsed": false,
    "pycharm": {
     "name": "#%%\n"
    }
   }
  },
  {
   "cell_type": "markdown",
   "source": [
    "### Preditos Negativos"
   ],
   "metadata": {
    "collapsed": false,
    "pycharm": {
     "name": "#%% md\n"
    }
   }
  },
  {
   "cell_type": "code",
   "execution_count": 36,
   "outputs": [],
   "source": [
    "preditos_negativos = X_test[y_pred == -1]"
   ],
   "metadata": {
    "collapsed": false,
    "pycharm": {
     "name": "#%%\n"
    }
   }
  },
  {
   "cell_type": "markdown",
   "source": [
    "#### Falso Negativo -> Positivo"
   ],
   "metadata": {
    "collapsed": false,
    "pycharm": {
     "name": "#%% md\n"
    }
   }
  },
  {
   "cell_type": "code",
   "execution_count": 37,
   "outputs": [
    {
     "data": {
      "text/plain": "array(['passando o dia dos pais vendo documentário de esquerda com meu pai 👍',\n       'todo mundo ja sabe quem vai ficar na final, nem me choco. eduardo sai na proxima e fica lorena e rodrigo. amo 💕',\n       'vou volta a dormir e mas tarde leva meu dengo pra corta o cabelo 💕',\n       'sou mto sensitiva mesmo cara, eu tenho q acreditar mas nisso. vi um stories de um amigo meu e ele estava muito abatido e eu senti que ele estava com câncer, não perguntei p não ser indelicada, hoje ele postou que começou o tratamento ! fiquei em choque. q deus o abençoe 🙏',\n       'a beleza de todas as pessoas do mundo, esses dois estão a carregar sozinhos😭😍',\n       'aquele negócio de q “ tudo acaba em pizza!”, tô aqui levando ao pé da letra 😋',\n       'bom dia, pq eu estou acordando agora 😌', 'mó gatinhooo 😍',\n       ': no trabalho zerado, feliz e tranquilo, eu venci. eu sou a universal 😁',\n       'sua luz deve brilhar de dentro pra fora. ✨'], dtype=object)"
     },
     "execution_count": 37,
     "metadata": {},
     "output_type": "execute_result"
    }
   ],
   "source": [
    "preditos_negativos[preditos_negativos[\"label\"] == 1][\"text\"].sample(10).values"
   ],
   "metadata": {
    "collapsed": false,
    "pycharm": {
     "name": "#%%\n"
    }
   }
  },
  {
   "cell_type": "markdown",
   "source": [
    "#### Falso Negativo -> Neutro"
   ],
   "metadata": {
    "collapsed": false,
    "pycharm": {
     "name": "#%% md\n"
    }
   }
  },
  {
   "cell_type": "code",
   "execution_count": 38,
   "outputs": [
    {
     "data": {
      "text/plain": "array(['belém: terça-feira, : , graus. sensação termina de graus. 😰',\n       'cada dia piora mais tô só observando 👀', 'a raiva é essa 😅',\n       'vc ficou tão fofo falando de si mesmo na ª pessoa. me senti a jane, 😂 brincadeira, terito. eu jamais…',\n       'tambem nao fui😰', 'to muito idosa, já to caindo de sono 😂',\n       'jimin fazendo live só pq tenho q ir ao médico 😥',\n       'esse bagre, faz porra nem uma 😂', 'também quero 😂',\n       'mas aí se tu quer informação tu tem que ir atrás de um jornalista, pô. tenho pretensão nenhuma em te ajudar 😅'],\n      dtype=object)"
     },
     "execution_count": 38,
     "metadata": {},
     "output_type": "execute_result"
    }
   ],
   "source": [
    "preditos_negativos[preditos_negativos[\"label\"] == 0][\"text\"].sample(10).values"
   ],
   "metadata": {
    "collapsed": false,
    "pycharm": {
     "name": "#%%\n"
    }
   }
  },
  {
   "cell_type": "markdown",
   "source": [
    "#### Verdadeiro Negativo"
   ],
   "metadata": {
    "collapsed": false,
    "pycharm": {
     "name": "#%% md\n"
    }
   }
  },
  {
   "cell_type": "code",
   "execution_count": 39,
   "outputs": [
    {
     "data": {
      "text/plain": "array(['ver essa série 😴', 'meu rosto tá terrível 😭', 'dormir né 😴',\n       'dia só .. bom vai ficar quando essa dor do inferno passar 😔',\n       'almoçar na escola por causa de uma aula so amg 💀💀💀',\n       'sim!! isso fez meu coração ficar ainda mais apertado. 😭😭\\U0001f979',\n       'eu queria tanto sair mais tarde 😞 😴',\n       'preciso comprar roupa, as minhas não estão cabendo 😭',\n       'deixei os fones na sala 😤', 'mds eu vou ficar sozinha dnv😭😭'],\n      dtype=object)"
     },
     "execution_count": 39,
     "metadata": {},
     "output_type": "execute_result"
    }
   ],
   "source": [
    "preditos_negativos[preditos_negativos[\"label\"] == -1][\"text\"].sample(10).values"
   ],
   "metadata": {
    "collapsed": false,
    "pycharm": {
     "name": "#%%\n"
    }
   }
  },
  {
   "cell_type": "markdown",
   "source": [
    "### Preditos Neutros"
   ],
   "metadata": {
    "collapsed": false,
    "pycharm": {
     "name": "#%% md\n"
    }
   }
  },
  {
   "cell_type": "code",
   "execution_count": 40,
   "outputs": [],
   "source": [
    "preditos_neutros = X_test[y_pred == 0]"
   ],
   "metadata": {
    "collapsed": false,
    "pycharm": {
     "name": "#%%\n"
    }
   }
  },
  {
   "cell_type": "markdown",
   "source": [
    "#### Falso Neutro -> Positivo"
   ],
   "metadata": {
    "collapsed": false,
    "pycharm": {
     "name": "#%% md\n"
    }
   }
  },
  {
   "cell_type": "code",
   "execution_count": 41,
   "outputs": [
    {
     "data": {
      "text/plain": "array(['estou solteiro tbm, olha que coincidência 😏 rs',\n       'ahhh pra vcs também!!! 💜',\n       'tu e liardison é tudo fogo de palha vai e volta e pra ser msm — 😉',\n       'hey , avisa o dev que o teste funcionou 👍',\n       '*produtividade no* trabalho: 🥰🤩😘 universidade: 💩😠🤪',\n       'pique show do gustavo lima pistola pra cima pra elas entrar no clima 🎶',\n       'sério?? que bonitinha, feliz aniversário! 💛',\n       'espartilhos de luxo 💋 você vai se apaixonar 💓',\n       'você me conhecem mesmo kkk sabe do q eu sou capaz beba 😂😂😂',\n       'troco foto dos meus peitinhos por fotinhos de amiguinhas/namoradas (corninho passa a frente)não consigo chamar 🥺🔥🔥..'],\n      dtype=object)"
     },
     "execution_count": 41,
     "metadata": {},
     "output_type": "execute_result"
    }
   ],
   "source": [
    "preditos_neutros[preditos_neutros[\"label\"] == 1][\"text\"].sample(10).values"
   ],
   "metadata": {
    "collapsed": false,
    "pycharm": {
     "name": "#%%\n"
    }
   }
  },
  {
   "cell_type": "markdown",
   "source": [
    "#### Falso Neutro -> Negativo"
   ],
   "metadata": {
    "collapsed": false,
    "pycharm": {
     "name": "#%% md\n"
    }
   }
  },
  {
   "cell_type": "code",
   "execution_count": 42,
   "outputs": [
    {
     "data": {
      "text/plain": "array(['meu humor é igual o tempo de sp, toda hora muda 😑',\n       'só eu que acho feio fanbase copiar tt de quem é flop, sem dar os devidos créditos pra pessoa? já vi isso acontecendo diversas vezes 😒',\n       'como assim ela saiu do grupo do curso? 🥺🥺😭😭💔💔',\n       'lmao eu era para acordar às e adormeci 😭',\n       'parece que eu vou morrer, não aguento mais 😭',\n       'já me falaram que a kalunga que abriu aqui em the não é essas coisas mas quero muito ir lá 😭',\n       'diz que me ama mas só porque eu quero matar ou banhos já me expulsa da cama. 😔',\n       'acordei agora nessa porra por causa de tosse, tmnc 😡',\n       'sentimos a tua falta ferrinhos 😖',\n       'wangji morde meu lábio inferior também eu tô te implorando 😭'],\n      dtype=object)"
     },
     "execution_count": 42,
     "metadata": {},
     "output_type": "execute_result"
    }
   ],
   "source": [
    "preditos_neutros[preditos_neutros[\"label\"] == -1][\"text\"].sample(10).values"
   ],
   "metadata": {
    "collapsed": false,
    "pycharm": {
     "name": "#%%\n"
    }
   }
  },
  {
   "cell_type": "markdown",
   "source": [
    "#### Verdadeiro Neutro"
   ],
   "metadata": {
    "collapsed": false,
    "pycharm": {
     "name": "#%% md\n"
    }
   }
  },
  {
   "cell_type": "code",
   "execution_count": 43,
   "outputs": [
    {
     "data": {
      "text/plain": "array(['tô impressionadaa. vou ficar na observação 👀',\n       'método falho assim como suas argumentações 😂',\n       'que água com gosto estranho 😰',\n       'meu celular desligo , baixei o tt no celular do meu pai 😅',\n       'a cara da aposta 🤣😂', 'nos poupando muito do papel de trouxa 😂',\n       'save or wtv la t’as compris 😂',\n       'garanta já o seu ✅ poucas unidades 😱 contato: ( ) - falar com baroni 🎽 aceitamos cartões💳 enviamos pra to…',\n       'massa desbloqueó niveles inexistentes de caradurez 😂',\n       'quero mt te pegar mds — se for no mesmo open q eu a chance é altakkk brincadeira.. depende um pouco 😅'],\n      dtype=object)"
     },
     "execution_count": 43,
     "metadata": {},
     "output_type": "execute_result"
    }
   ],
   "source": [
    "preditos_neutros[preditos_neutros[\"label\"] == 0][\"text\"].sample(10).values"
   ],
   "metadata": {
    "collapsed": false,
    "pycharm": {
     "name": "#%%\n"
    }
   }
  },
  {
   "cell_type": "code",
   "execution_count": 43,
   "outputs": [],
   "source": [],
   "metadata": {
    "collapsed": false,
    "pycharm": {
     "name": "#%%\n"
    }
   }
  }
 ],
 "metadata": {
  "kernelspec": {
   "display_name": "Python 3",
   "language": "python",
   "name": "python3"
  },
  "language_info": {
   "codemirror_mode": {
    "name": "ipython",
    "version": 2
   },
   "file_extension": ".py",
   "mimetype": "text/x-python",
   "name": "python",
   "nbconvert_exporter": "python",
   "pygments_lexer": "ipython2",
   "version": "2.7.6"
  }
 },
 "nbformat": 4,
 "nbformat_minor": 0
}