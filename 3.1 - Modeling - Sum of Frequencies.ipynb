{
 "cells": [
  {
   "cell_type": "code",
   "execution_count": 1,
   "outputs": [],
   "source": [
    "import re\n",
    "from os import path\n",
    "from time import time\n",
    "\n",
    "import nltk\n",
    "import numpy as np\n",
    "import pandas as pd\n",
    "import matplotlib.pyplot as plt\n",
    "from pandarallel import pandarallel\n",
    "\n",
    "from sklearn.preprocessing import StandardScaler\n",
    "from sklearn.linear_model import LogisticRegression\n",
    "from sklearn.ensemble import HistGradientBoostingClassifier\n",
    "from sklearn.metrics import f1_score\n",
    "from sklearn.model_selection import (\n",
    "    train_test_split,\n",
    "    learning_curve,\n",
    "    cross_val_score,\n",
    "    RandomizedSearchCV,\n",
    ")"
   ],
   "metadata": {
    "collapsed": false,
    "pycharm": {
     "name": "#%%\n"
    }
   }
  },
  {
   "cell_type": "code",
   "execution_count": 2,
   "outputs": [
    {
     "name": "stdout",
     "output_type": "stream",
     "text": [
      "INFO: Pandarallel will run on 10 workers.\n",
      "INFO: Pandarallel will use Memory file system to transfer data between the main process and workers.\n"
     ]
    }
   ],
   "source": [
    "pandarallel.initialize(progress_bar=True)"
   ],
   "metadata": {
    "collapsed": false,
    "pycharm": {
     "name": "#%%\n"
    }
   }
  },
  {
   "cell_type": "markdown",
   "source": [
    "# Carregar os dados"
   ],
   "metadata": {
    "collapsed": false,
    "pycharm": {
     "name": "#%% md\n"
    }
   }
  },
  {
   "cell_type": "markdown",
   "source": [
    "## Tweets"
   ],
   "metadata": {
    "collapsed": false,
    "pycharm": {
     "name": "#%% md\n"
    }
   }
  },
  {
   "cell_type": "code",
   "execution_count": 3,
   "outputs": [
    {
     "data": {
      "text/plain": "                         id  \\\n487518  1160644444821045249   \n10715   1559742354998890498   \n731525  1161001691468247041   \n760094  1161052060500013057   \n892295  1161377066870280194   \n743526  1161021566018347010   \n870671  1161317193658900480   \n343769  1559980614526328838   \n630890  1160857033794555904   \n379343  1559994723540033541   \n\n                                                     text     score  label  \n487518                           este gajo é tão triste 😐 -0.392593     -1  \n10715   eu e eu defendendo o trio odiado do masterchef...  0.693460      1  \n731525  🗝️ | . . » outro projeto que nos emocionou mui...  0.746087      1  \n760094                            manda foto do pezinho 😍  0.677937      1  \n892295                                         parabéns ❤  0.746087      1  \n743526  vô mentir não mano tô triste pra caralho tá do... -0.093377     -1  \n870671                   agora sim um coach que preste! 😝  0.425403      1  \n343769  hahahaa melhor colocar estas línguas afiadas p...  0.395872      1  \n630890                     minha conta voltou ao normal ✨  0.352594      1  \n379343                                a la próxima será 💓  0.671815      1  ",
      "text/html": "<div>\n<style scoped>\n    .dataframe tbody tr th:only-of-type {\n        vertical-align: middle;\n    }\n\n    .dataframe tbody tr th {\n        vertical-align: top;\n    }\n\n    .dataframe thead th {\n        text-align: right;\n    }\n</style>\n<table border=\"1\" class=\"dataframe\">\n  <thead>\n    <tr style=\"text-align: right;\">\n      <th></th>\n      <th>id</th>\n      <th>text</th>\n      <th>score</th>\n      <th>label</th>\n    </tr>\n  </thead>\n  <tbody>\n    <tr>\n      <th>487518</th>\n      <td>1160644444821045249</td>\n      <td>este gajo é tão triste 😐</td>\n      <td>-0.392593</td>\n      <td>-1</td>\n    </tr>\n    <tr>\n      <th>10715</th>\n      <td>1559742354998890498</td>\n      <td>eu e eu defendendo o trio odiado do masterchef...</td>\n      <td>0.693460</td>\n      <td>1</td>\n    </tr>\n    <tr>\n      <th>731525</th>\n      <td>1161001691468247041</td>\n      <td>🗝️ | . . » outro projeto que nos emocionou mui...</td>\n      <td>0.746087</td>\n      <td>1</td>\n    </tr>\n    <tr>\n      <th>760094</th>\n      <td>1161052060500013057</td>\n      <td>manda foto do pezinho 😍</td>\n      <td>0.677937</td>\n      <td>1</td>\n    </tr>\n    <tr>\n      <th>892295</th>\n      <td>1161377066870280194</td>\n      <td>parabéns ❤</td>\n      <td>0.746087</td>\n      <td>1</td>\n    </tr>\n    <tr>\n      <th>743526</th>\n      <td>1161021566018347010</td>\n      <td>vô mentir não mano tô triste pra caralho tá do...</td>\n      <td>-0.093377</td>\n      <td>-1</td>\n    </tr>\n    <tr>\n      <th>870671</th>\n      <td>1161317193658900480</td>\n      <td>agora sim um coach que preste! 😝</td>\n      <td>0.425403</td>\n      <td>1</td>\n    </tr>\n    <tr>\n      <th>343769</th>\n      <td>1559980614526328838</td>\n      <td>hahahaa melhor colocar estas línguas afiadas p...</td>\n      <td>0.395872</td>\n      <td>1</td>\n    </tr>\n    <tr>\n      <th>630890</th>\n      <td>1160857033794555904</td>\n      <td>minha conta voltou ao normal ✨</td>\n      <td>0.352594</td>\n      <td>1</td>\n    </tr>\n    <tr>\n      <th>379343</th>\n      <td>1559994723540033541</td>\n      <td>a la próxima será 💓</td>\n      <td>0.671815</td>\n      <td>1</td>\n    </tr>\n  </tbody>\n</table>\n</div>"
     },
     "execution_count": 3,
     "metadata": {},
     "output_type": "execute_result"
    }
   ],
   "source": [
    "# Definir caminho do arquivo\n",
    "filename = \"labeled_data.parquet.gzip\"\n",
    "directory = \"data\"\n",
    "filepath = path.join(directory, filename)\n",
    "\n",
    "# Carregar dados\n",
    "data = pd.read_parquet(filepath)\n",
    "\n",
    "# Amostra dos dados\n",
    "data.sample(10)"
   ],
   "metadata": {
    "collapsed": false,
    "pycharm": {
     "name": "#%%\n"
    }
   }
  },
  {
   "cell_type": "markdown",
   "source": [
    "## Limpeza de Dados\n",
    "\n",
    "No modelo Soma das Frequencias*, precisamos saber a quantidade de determinadas palavras que aparecem em tweets positivos, negativos e neutros.\n",
    "\n",
    "Removeremos as Stopwords (palavras que não adicionam muito significado ao texto).\n",
    "\n",
    "Para melhorar o modelo, utilizaremos o Stemming, que visa remove alguns [afixos](https://pt.wikipedia.org/wiki/Afixo) das palavras. Exemplo: papel gramatical, tempo, morfologia derivacional, deixando apenas o radical da palavra.\n",
    "Assim, contaremos apenas os radicais das palavras em vez de suas derivações.\n",
    "\n",
    "Referências:\n",
    "\n",
    "- [StopWords](https://en.wikipedia.org/wiki/Stop_word)\n",
    "- [Stemming](https://en.wikipedia.org/wiki/Stemming)"
   ],
   "metadata": {
    "collapsed": false,
    "pycharm": {
     "name": "#%% md\n"
    }
   }
  },
  {
   "cell_type": "code",
   "execution_count": 4,
   "outputs": [],
   "source": [
    "def preprocess_data(string, stopwords, stemmer=None):\n",
    "\n",
    "    # Remover os Emojis e Pontuações\n",
    "    string_tratada = re.sub(\"\\W\", \" \", string)\n",
    "\n",
    "    # Remover stopwords\n",
    "    string_tratada = \" \".join(\n",
    "        [\n",
    "            substring\n",
    "            for substring in string_tratada.split()\n",
    "            if substring not in stopwords\n",
    "        ]\n",
    "    )\n",
    "\n",
    "    # Stemming\n",
    "    if stemmer:\n",
    "        string_tratada = \" \".join(\n",
    "            [stemmer.stem(substring) for substring in string_tratada.split()]\n",
    "        )\n",
    "\n",
    "    # Remover espaços extras\n",
    "    string_tratada = re.sub(\" +\", \" \", string_tratada)\n",
    "    string_tratada = re.sub(\"(^ )\", \"\", string_tratada)\n",
    "    string_tratada = re.sub(\"( $)\", \"\", string_tratada)\n",
    "\n",
    "    return string_tratada"
   ],
   "metadata": {
    "collapsed": false,
    "pycharm": {
     "name": "#%%\n"
    }
   }
  },
  {
   "cell_type": "code",
   "execution_count": 5,
   "outputs": [],
   "source": [
    "# Obter as stopwords\n",
    "portuguese_stopwords = nltk.corpus.stopwords.words(\"portuguese\")\n",
    "\n",
    "# Inicializar o Stemmer\n",
    "rlp_stemmer = nltk.stem.RSLPStemmer()"
   ],
   "metadata": {
    "collapsed": false,
    "pycharm": {
     "name": "#%%\n"
    }
   }
  },
  {
   "cell_type": "code",
   "execution_count": 6,
   "outputs": [
    {
     "data": {
      "text/plain": "40        está\n157     seriam\n0            a\n7      aqueles\n174      tenho\ndtype: object"
     },
     "execution_count": 6,
     "metadata": {},
     "output_type": "execute_result"
    }
   ],
   "source": [
    "# Mostra das stopwords\n",
    "pd.Series(portuguese_stopwords).sample(5)"
   ],
   "metadata": {
    "collapsed": false,
    "pycharm": {
     "name": "#%%\n"
    }
   }
  },
  {
   "cell_type": "markdown",
   "source": [
    "### Demonstração do Tratamento"
   ],
   "metadata": {
    "collapsed": false,
    "pycharm": {
     "name": "#%% md\n"
    }
   }
  },
  {
   "cell_type": "code",
   "execution_count": 7,
   "outputs": [
    {
     "name": "stdout",
     "output_type": "stream",
     "text": [
      "Tweet Original: meu pé tá engessado mesmo assim to sentindo uma dor absurda 😥\n",
      "\n",
      "Tweet Limpo   : pé tá engessado assim to sentindo dor absurda\n",
      "\n",
      "Tweet Stemed  : pé tá engess assim to sent dor absurd\n"
     ]
    }
   ],
   "source": [
    "tweet = data[\"text\"].sample(1).values[0]\n",
    "tweet_limpo = preprocess_data(tweet, portuguese_stopwords)\n",
    "tweet_limpo_stemmed = preprocess_data(tweet, portuguese_stopwords, rlp_stemmer)\n",
    "\n",
    "print(\"Tweet Original: {}\".format(tweet))\n",
    "print(\"\")\n",
    "print(\"Tweet Limpo   : {}\".format(tweet_limpo))\n",
    "print(\"\")\n",
    "print(\"Tweet Stemed  : {}\".format(tweet_limpo_stemmed))"
   ],
   "metadata": {
    "collapsed": false,
    "pycharm": {
     "name": "#%%\n"
    }
   }
  },
  {
   "cell_type": "markdown",
   "source": [
    "## Aplicação da Limpeza"
   ],
   "metadata": {
    "collapsed": false,
    "pycharm": {
     "name": "#%% md\n"
    }
   }
  },
  {
   "cell_type": "code",
   "execution_count": 8,
   "outputs": [
    {
     "data": {
      "text/plain": "VBox(children=(HBox(children=(IntProgress(value=0, description='0.00%', max=91196), Label(value='0 / 91196')))…",
      "application/vnd.jupyter.widget-view+json": {
       "version_major": 2,
       "version_minor": 0,
       "model_id": "942aada433314eb4aa8740fa74176f2d"
      }
     },
     "metadata": {},
     "output_type": "display_data"
    }
   ],
   "source": [
    "data[\"cleaned\"] = data[\"text\"].parallel_apply(\n",
    "    lambda x: preprocess_data(x, portuguese_stopwords, rlp_stemmer)\n",
    ")"
   ],
   "metadata": {
    "collapsed": false,
    "pycharm": {
     "name": "#%%\n"
    }
   }
  },
  {
   "cell_type": "code",
   "execution_count": 9,
   "outputs": [
    {
     "data": {
      "text/plain": "                         id  \\\n326627  1559968020507893760   \n850395  1161269537087610881   \n191574  1559894693206532097   \n691911  1160942340003041282   \n137099  1559870123007262722   \n\n                                                     text     score  label  \\\n326627  seus pais n assinavam os termos tudo pra vc???...  0.411765      1   \n850395                                             eita 😅  0.179654      0   \n191574                                       boa tarde 😘😘  1.403509      1   \n691911                                    claro que sim 👍  0.522114      1   \n137099  vou atrás dessa divisão do trabalho e o livre ...  0.260664      1   \n\n                                                  cleaned  \n326627  pal n assin term tud pra vc hhaahhah pq uma pá...  \n850395                                                eit  \n191574                                           boa tard  \n691911                                           clar sim  \n137099  vou atrás dess divis trabalh livr merc caus pe...  ",
      "text/html": "<div>\n<style scoped>\n    .dataframe tbody tr th:only-of-type {\n        vertical-align: middle;\n    }\n\n    .dataframe tbody tr th {\n        vertical-align: top;\n    }\n\n    .dataframe thead th {\n        text-align: right;\n    }\n</style>\n<table border=\"1\" class=\"dataframe\">\n  <thead>\n    <tr style=\"text-align: right;\">\n      <th></th>\n      <th>id</th>\n      <th>text</th>\n      <th>score</th>\n      <th>label</th>\n      <th>cleaned</th>\n    </tr>\n  </thead>\n  <tbody>\n    <tr>\n      <th>326627</th>\n      <td>1559968020507893760</td>\n      <td>seus pais n assinavam os termos tudo pra vc???...</td>\n      <td>0.411765</td>\n      <td>1</td>\n      <td>pal n assin term tud pra vc hhaahhah pq uma pá...</td>\n    </tr>\n    <tr>\n      <th>850395</th>\n      <td>1161269537087610881</td>\n      <td>eita 😅</td>\n      <td>0.179654</td>\n      <td>0</td>\n      <td>eit</td>\n    </tr>\n    <tr>\n      <th>191574</th>\n      <td>1559894693206532097</td>\n      <td>boa tarde 😘😘</td>\n      <td>1.403509</td>\n      <td>1</td>\n      <td>boa tard</td>\n    </tr>\n    <tr>\n      <th>691911</th>\n      <td>1160942340003041282</td>\n      <td>claro que sim 👍</td>\n      <td>0.522114</td>\n      <td>1</td>\n      <td>clar sim</td>\n    </tr>\n    <tr>\n      <th>137099</th>\n      <td>1559870123007262722</td>\n      <td>vou atrás dessa divisão do trabalho e o livre ...</td>\n      <td>0.260664</td>\n      <td>1</td>\n      <td>vou atrás dess divis trabalh livr merc caus pe...</td>\n    </tr>\n  </tbody>\n</table>\n</div>"
     },
     "execution_count": 9,
     "metadata": {},
     "output_type": "execute_result"
    }
   ],
   "source": [
    "data.sample(5)"
   ],
   "metadata": {
    "collapsed": false,
    "pycharm": {
     "name": "#%%\n"
    }
   }
  },
  {
   "cell_type": "markdown",
   "source": [
    "# Engenharia de Atributos: Soma das Frequencias\n",
    "\n",
    "Este modelo é extremamente simples.\n",
    "\n",
    "Vamos transformar o texto numa representação vetorial utilizando o somatório da frequencia que cada palavra aparece nos tweets por rótulo."
   ],
   "metadata": {
    "collapsed": false,
    "pycharm": {
     "name": "#%% md\n"
    }
   }
  },
  {
   "cell_type": "markdown",
   "source": [
    "## Gerar dicionário de frequencias\n",
    "\n",
    "Basicamente criaremos três dicionários, um positivo, um negativo e um neutro.\n",
    "\n",
    "Cada dicionário terá a soma das vezes que a palavra aparece em seu respectivo rótulo (positivo, negativo ou neutro) em todo o dataset."
   ],
   "metadata": {
    "collapsed": false,
    "pycharm": {
     "name": "#%% md\n"
    }
   }
  },
  {
   "cell_type": "markdown",
   "source": [
    "### Separar conjuntos de treinamento e teste\n",
    "\n",
    "Aqui faremos a separação de conjunto de treino e teste.\n",
    "\n",
    "O dicionário será criado utilizando o conjunto de treino, e posteriormente verificado sua eficácia no conjunto de teste."
   ],
   "metadata": {
    "collapsed": false,
    "pycharm": {
     "name": "#%% md\n"
    }
   }
  },
  {
   "cell_type": "code",
   "execution_count": 10,
   "outputs": [],
   "source": [
    "X_train, X_test = train_test_split(data, random_state=42)"
   ],
   "metadata": {
    "collapsed": false,
    "pycharm": {
     "name": "#%%\n"
    }
   }
  },
  {
   "cell_type": "code",
   "execution_count": 11,
   "outputs": [],
   "source": [
    "# Aqui vamos criar nosso dicionário\n",
    "def gerador_dicionario_tweet(tweet, dicionario):\n",
    "    words = tweet.split()\n",
    "\n",
    "    for word in words:\n",
    "        dicionario[word] = dicionario.get(word, 0) + 1"
   ],
   "metadata": {
    "collapsed": false,
    "pycharm": {
     "name": "#%%\n"
    }
   }
  },
  {
   "cell_type": "code",
   "execution_count": 12,
   "outputs": [
    {
     "name": "stdout",
     "output_type": "stream",
     "text": [
      "Chaves: 58366\n"
     ]
    }
   ],
   "source": [
    "dicionario_positivo = {}\n",
    "\n",
    "X_train[X_train[\"label\"] == 1][\"cleaned\"].apply(\n",
    "    lambda x: gerador_dicionario_tweet(x, dicionario_positivo)\n",
    ")\n",
    "\n",
    "print(\"Chaves: {}\".format(len(dicionario_positivo.keys())))"
   ],
   "metadata": {
    "collapsed": false,
    "pycharm": {
     "name": "#%%\n"
    }
   }
  },
  {
   "cell_type": "code",
   "execution_count": 13,
   "outputs": [
    {
     "name": "stdout",
     "output_type": "stream",
     "text": [
      "Chaves: 27524\n"
     ]
    }
   ],
   "source": [
    "dicionario_neutro = {}\n",
    "\n",
    "X_train[X_train[\"label\"] == 0][\"cleaned\"].apply(\n",
    "    lambda x: gerador_dicionario_tweet(x, dicionario_neutro)\n",
    ")\n",
    "\n",
    "print(\"Chaves: {}\".format(len(dicionario_neutro.keys())))"
   ],
   "metadata": {
    "collapsed": false,
    "pycharm": {
     "name": "#%%\n"
    }
   }
  },
  {
   "cell_type": "code",
   "execution_count": 14,
   "outputs": [
    {
     "name": "stdout",
     "output_type": "stream",
     "text": [
      "Chaves: 32001\n"
     ]
    }
   ],
   "source": [
    "dicionario_negativo = {}\n",
    "\n",
    "X_train[X_train[\"label\"] == -1][\"cleaned\"].apply(\n",
    "    lambda x: gerador_dicionario_tweet(x, dicionario_negativo)\n",
    ")\n",
    "\n",
    "print(\"Chaves: {}\".format(len(dicionario_negativo.keys())))"
   ],
   "metadata": {
    "collapsed": false,
    "pycharm": {
     "name": "#%%\n"
    }
   }
  },
  {
   "cell_type": "markdown",
   "source": [
    "### Visualização dos Dicionários"
   ],
   "metadata": {
    "collapsed": false,
    "pycharm": {
     "name": "#%% md\n"
    }
   }
  },
  {
   "cell_type": "code",
   "execution_count": 15,
   "outputs": [],
   "source": [
    "dicionarios = pd.DataFrame(\n",
    "    [\n",
    "        pd.Series(dicionario_positivo, name=\"positivo\"),\n",
    "        pd.Series(dicionario_neutro, name=\"neutro\"),\n",
    "        pd.Series(dicionario_negativo, name=\"negativo\"),\n",
    "    ]\n",
    ").T"
   ],
   "metadata": {
    "collapsed": false,
    "pycharm": {
     "name": "#%%\n"
    }
   }
  },
  {
   "cell_type": "code",
   "execution_count": 16,
   "outputs": [
    {
     "data": {
      "text/plain": "              positivo  neutro  negativo\npreciosa           2.0     NaN       NaN\nhahahaahahah       4.0     1.0       1.0\nzlxmdzkdk          1.0     NaN       NaN\nlynch              1.0     NaN       1.0\naneemm             1.0     NaN       NaN\ntiw                1.0     NaN       1.0\nmartinaa           1.0     NaN       NaN\nkatherin           2.0     NaN       NaN\nvrauuu             4.0     NaN       NaN\nstablishmant       NaN     1.0       NaN",
      "text/html": "<div>\n<style scoped>\n    .dataframe tbody tr th:only-of-type {\n        vertical-align: middle;\n    }\n\n    .dataframe tbody tr th {\n        vertical-align: top;\n    }\n\n    .dataframe thead th {\n        text-align: right;\n    }\n</style>\n<table border=\"1\" class=\"dataframe\">\n  <thead>\n    <tr style=\"text-align: right;\">\n      <th></th>\n      <th>positivo</th>\n      <th>neutro</th>\n      <th>negativo</th>\n    </tr>\n  </thead>\n  <tbody>\n    <tr>\n      <th>preciosa</th>\n      <td>2.0</td>\n      <td>NaN</td>\n      <td>NaN</td>\n    </tr>\n    <tr>\n      <th>hahahaahahah</th>\n      <td>4.0</td>\n      <td>1.0</td>\n      <td>1.0</td>\n    </tr>\n    <tr>\n      <th>zlxmdzkdk</th>\n      <td>1.0</td>\n      <td>NaN</td>\n      <td>NaN</td>\n    </tr>\n    <tr>\n      <th>lynch</th>\n      <td>1.0</td>\n      <td>NaN</td>\n      <td>1.0</td>\n    </tr>\n    <tr>\n      <th>aneemm</th>\n      <td>1.0</td>\n      <td>NaN</td>\n      <td>NaN</td>\n    </tr>\n    <tr>\n      <th>tiw</th>\n      <td>1.0</td>\n      <td>NaN</td>\n      <td>1.0</td>\n    </tr>\n    <tr>\n      <th>martinaa</th>\n      <td>1.0</td>\n      <td>NaN</td>\n      <td>NaN</td>\n    </tr>\n    <tr>\n      <th>katherin</th>\n      <td>2.0</td>\n      <td>NaN</td>\n      <td>NaN</td>\n    </tr>\n    <tr>\n      <th>vrauuu</th>\n      <td>4.0</td>\n      <td>NaN</td>\n      <td>NaN</td>\n    </tr>\n    <tr>\n      <th>stablishmant</th>\n      <td>NaN</td>\n      <td>1.0</td>\n      <td>NaN</td>\n    </tr>\n  </tbody>\n</table>\n</div>"
     },
     "execution_count": 16,
     "metadata": {},
     "output_type": "execute_result"
    }
   ],
   "source": [
    "dicionarios.sample(10)"
   ],
   "metadata": {
    "collapsed": false,
    "pycharm": {
     "name": "#%%\n"
    }
   }
  },
  {
   "cell_type": "markdown",
   "source": [
    "## Gerar feature vector\n",
    "\n",
    "Aqui nós transformaremos os textos em um vetor para podermos utilizá-los em um aprendizado supervisionado.\n",
    "\n",
    "Nosso vetor será representado em três dimensões, uma para positivo, uma para negativo e outro para neutro.\n",
    "\n",
    "O valor de cada dimensão é definido como o somatório das frequencias de cada palavra do tweet no dicionário da dimensão (positivo, negativo, neutro)"
   ],
   "metadata": {
    "collapsed": false,
    "pycharm": {
     "name": "#%% md\n"
    }
   }
  },
  {
   "cell_type": "code",
   "execution_count": 17,
   "outputs": [],
   "source": [
    "def gerar_feature_vector(\n",
    "    string, dicionario_positivo, dicionario_neutro, dicionario_negativo\n",
    "):\n",
    "    tokens = string.split()\n",
    "\n",
    "    # Calcula o valor de cada dimensão do vetor\n",
    "    feature_positiva = sum([dicionario_positivo.get(word, 0) for word in tokens])\n",
    "    feature_neutra = sum([dicionario_neutro.get(word, 0) for word in tokens])\n",
    "    feature_negativa = sum([dicionario_negativo.get(word, 0) for word in tokens])\n",
    "\n",
    "    return pd.Series(\n",
    "        [feature_positiva, feature_neutra, feature_negativa],\n",
    "        index=[\"positiva\", \"neutra\", \"negativa\"],\n",
    "    )"
   ],
   "metadata": {
    "collapsed": false,
    "pycharm": {
     "name": "#%%\n"
    }
   }
  },
  {
   "cell_type": "markdown",
   "source": [
    "### Demonstração da Geração do Feature Vector"
   ],
   "metadata": {
    "collapsed": false,
    "pycharm": {
     "name": "#%% md\n"
    }
   }
  },
  {
   "cell_type": "code",
   "execution_count": 18,
   "outputs": [
    {
     "name": "stdout",
     "output_type": "stream",
     "text": [
      "Tweet: gat faz n\n"
     ]
    },
    {
     "data": {
      "text/plain": "positiva    21821\nneutra       6372\nnegativa    14508\ndtype: int64"
     },
     "execution_count": 18,
     "metadata": {},
     "output_type": "execute_result"
    }
   ],
   "source": [
    "tweet = X_train[\"cleaned\"].sample(1).values[0]\n",
    "feature_vector = gerar_feature_vector(\n",
    "    tweet, dicionario_positivo, dicionario_neutro, dicionario_negativo\n",
    ")\n",
    "\n",
    "print(\"Tweet: {}\".format(tweet))\n",
    "feature_vector"
   ],
   "metadata": {
    "collapsed": false,
    "pycharm": {
     "name": "#%%\n"
    }
   }
  },
  {
   "cell_type": "markdown",
   "source": [
    "### Aplicar a Geração do Feature Vector em todo o Dataset de Treino"
   ],
   "metadata": {
    "collapsed": false,
    "pycharm": {
     "name": "#%% md\n"
    }
   }
  },
  {
   "cell_type": "code",
   "execution_count": 19,
   "outputs": [
    {
     "data": {
      "text/plain": "VBox(children=(HBox(children=(IntProgress(value=0, description='0.00%', max=68397), Label(value='0 / 68397')))…",
      "application/vnd.jupyter.widget-view+json": {
       "version_major": 2,
       "version_minor": 0,
       "model_id": "dbfc1e92066243b6b7ce32812d546bd5"
      }
     },
     "metadata": {},
     "output_type": "display_data"
    }
   ],
   "source": [
    "# Gerar Features Train\n",
    "features_train = X_train[\"cleaned\"].parallel_apply(\n",
    "    lambda x: gerar_feature_vector(\n",
    "        x, dicionario_positivo, dicionario_neutro, dicionario_negativo\n",
    "    )\n",
    ")\n",
    "features_train[\"label\"] = X_train[\"label\"]"
   ],
   "metadata": {
    "collapsed": false,
    "pycharm": {
     "name": "#%%\n"
    }
   }
  },
  {
   "cell_type": "code",
   "execution_count": 20,
   "outputs": [
    {
     "data": {
      "text/plain": "        positiva  neutra  negativa  label\n759905     23770    6801     17824     -1\n413611      2988    1050      1112      1\n403591     56066    5161     12863      1\n156388     27119    8075     16004     -1\n35787      10190    2297      4222      1",
      "text/html": "<div>\n<style scoped>\n    .dataframe tbody tr th:only-of-type {\n        vertical-align: middle;\n    }\n\n    .dataframe tbody tr th {\n        vertical-align: top;\n    }\n\n    .dataframe thead th {\n        text-align: right;\n    }\n</style>\n<table border=\"1\" class=\"dataframe\">\n  <thead>\n    <tr style=\"text-align: right;\">\n      <th></th>\n      <th>positiva</th>\n      <th>neutra</th>\n      <th>negativa</th>\n      <th>label</th>\n    </tr>\n  </thead>\n  <tbody>\n    <tr>\n      <th>759905</th>\n      <td>23770</td>\n      <td>6801</td>\n      <td>17824</td>\n      <td>-1</td>\n    </tr>\n    <tr>\n      <th>413611</th>\n      <td>2988</td>\n      <td>1050</td>\n      <td>1112</td>\n      <td>1</td>\n    </tr>\n    <tr>\n      <th>403591</th>\n      <td>56066</td>\n      <td>5161</td>\n      <td>12863</td>\n      <td>1</td>\n    </tr>\n    <tr>\n      <th>156388</th>\n      <td>27119</td>\n      <td>8075</td>\n      <td>16004</td>\n      <td>-1</td>\n    </tr>\n    <tr>\n      <th>35787</th>\n      <td>10190</td>\n      <td>2297</td>\n      <td>4222</td>\n      <td>1</td>\n    </tr>\n  </tbody>\n</table>\n</div>"
     },
     "execution_count": 20,
     "metadata": {},
     "output_type": "execute_result"
    }
   ],
   "source": [
    "features_train.sample(5)"
   ],
   "metadata": {
    "collapsed": false,
    "pycharm": {
     "name": "#%%\n"
    }
   }
  },
  {
   "cell_type": "code",
   "execution_count": 21,
   "outputs": [
    {
     "data": {
      "text/plain": "        positiva  neutra  negativa\n116219      8594    1930      2220\n445370     10449    2570      3747\n582407      9197    2692      6177\n111293     23503    8714     13824\n112134     37848    9098     26805",
      "text/html": "<div>\n<style scoped>\n    .dataframe tbody tr th:only-of-type {\n        vertical-align: middle;\n    }\n\n    .dataframe tbody tr th {\n        vertical-align: top;\n    }\n\n    .dataframe thead th {\n        text-align: right;\n    }\n</style>\n<table border=\"1\" class=\"dataframe\">\n  <thead>\n    <tr style=\"text-align: right;\">\n      <th></th>\n      <th>positiva</th>\n      <th>neutra</th>\n      <th>negativa</th>\n    </tr>\n  </thead>\n  <tbody>\n    <tr>\n      <th>116219</th>\n      <td>8594</td>\n      <td>1930</td>\n      <td>2220</td>\n    </tr>\n    <tr>\n      <th>445370</th>\n      <td>10449</td>\n      <td>2570</td>\n      <td>3747</td>\n    </tr>\n    <tr>\n      <th>582407</th>\n      <td>9197</td>\n      <td>2692</td>\n      <td>6177</td>\n    </tr>\n    <tr>\n      <th>111293</th>\n      <td>23503</td>\n      <td>8714</td>\n      <td>13824</td>\n    </tr>\n    <tr>\n      <th>112134</th>\n      <td>37848</td>\n      <td>9098</td>\n      <td>26805</td>\n    </tr>\n  </tbody>\n</table>\n</div>"
     },
     "execution_count": 21,
     "metadata": {},
     "output_type": "execute_result"
    }
   ],
   "source": [
    "X_features_train = features_train[[\"positiva\", \"neutra\", \"negativa\"]]\n",
    "X_features_train.sample(5)"
   ],
   "metadata": {
    "collapsed": false,
    "pycharm": {
     "name": "#%%\n"
    }
   }
  },
  {
   "cell_type": "code",
   "execution_count": 22,
   "outputs": [
    {
     "data": {
      "text/plain": "221606   -1\n336734    1\n801552   -1\n508335   -1\n852223   -1\nName: label, dtype: int64"
     },
     "execution_count": 22,
     "metadata": {},
     "output_type": "execute_result"
    }
   ],
   "source": [
    "y_features_train = features_train[\"label\"]\n",
    "y_features_train.sample(5)"
   ],
   "metadata": {
    "collapsed": false,
    "pycharm": {
     "name": "#%%\n"
    }
   }
  },
  {
   "cell_type": "markdown",
   "source": [
    "### Aplicar a Geração do Feature Vector em todo o Dataset de Teste"
   ],
   "metadata": {
    "collapsed": false,
    "pycharm": {
     "name": "#%% md\n"
    }
   }
  },
  {
   "cell_type": "code",
   "execution_count": 23,
   "outputs": [
    {
     "data": {
      "text/plain": "VBox(children=(HBox(children=(IntProgress(value=0, description='0.00%', max=22799), Label(value='0 / 22799')))…",
      "application/vnd.jupyter.widget-view+json": {
       "version_major": 2,
       "version_minor": 0,
       "model_id": "b02388701c744c17a2600c933b724dc6"
      }
     },
     "metadata": {},
     "output_type": "display_data"
    }
   ],
   "source": [
    "# Gerar Features Teste\n",
    "features_test = X_test[\"cleaned\"].parallel_apply(\n",
    "    lambda x: gerar_feature_vector(\n",
    "        x, dicionario_positivo, dicionario_neutro, dicionario_negativo\n",
    "    )\n",
    ")\n",
    "features_test[\"label\"] = X_test[\"label\"]"
   ],
   "metadata": {
    "collapsed": false,
    "pycharm": {
     "name": "#%%\n"
    }
   }
  },
  {
   "cell_type": "code",
   "execution_count": 24,
   "outputs": [
    {
     "data": {
      "text/plain": "        positiva  neutra  negativa  label\n394049     11334    3362      6550     -1\n326662     19085    3746      7968      1\n315738     21788     938      2834      1\n636616     72165   20977     42063      0\n317056     74339   18650     37656      1",
      "text/html": "<div>\n<style scoped>\n    .dataframe tbody tr th:only-of-type {\n        vertical-align: middle;\n    }\n\n    .dataframe tbody tr th {\n        vertical-align: top;\n    }\n\n    .dataframe thead th {\n        text-align: right;\n    }\n</style>\n<table border=\"1\" class=\"dataframe\">\n  <thead>\n    <tr style=\"text-align: right;\">\n      <th></th>\n      <th>positiva</th>\n      <th>neutra</th>\n      <th>negativa</th>\n      <th>label</th>\n    </tr>\n  </thead>\n  <tbody>\n    <tr>\n      <th>394049</th>\n      <td>11334</td>\n      <td>3362</td>\n      <td>6550</td>\n      <td>-1</td>\n    </tr>\n    <tr>\n      <th>326662</th>\n      <td>19085</td>\n      <td>3746</td>\n      <td>7968</td>\n      <td>1</td>\n    </tr>\n    <tr>\n      <th>315738</th>\n      <td>21788</td>\n      <td>938</td>\n      <td>2834</td>\n      <td>1</td>\n    </tr>\n    <tr>\n      <th>636616</th>\n      <td>72165</td>\n      <td>20977</td>\n      <td>42063</td>\n      <td>0</td>\n    </tr>\n    <tr>\n      <th>317056</th>\n      <td>74339</td>\n      <td>18650</td>\n      <td>37656</td>\n      <td>1</td>\n    </tr>\n  </tbody>\n</table>\n</div>"
     },
     "execution_count": 24,
     "metadata": {},
     "output_type": "execute_result"
    }
   ],
   "source": [
    "features_test.sample(5)"
   ],
   "metadata": {
    "collapsed": false,
    "pycharm": {
     "name": "#%%\n"
    }
   }
  },
  {
   "cell_type": "code",
   "execution_count": 25,
   "outputs": [
    {
     "data": {
      "text/plain": "        positiva  neutra  negativa\n330435     92608   24973     47710\n677420     12377    3494     10764\n444152     29531    2803      7019\n695979      3370    1208      2722\n135809     23309     956      2936",
      "text/html": "<div>\n<style scoped>\n    .dataframe tbody tr th:only-of-type {\n        vertical-align: middle;\n    }\n\n    .dataframe tbody tr th {\n        vertical-align: top;\n    }\n\n    .dataframe thead th {\n        text-align: right;\n    }\n</style>\n<table border=\"1\" class=\"dataframe\">\n  <thead>\n    <tr style=\"text-align: right;\">\n      <th></th>\n      <th>positiva</th>\n      <th>neutra</th>\n      <th>negativa</th>\n    </tr>\n  </thead>\n  <tbody>\n    <tr>\n      <th>330435</th>\n      <td>92608</td>\n      <td>24973</td>\n      <td>47710</td>\n    </tr>\n    <tr>\n      <th>677420</th>\n      <td>12377</td>\n      <td>3494</td>\n      <td>10764</td>\n    </tr>\n    <tr>\n      <th>444152</th>\n      <td>29531</td>\n      <td>2803</td>\n      <td>7019</td>\n    </tr>\n    <tr>\n      <th>695979</th>\n      <td>3370</td>\n      <td>1208</td>\n      <td>2722</td>\n    </tr>\n    <tr>\n      <th>135809</th>\n      <td>23309</td>\n      <td>956</td>\n      <td>2936</td>\n    </tr>\n  </tbody>\n</table>\n</div>"
     },
     "execution_count": 25,
     "metadata": {},
     "output_type": "execute_result"
    }
   ],
   "source": [
    "X_features_test = features_test[[\"positiva\", \"neutra\", \"negativa\"]]\n",
    "X_features_test.sample(5)"
   ],
   "metadata": {
    "collapsed": false,
    "pycharm": {
     "name": "#%%\n"
    }
   }
  },
  {
   "cell_type": "code",
   "execution_count": 26,
   "outputs": [
    {
     "data": {
      "text/plain": "47295    -1\n760211    1\n107695    1\n379001    0\n636265    1\nName: label, dtype: int64"
     },
     "execution_count": 26,
     "metadata": {},
     "output_type": "execute_result"
    }
   ],
   "source": [
    "y_features_test = features_test[\"label\"]\n",
    "y_features_test.sample(5)"
   ],
   "metadata": {
    "collapsed": false,
    "pycharm": {
     "name": "#%%\n"
    }
   }
  },
  {
   "cell_type": "markdown",
   "source": [
    "## Feature Scaling\n",
    "\n",
    "Aqui vamos normalizar os dados utilizando o Standard Scaler\n",
    "\n",
    "\n",
    "Referências:\n",
    " - [https://en.wikipedia.org/wiki/Normalization_(statistics)](https://en.wikipedia.org/wiki/Normalization_(statistics))\n",
    " - [https://en.wikipedia.org/wiki/Standard_score](https://en.wikipedia.org/wiki/Standard_score)\n",
    " - [https://scikit-learn.org/stable/modules/preprocessing.html#standardization-or-mean-removal-and-variance-scaling](https://scikit-learn.org/stable/modules/preprocessing.html#standardization-or-mean-removal-and-variance-scaling)"
   ],
   "metadata": {
    "collapsed": false,
    "pycharm": {
     "name": "#%% md\n"
    }
   }
  },
  {
   "cell_type": "code",
   "execution_count": 27,
   "outputs": [
    {
     "data": {
      "text/plain": "StandardScaler()",
      "text/html": "<style>#sk-container-id-1 {color: black;background-color: white;}#sk-container-id-1 pre{padding: 0;}#sk-container-id-1 div.sk-toggleable {background-color: white;}#sk-container-id-1 label.sk-toggleable__label {cursor: pointer;display: block;width: 100%;margin-bottom: 0;padding: 0.3em;box-sizing: border-box;text-align: center;}#sk-container-id-1 label.sk-toggleable__label-arrow:before {content: \"▸\";float: left;margin-right: 0.25em;color: #696969;}#sk-container-id-1 label.sk-toggleable__label-arrow:hover:before {color: black;}#sk-container-id-1 div.sk-estimator:hover label.sk-toggleable__label-arrow:before {color: black;}#sk-container-id-1 div.sk-toggleable__content {max-height: 0;max-width: 0;overflow: hidden;text-align: left;background-color: #f0f8ff;}#sk-container-id-1 div.sk-toggleable__content pre {margin: 0.2em;color: black;border-radius: 0.25em;background-color: #f0f8ff;}#sk-container-id-1 input.sk-toggleable__control:checked~div.sk-toggleable__content {max-height: 200px;max-width: 100%;overflow: auto;}#sk-container-id-1 input.sk-toggleable__control:checked~label.sk-toggleable__label-arrow:before {content: \"▾\";}#sk-container-id-1 div.sk-estimator input.sk-toggleable__control:checked~label.sk-toggleable__label {background-color: #d4ebff;}#sk-container-id-1 div.sk-label input.sk-toggleable__control:checked~label.sk-toggleable__label {background-color: #d4ebff;}#sk-container-id-1 input.sk-hidden--visually {border: 0;clip: rect(1px 1px 1px 1px);clip: rect(1px, 1px, 1px, 1px);height: 1px;margin: -1px;overflow: hidden;padding: 0;position: absolute;width: 1px;}#sk-container-id-1 div.sk-estimator {font-family: monospace;background-color: #f0f8ff;border: 1px dotted black;border-radius: 0.25em;box-sizing: border-box;margin-bottom: 0.5em;}#sk-container-id-1 div.sk-estimator:hover {background-color: #d4ebff;}#sk-container-id-1 div.sk-parallel-item::after {content: \"\";width: 100%;border-bottom: 1px solid gray;flex-grow: 1;}#sk-container-id-1 div.sk-label:hover label.sk-toggleable__label {background-color: #d4ebff;}#sk-container-id-1 div.sk-serial::before {content: \"\";position: absolute;border-left: 1px solid gray;box-sizing: border-box;top: 0;bottom: 0;left: 50%;z-index: 0;}#sk-container-id-1 div.sk-serial {display: flex;flex-direction: column;align-items: center;background-color: white;padding-right: 0.2em;padding-left: 0.2em;position: relative;}#sk-container-id-1 div.sk-item {position: relative;z-index: 1;}#sk-container-id-1 div.sk-parallel {display: flex;align-items: stretch;justify-content: center;background-color: white;position: relative;}#sk-container-id-1 div.sk-item::before, #sk-container-id-1 div.sk-parallel-item::before {content: \"\";position: absolute;border-left: 1px solid gray;box-sizing: border-box;top: 0;bottom: 0;left: 50%;z-index: -1;}#sk-container-id-1 div.sk-parallel-item {display: flex;flex-direction: column;z-index: 1;position: relative;background-color: white;}#sk-container-id-1 div.sk-parallel-item:first-child::after {align-self: flex-end;width: 50%;}#sk-container-id-1 div.sk-parallel-item:last-child::after {align-self: flex-start;width: 50%;}#sk-container-id-1 div.sk-parallel-item:only-child::after {width: 0;}#sk-container-id-1 div.sk-dashed-wrapped {border: 1px dashed gray;margin: 0 0.4em 0.5em 0.4em;box-sizing: border-box;padding-bottom: 0.4em;background-color: white;}#sk-container-id-1 div.sk-label label {font-family: monospace;font-weight: bold;display: inline-block;line-height: 1.2em;}#sk-container-id-1 div.sk-label-container {text-align: center;}#sk-container-id-1 div.sk-container {/* jupyter's `normalize.less` sets `[hidden] { display: none; }` but bootstrap.min.css set `[hidden] { display: none !important; }` so we also need the `!important` here to be able to override the default hidden behavior on the sphinx rendered scikit-learn.org. See: https://github.com/scikit-learn/scikit-learn/issues/21755 */display: inline-block !important;position: relative;}#sk-container-id-1 div.sk-text-repr-fallback {display: none;}</style><div id=\"sk-container-id-1\" class=\"sk-top-container\"><div class=\"sk-text-repr-fallback\"><pre>StandardScaler()</pre><b>In a Jupyter environment, please rerun this cell to show the HTML representation or trust the notebook. <br />On GitHub, the HTML representation is unable to render, please try loading this page with nbviewer.org.</b></div><div class=\"sk-container\" hidden><div class=\"sk-item\"><div class=\"sk-estimator sk-toggleable\"><input class=\"sk-toggleable__control sk-hidden--visually\" id=\"sk-estimator-id-1\" type=\"checkbox\" checked><label for=\"sk-estimator-id-1\" class=\"sk-toggleable__label sk-toggleable__label-arrow\">StandardScaler</label><div class=\"sk-toggleable__content\"><pre>StandardScaler()</pre></div></div></div></div></div>"
     },
     "execution_count": 27,
     "metadata": {},
     "output_type": "execute_result"
    }
   ],
   "source": [
    "# Inicializar o Scaler\n",
    "scaler = StandardScaler()\n",
    "\n",
    "# Treinar o Scaler\n",
    "scaler.fit(X_features_train)"
   ],
   "metadata": {
    "collapsed": false,
    "pycharm": {
     "name": "#%%\n"
    }
   }
  },
  {
   "cell_type": "code",
   "execution_count": 28,
   "outputs": [
    {
     "data": {
      "text/plain": "        positiva    neutra  negativa\n579184  3.476537  3.290389  2.974275\n153056 -0.845037 -0.905079 -0.902274\n181400 -0.886442 -0.832999 -0.837732\n622498 -0.046655 -0.637722 -0.523748\n222082  0.696655  0.904981  1.260151",
      "text/html": "<div>\n<style scoped>\n    .dataframe tbody tr th:only-of-type {\n        vertical-align: middle;\n    }\n\n    .dataframe tbody tr th {\n        vertical-align: top;\n    }\n\n    .dataframe thead th {\n        text-align: right;\n    }\n</style>\n<table border=\"1\" class=\"dataframe\">\n  <thead>\n    <tr style=\"text-align: right;\">\n      <th></th>\n      <th>positiva</th>\n      <th>neutra</th>\n      <th>negativa</th>\n    </tr>\n  </thead>\n  <tbody>\n    <tr>\n      <th>579184</th>\n      <td>3.476537</td>\n      <td>3.290389</td>\n      <td>2.974275</td>\n    </tr>\n    <tr>\n      <th>153056</th>\n      <td>-0.845037</td>\n      <td>-0.905079</td>\n      <td>-0.902274</td>\n    </tr>\n    <tr>\n      <th>181400</th>\n      <td>-0.886442</td>\n      <td>-0.832999</td>\n      <td>-0.837732</td>\n    </tr>\n    <tr>\n      <th>622498</th>\n      <td>-0.046655</td>\n      <td>-0.637722</td>\n      <td>-0.523748</td>\n    </tr>\n    <tr>\n      <th>222082</th>\n      <td>0.696655</td>\n      <td>0.904981</td>\n      <td>1.260151</td>\n    </tr>\n  </tbody>\n</table>\n</div>"
     },
     "execution_count": 28,
     "metadata": {},
     "output_type": "execute_result"
    }
   ],
   "source": [
    "# Transformar o conjunto de treinamento\n",
    "transformed = scaler.transform(X_features_train)\n",
    "\n",
    "# Gerar um dataframe com a saída do scaler\n",
    "X_features_train_scaled = pd.DataFrame(transformed, columns=scaler.feature_names_in_)\n",
    "\n",
    "# Amostra\n",
    "X_features_train_scaled.sample(5)"
   ],
   "metadata": {
    "collapsed": false,
    "pycharm": {
     "name": "#%%\n"
    }
   }
  },
  {
   "cell_type": "code",
   "execution_count": 29,
   "outputs": [
    {
     "data": {
      "text/plain": "        positiva    neutra  negativa\n30864   2.094661  2.440750  2.818881\n123852  0.019586  0.001161 -0.536249\n180215 -0.723503 -0.639012 -0.650504\n81839  -0.926341 -0.902015 -0.890499\n212286  0.540844  0.445895 -0.078863",
      "text/html": "<div>\n<style scoped>\n    .dataframe tbody tr th:only-of-type {\n        vertical-align: middle;\n    }\n\n    .dataframe tbody tr th {\n        vertical-align: top;\n    }\n\n    .dataframe thead th {\n        text-align: right;\n    }\n</style>\n<table border=\"1\" class=\"dataframe\">\n  <thead>\n    <tr style=\"text-align: right;\">\n      <th></th>\n      <th>positiva</th>\n      <th>neutra</th>\n      <th>negativa</th>\n    </tr>\n  </thead>\n  <tbody>\n    <tr>\n      <th>30864</th>\n      <td>2.094661</td>\n      <td>2.440750</td>\n      <td>2.818881</td>\n    </tr>\n    <tr>\n      <th>123852</th>\n      <td>0.019586</td>\n      <td>0.001161</td>\n      <td>-0.536249</td>\n    </tr>\n    <tr>\n      <th>180215</th>\n      <td>-0.723503</td>\n      <td>-0.639012</td>\n      <td>-0.650504</td>\n    </tr>\n    <tr>\n      <th>81839</th>\n      <td>-0.926341</td>\n      <td>-0.902015</td>\n      <td>-0.890499</td>\n    </tr>\n    <tr>\n      <th>212286</th>\n      <td>0.540844</td>\n      <td>0.445895</td>\n      <td>-0.078863</td>\n    </tr>\n  </tbody>\n</table>\n</div>"
     },
     "execution_count": 29,
     "metadata": {},
     "output_type": "execute_result"
    }
   ],
   "source": [
    "transformed = scaler.transform(X_features_test)\n",
    "\n",
    "# Gerar um dataframe com a saída do scaler\n",
    "X_features_test_scaled = pd.DataFrame(transformed, columns=scaler.feature_names_in_)\n",
    "\n",
    "# Amostra\n",
    "X_features_test_scaled.sample(5)"
   ],
   "metadata": {
    "collapsed": false,
    "pycharm": {
     "name": "#%%\n"
    }
   }
  },
  {
   "cell_type": "markdown",
   "source": [
    "# Learning\n"
   ],
   "metadata": {
    "collapsed": false,
    "pycharm": {
     "name": "#%% md\n"
    }
   }
  },
  {
   "cell_type": "markdown",
   "source": [
    "## Baseline Score\n",
    "\n",
    "Aqui vamos, criar um score de base. Ou seja, o resultado que conseguiriamos com o menor esforço possível (que é atribuir indiscriminadamente qualquer valor)\n",
    "\n",
    "Referências:\n",
    "- [https://scikit-learn.org/stable/modules/model_evaluation.html#precision-recall-f-measure-metrics](https://scikit-learn.org/stable/modules/model_evaluation.html#precision-recall-f-measure-metrics)"
   ],
   "metadata": {
    "collapsed": false,
    "pycharm": {
     "name": "#%% md\n"
    }
   }
  },
  {
   "cell_type": "code",
   "execution_count": 30,
   "outputs": [
    {
     "name": "stdout",
     "output_type": "stream",
     "text": [
      "F-Score: 8.41%\n"
     ]
    }
   ],
   "source": [
    "# Assumindo tudo como 0\n",
    "score_assumindo_tudo_neutro = f1_score(\n",
    "    y_features_train, [0 for _ in y_features_train], average=\"macro\"\n",
    ")\n",
    "\n",
    "print(\"F-Score: {:.2f}%\".format(score_assumindo_tudo_neutro * 100))"
   ],
   "metadata": {
    "collapsed": false,
    "pycharm": {
     "name": "#%%\n"
    }
   }
  },
  {
   "cell_type": "code",
   "execution_count": 31,
   "outputs": [
    {
     "name": "stdout",
     "output_type": "stream",
     "text": [
      "F-Score: 14.25%\n"
     ]
    }
   ],
   "source": [
    "# Assumindo tudo como -1\n",
    "score_assumindo_tudo_negativo = f1_score(\n",
    "    y_features_train, [-1 for _ in y_features_train], average=\"macro\"\n",
    ")\n",
    "\n",
    "print(\"F-Score: {:.2f}%\".format(score_assumindo_tudo_negativo * 100))"
   ],
   "metadata": {
    "collapsed": false,
    "pycharm": {
     "name": "#%%\n"
    }
   }
  },
  {
   "cell_type": "code",
   "execution_count": 32,
   "outputs": [
    {
     "name": "stdout",
     "output_type": "stream",
     "text": [
      "F-Score: 24.57%\n"
     ]
    }
   ],
   "source": [
    "# Assumindo tudo como 1\n",
    "score_assumindo_tudo_positivo = f1_score(\n",
    "    y_features_train, [1 for _ in y_features_train], average=\"macro\"\n",
    ")\n",
    "\n",
    "print(\"F-Score: {:.2f}%\".format(score_assumindo_tudo_positivo * 100))"
   ],
   "metadata": {
    "collapsed": false,
    "pycharm": {
     "name": "#%%\n"
    }
   }
  },
  {
   "cell_type": "code",
   "execution_count": 33,
   "outputs": [
    {
     "name": "stdout",
     "output_type": "stream",
     "text": [
      "F-Score: 24.57%\n"
     ]
    }
   ],
   "source": [
    "# Baseline Score\n",
    "baseline_score = np.max(\n",
    "    [\n",
    "        score_assumindo_tudo_neutro,\n",
    "        score_assumindo_tudo_negativo,\n",
    "        score_assumindo_tudo_positivo,\n",
    "    ]\n",
    ")\n",
    "\n",
    "print(\"F-Score: {:.2f}%\".format(baseline_score * 100))"
   ],
   "metadata": {
    "collapsed": false,
    "pycharm": {
     "name": "#%%\n"
    }
   }
  },
  {
   "cell_type": "markdown",
   "source": [
    "## Logistic Regression\n",
    "\n",
    "Referências:\n",
    "- [https://en.wikipedia.org/wiki/Logistic_regression](https://en.wikipedia.org/wiki/Logistic_regression)\n",
    "- [https://scikit-learn.org/stable/modules/linear_model.html#logistic-regression](https://scikit-learn.org/stable/modules/linear_model.html#logistic-regression)"
   ],
   "metadata": {
    "collapsed": false,
    "pycharm": {
     "name": "#%% md\n"
    }
   }
  },
  {
   "cell_type": "code",
   "execution_count": 34,
   "outputs": [],
   "source": [
    "log = LogisticRegression(random_state=42)"
   ],
   "metadata": {
    "collapsed": false,
    "pycharm": {
     "name": "#%%\n"
    }
   }
  },
  {
   "cell_type": "markdown",
   "source": [
    "### Otimização de Hyperparametros\n",
    "\n",
    "Nesse passo, vamos tentar encontrar a melhor combinação de hyperparametros para o modelo\n",
    "\n",
    "Referências:\n",
    "\n",
    "- [https://scikit-learn.org/stable/modules/grid_search.html#randomized-parameter-search](https://scikit-learn.org/stable/modules/grid_search.html#randomized-parameter-search)"
   ],
   "metadata": {
    "collapsed": false,
    "pycharm": {
     "name": "#%% md\n"
    }
   }
  },
  {
   "cell_type": "code",
   "execution_count": 35,
   "outputs": [
    {
     "name": "stdout",
     "output_type": "stream",
     "text": [
      "Best F-Score: 35.62%\n"
     ]
    }
   ],
   "source": [
    "params = {\n",
    "    \"C\": np.linspace(0.5, 2, 100),\n",
    "    \"tol\": np.linspace(1e-5, 1e-3, 100),\n",
    "}\n",
    "\n",
    "clf = RandomizedSearchCV(log, params, scoring=\"f1_macro\", n_jobs=-1, random_state=42)\n",
    "clf.fit(X_features_train_scaled, y_features_train)\n",
    "\n",
    "print(\"Best F-Score: {:.2f}%\".format(clf.best_score_ * 100))"
   ],
   "metadata": {
    "collapsed": false,
    "pycharm": {
     "name": "#%%\n"
    }
   }
  },
  {
   "cell_type": "code",
   "execution_count": 36,
   "outputs": [
    {
     "data": {
      "text/plain": "{'tol': 0.00022999999999999998, 'C': 1.7575757575757576}"
     },
     "execution_count": 36,
     "metadata": {},
     "output_type": "execute_result"
    }
   ],
   "source": [
    "clf.best_params_"
   ],
   "metadata": {
    "collapsed": false,
    "pycharm": {
     "name": "#%%\n"
    }
   }
  },
  {
   "cell_type": "code",
   "execution_count": 37,
   "outputs": [],
   "source": [
    "classifier = clf.best_estimator_"
   ],
   "metadata": {
    "collapsed": false,
    "pycharm": {
     "name": "#%%\n"
    }
   }
  },
  {
   "cell_type": "markdown",
   "source": [
    "#### Comparação com Métrica base"
   ],
   "metadata": {
    "collapsed": false,
    "pycharm": {
     "name": "#%% md\n"
    }
   }
  },
  {
   "cell_type": "code",
   "execution_count": 38,
   "outputs": [
    {
     "name": "stdout",
     "output_type": "stream",
     "text": [
      "Score Baseline : 24.57%\n",
      "Score Modelo   : 35.62%\n",
      "Diferença      : 11.05%\n"
     ]
    }
   ],
   "source": [
    "print(\"Score Baseline : {:.2f}%\".format(baseline_score * 100))\n",
    "print(\"Score Modelo   : {:.2f}%\".format(clf.best_score_ * 100))\n",
    "print(\"Diferença      : {:.2f}%\".format(np.abs(baseline_score - clf.best_score_) * 100))"
   ],
   "metadata": {
    "collapsed": false,
    "pycharm": {
     "name": "#%%\n"
    }
   }
  },
  {
   "cell_type": "markdown",
   "source": [
    "### Performance no Conjunto de Treino"
   ],
   "metadata": {
    "collapsed": false,
    "pycharm": {
     "name": "#%% md\n"
    }
   }
  },
  {
   "cell_type": "code",
   "execution_count": 39,
   "outputs": [
    {
     "name": "stdout",
     "output_type": "stream",
     "text": [
      "F-Score: 35.62%\n"
     ]
    }
   ],
   "source": [
    "y_pred = classifier.predict(X_features_train_scaled)\n",
    "score = f1_score(y_features_train, y_pred, average=\"macro\")\n",
    "print(\"F-Score: {:.2f}%\".format(score * 100))"
   ],
   "metadata": {
    "collapsed": false,
    "pycharm": {
     "name": "#%%\n"
    }
   }
  },
  {
   "cell_type": "markdown",
   "source": [
    "### Curva de Aprendizado"
   ],
   "metadata": {
    "collapsed": false,
    "pycharm": {
     "name": "#%% md\n"
    }
   }
  },
  {
   "cell_type": "code",
   "execution_count": 40,
   "outputs": [],
   "source": [
    "def plot_learning_curve(estimator, X, y, scoring):\n",
    "\n",
    "    plt.figure(figsize=(8, 6))\n",
    "    plt.title(\"Learning Curve\")\n",
    "\n",
    "    plt.xlabel(\"Training examples\")\n",
    "    plt.ylabel(\"Score: {}\".format(scoring))\n",
    "\n",
    "    train_sizes, train_scores, test_scores = learning_curve(\n",
    "        estimator, X, y, scoring=scoring, n_jobs=-1\n",
    "    )\n",
    "\n",
    "    train_scores_mean = np.mean(train_scores, axis=1)\n",
    "    train_scores_std = np.std(train_scores, axis=1)\n",
    "    test_scores_mean = np.mean(test_scores, axis=1)\n",
    "    test_scores_std = np.std(test_scores, axis=1)\n",
    "\n",
    "    plt.ylim(round(min([np.min(train_scores), np.min(test_scores)]), 2) - 0.01, 1.01)\n",
    "\n",
    "    plt.grid()\n",
    "\n",
    "    plt.fill_between(\n",
    "        train_sizes,\n",
    "        train_scores_mean - train_scores_std,\n",
    "        train_scores_mean + train_scores_std,\n",
    "        alpha=0.1,\n",
    "        color=\"r\",\n",
    "    )\n",
    "\n",
    "    plt.fill_between(\n",
    "        train_sizes,\n",
    "        test_scores_mean - test_scores_std,\n",
    "        test_scores_mean + test_scores_std,\n",
    "        alpha=0.1,\n",
    "        color=\"g\",\n",
    "    )\n",
    "\n",
    "    plt.plot(train_sizes, train_scores_mean, \"o-\", color=\"r\", label=\"Training score\")\n",
    "    plt.plot(\n",
    "        train_sizes, test_scores_mean, \"o-\", color=\"g\", label=\"Cross-validation score\"\n",
    "    )\n",
    "\n",
    "    plt.legend(loc=\"best\")\n",
    "\n",
    "    return plt"
   ],
   "metadata": {
    "collapsed": false,
    "pycharm": {
     "name": "#%%\n"
    }
   }
  },
  {
   "cell_type": "code",
   "execution_count": 41,
   "outputs": [
    {
     "data": {
      "text/plain": "<Figure size 800x600 with 1 Axes>",
      "image/png": "[encoded data removed]"
     },
     "metadata": {},
     "output_type": "display_data"
    }
   ],
   "source": [
    "plt = plot_learning_curve(\n",
    "    classifier, X_features_train_scaled, y_features_train, scoring=\"f1_macro\"\n",
    ")\n",
    "plt.show()"
   ],
   "metadata": {
    "collapsed": false,
    "pycharm": {
     "name": "#%%\n"
    }
   }
  },
  {
   "cell_type": "markdown",
   "source": [
    "## Histogram-Based Gradient Boosting\n",
    "\n",
    "Referências:\n",
    "- [https://en.wikipedia.org/wiki/Gradient_boosting](https://en.wikipedia.org/wiki/Gradient_boosting)\n",
    "- [https://scikit-learn.org/stable/modules/ensemble.html#histogram-based-gradient-boosting](https://scikit-learn.org/stable/modules/ensemble.html#histogram-based-gradient-boosting)"
   ],
   "metadata": {
    "collapsed": false,
    "pycharm": {
     "name": "#%% md\n"
    }
   }
  },
  {
   "cell_type": "code",
   "execution_count": 42,
   "outputs": [],
   "source": [
    "hgb = HistGradientBoostingClassifier(\n",
    "    tol=0.00024,\n",
    "    min_samples_leaf=5,\n",
    "    learning_rate=0.74,\n",
    "    random_state=42,\n",
    ")"
   ],
   "metadata": {
    "collapsed": false,
    "pycharm": {
     "name": "#%%\n"
    }
   }
  },
  {
   "cell_type": "code",
   "execution_count": 43,
   "outputs": [
    {
     "name": "stdout",
     "output_type": "stream",
     "text": [
      "Elapsed Time:  6 seconds\n",
      "F-Score: 42.66%\n"
     ]
    }
   ],
   "source": [
    "s1 = time()\n",
    "scores = cross_val_score(\n",
    "    hgb, X_features_train_scaled, y_features_train, scoring=\"f1_macro\"\n",
    ")\n",
    "hgb_score = scores.mean()\n",
    "\n",
    "s2 = time()\n",
    "print(\"Elapsed Time: \", int(s2 - s1), \"seconds\")\n",
    "\n",
    "print(\"F-Score: {:.2f}%\".format(hgb_score * 100))"
   ],
   "metadata": {
    "collapsed": false,
    "pycharm": {
     "name": "#%%\n"
    }
   }
  },
  {
   "cell_type": "code",
   "execution_count": 44,
   "outputs": [
    {
     "data": {
      "text/plain": "HistGradientBoostingClassifier(learning_rate=0.74, min_samples_leaf=5,\n                               random_state=42, tol=0.00024)",
      "text/html": "<style>#sk-container-id-2 {color: black;background-color: white;}#sk-container-id-2 pre{padding: 0;}#sk-container-id-2 div.sk-toggleable {background-color: white;}#sk-container-id-2 label.sk-toggleable__label {cursor: pointer;display: block;width: 100%;margin-bottom: 0;padding: 0.3em;box-sizing: border-box;text-align: center;}#sk-container-id-2 label.sk-toggleable__label-arrow:before {content: \"▸\";float: left;margin-right: 0.25em;color: #696969;}#sk-container-id-2 label.sk-toggleable__label-arrow:hover:before {color: black;}#sk-container-id-2 div.sk-estimator:hover label.sk-toggleable__label-arrow:before {color: black;}#sk-container-id-2 div.sk-toggleable__content {max-height: 0;max-width: 0;overflow: hidden;text-align: left;background-color: #f0f8ff;}#sk-container-id-2 div.sk-toggleable__content pre {margin: 0.2em;color: black;border-radius: 0.25em;background-color: #f0f8ff;}#sk-container-id-2 input.sk-toggleable__control:checked~div.sk-toggleable__content {max-height: 200px;max-width: 100%;overflow: auto;}#sk-container-id-2 input.sk-toggleable__control:checked~label.sk-toggleable__label-arrow:before {content: \"▾\";}#sk-container-id-2 div.sk-estimator input.sk-toggleable__control:checked~label.sk-toggleable__label {background-color: #d4ebff;}#sk-container-id-2 div.sk-label input.sk-toggleable__control:checked~label.sk-toggleable__label {background-color: #d4ebff;}#sk-container-id-2 input.sk-hidden--visually {border: 0;clip: rect(1px 1px 1px 1px);clip: rect(1px, 1px, 1px, 1px);height: 1px;margin: -1px;overflow: hidden;padding: 0;position: absolute;width: 1px;}#sk-container-id-2 div.sk-estimator {font-family: monospace;background-color: #f0f8ff;border: 1px dotted black;border-radius: 0.25em;box-sizing: border-box;margin-bottom: 0.5em;}#sk-container-id-2 div.sk-estimator:hover {background-color: #d4ebff;}#sk-container-id-2 div.sk-parallel-item::after {content: \"\";width: 100%;border-bottom: 1px solid gray;flex-grow: 1;}#sk-container-id-2 div.sk-label:hover label.sk-toggleable__label {background-color: #d4ebff;}#sk-container-id-2 div.sk-serial::before {content: \"\";position: absolute;border-left: 1px solid gray;box-sizing: border-box;top: 0;bottom: 0;left: 50%;z-index: 0;}#sk-container-id-2 div.sk-serial {display: flex;flex-direction: column;align-items: center;background-color: white;padding-right: 0.2em;padding-left: 0.2em;position: relative;}#sk-container-id-2 div.sk-item {position: relative;z-index: 1;}#sk-container-id-2 div.sk-parallel {display: flex;align-items: stretch;justify-content: center;background-color: white;position: relative;}#sk-container-id-2 div.sk-item::before, #sk-container-id-2 div.sk-parallel-item::before {content: \"\";position: absolute;border-left: 1px solid gray;box-sizing: border-box;top: 0;bottom: 0;left: 50%;z-index: -1;}#sk-container-id-2 div.sk-parallel-item {display: flex;flex-direction: column;z-index: 1;position: relative;background-color: white;}#sk-container-id-2 div.sk-parallel-item:first-child::after {align-self: flex-end;width: 50%;}#sk-container-id-2 div.sk-parallel-item:last-child::after {align-self: flex-start;width: 50%;}#sk-container-id-2 div.sk-parallel-item:only-child::after {width: 0;}#sk-container-id-2 div.sk-dashed-wrapped {border: 1px dashed gray;margin: 0 0.4em 0.5em 0.4em;box-sizing: border-box;padding-bottom: 0.4em;background-color: white;}#sk-container-id-2 div.sk-label label {font-family: monospace;font-weight: bold;display: inline-block;line-height: 1.2em;}#sk-container-id-2 div.sk-label-container {text-align: center;}#sk-container-id-2 div.sk-container {/* jupyter's `normalize.less` sets `[hidden] { display: none; }` but bootstrap.min.css set `[hidden] { display: none !important; }` so we also need the `!important` here to be able to override the default hidden behavior on the sphinx rendered scikit-learn.org. See: https://github.com/scikit-learn/scikit-learn/issues/21755 */display: inline-block !important;position: relative;}#sk-container-id-2 div.sk-text-repr-fallback {display: none;}</style><div id=\"sk-container-id-2\" class=\"sk-top-container\"><div class=\"sk-text-repr-fallback\"><pre>HistGradientBoostingClassifier(learning_rate=0.74, min_samples_leaf=5,\n                               random_state=42, tol=0.00024)</pre><b>In a Jupyter environment, please rerun this cell to show the HTML representation or trust the notebook. <br />On GitHub, the HTML representation is unable to render, please try loading this page with nbviewer.org.</b></div><div class=\"sk-container\" hidden><div class=\"sk-item\"><div class=\"sk-estimator sk-toggleable\"><input class=\"sk-toggleable__control sk-hidden--visually\" id=\"sk-estimator-id-2\" type=\"checkbox\" checked><label for=\"sk-estimator-id-2\" class=\"sk-toggleable__label sk-toggleable__label-arrow\">HistGradientBoostingClassifier</label><div class=\"sk-toggleable__content\"><pre>HistGradientBoostingClassifier(learning_rate=0.74, min_samples_leaf=5,\n                               random_state=42, tol=0.00024)</pre></div></div></div></div></div>"
     },
     "execution_count": 44,
     "metadata": {},
     "output_type": "execute_result"
    }
   ],
   "source": [
    "hgb.fit(X_features_train_scaled, y_features_train)"
   ],
   "metadata": {
    "collapsed": false,
    "pycharm": {
     "name": "#%%\n"
    }
   }
  },
  {
   "cell_type": "markdown",
   "source": [
    "### Otimização de Hyperparametros\n",
    "\n",
    "Nesse passo, vamos tentar encontrar a melhor combinação de hyperparametros para o modelo\n",
    "\n",
    "Referências:\n",
    "\n",
    "- [https://scikit-learn.org/stable/modules/grid_search.html#randomized-parameter-search](https://scikit-learn.org/stable/modules/grid_search.html#randomized-parameter-search)"
   ],
   "metadata": {
    "collapsed": false,
    "pycharm": {
     "name": "#%% md\n"
    }
   }
  },
  {
   "cell_type": "code",
   "execution_count": 45,
   "outputs": [],
   "source": [
    "# hgb = HistGradientBoostingClassifier(random_state = 42)\n",
    "# params = {\n",
    "#    \"learning_rate\": np.linspace(0.01, 1, 20),\n",
    "#    \"tol\": np.linspace(1e-5, 1e-3, 100),\n",
    "#    'min_samples_leaf': [x for x in range(1,11)],\n",
    "# }\n",
    "#\n",
    "# clf = RandomizedSearchCV(hgb, params, scoring='f1_macro', random_state=42)\n",
    "# clf.fit(X_features_train_scaled, y_features_train)\n",
    "#\n",
    "# print(\"Best F-Score: {:.2f}%\".format(clf.best_score_*100))"
   ],
   "metadata": {
    "collapsed": false,
    "pycharm": {
     "name": "#%%\n"
    }
   }
  },
  {
   "cell_type": "code",
   "execution_count": 46,
   "outputs": [
    {
     "name": "stdout",
     "output_type": "stream",
     "text": [
      "{'tol': 0.00023999999999999998, 'min_samples_leaf': 5, 'learning_rate': 0.7394736842105263}\n"
     ]
    }
   ],
   "source": [
    "# clf.best_params_\n",
    "print(\n",
    "    {\n",
    "        \"tol\": 0.00023999999999999998,\n",
    "        \"min_samples_leaf\": 5,\n",
    "        \"learning_rate\": 0.7394736842105263,\n",
    "    }\n",
    ")"
   ],
   "metadata": {
    "collapsed": false,
    "pycharm": {
     "name": "#%%\n"
    }
   }
  },
  {
   "cell_type": "code",
   "execution_count": 47,
   "outputs": [],
   "source": [
    "# hgb = clf.best_estimator_"
   ],
   "metadata": {
    "collapsed": false,
    "pycharm": {
     "name": "#%%\n"
    }
   }
  },
  {
   "cell_type": "markdown",
   "source": [
    "#### Comparação com Métrica base"
   ],
   "metadata": {
    "collapsed": false,
    "pycharm": {
     "name": "#%% md\n"
    }
   }
  },
  {
   "cell_type": "code",
   "execution_count": 48,
   "outputs": [
    {
     "name": "stdout",
     "output_type": "stream",
     "text": [
      "Score Baseline : 24.57%\n",
      "Score Modelo   : 42.66%\n",
      "Diferença      : 18.09%\n"
     ]
    }
   ],
   "source": [
    "print(\"Score Baseline : {:.2f}%\".format(baseline_score * 100))\n",
    "print(\"Score Modelo   : {:.2f}%\".format(hgb_score * 100))\n",
    "print(\"Diferença      : {:.2f}%\".format(np.abs(baseline_score - hgb_score) * 100))"
   ],
   "metadata": {
    "collapsed": false,
    "pycharm": {
     "name": "#%%\n"
    }
   }
  },
  {
   "cell_type": "markdown",
   "id": "73a8a2fc-ec00-4ea0-8991-dcb0bfdbe6cb",
   "metadata": {
    "pycharm": {
     "name": "#%% md\n"
    }
   },
   "source": [
    "### Performance no Conjunto de Treino"
   ]
  },
  {
   "cell_type": "code",
   "execution_count": 49,
   "id": "bb36ef4d-8f74-4df1-8e72-211759114526",
   "metadata": {
    "pycharm": {
     "name": "#%%\n"
    }
   },
   "outputs": [
    {
     "name": "stdout",
     "output_type": "stream",
     "text": [
      "F-Score: 42.85%\n"
     ]
    }
   ],
   "source": [
    "y_pred = hgb.predict(X_features_train_scaled)\n",
    "score = f1_score(y_features_train, y_pred, average=\"macro\")\n",
    "print(\"F-Score: {:.2f}%\".format(score * 100))"
   ]
  },
  {
   "cell_type": "markdown",
   "id": "dd76528f-bc42-4493-8951-7f96e7de71be",
   "metadata": {
    "pycharm": {
     "name": "#%% md\n"
    }
   },
   "source": [
    "### Curva de Aprendizado"
   ]
  },
  {
   "cell_type": "code",
   "execution_count": 50,
   "id": "d3553509-0106-490c-9eee-cd2fded7a865",
   "metadata": {
    "pycharm": {
     "name": "#%%\n"
    }
   },
   "outputs": [
    {
     "data": {
      "text/plain": "<Figure size 800x600 with 1 Axes>",
      "image/png": "[encoded data removed]"
     },
     "metadata": {},
     "output_type": "display_data"
    }
   ],
   "source": [
    "plt = plot_learning_curve(\n",
    "    classifier, X_features_train_scaled, y_features_train, scoring=\"f1_macro\"\n",
    ")\n",
    "plt.show()"
   ]
  },
  {
   "cell_type": "markdown",
   "id": "af5797da-ad8a-4e03-8d0b-379851688702",
   "metadata": {
    "pycharm": {
     "name": "#%% md\n"
    }
   },
   "source": [
    "## Validação em conjunto de Teste"
   ]
  },
  {
   "cell_type": "code",
   "execution_count": 51,
   "id": "6a961a16-4ad3-4c3b-8311-4ae8237b28a6",
   "metadata": {
    "pycharm": {
     "name": "#%%\n"
    }
   },
   "outputs": [
    {
     "name": "stdout",
     "output_type": "stream",
     "text": [
      "F-Score: 41.61%\n"
     ]
    }
   ],
   "source": [
    "y_pred = hgb.predict(X_features_test_scaled)\n",
    "score = f1_score(y_features_test, y_pred, average=\"macro\")\n",
    "print(\"F-Score: {:.2f}%\".format(score * 100))"
   ]
  },
  {
   "cell_type": "markdown",
   "id": "d9f4d914-c13f-40ed-9b49-3b2014a39bf5",
   "metadata": {
    "pycharm": {
     "name": "#%% md\n"
    }
   },
   "source": [
    "### Preditos Positivos"
   ]
  },
  {
   "cell_type": "code",
   "execution_count": 52,
   "id": "a5069185-eb2a-4703-aab2-c1df0f48b2a5",
   "metadata": {
    "pycharm": {
     "name": "#%%\n"
    }
   },
   "outputs": [],
   "source": [
    "preditos_positivos = X_test[y_pred == 1]"
   ]
  },
  {
   "cell_type": "markdown",
   "id": "baa3d3bc-75c4-4ecd-9912-9fe5d7135ccc",
   "metadata": {
    "pycharm": {
     "name": "#%% md\n"
    }
   },
   "source": [
    "#### Falso Positivo -> Negativo"
   ]
  },
  {
   "cell_type": "code",
   "execution_count": 53,
   "id": "21622347-6a52-4fe8-89fc-0244e42f2204",
   "metadata": {
    "pycharm": {
     "name": "#%%\n"
    }
   },
   "outputs": [
    {
     "data": {
      "text/plain": "array(['uma line boa que não deu certo 😔',\n       'para o united??? mantenham no preso sff 😭', 'tá em % 😭',\n       'pode me explicando isso agora 😡', 'eu tô notando isso mesmo! 😞',\n       'inclusive todos lindos no vídeo 😔😔 queria dar um beijinho na testa de cada um',\n       'que coisa 💔',\n       'ai *qualquer divindade* tira esse problema de confiar do meu coração 😭',\n       'tentei. 😭',\n       'chegou aquele tesão de madrugada😖🤧 like: foto do pau🍆 rt: foto da bunda🍑'],\n      dtype=object)"
     },
     "execution_count": 53,
     "metadata": {},
     "output_type": "execute_result"
    }
   ],
   "source": [
    "preditos_positivos[preditos_positivos[\"label\"] == -1][\"text\"].sample(10).values"
   ]
  },
  {
   "cell_type": "markdown",
   "id": "2d254704-fcfa-49d8-87b4-c035af2f66e4",
   "metadata": {
    "pycharm": {
     "name": "#%% md\n"
    }
   },
   "source": [
    "#### Falso Positivo -> Neutro"
   ]
  },
  {
   "cell_type": "code",
   "execution_count": 54,
   "id": "e9e6a5d3-5d89-42e6-b417-c5de53df9d8b",
   "metadata": {
    "pycharm": {
     "name": "#%%\n"
    }
   },
   "outputs": [
    {
     "data": {
      "text/plain": "array(['maceta msm miga 🔥',\n       'é verdade n compra felicidade mas com certeza ajuda 😂',\n       'pros rolê de eletrônica num chama nunca né 😢',\n       'ela passando a mão na minha perna e eu quase tendo um treco &gt;&gt;&gt;😥',\n       'que felicidade saber do seu apoio, companheira! estamos juntos! 👊⭐️',\n       'e o meu pai que pergunta se eu já fui no ginecologista fazer prevenção 😂',\n       'globoludos!!! 😂', 'more like estou a beber mijo 😂',\n       'impossível controlar kkk 🌚🔥',\n       'vamos aprender pra meter na galele 😂'], dtype=object)"
     },
     "execution_count": 54,
     "metadata": {},
     "output_type": "execute_result"
    }
   ],
   "source": [
    "preditos_positivos[preditos_positivos[\"label\"] == 0][\"text\"].sample(10).values"
   ]
  },
  {
   "cell_type": "markdown",
   "id": "b1de613c-ec7e-4a6d-8a8d-e9b4f4494697",
   "metadata": {
    "pycharm": {
     "name": "#%% md\n"
    }
   },
   "source": [
    "#### Verdadeiro Positivo"
   ]
  },
  {
   "cell_type": "code",
   "execution_count": 55,
   "id": "d0a98d4a-a7a0-417f-bcc4-d9605d9ffdd0",
   "metadata": {
    "pycharm": {
     "name": "#%%\n"
    }
   },
   "outputs": [
    {
     "data": {
      "text/plain": "array(['feliz aniversário leo!! tudo de bom para ti 💜💜💜☺️',\n       'dia triste e estressante 👍',\n       'fav: 😜: primeira impressão: fofinha 🤓: nível de proximidade - : ✨: uma mensagem…',\n       'eu amo a * e ninguém liga 🙏', 'cú gostoso 😋 tezão pegar de',\n       'ano q vem tudo melhora 👍',\n       'meses pro ano acabar, o que eu ja fiz: 👫 sim 💏 não 👩\\u200d❤\\u200d💋\\u200d👩 não 😬 todo dia 😈 nunca msm 👅 puts 🤭 sim 🤐 credo nã…',\n       'a cafonice do ser humano não tem limites...😁',\n       'eu e o bryce conta de besties💕 te amo', 'accha ☺️'], dtype=object)"
     },
     "execution_count": 55,
     "metadata": {},
     "output_type": "execute_result"
    }
   ],
   "source": [
    "preditos_positivos[preditos_positivos[\"label\"] == 1][\"text\"].sample(10).values"
   ]
  },
  {
   "cell_type": "markdown",
   "id": "5a449bcd-e31f-48c9-8d99-b0f1d8977942",
   "metadata": {
    "pycharm": {
     "name": "#%% md\n"
    }
   },
   "source": [
    "### Preditos Negativos"
   ]
  },
  {
   "cell_type": "code",
   "execution_count": 56,
   "id": "9b4d59fd-227f-47f3-a585-9c9284d3fc09",
   "metadata": {
    "pycharm": {
     "name": "#%%\n"
    }
   },
   "outputs": [],
   "source": [
    "preditos_negativos = X_test[y_pred == -1]"
   ]
  },
  {
   "cell_type": "markdown",
   "id": "14b89887-6cef-4e33-bad2-cc8355bf14c1",
   "metadata": {
    "pycharm": {
     "name": "#%% md\n"
    }
   },
   "source": [
    "#### Falso Negativo -> Positivo"
   ]
  },
  {
   "cell_type": "code",
   "execution_count": 57,
   "id": "c929df8e-d956-4b97-9702-79f5016ddf7e",
   "metadata": {
    "pycharm": {
     "name": "#%%\n"
    }
   },
   "outputs": [
    {
     "data": {
      "text/plain": "array(['mas duas pela manhã 💖',\n       'se bater saudade espero que entenda que meu paraíso tem nós dois a sós 🎶',\n       'tô olhando o filme q eu gosto 😍',\n       'uma hora dessas e eu sentada no chão do banheiro chorando de tanta cólica 👍',\n       'assistir friends é tão 🥰🤍💖✨😅🥺', 'na cara dele não mano 😂😂',\n       'comi dms agr, ave. tô ficando craque no arroz recheado 😍 (mas essa mania de comer besteira essa hr vai acabar, fé 🤞🏽',\n       'o gente que ela dorme é diferente 😍',\n       'o globo com crise de sincericidio! 😂😂😂', 'ih, nao tinha visto 😊'],\n      dtype=object)"
     },
     "execution_count": 57,
     "metadata": {},
     "output_type": "execute_result"
    }
   ],
   "source": [
    "preditos_negativos[preditos_negativos[\"label\"] == 1][\"text\"].sample(10).values"
   ]
  },
  {
   "cell_type": "markdown",
   "id": "9a46481c-0fa3-4575-983d-f2edf85e3af3",
   "metadata": {
    "pycharm": {
     "name": "#%% md\n"
    }
   },
   "source": [
    "#### Falso Negativo -> Neutro"
   ]
  },
  {
   "cell_type": "code",
   "execution_count": 58,
   "id": "038cc018-682a-44e5-8a69-c9ce96af453c",
   "metadata": {
    "pycharm": {
     "name": "#%%\n"
    }
   },
   "outputs": [
    {
     "data": {
      "text/plain": "array(['queria um abraço seu 😥', 'to nessa 😅',\n       'o que eu chorei com a reportagem do esporte espetacular do biel e o pai dele foi brincadeira viu... 😢',\n       'a legenda estranha é provavelmente a letra da música water do schoolboy q 😂',\n       'acordei as : da manha pra correr,tô me sentindo até leve 😅',\n       'chega logo outubro. quero minhas férias!!! 😢', '$noia 🔥🚀',\n       'não consigo ver o tweet 😰',\n       'o lucão, viu sobre o acidente na rússia? tão dizendo q foi nuclear, porém mais complexo do q estão informando. 😱',\n       'fui com o golf da minha irmã p meu avô hoje e só sei dizer uma coisa.. me matar de trabalhar p ter um daquele 😂'],\n      dtype=object)"
     },
     "execution_count": 58,
     "metadata": {},
     "output_type": "execute_result"
    }
   ],
   "source": [
    "preditos_negativos[preditos_negativos[\"label\"] == 0][\"text\"].sample(10).values"
   ]
  },
  {
   "cell_type": "markdown",
   "id": "b204bebd-c171-4a6f-9cd4-ac152cc80626",
   "metadata": {
    "pycharm": {
     "name": "#%% md\n"
    }
   },
   "source": [
    "#### Verdadeiro Negativo"
   ]
  },
  {
   "cell_type": "code",
   "execution_count": 59,
   "id": "1efeab84-af16-4bd9-8492-2647b1e10d7c",
   "metadata": {
    "pycharm": {
     "name": "#%%\n"
    }
   },
   "outputs": [
    {
     "data": {
      "text/plain": "array(['odeio ver minha pretinha dodói 😔', 'só queria um açaí agr 😓',\n       'vou dormir mais 😴', 'so nega 😤',\n       'boa noite me perdoa pela humilhação mas se puder me ajudar serei eternamente agradecida muito obrigada de coração e que deus abençoe grandemente 😭',\n       'saudades de comer algo que eu possa mastigar 😪',\n       'e acabou outra série 😞', 'poxa só queria uma promoção da 💔',\n       'queria ter uma mina pra chamar de minha 😓',\n       'era só um almoço no shoppping agr , querer ñ é poder né. 😑'],\n      dtype=object)"
     },
     "execution_count": 59,
     "metadata": {},
     "output_type": "execute_result"
    }
   ],
   "source": [
    "preditos_negativos[preditos_negativos[\"label\"] == -1][\"text\"].sample(10).values"
   ]
  },
  {
   "cell_type": "markdown",
   "id": "450acc69-e98d-4915-be12-ccacb5ea9696",
   "metadata": {
    "pycharm": {
     "name": "#%% md\n"
    }
   },
   "source": [
    "### Preditos Neutros"
   ]
  },
  {
   "cell_type": "code",
   "execution_count": 60,
   "id": "73af6117-3bd0-4287-9cde-6d9c10da6545",
   "metadata": {
    "pycharm": {
     "name": "#%%\n"
    }
   },
   "outputs": [],
   "source": [
    "preditos_neutros = X_test[y_pred == 0]"
   ]
  },
  {
   "cell_type": "markdown",
   "id": "6668e030-a892-41c1-94c7-42f8d16b8f76",
   "metadata": {
    "pycharm": {
     "name": "#%% md\n"
    }
   },
   "source": [
    "#### Falso Neutro -> Positivo"
   ]
  },
  {
   "cell_type": "code",
   "execution_count": 61,
   "id": "ded5afc4-f54f-4fe0-9c94-8f1002de5214",
   "metadata": {
    "pycharm": {
     "name": "#%%\n"
    }
   },
   "outputs": [
    {
     "data": {
      "text/plain": "array(['hoje fui no extra comprar pão e um cara me olhou e eu olhei pra ele e do nada o pau ficou duro na hora 🙈🙈🙈 mano ja tinha tempo q eu nao sentia isso em alguem, so de olhar e o pau subir sem ser em um ambiente de sexo ou festa 😈😈😈🔥🔥🔥',\n       'alguém me dá folhas de polipropileno por favor ✊',\n       'e o medo de andar na calçada? 🤣🤣🤣ihuuu💚🇧🇷💙',\n       'vcs n prestam kkk ele no começo da temporada \"não, pq somos dois homens\" \"mas pq será q eu me sinto tão atraído por ele, sendo q ele é homem?\" ele agora: não, então, eu até já me preparei, eu realmente quero kkk muito fofos tá💕',\n       'bom dia, que esse dia seja intenso, produtivo, e que saibamos aproveitar cada segundo dele. bora ser feliz né 🌻❤',\n       'me asf 😂😂😂', 'faberry. ❤',\n       'chuva de arroz pra eternizar, juras a dois pra eternizar, gravata e véu pra eternizar, ouro e anel pra eternizar 🎶',\n       'vc é demais madrinha 👏', 'sem medooo 💚💚💚'], dtype=object)"
     },
     "execution_count": 61,
     "metadata": {},
     "output_type": "execute_result"
    }
   ],
   "source": [
    "preditos_neutros[preditos_neutros[\"label\"] == 1][\"text\"].sample(10).values"
   ]
  },
  {
   "cell_type": "markdown",
   "id": "dc1257b2-d3c2-40f8-b4b7-ee8c79783d8c",
   "metadata": {
    "pycharm": {
     "name": "#%% md\n"
    }
   },
   "source": [
    "#### Falso Neutro -> Negativo"
   ]
  },
  {
   "cell_type": "code",
   "execution_count": 62,
   "id": "7f7f9bd4-4432-4b61-a703-ec3dc737548b",
   "metadata": {
    "pycharm": {
     "name": "#%%\n"
    }
   },
   "outputs": [
    {
     "data": {
      "text/plain": "array(['eu não namoro por que ninguém me quer já usei tanto essa frase q o corretor já até sabe kkk 😭',\n       'não tem nem vergonha 💀', 'deus usa lula e bolsonaro usa deus 😭',\n       'cadê minha mãe 😩',\n       '[ / / : : ] silvio : kskskakakaksksks milene tá em uma loucura segura viu pcr [ / / : : ] camila: vai doida kkk [ / / : : ] roni: mmkmmmkkkq onda do carai ngm entende nd q eu falo😭',\n       'nem eu, nunca foi meta pra depois se acabar todo de estudar só pra falar que estuda na usp 😒 muito esforço pra pouca coisa',\n       'kkk absurdo 😡', 'não tenho facebook. 😭😭😭', 'me rindo😔',\n       'me rindo 😔'], dtype=object)"
     },
     "execution_count": 62,
     "metadata": {},
     "output_type": "execute_result"
    }
   ],
   "source": [
    "preditos_neutros[preditos_neutros[\"label\"] == -1][\"text\"].sample(10).values"
   ]
  },
  {
   "cell_type": "markdown",
   "id": "97b4838f-81f1-42d7-811d-40a9feca575e",
   "metadata": {
    "pycharm": {
     "name": "#%% md\n"
    }
   },
   "source": [
    "#### Verdadeiro Neutro"
   ]
  },
  {
   "cell_type": "code",
   "execution_count": 63,
   "id": "043201bc-0dff-4f4d-a5dd-04ad2d2dd284",
   "metadata": {
    "pycharm": {
     "name": "#%%\n"
    }
   },
   "outputs": [
    {
     "data": {
      "text/plain": "array(['muito funkeira 😂', 'fredo 😂',\n       'tô rindo muito com marcelo kkk que fdp cara, peste garoto eu caí ficou eu e ele rindo pra crlh meu pé tá doendo 😂🤡',\n       'fogo 🔥',\n       'indireta ela joga,agora pergunta se consegue jogar o cabelo kkk😂',\n       'eitaaa👀👀👀', 'qesme 😂', 'kkk esse cara é hilário 😂',\n       'é fixe olhares para os comentários e ver que ninguem fala em salarios 😅. só é preciso comprar, pagar o salário fica para a segurança social',\n       'eita 😳'], dtype=object)"
     },
     "execution_count": 63,
     "metadata": {},
     "output_type": "execute_result"
    }
   ],
   "source": [
    "preditos_neutros[preditos_neutros[\"label\"] == 0][\"text\"].sample(10).values"
   ]
  },
  {
   "cell_type": "code",
   "execution_count": 63,
   "id": "26c6c1b7-2811-4e9f-97a7-dc085c6c238f",
   "metadata": {
    "pycharm": {
     "name": "#%%\n"
    }
   },
   "outputs": [],
   "source": []
  }
 ],
 "metadata": {
  "kernelspec": {
   "display_name": "Python 3 (ipykernel)",
   "language": "python",
   "name": "python3"
  },
  "language_info": {
   "codemirror_mode": {
    "name": "ipython",
    "version": 3
   },
   "file_extension": ".py",
   "mimetype": "text/x-python",
   "name": "python",
   "nbconvert_exporter": "python",
   "pygments_lexer": "ipython3",
   "version": "3.10.4"
  }
 },
 "nbformat": 4,
 "nbformat_minor": 5
}