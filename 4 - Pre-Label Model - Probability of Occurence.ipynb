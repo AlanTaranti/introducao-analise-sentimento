{
 "cells": [
  {
   "cell_type": "code",
   "execution_count": 1,
   "outputs": [],
   "source": [
    "import re\n",
    "from os import path\n",
    "from time import time\n",
    "\n",
    "import nltk\n",
    "import numpy as np\n",
    "import pandas as pd\n",
    "import matplotlib.pyplot as plt\n",
    "from pandarallel import pandarallel\n",
    "\n",
    "from sklearn.preprocessing import StandardScaler\n",
    "from sklearn.linear_model import LogisticRegression\n",
    "from sklearn.ensemble import RandomForestClassifier\n",
    "from sklearn.metrics import f1_score\n",
    "from sklearn.model_selection import (\n",
    "    train_test_split,\n",
    "    learning_curve,\n",
    "    cross_val_score,\n",
    "    RandomizedSearchCV,\n",
    ")"
   ],
   "metadata": {
    "collapsed": false,
    "pycharm": {
     "name": "#%%\n"
    }
   }
  },
  {
   "cell_type": "code",
   "execution_count": 2,
   "outputs": [
    {
     "name": "stdout",
     "output_type": "stream",
     "text": [
      "INFO: Pandarallel will run on 10 workers.\n",
      "INFO: Pandarallel will use Memory file system to transfer data between the main process and workers.\n"
     ]
    }
   ],
   "source": [
    "pandarallel.initialize(progress_bar=True)"
   ],
   "metadata": {
    "collapsed": false,
    "pycharm": {
     "name": "#%%\n"
    }
   }
  },
  {
   "cell_type": "markdown",
   "source": [
    "# Carregar os dados"
   ],
   "metadata": {
    "collapsed": false,
    "pycharm": {
     "name": "#%% md\n"
    }
   }
  },
  {
   "cell_type": "markdown",
   "source": [
    "## Tweets"
   ],
   "metadata": {
    "collapsed": false,
    "pycharm": {
     "name": "#%% md\n"
    }
   }
  },
  {
   "cell_type": "code",
   "execution_count": 3,
   "outputs": [
    {
     "data": {
      "text/plain": "                         id  \\\n66253   1559810938479542274   \n329715  1559969279025479680   \n121931  1559862383396397056   \n189236  1559893734476681216   \n897535  1161390341372690433   \n145355  1559874212701028352   \n899034  1161393084661424135   \n436580  1160539615457136641   \n604974  1160778177289097216   \n403757  1160314711466004483   \n\n                                                     text     score  label  \n66253                                  eu sei que não 😭😭😭 -0.280130     -1  \n329715  minha autoestima tá no céu dps q coloquei essa...  1.355874      1  \n121931                 uma das privilegiadas que ganhou 👋  0.416230      1  \n189236                                a minha canetinha 😭 -0.093377     -1  \n897535                                 muito minha cara 😩 -0.368363     -1  \n145355                olha você sendo bem cuidada vida 😍😍  1.355874      1  \n899034                        fica melhor a mim q a ele 😌  0.484211      1  \n436580  a falta de manifestação só comprova que eu não... -0.146058     -1  \n604974             vou dormir, melhor coisa que eu faço 😴 -0.080780     -1  \n403757  😱 estoque no brasil!! 🇧🇷 sem risco de taxas 🇧🇷...  0.190265      0  ",
      "text/html": "<div>\n<style scoped>\n    .dataframe tbody tr th:only-of-type {\n        vertical-align: middle;\n    }\n\n    .dataframe tbody tr th {\n        vertical-align: top;\n    }\n\n    .dataframe thead th {\n        text-align: right;\n    }\n</style>\n<table border=\"1\" class=\"dataframe\">\n  <thead>\n    <tr style=\"text-align: right;\">\n      <th></th>\n      <th>id</th>\n      <th>text</th>\n      <th>score</th>\n      <th>label</th>\n    </tr>\n  </thead>\n  <tbody>\n    <tr>\n      <th>66253</th>\n      <td>1559810938479542274</td>\n      <td>eu sei que não 😭😭😭</td>\n      <td>-0.280130</td>\n      <td>-1</td>\n    </tr>\n    <tr>\n      <th>329715</th>\n      <td>1559969279025479680</td>\n      <td>minha autoestima tá no céu dps q coloquei essa...</td>\n      <td>1.355874</td>\n      <td>1</td>\n    </tr>\n    <tr>\n      <th>121931</th>\n      <td>1559862383396397056</td>\n      <td>uma das privilegiadas que ganhou 👋</td>\n      <td>0.416230</td>\n      <td>1</td>\n    </tr>\n    <tr>\n      <th>189236</th>\n      <td>1559893734476681216</td>\n      <td>a minha canetinha 😭</td>\n      <td>-0.093377</td>\n      <td>-1</td>\n    </tr>\n    <tr>\n      <th>897535</th>\n      <td>1161390341372690433</td>\n      <td>muito minha cara 😩</td>\n      <td>-0.368363</td>\n      <td>-1</td>\n    </tr>\n    <tr>\n      <th>145355</th>\n      <td>1559874212701028352</td>\n      <td>olha você sendo bem cuidada vida 😍😍</td>\n      <td>1.355874</td>\n      <td>1</td>\n    </tr>\n    <tr>\n      <th>899034</th>\n      <td>1161393084661424135</td>\n      <td>fica melhor a mim q a ele 😌</td>\n      <td>0.484211</td>\n      <td>1</td>\n    </tr>\n    <tr>\n      <th>436580</th>\n      <td>1160539615457136641</td>\n      <td>a falta de manifestação só comprova que eu não...</td>\n      <td>-0.146058</td>\n      <td>-1</td>\n    </tr>\n    <tr>\n      <th>604974</th>\n      <td>1160778177289097216</td>\n      <td>vou dormir, melhor coisa que eu faço 😴</td>\n      <td>-0.080780</td>\n      <td>-1</td>\n    </tr>\n    <tr>\n      <th>403757</th>\n      <td>1160314711466004483</td>\n      <td>😱 estoque no brasil!! 🇧🇷 sem risco de taxas 🇧🇷...</td>\n      <td>0.190265</td>\n      <td>0</td>\n    </tr>\n  </tbody>\n</table>\n</div>"
     },
     "execution_count": 3,
     "metadata": {},
     "output_type": "execute_result"
    }
   ],
   "source": [
    "# Definir caminho do arquivo\n",
    "filename = \"labeled_data.parquet.gzip\"\n",
    "directory = \"data\"\n",
    "filepath = path.join(directory, filename)\n",
    "\n",
    "# Carregar dados\n",
    "data = pd.read_parquet(filepath)\n",
    "\n",
    "# Amostra dos dados\n",
    "data.sample(10)"
   ],
   "metadata": {
    "collapsed": false,
    "pycharm": {
     "name": "#%%\n"
    }
   }
  },
  {
   "cell_type": "markdown",
   "source": [
    "## Limpeza de Dados\n",
    "\n",
    "No modelo Soma das Frequencias*, precisamos saber a quantidade de determinadas palavras que aparecem em tweets positivos, negativos e neutros.\n",
    "\n",
    "Removeremos as Stopwords (palavras que não adicionam muito significado ao texto).\n",
    "\n",
    "Para melhorar o modelo, utilizaremos o Stemming, que visa remove alguns [afixos](https://pt.wikipedia.org/wiki/Afixo) das palavras. Exemplo: papel gramatical, tempo, morfologia derivacional, deixando apenas o radical da palavra.\n",
    "Assim, contaremos apenas os radicais das palavras em vez de suas derivações.\n",
    "\n",
    "Referências:\n",
    "\n",
    "- [StopWords](https://en.wikipedia.org/wiki/Stop_word)\n",
    "- [Stemming](https://en.wikipedia.org/wiki/Stemming)"
   ],
   "metadata": {
    "collapsed": false,
    "pycharm": {
     "name": "#%% md\n"
    }
   }
  },
  {
   "cell_type": "code",
   "execution_count": 4,
   "outputs": [],
   "source": [
    "def preprocess_data(string, stopwords, stemmer=None):\n",
    "\n",
    "    # Remover os Emojis e Pontuações\n",
    "    string_tratada = re.sub(\"\\W\", \" \", string)\n",
    "\n",
    "    # Remover stopwords\n",
    "    string_tratada = \" \".join(\n",
    "        [\n",
    "            substring\n",
    "            for substring in string_tratada.split()\n",
    "            if substring not in stopwords\n",
    "        ]\n",
    "    )\n",
    "\n",
    "    # Stemming\n",
    "    if stemmer:\n",
    "        string_tratada = \" \".join(\n",
    "            [stemmer.stem(substring) for substring in string_tratada.split()]\n",
    "        )\n",
    "\n",
    "    # Remover espaços extras\n",
    "    string_tratada = re.sub(\" +\", \" \", string_tratada)\n",
    "    string_tratada = re.sub(\"(^ )\", \"\", string_tratada)\n",
    "    string_tratada = re.sub(\"( $)\", \"\", string_tratada)\n",
    "\n",
    "    return string_tratada"
   ],
   "metadata": {
    "collapsed": false,
    "pycharm": {
     "name": "#%%\n"
    }
   }
  },
  {
   "cell_type": "code",
   "execution_count": 5,
   "outputs": [],
   "source": [
    "# Obter as stopwords\n",
    "portuguese_stopwords = nltk.corpus.stopwords.words(\"portuguese\")\n",
    "\n",
    "# Inicializar o Stemmer\n",
    "rlp_stemmer = nltk.stem.RSLPStemmer()"
   ],
   "metadata": {
    "collapsed": false,
    "pycharm": {
     "name": "#%%\n"
    }
   }
  },
  {
   "cell_type": "code",
   "execution_count": 6,
   "outputs": [
    {
     "data": {
      "text/plain": "112       me\n52     estes\n163      sou\n1          à\n185    tinha\ndtype: object"
     },
     "execution_count": 6,
     "metadata": {},
     "output_type": "execute_result"
    }
   ],
   "source": [
    "# Mostra das stopwords\n",
    "pd.Series(portuguese_stopwords).sample(5)"
   ],
   "metadata": {
    "collapsed": false,
    "pycharm": {
     "name": "#%%\n"
    }
   }
  },
  {
   "cell_type": "markdown",
   "source": [
    "### Demonstração do Tratamento"
   ],
   "metadata": {
    "collapsed": false,
    "pycharm": {
     "name": "#%% md\n"
    }
   }
  },
  {
   "cell_type": "code",
   "execution_count": 7,
   "outputs": [
    {
     "name": "stdout",
     "output_type": "stream",
     "text": [
      "Tweet Original: tentar dormir 💪\n",
      "\n",
      "Tweet Limpo   : tentar dormir\n",
      "\n",
      "Tweet Stemed  : tent dorm\n"
     ]
    }
   ],
   "source": [
    "tweet = data[\"text\"].sample(1).values[0]\n",
    "tweet_limpo = preprocess_data(tweet, portuguese_stopwords)\n",
    "tweet_limpo_stemmed = preprocess_data(tweet, portuguese_stopwords, rlp_stemmer)\n",
    "\n",
    "print(\"Tweet Original: {}\".format(tweet))\n",
    "print(\"\")\n",
    "print(\"Tweet Limpo   : {}\".format(tweet_limpo))\n",
    "print(\"\")\n",
    "print(\"Tweet Stemed  : {}\".format(tweet_limpo_stemmed))"
   ],
   "metadata": {
    "collapsed": false,
    "pycharm": {
     "name": "#%%\n"
    }
   }
  },
  {
   "cell_type": "markdown",
   "source": [
    "## Aplicação da Limpeza"
   ],
   "metadata": {
    "collapsed": false,
    "pycharm": {
     "name": "#%% md\n"
    }
   }
  },
  {
   "cell_type": "code",
   "execution_count": 8,
   "outputs": [
    {
     "data": {
      "text/plain": "VBox(children=(HBox(children=(IntProgress(value=0, description='0.00%', max=91196), Label(value='0 / 91196')))…",
      "application/vnd.jupyter.widget-view+json": {
       "version_major": 2,
       "version_minor": 0,
       "model_id": "10e3f86b00cc49e59796addbaeba0eb6"
      }
     },
     "metadata": {},
     "output_type": "display_data"
    }
   ],
   "source": [
    "data[\"cleaned\"] = data[\"text\"].parallel_apply(\n",
    "    lambda x: preprocess_data(x, portuguese_stopwords, rlp_stemmer)\n",
    ")"
   ],
   "metadata": {
    "collapsed": false,
    "pycharm": {
     "name": "#%%\n"
    }
   }
  },
  {
   "cell_type": "code",
   "execution_count": 9,
   "outputs": [
    {
     "data": {
      "text/plain": "                         id  \\\n164286  1559883044823212035   \n640810  1160871442914955265   \n278073  1559948645528752129   \n462997  1160623361652928512   \n519614  1160701301354897408   \n\n                                                     text     score  label  \\\n164286               em que site vai vender? tô nervosa 😭 -0.093377     -1   \n640810                   bom diaaa, quero esse domingo! 💕  0.632917      1   \n278073  saudades de você neguinho do vai fazer mo falt... -0.722772     -1   \n462997           desde sendo cadelinha da maju trindade 😎  0.493369      1   \n519614                                       sim eu sei 😳  0.017730      0   \n\n                                                  cleaned  \n164286                               sit vai vend tô nerv  \n640810                               bom diaa quer doming  \n278073  saudad negu vai faz mo falt seleç titul amig f...  \n462997                       desd send cadel maju trindad  \n519614                                            sim sei  ",
      "text/html": "<div>\n<style scoped>\n    .dataframe tbody tr th:only-of-type {\n        vertical-align: middle;\n    }\n\n    .dataframe tbody tr th {\n        vertical-align: top;\n    }\n\n    .dataframe thead th {\n        text-align: right;\n    }\n</style>\n<table border=\"1\" class=\"dataframe\">\n  <thead>\n    <tr style=\"text-align: right;\">\n      <th></th>\n      <th>id</th>\n      <th>text</th>\n      <th>score</th>\n      <th>label</th>\n      <th>cleaned</th>\n    </tr>\n  </thead>\n  <tbody>\n    <tr>\n      <th>164286</th>\n      <td>1559883044823212035</td>\n      <td>em que site vai vender? tô nervosa 😭</td>\n      <td>-0.093377</td>\n      <td>-1</td>\n      <td>sit vai vend tô nerv</td>\n    </tr>\n    <tr>\n      <th>640810</th>\n      <td>1160871442914955265</td>\n      <td>bom diaaa, quero esse domingo! 💕</td>\n      <td>0.632917</td>\n      <td>1</td>\n      <td>bom diaa quer doming</td>\n    </tr>\n    <tr>\n      <th>278073</th>\n      <td>1559948645528752129</td>\n      <td>saudades de você neguinho do vai fazer mo falt...</td>\n      <td>-0.722772</td>\n      <td>-1</td>\n      <td>saudad negu vai faz mo falt seleç titul amig f...</td>\n    </tr>\n    <tr>\n      <th>462997</th>\n      <td>1160623361652928512</td>\n      <td>desde sendo cadelinha da maju trindade 😎</td>\n      <td>0.493369</td>\n      <td>1</td>\n      <td>desd send cadel maju trindad</td>\n    </tr>\n    <tr>\n      <th>519614</th>\n      <td>1160701301354897408</td>\n      <td>sim eu sei 😳</td>\n      <td>0.017730</td>\n      <td>0</td>\n      <td>sim sei</td>\n    </tr>\n  </tbody>\n</table>\n</div>"
     },
     "execution_count": 9,
     "metadata": {},
     "output_type": "execute_result"
    }
   ],
   "source": [
    "data.sample(5)"
   ],
   "metadata": {
    "collapsed": false,
    "pycharm": {
     "name": "#%%\n"
    }
   }
  },
  {
   "cell_type": "markdown",
   "source": [
    "# Engenharia de Atributos: Probabilidade das Ocorrencias\n",
    "\n",
    "Este modelo é uma variação da Soma das Frequencias.\n",
    "\n",
    "Vamos transformar o texto numa representação vetorial utilizando a probabilidade da ocorrencia que cada palavra aparece nos tweets por rótulo."
   ],
   "metadata": {
    "collapsed": false,
    "pycharm": {
     "name": "#%% md\n"
    }
   }
  },
  {
   "cell_type": "markdown",
   "source": [
    "## Gerar dicionário de frequencias\n",
    "\n",
    "Basicamente criaremos três dicionários, um positivo, um negativo e um neutro.\n",
    "\n",
    "Cada dicionário terá a soma das vezes que a palavra aparece em seu respectivo rótulo (positivo, negativo ou neutro) em todo o dataset."
   ],
   "metadata": {
    "collapsed": false,
    "pycharm": {
     "name": "#%% md\n"
    }
   }
  },
  {
   "cell_type": "markdown",
   "source": [
    "### Separar conjuntos de treinamento e teste\n",
    "\n",
    "Aqui faremos a separação de conjunto de treino e teste.\n",
    "\n",
    "O dicionário será criado utilizando o conjunto de treino, e posteriormente verificado sua eficácia no conjunto de teste."
   ],
   "metadata": {
    "collapsed": false,
    "pycharm": {
     "name": "#%% md\n"
    }
   }
  },
  {
   "cell_type": "code",
   "execution_count": 10,
   "outputs": [],
   "source": [
    "X_train, X_test = train_test_split(data, random_state=42)"
   ],
   "metadata": {
    "collapsed": false,
    "pycharm": {
     "name": "#%%\n"
    }
   }
  },
  {
   "cell_type": "code",
   "execution_count": 11,
   "outputs": [],
   "source": [
    "# Aqui vamos criar nosso dicionário\n",
    "def gerador_dicionario_tweet(tweet, dicionario):\n",
    "    words = tweet.split()\n",
    "\n",
    "    for word in words:\n",
    "        dicionario[word] = dicionario.get(word, 0) + 1"
   ],
   "metadata": {
    "collapsed": false,
    "pycharm": {
     "name": "#%%\n"
    }
   }
  },
  {
   "cell_type": "code",
   "execution_count": 12,
   "outputs": [
    {
     "name": "stdout",
     "output_type": "stream",
     "text": [
      "Chaves: 58366\n"
     ]
    }
   ],
   "source": [
    "dicionario_positivo = {}\n",
    "\n",
    "X_train[X_train[\"label\"] == 1][\"cleaned\"].apply(\n",
    "    lambda x: gerador_dicionario_tweet(x, dicionario_positivo)\n",
    ")\n",
    "\n",
    "print(\"Chaves: {}\".format(len(dicionario_positivo.keys())))"
   ],
   "metadata": {
    "collapsed": false,
    "pycharm": {
     "name": "#%%\n"
    }
   }
  },
  {
   "cell_type": "code",
   "execution_count": 13,
   "outputs": [
    {
     "name": "stdout",
     "output_type": "stream",
     "text": [
      "Chaves: 27524\n"
     ]
    }
   ],
   "source": [
    "dicionario_neutro = {}\n",
    "\n",
    "X_train[X_train[\"label\"] == 0][\"cleaned\"].apply(\n",
    "    lambda x: gerador_dicionario_tweet(x, dicionario_neutro)\n",
    ")\n",
    "\n",
    "print(\"Chaves: {}\".format(len(dicionario_neutro.keys())))"
   ],
   "metadata": {
    "collapsed": false,
    "pycharm": {
     "name": "#%%\n"
    }
   }
  },
  {
   "cell_type": "code",
   "execution_count": 14,
   "outputs": [
    {
     "name": "stdout",
     "output_type": "stream",
     "text": [
      "Chaves: 32001\n"
     ]
    }
   ],
   "source": [
    "dicionario_negativo = {}\n",
    "\n",
    "X_train[X_train[\"label\"] == -1][\"cleaned\"].apply(\n",
    "    lambda x: gerador_dicionario_tweet(x, dicionario_negativo)\n",
    ")\n",
    "\n",
    "print(\"Chaves: {}\".format(len(dicionario_negativo.keys())))"
   ],
   "metadata": {
    "collapsed": false,
    "pycharm": {
     "name": "#%%\n"
    }
   }
  },
  {
   "cell_type": "markdown",
   "source": [
    "### Visualização dos Dicionários"
   ],
   "metadata": {
    "collapsed": false,
    "pycharm": {
     "name": "#%% md\n"
    }
   }
  },
  {
   "cell_type": "code",
   "execution_count": 15,
   "outputs": [],
   "source": [
    "dicionarios = pd.DataFrame(\n",
    "    [\n",
    "        pd.Series(dicionario_positivo, name=\"positivo\"),\n",
    "        pd.Series(dicionario_neutro, name=\"neutro\"),\n",
    "        pd.Series(dicionario_negativo, name=\"negativo\"),\n",
    "    ]\n",
    ").T"
   ],
   "metadata": {
    "collapsed": false,
    "pycharm": {
     "name": "#%%\n"
    }
   }
  },
  {
   "cell_type": "code",
   "execution_count": 16,
   "outputs": [
    {
     "data": {
      "text/plain": "          positivo  neutro  negativo\ncomess         1.0     NaN       NaN\nfgv            1.0     2.0       2.0\nlain           2.0     NaN       1.0\ndahr           NaN     NaN       1.0\nshop          31.0    12.0       5.0\nfooom          NaN     NaN       1.0\nparmes         3.0     NaN       NaN\njoinvill      10.0     3.0       2.0\nchocked        NaN     1.0       NaN\nepílog         NaN     NaN       1.0",
      "text/html": "<div>\n<style scoped>\n    .dataframe tbody tr th:only-of-type {\n        vertical-align: middle;\n    }\n\n    .dataframe tbody tr th {\n        vertical-align: top;\n    }\n\n    .dataframe thead th {\n        text-align: right;\n    }\n</style>\n<table border=\"1\" class=\"dataframe\">\n  <thead>\n    <tr style=\"text-align: right;\">\n      <th></th>\n      <th>positivo</th>\n      <th>neutro</th>\n      <th>negativo</th>\n    </tr>\n  </thead>\n  <tbody>\n    <tr>\n      <th>comess</th>\n      <td>1.0</td>\n      <td>NaN</td>\n      <td>NaN</td>\n    </tr>\n    <tr>\n      <th>fgv</th>\n      <td>1.0</td>\n      <td>2.0</td>\n      <td>2.0</td>\n    </tr>\n    <tr>\n      <th>lain</th>\n      <td>2.0</td>\n      <td>NaN</td>\n      <td>1.0</td>\n    </tr>\n    <tr>\n      <th>dahr</th>\n      <td>NaN</td>\n      <td>NaN</td>\n      <td>1.0</td>\n    </tr>\n    <tr>\n      <th>shop</th>\n      <td>31.0</td>\n      <td>12.0</td>\n      <td>5.0</td>\n    </tr>\n    <tr>\n      <th>fooom</th>\n      <td>NaN</td>\n      <td>NaN</td>\n      <td>1.0</td>\n    </tr>\n    <tr>\n      <th>parmes</th>\n      <td>3.0</td>\n      <td>NaN</td>\n      <td>NaN</td>\n    </tr>\n    <tr>\n      <th>joinvill</th>\n      <td>10.0</td>\n      <td>3.0</td>\n      <td>2.0</td>\n    </tr>\n    <tr>\n      <th>chocked</th>\n      <td>NaN</td>\n      <td>1.0</td>\n      <td>NaN</td>\n    </tr>\n    <tr>\n      <th>epílog</th>\n      <td>NaN</td>\n      <td>NaN</td>\n      <td>1.0</td>\n    </tr>\n  </tbody>\n</table>\n</div>"
     },
     "execution_count": 16,
     "metadata": {},
     "output_type": "execute_result"
    }
   ],
   "source": [
    "dicionarios.sample(10)"
   ],
   "metadata": {
    "collapsed": false,
    "pycharm": {
     "name": "#%%\n"
    }
   }
  },
  {
   "cell_type": "markdown",
   "source": [
    "## Gerar dicionário das probabilidades\n",
    "\n",
    "A partir do dicionário de frequencias, vamos gerar o dicionário de probabilidades.\n",
    "\n",
    "Basicamente, vamos dividir a frequencia que uma palavra aparece em determinado rótulo pela quantidade de palavras naquele rótulo.\n",
    "\n",
    "Porém, para evitar que tenhamos probabilidade zero, aplicaremos uma Suavização Laplaciana."
   ],
   "metadata": {
    "collapsed": false,
    "pycharm": {
     "name": "#%% md\n"
    }
   }
  },
  {
   "cell_type": "code",
   "execution_count": 17,
   "outputs": [],
   "source": [
    "def gerar_probabilidades(serie, total_ocorrencias_dimensao, tamanho_vocabulario):\n",
    "    serie = serie.fillna(0)\n",
    "    return (serie + 1) / (total_ocorrencias_dimensao + tamanho_vocabulario)"
   ],
   "metadata": {
    "collapsed": false,
    "pycharm": {
     "name": "#%%\n"
    }
   }
  },
  {
   "cell_type": "code",
   "execution_count": 18,
   "outputs": [],
   "source": [
    "dicionarios[\"positivo\"] = gerar_probabilidades(\n",
    "    dicionarios[\"positivo\"], dicionarios[\"positivo\"].sum(), dicionarios.shape[0]\n",
    ")"
   ],
   "metadata": {
    "collapsed": false,
    "pycharm": {
     "name": "#%%\n"
    }
   }
  },
  {
   "cell_type": "code",
   "execution_count": 19,
   "outputs": [],
   "source": [
    "dicionarios[\"negativo\"] = gerar_probabilidades(\n",
    "    dicionarios[\"negativo\"], dicionarios[\"negativo\"].sum(), dicionarios.shape[0]\n",
    ")"
   ],
   "metadata": {
    "collapsed": false,
    "pycharm": {
     "name": "#%%\n"
    }
   }
  },
  {
   "cell_type": "code",
   "execution_count": 20,
   "outputs": [],
   "source": [
    "dicionarios[\"neutro\"] = gerar_probabilidades(\n",
    "    dicionarios[\"neutro\"], dicionarios[\"neutro\"].sum(), dicionarios.shape[0]\n",
    ")"
   ],
   "metadata": {
    "collapsed": false,
    "pycharm": {
     "name": "#%%\n"
    }
   }
  },
  {
   "cell_type": "markdown",
   "source": [
    "### Visualização do Dicionário"
   ],
   "metadata": {
    "collapsed": false,
    "pycharm": {
     "name": "#%% md\n"
    }
   }
  },
  {
   "cell_type": "code",
   "execution_count": 21,
   "outputs": [
    {
     "data": {
      "text/plain": "                positivo    neutro      negativo\nyulsic      4.469485e-07  0.000002  1.820441e-06\nschuasnegg  4.469485e-07  0.000002  1.820441e-06\ngahahah     4.469485e-07  0.000003  9.102204e-07\nheinj       4.469485e-07  0.000005  9.102204e-07\nnoop        2.234743e-06  0.000003  9.102204e-07\ndesencr     4.469485e-07  0.000003  9.102204e-07\nesdr        2.234743e-06  0.000002  1.820441e-06\nfofoss      4.469485e-06  0.000002  1.820441e-06\ngzu         4.469485e-07  0.000006  9.102204e-07\nrtil        4.469485e-07  0.000003  9.102204e-07",
      "text/html": "<div>\n<style scoped>\n    .dataframe tbody tr th:only-of-type {\n        vertical-align: middle;\n    }\n\n    .dataframe tbody tr th {\n        vertical-align: top;\n    }\n\n    .dataframe thead th {\n        text-align: right;\n    }\n</style>\n<table border=\"1\" class=\"dataframe\">\n  <thead>\n    <tr style=\"text-align: right;\">\n      <th></th>\n      <th>positivo</th>\n      <th>neutro</th>\n      <th>negativo</th>\n    </tr>\n  </thead>\n  <tbody>\n    <tr>\n      <th>yulsic</th>\n      <td>4.469485e-07</td>\n      <td>0.000002</td>\n      <td>1.820441e-06</td>\n    </tr>\n    <tr>\n      <th>schuasnegg</th>\n      <td>4.469485e-07</td>\n      <td>0.000002</td>\n      <td>1.820441e-06</td>\n    </tr>\n    <tr>\n      <th>gahahah</th>\n      <td>4.469485e-07</td>\n      <td>0.000003</td>\n      <td>9.102204e-07</td>\n    </tr>\n    <tr>\n      <th>heinj</th>\n      <td>4.469485e-07</td>\n      <td>0.000005</td>\n      <td>9.102204e-07</td>\n    </tr>\n    <tr>\n      <th>noop</th>\n      <td>2.234743e-06</td>\n      <td>0.000003</td>\n      <td>9.102204e-07</td>\n    </tr>\n    <tr>\n      <th>desencr</th>\n      <td>4.469485e-07</td>\n      <td>0.000003</td>\n      <td>9.102204e-07</td>\n    </tr>\n    <tr>\n      <th>esdr</th>\n      <td>2.234743e-06</td>\n      <td>0.000002</td>\n      <td>1.820441e-06</td>\n    </tr>\n    <tr>\n      <th>fofoss</th>\n      <td>4.469485e-06</td>\n      <td>0.000002</td>\n      <td>1.820441e-06</td>\n    </tr>\n    <tr>\n      <th>gzu</th>\n      <td>4.469485e-07</td>\n      <td>0.000006</td>\n      <td>9.102204e-07</td>\n    </tr>\n    <tr>\n      <th>rtil</th>\n      <td>4.469485e-07</td>\n      <td>0.000003</td>\n      <td>9.102204e-07</td>\n    </tr>\n  </tbody>\n</table>\n</div>"
     },
     "execution_count": 21,
     "metadata": {},
     "output_type": "execute_result"
    }
   ],
   "source": [
    "dicionarios.sample(10)"
   ],
   "metadata": {
    "collapsed": false,
    "pycharm": {
     "name": "#%%\n"
    }
   }
  },
  {
   "cell_type": "markdown",
   "source": [
    "## Gerar feature vector\n",
    "\n",
    "Aqui nós transformaremos os textos em um vetor para podermos utilizá-los em um aprendizado supervisionado.\n",
    "\n",
    "Nosso vetor será representado em três dimensões, uma para positivo, uma para negativo e outro para neutro.\n",
    "\n",
    "O valor de cada dimensão é definido como o somatório das frequencias de cada palavra do tweet no dicionário da dimensão (positivo, negativo, neutro)"
   ],
   "metadata": {
    "collapsed": false,
    "pycharm": {
     "name": "#%% md\n"
    }
   }
  },
  {
   "cell_type": "code",
   "execution_count": 22,
   "outputs": [],
   "source": [
    "def gerar_feature_vector(string, df):\n",
    "    tokens = string.split()\n",
    "\n",
    "    # Calcula o valor de cada dimensão do vetor\n",
    "    feature_positiva = sum([df[\"positivo\"].get(word, 0) for word in tokens])\n",
    "    feature_neutra = sum([df[\"neutro\"].get(word, 0) for word in tokens])\n",
    "    feature_negativa = sum([df[\"negativo\"].get(word, 0) for word in tokens])\n",
    "\n",
    "    return pd.Series(\n",
    "        [feature_positiva, feature_neutra, feature_negativa],\n",
    "        index=[\"positiva\", \"neutra\", \"negativa\"],\n",
    "    )"
   ],
   "metadata": {
    "collapsed": false,
    "pycharm": {
     "name": "#%%\n"
    }
   }
  },
  {
   "cell_type": "markdown",
   "source": [
    "### Demonstração da Geração do Feature Vector"
   ],
   "metadata": {
    "collapsed": false,
    "pycharm": {
     "name": "#%% md\n"
    }
   }
  },
  {
   "cell_type": "code",
   "execution_count": 23,
   "outputs": [
    {
     "name": "stdout",
     "output_type": "stream",
     "text": [
      "Tweet: q lav louç\n"
     ]
    },
    {
     "data": {
      "text/plain": "positiva    0.006948\nneutra      0.008362\nnegativa    0.012204\ndtype: float64"
     },
     "execution_count": 23,
     "metadata": {},
     "output_type": "execute_result"
    }
   ],
   "source": [
    "tweet = X_train[\"cleaned\"].sample(1).values[0]\n",
    "feature_vector = gerar_feature_vector(tweet, dicionarios)\n",
    "\n",
    "print(\"Tweet: {}\".format(tweet))\n",
    "feature_vector"
   ],
   "metadata": {
    "collapsed": false,
    "pycharm": {
     "name": "#%%\n"
    }
   }
  },
  {
   "cell_type": "markdown",
   "source": [
    "### Aplicar a Geração do Feature Vector em todo o Dataset de Treino"
   ],
   "metadata": {
    "collapsed": false,
    "pycharm": {
     "name": "#%% md\n"
    }
   }
  },
  {
   "cell_type": "code",
   "execution_count": 24,
   "outputs": [
    {
     "data": {
      "text/plain": "VBox(children=(HBox(children=(IntProgress(value=0, description='0.00%', max=68397), Label(value='0 / 68397')))…",
      "application/vnd.jupyter.widget-view+json": {
       "version_major": 2,
       "version_minor": 0,
       "model_id": "94f08d8365a64840b6aa0bc83ce15fe6"
      }
     },
     "metadata": {},
     "output_type": "display_data"
    }
   ],
   "source": [
    "# Gerar Features Train\n",
    "features_train = X_train[\"cleaned\"].parallel_apply(\n",
    "    lambda x: gerar_feature_vector(x, dicionarios)\n",
    ")\n",
    "features_train[\"label\"] = X_train[\"label\"]"
   ],
   "metadata": {
    "collapsed": false,
    "pycharm": {
     "name": "#%%\n"
    }
   }
  },
  {
   "cell_type": "code",
   "execution_count": 25,
   "outputs": [
    {
     "data": {
      "text/plain": "        positiva    neutra  negativa  label\n875203  0.025211  0.020843  0.025489      1\n663536  0.016251  0.014755  0.021057      1\n437272  0.000900  0.000917  0.000583      1\n579418  0.000000  0.000000  0.000000      1\n784172  0.000261  0.000299  0.000197      1",
      "text/html": "<div>\n<style scoped>\n    .dataframe tbody tr th:only-of-type {\n        vertical-align: middle;\n    }\n\n    .dataframe tbody tr th {\n        vertical-align: top;\n    }\n\n    .dataframe thead th {\n        text-align: right;\n    }\n</style>\n<table border=\"1\" class=\"dataframe\">\n  <thead>\n    <tr style=\"text-align: right;\">\n      <th></th>\n      <th>positiva</th>\n      <th>neutra</th>\n      <th>negativa</th>\n      <th>label</th>\n    </tr>\n  </thead>\n  <tbody>\n    <tr>\n      <th>875203</th>\n      <td>0.025211</td>\n      <td>0.020843</td>\n      <td>0.025489</td>\n      <td>1</td>\n    </tr>\n    <tr>\n      <th>663536</th>\n      <td>0.016251</td>\n      <td>0.014755</td>\n      <td>0.021057</td>\n      <td>1</td>\n    </tr>\n    <tr>\n      <th>437272</th>\n      <td>0.000900</td>\n      <td>0.000917</td>\n      <td>0.000583</td>\n      <td>1</td>\n    </tr>\n    <tr>\n      <th>579418</th>\n      <td>0.000000</td>\n      <td>0.000000</td>\n      <td>0.000000</td>\n      <td>1</td>\n    </tr>\n    <tr>\n      <th>784172</th>\n      <td>0.000261</td>\n      <td>0.000299</td>\n      <td>0.000197</td>\n      <td>1</td>\n    </tr>\n  </tbody>\n</table>\n</div>"
     },
     "execution_count": 25,
     "metadata": {},
     "output_type": "execute_result"
    }
   ],
   "source": [
    "features_train.sample(5)"
   ],
   "metadata": {
    "collapsed": false,
    "pycharm": {
     "name": "#%%\n"
    }
   }
  },
  {
   "cell_type": "code",
   "execution_count": 26,
   "outputs": [
    {
     "data": {
      "text/plain": "        positiva    neutra  negativa\n350966  0.006528  0.006563  0.006747\n781790  0.008181  0.009875  0.010908\n104254  0.002061  0.002972  0.002814\n128812  0.002439  0.003611  0.007046\n902691  0.036897  0.037960  0.042333",
      "text/html": "<div>\n<style scoped>\n    .dataframe tbody tr th:only-of-type {\n        vertical-align: middle;\n    }\n\n    .dataframe tbody tr th {\n        vertical-align: top;\n    }\n\n    .dataframe thead th {\n        text-align: right;\n    }\n</style>\n<table border=\"1\" class=\"dataframe\">\n  <thead>\n    <tr style=\"text-align: right;\">\n      <th></th>\n      <th>positiva</th>\n      <th>neutra</th>\n      <th>negativa</th>\n    </tr>\n  </thead>\n  <tbody>\n    <tr>\n      <th>350966</th>\n      <td>0.006528</td>\n      <td>0.006563</td>\n      <td>0.006747</td>\n    </tr>\n    <tr>\n      <th>781790</th>\n      <td>0.008181</td>\n      <td>0.009875</td>\n      <td>0.010908</td>\n    </tr>\n    <tr>\n      <th>104254</th>\n      <td>0.002061</td>\n      <td>0.002972</td>\n      <td>0.002814</td>\n    </tr>\n    <tr>\n      <th>128812</th>\n      <td>0.002439</td>\n      <td>0.003611</td>\n      <td>0.007046</td>\n    </tr>\n    <tr>\n      <th>902691</th>\n      <td>0.036897</td>\n      <td>0.037960</td>\n      <td>0.042333</td>\n    </tr>\n  </tbody>\n</table>\n</div>"
     },
     "execution_count": 26,
     "metadata": {},
     "output_type": "execute_result"
    }
   ],
   "source": [
    "X_features_train = features_train[[\"positiva\", \"neutra\", \"negativa\"]]\n",
    "X_features_train.sample(5)"
   ],
   "metadata": {
    "collapsed": false,
    "pycharm": {
     "name": "#%%\n"
    }
   }
  },
  {
   "cell_type": "code",
   "execution_count": 27,
   "outputs": [
    {
     "data": {
      "text/plain": "265042    0\n834111    1\n390438   -1\n758831    0\n231240    1\nName: label, dtype: int64"
     },
     "execution_count": 27,
     "metadata": {},
     "output_type": "execute_result"
    }
   ],
   "source": [
    "y_features_train = features_train[\"label\"]\n",
    "y_features_train.sample(5)"
   ],
   "metadata": {
    "collapsed": false,
    "pycharm": {
     "name": "#%%\n"
    }
   }
  },
  {
   "cell_type": "markdown",
   "source": [
    "### Aplicar a Geração do Feature Vector em todo o Dataset de Teste"
   ],
   "metadata": {
    "collapsed": false,
    "pycharm": {
     "name": "#%% md\n"
    }
   }
  },
  {
   "cell_type": "code",
   "execution_count": 28,
   "outputs": [
    {
     "data": {
      "text/plain": "VBox(children=(HBox(children=(IntProgress(value=0, description='0.00%', max=22799), Label(value='0 / 22799')))…",
      "application/vnd.jupyter.widget-view+json": {
       "version_major": 2,
       "version_minor": 0,
       "model_id": "6dd6a185028448058f52556db2294e90"
      }
     },
     "metadata": {},
     "output_type": "display_data"
    }
   ],
   "source": [
    "# Gerar Features Teste\n",
    "features_test = X_test[\"cleaned\"].parallel_apply(\n",
    "    lambda x: gerar_feature_vector(x, dicionarios)\n",
    ")\n",
    "features_test[\"label\"] = X_test[\"label\"]"
   ],
   "metadata": {
    "collapsed": false,
    "pycharm": {
     "name": "#%%\n"
    }
   }
  },
  {
   "cell_type": "code",
   "execution_count": 29,
   "outputs": [
    {
     "data": {
      "text/plain": "        positiva    neutra      negativa  label\n617268  0.000185  0.000475  1.702112e-04     -1\n232167  0.000073  0.000005  9.102204e-07      1\n406991  0.000000  0.000000  0.000000e+00      1\n817055  0.006490  0.000795  1.121392e-03      1\n578863  0.010055  0.006836  7.075143e-03      1",
      "text/html": "<div>\n<style scoped>\n    .dataframe tbody tr th:only-of-type {\n        vertical-align: middle;\n    }\n\n    .dataframe tbody tr th {\n        vertical-align: top;\n    }\n\n    .dataframe thead th {\n        text-align: right;\n    }\n</style>\n<table border=\"1\" class=\"dataframe\">\n  <thead>\n    <tr style=\"text-align: right;\">\n      <th></th>\n      <th>positiva</th>\n      <th>neutra</th>\n      <th>negativa</th>\n      <th>label</th>\n    </tr>\n  </thead>\n  <tbody>\n    <tr>\n      <th>617268</th>\n      <td>0.000185</td>\n      <td>0.000475</td>\n      <td>1.702112e-04</td>\n      <td>-1</td>\n    </tr>\n    <tr>\n      <th>232167</th>\n      <td>0.000073</td>\n      <td>0.000005</td>\n      <td>9.102204e-07</td>\n      <td>1</td>\n    </tr>\n    <tr>\n      <th>406991</th>\n      <td>0.000000</td>\n      <td>0.000000</td>\n      <td>0.000000e+00</td>\n      <td>1</td>\n    </tr>\n    <tr>\n      <th>817055</th>\n      <td>0.006490</td>\n      <td>0.000795</td>\n      <td>1.121392e-03</td>\n      <td>1</td>\n    </tr>\n    <tr>\n      <th>578863</th>\n      <td>0.010055</td>\n      <td>0.006836</td>\n      <td>7.075143e-03</td>\n      <td>1</td>\n    </tr>\n  </tbody>\n</table>\n</div>"
     },
     "execution_count": 29,
     "metadata": {},
     "output_type": "execute_result"
    }
   ],
   "source": [
    "features_test.sample(5)"
   ],
   "metadata": {
    "collapsed": false,
    "pycharm": {
     "name": "#%%\n"
    }
   }
  },
  {
   "cell_type": "code",
   "execution_count": 30,
   "outputs": [
    {
     "data": {
      "text/plain": "        positiva    neutra  negativa\n210823  0.002265  0.002764  0.003412\n366596  0.026933  0.025638  0.030146\n517342  0.014675  0.014477  0.018097\n182560  0.007239  0.001655  0.002890\n413771  0.020503  0.010643  0.011396",
      "text/html": "<div>\n<style scoped>\n    .dataframe tbody tr th:only-of-type {\n        vertical-align: middle;\n    }\n\n    .dataframe tbody tr th {\n        vertical-align: top;\n    }\n\n    .dataframe thead th {\n        text-align: right;\n    }\n</style>\n<table border=\"1\" class=\"dataframe\">\n  <thead>\n    <tr style=\"text-align: right;\">\n      <th></th>\n      <th>positiva</th>\n      <th>neutra</th>\n      <th>negativa</th>\n    </tr>\n  </thead>\n  <tbody>\n    <tr>\n      <th>210823</th>\n      <td>0.002265</td>\n      <td>0.002764</td>\n      <td>0.003412</td>\n    </tr>\n    <tr>\n      <th>366596</th>\n      <td>0.026933</td>\n      <td>0.025638</td>\n      <td>0.030146</td>\n    </tr>\n    <tr>\n      <th>517342</th>\n      <td>0.014675</td>\n      <td>0.014477</td>\n      <td>0.018097</td>\n    </tr>\n    <tr>\n      <th>182560</th>\n      <td>0.007239</td>\n      <td>0.001655</td>\n      <td>0.002890</td>\n    </tr>\n    <tr>\n      <th>413771</th>\n      <td>0.020503</td>\n      <td>0.010643</td>\n      <td>0.011396</td>\n    </tr>\n  </tbody>\n</table>\n</div>"
     },
     "execution_count": 30,
     "metadata": {},
     "output_type": "execute_result"
    }
   ],
   "source": [
    "X_features_test = features_test[[\"positiva\", \"neutra\", \"negativa\"]]\n",
    "X_features_test.sample(5)"
   ],
   "metadata": {
    "collapsed": false,
    "pycharm": {
     "name": "#%%\n"
    }
   }
  },
  {
   "cell_type": "code",
   "execution_count": 31,
   "outputs": [
    {
     "data": {
      "text/plain": "520534    0\n493346    0\n432866   -1\n586589    0\n318201    1\nName: label, dtype: int64"
     },
     "execution_count": 31,
     "metadata": {},
     "output_type": "execute_result"
    }
   ],
   "source": [
    "y_features_test = features_test[\"label\"]\n",
    "y_features_test.sample(5)"
   ],
   "metadata": {
    "collapsed": false,
    "pycharm": {
     "name": "#%%\n"
    }
   }
  },
  {
   "cell_type": "markdown",
   "source": [
    "## Feature Scaling\n",
    "\n",
    "Aqui vamos normalizar os dados utilizando o Standard Scaler\n",
    "\n",
    "\n",
    "Referências:\n",
    " - [https://en.wikipedia.org/wiki/Normalization_(statistics)](https://en.wikipedia.org/wiki/Normalization_(statistics))\n",
    " - [https://en.wikipedia.org/wiki/Standard_score](https://en.wikipedia.org/wiki/Standard_score)\n",
    " - [https://scikit-learn.org/stable/modules/preprocessing.html#standardization-or-mean-removal-and-variance-scaling](https://scikit-learn.org/stable/modules/preprocessing.html#standardization-or-mean-removal-and-variance-scaling)"
   ],
   "metadata": {
    "collapsed": false,
    "pycharm": {
     "name": "#%% md\n"
    }
   }
  },
  {
   "cell_type": "code",
   "execution_count": 32,
   "outputs": [
    {
     "data": {
      "text/plain": "StandardScaler()",
      "text/html": "<style>#sk-container-id-1 {color: black;background-color: white;}#sk-container-id-1 pre{padding: 0;}#sk-container-id-1 div.sk-toggleable {background-color: white;}#sk-container-id-1 label.sk-toggleable__label {cursor: pointer;display: block;width: 100%;margin-bottom: 0;padding: 0.3em;box-sizing: border-box;text-align: center;}#sk-container-id-1 label.sk-toggleable__label-arrow:before {content: \"▸\";float: left;margin-right: 0.25em;color: #696969;}#sk-container-id-1 label.sk-toggleable__label-arrow:hover:before {color: black;}#sk-container-id-1 div.sk-estimator:hover label.sk-toggleable__label-arrow:before {color: black;}#sk-container-id-1 div.sk-toggleable__content {max-height: 0;max-width: 0;overflow: hidden;text-align: left;background-color: #f0f8ff;}#sk-container-id-1 div.sk-toggleable__content pre {margin: 0.2em;color: black;border-radius: 0.25em;background-color: #f0f8ff;}#sk-container-id-1 input.sk-toggleable__control:checked~div.sk-toggleable__content {max-height: 200px;max-width: 100%;overflow: auto;}#sk-container-id-1 input.sk-toggleable__control:checked~label.sk-toggleable__label-arrow:before {content: \"▾\";}#sk-container-id-1 div.sk-estimator input.sk-toggleable__control:checked~label.sk-toggleable__label {background-color: #d4ebff;}#sk-container-id-1 div.sk-label input.sk-toggleable__control:checked~label.sk-toggleable__label {background-color: #d4ebff;}#sk-container-id-1 input.sk-hidden--visually {border: 0;clip: rect(1px 1px 1px 1px);clip: rect(1px, 1px, 1px, 1px);height: 1px;margin: -1px;overflow: hidden;padding: 0;position: absolute;width: 1px;}#sk-container-id-1 div.sk-estimator {font-family: monospace;background-color: #f0f8ff;border: 1px dotted black;border-radius: 0.25em;box-sizing: border-box;margin-bottom: 0.5em;}#sk-container-id-1 div.sk-estimator:hover {background-color: #d4ebff;}#sk-container-id-1 div.sk-parallel-item::after {content: \"\";width: 100%;border-bottom: 1px solid gray;flex-grow: 1;}#sk-container-id-1 div.sk-label:hover label.sk-toggleable__label {background-color: #d4ebff;}#sk-container-id-1 div.sk-serial::before {content: \"\";position: absolute;border-left: 1px solid gray;box-sizing: border-box;top: 0;bottom: 0;left: 50%;z-index: 0;}#sk-container-id-1 div.sk-serial {display: flex;flex-direction: column;align-items: center;background-color: white;padding-right: 0.2em;padding-left: 0.2em;position: relative;}#sk-container-id-1 div.sk-item {position: relative;z-index: 1;}#sk-container-id-1 div.sk-parallel {display: flex;align-items: stretch;justify-content: center;background-color: white;position: relative;}#sk-container-id-1 div.sk-item::before, #sk-container-id-1 div.sk-parallel-item::before {content: \"\";position: absolute;border-left: 1px solid gray;box-sizing: border-box;top: 0;bottom: 0;left: 50%;z-index: -1;}#sk-container-id-1 div.sk-parallel-item {display: flex;flex-direction: column;z-index: 1;position: relative;background-color: white;}#sk-container-id-1 div.sk-parallel-item:first-child::after {align-self: flex-end;width: 50%;}#sk-container-id-1 div.sk-parallel-item:last-child::after {align-self: flex-start;width: 50%;}#sk-container-id-1 div.sk-parallel-item:only-child::after {width: 0;}#sk-container-id-1 div.sk-dashed-wrapped {border: 1px dashed gray;margin: 0 0.4em 0.5em 0.4em;box-sizing: border-box;padding-bottom: 0.4em;background-color: white;}#sk-container-id-1 div.sk-label label {font-family: monospace;font-weight: bold;display: inline-block;line-height: 1.2em;}#sk-container-id-1 div.sk-label-container {text-align: center;}#sk-container-id-1 div.sk-container {/* jupyter's `normalize.less` sets `[hidden] { display: none; }` but bootstrap.min.css set `[hidden] { display: none !important; }` so we also need the `!important` here to be able to override the default hidden behavior on the sphinx rendered scikit-learn.org. See: https://github.com/scikit-learn/scikit-learn/issues/21755 */display: inline-block !important;position: relative;}#sk-container-id-1 div.sk-text-repr-fallback {display: none;}</style><div id=\"sk-container-id-1\" class=\"sk-top-container\"><div class=\"sk-text-repr-fallback\"><pre>StandardScaler()</pre><b>In a Jupyter environment, please rerun this cell to show the HTML representation or trust the notebook. <br />On GitHub, the HTML representation is unable to render, please try loading this page with nbviewer.org.</b></div><div class=\"sk-container\" hidden><div class=\"sk-item\"><div class=\"sk-estimator sk-toggleable\"><input class=\"sk-toggleable__control sk-hidden--visually\" id=\"sk-estimator-id-1\" type=\"checkbox\" checked><label for=\"sk-estimator-id-1\" class=\"sk-toggleable__label sk-toggleable__label-arrow\">StandardScaler</label><div class=\"sk-toggleable__content\"><pre>StandardScaler()</pre></div></div></div></div></div>"
     },
     "execution_count": 32,
     "metadata": {},
     "output_type": "execute_result"
    }
   ],
   "source": [
    "# Inicializar o Scaler\n",
    "scaler = StandardScaler()\n",
    "\n",
    "# Treinar o Scaler\n",
    "scaler.fit(X_features_train)"
   ],
   "metadata": {
    "collapsed": false,
    "pycharm": {
     "name": "#%%\n"
    }
   }
  },
  {
   "cell_type": "code",
   "execution_count": 33,
   "outputs": [
    {
     "data": {
      "text/plain": "        positiva    neutra  negativa\n197845 -0.904585 -0.888395 -0.890041\n96984  -0.446348 -0.381041 -0.364526\n341843  0.188440 -0.353804 -0.253275\n309171 -0.903373 -0.844074 -0.864826\n339827 -0.408510 -0.351064 -0.503752",
      "text/html": "<div>\n<style scoped>\n    .dataframe tbody tr th:only-of-type {\n        vertical-align: middle;\n    }\n\n    .dataframe tbody tr th {\n        vertical-align: top;\n    }\n\n    .dataframe thead th {\n        text-align: right;\n    }\n</style>\n<table border=\"1\" class=\"dataframe\">\n  <thead>\n    <tr style=\"text-align: right;\">\n      <th></th>\n      <th>positiva</th>\n      <th>neutra</th>\n      <th>negativa</th>\n    </tr>\n  </thead>\n  <tbody>\n    <tr>\n      <th>197845</th>\n      <td>-0.904585</td>\n      <td>-0.888395</td>\n      <td>-0.890041</td>\n    </tr>\n    <tr>\n      <th>96984</th>\n      <td>-0.446348</td>\n      <td>-0.381041</td>\n      <td>-0.364526</td>\n    </tr>\n    <tr>\n      <th>341843</th>\n      <td>0.188440</td>\n      <td>-0.353804</td>\n      <td>-0.253275</td>\n    </tr>\n    <tr>\n      <th>309171</th>\n      <td>-0.903373</td>\n      <td>-0.844074</td>\n      <td>-0.864826</td>\n    </tr>\n    <tr>\n      <th>339827</th>\n      <td>-0.408510</td>\n      <td>-0.351064</td>\n      <td>-0.503752</td>\n    </tr>\n  </tbody>\n</table>\n</div>"
     },
     "execution_count": 33,
     "metadata": {},
     "output_type": "execute_result"
    }
   ],
   "source": [
    "# Transformar o conjunto de treinamento\n",
    "transformed = scaler.transform(X_features_train)\n",
    "\n",
    "# Gerar um dataframe com a saída do scaler\n",
    "X_features_train_scaled = pd.DataFrame(transformed, columns=scaler.feature_names_in_)\n",
    "\n",
    "# Amostra\n",
    "X_features_train_scaled.sample(5)"
   ],
   "metadata": {
    "collapsed": false,
    "pycharm": {
     "name": "#%%\n"
    }
   }
  },
  {
   "cell_type": "code",
   "execution_count": 34,
   "outputs": [
    {
     "data": {
      "text/plain": "        positiva    neutra  negativa\n210769 -0.572681 -0.540919 -0.535362\n36034  -0.230894 -0.821994 -0.719568\n149255 -0.001078 -0.042590 -0.108017\n104117 -0.939226 -0.915149 -0.905664\n21018  -0.745594 -0.734319 -0.721748",
      "text/html": "<div>\n<style scoped>\n    .dataframe tbody tr th:only-of-type {\n        vertical-align: middle;\n    }\n\n    .dataframe tbody tr th {\n        vertical-align: top;\n    }\n\n    .dataframe thead th {\n        text-align: right;\n    }\n</style>\n<table border=\"1\" class=\"dataframe\">\n  <thead>\n    <tr style=\"text-align: right;\">\n      <th></th>\n      <th>positiva</th>\n      <th>neutra</th>\n      <th>negativa</th>\n    </tr>\n  </thead>\n  <tbody>\n    <tr>\n      <th>210769</th>\n      <td>-0.572681</td>\n      <td>-0.540919</td>\n      <td>-0.535362</td>\n    </tr>\n    <tr>\n      <th>36034</th>\n      <td>-0.230894</td>\n      <td>-0.821994</td>\n      <td>-0.719568</td>\n    </tr>\n    <tr>\n      <th>149255</th>\n      <td>-0.001078</td>\n      <td>-0.042590</td>\n      <td>-0.108017</td>\n    </tr>\n    <tr>\n      <th>104117</th>\n      <td>-0.939226</td>\n      <td>-0.915149</td>\n      <td>-0.905664</td>\n    </tr>\n    <tr>\n      <th>21018</th>\n      <td>-0.745594</td>\n      <td>-0.734319</td>\n      <td>-0.721748</td>\n    </tr>\n  </tbody>\n</table>\n</div>"
     },
     "execution_count": 34,
     "metadata": {},
     "output_type": "execute_result"
    }
   ],
   "source": [
    "transformed = scaler.transform(X_features_test)\n",
    "\n",
    "# Gerar um dataframe com a saída do scaler\n",
    "X_features_test_scaled = pd.DataFrame(transformed, columns=scaler.feature_names_in_)\n",
    "\n",
    "# Amostra\n",
    "X_features_test_scaled.sample(5)"
   ],
   "metadata": {
    "collapsed": false,
    "pycharm": {
     "name": "#%%\n"
    }
   }
  },
  {
   "cell_type": "markdown",
   "source": [
    "# Learning\n"
   ],
   "metadata": {
    "collapsed": false,
    "pycharm": {
     "name": "#%% md\n"
    }
   }
  },
  {
   "cell_type": "markdown",
   "source": [
    "## Baseline Score\n",
    "\n",
    "Aqui vamos, criar um score de base. Ou seja, o resultado que conseguiriamos com o menor esforço possível (que é atribuir indiscriminadamente qualquer valor)\n",
    "\n",
    "Referências:\n",
    "- [https://scikit-learn.org/stable/modules/model_evaluation.html#precision-recall-f-measure-metrics](https://scikit-learn.org/stable/modules/model_evaluation.html#precision-recall-f-measure-metrics)"
   ],
   "metadata": {
    "collapsed": false,
    "pycharm": {
     "name": "#%% md\n"
    }
   }
  },
  {
   "cell_type": "code",
   "execution_count": 35,
   "outputs": [
    {
     "name": "stdout",
     "output_type": "stream",
     "text": [
      "F-Score: 3.64%\n"
     ]
    }
   ],
   "source": [
    "# Assumindo tudo como 0\n",
    "score_assumindo_tudo_neutro = f1_score(\n",
    "    y_features_train, [0 for _ in y_features_train], average=\"weighted\"\n",
    ")\n",
    "\n",
    "print(\"F-Score: {:.2f}%\".format(score_assumindo_tudo_neutro * 100))"
   ],
   "metadata": {
    "collapsed": false,
    "pycharm": {
     "name": "#%%\n"
    }
   }
  },
  {
   "cell_type": "code",
   "execution_count": 36,
   "outputs": [
    {
     "name": "stdout",
     "output_type": "stream",
     "text": [
      "F-Score: 11.62%\n"
     ]
    }
   ],
   "source": [
    "# Assumindo tudo como -1\n",
    "score_assumindo_tudo_negativo = f1_score(\n",
    "    y_features_train, [-1 for _ in y_features_train], average=\"weighted\"\n",
    ")\n",
    "\n",
    "print(\"F-Score: {:.2f}%\".format(score_assumindo_tudo_negativo * 100))"
   ],
   "metadata": {
    "collapsed": false,
    "pycharm": {
     "name": "#%%\n"
    }
   }
  },
  {
   "cell_type": "code",
   "execution_count": 37,
   "outputs": [
    {
     "name": "stdout",
     "output_type": "stream",
     "text": [
      "F-Score: 43.03%\n"
     ]
    }
   ],
   "source": [
    "# Assumindo tudo como 1\n",
    "score_assumindo_tudo_positivo = f1_score(\n",
    "    y_features_train, [1 for _ in y_features_train], average=\"weighted\"\n",
    ")\n",
    "\n",
    "print(\"F-Score: {:.2f}%\".format(score_assumindo_tudo_positivo * 100))"
   ],
   "metadata": {
    "collapsed": false,
    "pycharm": {
     "name": "#%%\n"
    }
   }
  },
  {
   "cell_type": "code",
   "execution_count": 38,
   "outputs": [
    {
     "name": "stdout",
     "output_type": "stream",
     "text": [
      "F-Score: 43.03%\n"
     ]
    }
   ],
   "source": [
    "# Baseline Score\n",
    "baseline_score = np.max(\n",
    "    [\n",
    "        score_assumindo_tudo_neutro,\n",
    "        score_assumindo_tudo_negativo,\n",
    "        score_assumindo_tudo_positivo,\n",
    "    ]\n",
    ")\n",
    "\n",
    "print(\"F-Score: {:.2f}%\".format(baseline_score * 100))"
   ],
   "metadata": {
    "collapsed": false,
    "pycharm": {
     "name": "#%%\n"
    }
   }
  },
  {
   "cell_type": "markdown",
   "source": [
    "## Logistic Regression\n",
    "\n",
    "Referências:\n",
    "- [https://en.wikipedia.org/wiki/Logistic_regression](https://en.wikipedia.org/wiki/Logistic_regression)\n",
    "- [https://scikit-learn.org/stable/modules/linear_model.html#logistic-regression](https://scikit-learn.org/stable/modules/linear_model.html#logistic-regression)"
   ],
   "metadata": {
    "collapsed": false,
    "pycharm": {
     "name": "#%% md\n"
    }
   }
  },
  {
   "cell_type": "code",
   "execution_count": 39,
   "outputs": [],
   "source": [
    "log = LogisticRegression(random_state=42)"
   ],
   "metadata": {
    "collapsed": false,
    "pycharm": {
     "name": "#%%\n"
    }
   }
  },
  {
   "cell_type": "markdown",
   "source": [
    "### Otimização de Hyperparametros\n",
    "\n",
    "Nesse passo, vamos tentar encontrar a melhor combinação de hyperparametros para o modelo\n",
    "\n",
    "Referências:\n",
    "\n",
    "- [https://scikit-learn.org/stable/modules/grid_search.html#randomized-parameter-search](https://scikit-learn.org/stable/modules/grid_search.html#randomized-parameter-search)"
   ],
   "metadata": {
    "collapsed": false,
    "pycharm": {
     "name": "#%% md\n"
    }
   }
  },
  {
   "cell_type": "code",
   "execution_count": 40,
   "outputs": [
    {
     "name": "stdout",
     "output_type": "stream",
     "text": [
      "Best F-Score: 52.12%\n"
     ]
    }
   ],
   "source": [
    "params = {\n",
    "    \"C\": [\n",
    "        0.47,\n",
    "        0.53,\n",
    "        0.59,\n",
    "        0.61,\n",
    "        0.67,\n",
    "        0.71,\n",
    "        0.73,\n",
    "        0.79,\n",
    "        0.83,\n",
    "        0.89,\n",
    "        0.97,\n",
    "        1,\n",
    "        2,\n",
    "        3,\n",
    "        5,\n",
    "        7,\n",
    "        9,\n",
    "        11,\n",
    "        13,\n",
    "        17,\n",
    "        19,\n",
    "        21,\n",
    "    ],\n",
    "    \"tol\": [1e-5, 5e-5, 1e-4, 5e-4, 1e-3, 5e-3],\n",
    "}\n",
    "\n",
    "clf = RandomizedSearchCV(log, params, scoring=\"f1_weighted\", n_jobs=-1, random_state=42)\n",
    "clf.fit(X_features_train_scaled, y_features_train)\n",
    "\n",
    "print(\"Best F-Score: {:.2f}%\".format(clf.best_score_ * 100))"
   ],
   "metadata": {
    "collapsed": false,
    "pycharm": {
     "name": "#%%\n"
    }
   }
  },
  {
   "cell_type": "code",
   "execution_count": 41,
   "outputs": [],
   "source": [
    "classifier = clf.best_estimator_"
   ],
   "metadata": {
    "collapsed": false,
    "pycharm": {
     "name": "#%%\n"
    }
   }
  },
  {
   "cell_type": "markdown",
   "source": [
    "#### Comparação com Métrica base"
   ],
   "metadata": {
    "collapsed": false,
    "pycharm": {
     "name": "#%% md\n"
    }
   }
  },
  {
   "cell_type": "code",
   "execution_count": 42,
   "outputs": [
    {
     "name": "stdout",
     "output_type": "stream",
     "text": [
      "Score Baseline : 43.03%\n",
      "Score Modelo   : 52.12%\n",
      "Diferença      : 9.10%\n"
     ]
    }
   ],
   "source": [
    "print(\"Score Baseline : {:.2f}%\".format(baseline_score * 100))\n",
    "print(\"Score Modelo   : {:.2f}%\".format(clf.best_score_ * 100))\n",
    "print(\"Diferença      : {:.2f}%\".format(np.abs(baseline_score - clf.best_score_) * 100))"
   ],
   "metadata": {
    "collapsed": false,
    "pycharm": {
     "name": "#%%\n"
    }
   }
  },
  {
   "cell_type": "markdown",
   "source": [
    "### Performance no Conjunto de Treino"
   ],
   "metadata": {
    "collapsed": false,
    "pycharm": {
     "name": "#%% md\n"
    }
   }
  },
  {
   "cell_type": "code",
   "execution_count": 43,
   "outputs": [
    {
     "name": "stdout",
     "output_type": "stream",
     "text": [
      "F-Score: 52.12%\n"
     ]
    }
   ],
   "source": [
    "y_pred = classifier.predict(X_features_train_scaled)\n",
    "score = f1_score(y_features_train, y_pred, average=\"weighted\")\n",
    "print(\"F-Score: {:.2f}%\".format(score * 100))"
   ],
   "metadata": {
    "collapsed": false,
    "pycharm": {
     "name": "#%%\n"
    }
   }
  },
  {
   "cell_type": "markdown",
   "source": [
    "### Curva de Aprendizado"
   ],
   "metadata": {
    "collapsed": false,
    "pycharm": {
     "name": "#%% md\n"
    }
   }
  },
  {
   "cell_type": "code",
   "execution_count": 44,
   "outputs": [],
   "source": [
    "def plot_learning_curve(estimator, X, y, scoring):\n",
    "\n",
    "    plt.figure(figsize=(8, 6))\n",
    "    plt.title(\"Learning Curve\")\n",
    "\n",
    "    plt.xlabel(\"Training examples\")\n",
    "    plt.ylabel(\"Score: {}\".format(scoring))\n",
    "\n",
    "    train_sizes, train_scores, test_scores = learning_curve(\n",
    "        estimator, X, y, scoring=scoring, n_jobs=-1\n",
    "    )\n",
    "\n",
    "    train_scores_mean = np.mean(train_scores, axis=1)\n",
    "    train_scores_std = np.std(train_scores, axis=1)\n",
    "    test_scores_mean = np.mean(test_scores, axis=1)\n",
    "    test_scores_std = np.std(test_scores, axis=1)\n",
    "\n",
    "    plt.ylim(round(min([np.min(train_scores), np.min(test_scores)]), 2) - 0.01, 1.01)\n",
    "\n",
    "    plt.grid()\n",
    "\n",
    "    plt.fill_between(\n",
    "        train_sizes,\n",
    "        train_scores_mean - train_scores_std,\n",
    "        train_scores_mean + train_scores_std,\n",
    "        alpha=0.1,\n",
    "        color=\"r\",\n",
    "    )\n",
    "\n",
    "    plt.fill_between(\n",
    "        train_sizes,\n",
    "        test_scores_mean - test_scores_std,\n",
    "        test_scores_mean + test_scores_std,\n",
    "        alpha=0.1,\n",
    "        color=\"g\",\n",
    "    )\n",
    "\n",
    "    plt.plot(train_sizes, train_scores_mean, \"o-\", color=\"r\", label=\"Training score\")\n",
    "    plt.plot(\n",
    "        train_sizes, test_scores_mean, \"o-\", color=\"g\", label=\"Cross-validation score\"\n",
    "    )\n",
    "\n",
    "    plt.legend(loc=\"best\")\n",
    "\n",
    "    return plt"
   ],
   "metadata": {
    "collapsed": false,
    "pycharm": {
     "name": "#%%\n"
    }
   }
  },
  {
   "cell_type": "code",
   "execution_count": 45,
   "outputs": [
    {
     "data": {
      "text/plain": "<Figure size 800x600 with 1 Axes>",
      "image/png": "[encoded data removed]"
     },
     "metadata": {},
     "output_type": "display_data"
    }
   ],
   "source": [
    "plt = plot_learning_curve(\n",
    "    classifier, X_features_train_scaled, y_features_train, scoring=\"f1_weighted\"\n",
    ")\n",
    "plt.show()"
   ],
   "metadata": {
    "collapsed": false,
    "pycharm": {
     "name": "#%%\n"
    }
   }
  },
  {
   "cell_type": "markdown",
   "source": [
    "## Random Forest\n",
    "\n",
    "Referências:\n",
    "- [https://en.wikipedia.org/wiki/Random_forest](https://en.wikipedia.org/wiki/Random_forest)\n",
    "- [https://scikit-learn.org/stable/modules/ensemble.html#forest](https://scikit-learn.org/stable/modules/ensemble.html#forest)"
   ],
   "metadata": {
    "collapsed": false,
    "pycharm": {
     "name": "#%% md\n"
    }
   }
  },
  {
   "cell_type": "code",
   "execution_count": 46,
   "outputs": [],
   "source": [
    "rf = RandomForestClassifier(\n",
    "    n_estimators=200,\n",
    "    min_samples_split=4,\n",
    "    min_samples_leaf=2,\n",
    "    random_state=42,\n",
    "    n_jobs=-1,\n",
    ")"
   ],
   "metadata": {
    "collapsed": false,
    "pycharm": {
     "name": "#%%\n"
    }
   }
  },
  {
   "cell_type": "code",
   "execution_count": 47,
   "outputs": [
    {
     "name": "stdout",
     "output_type": "stream",
     "text": [
      "Elapsed Time:  101 seconds\n",
      "F-Score: 58.92%\n"
     ]
    }
   ],
   "source": [
    "s1 = time()\n",
    "scores = cross_val_score(\n",
    "    rf, X_features_train_scaled, y_features_train, scoring=\"f1_weighted\"\n",
    ")\n",
    "rf_score = scores.mean()\n",
    "\n",
    "s2 = time()\n",
    "print(\"Elapsed Time: \", int(s2 - s1), \"seconds\")\n",
    "\n",
    "print(\"F-Score: {:.2f}%\".format(rf_score * 100))"
   ],
   "metadata": {
    "collapsed": false,
    "pycharm": {
     "name": "#%%\n"
    }
   }
  },
  {
   "cell_type": "code",
   "execution_count": 48,
   "outputs": [
    {
     "data": {
      "text/plain": "RandomForestClassifier(min_samples_leaf=2, min_samples_split=4,\n                       n_estimators=200, n_jobs=-1, random_state=42)",
      "text/html": "<style>#sk-container-id-2 {color: black;background-color: white;}#sk-container-id-2 pre{padding: 0;}#sk-container-id-2 div.sk-toggleable {background-color: white;}#sk-container-id-2 label.sk-toggleable__label {cursor: pointer;display: block;width: 100%;margin-bottom: 0;padding: 0.3em;box-sizing: border-box;text-align: center;}#sk-container-id-2 label.sk-toggleable__label-arrow:before {content: \"▸\";float: left;margin-right: 0.25em;color: #696969;}#sk-container-id-2 label.sk-toggleable__label-arrow:hover:before {color: black;}#sk-container-id-2 div.sk-estimator:hover label.sk-toggleable__label-arrow:before {color: black;}#sk-container-id-2 div.sk-toggleable__content {max-height: 0;max-width: 0;overflow: hidden;text-align: left;background-color: #f0f8ff;}#sk-container-id-2 div.sk-toggleable__content pre {margin: 0.2em;color: black;border-radius: 0.25em;background-color: #f0f8ff;}#sk-container-id-2 input.sk-toggleable__control:checked~div.sk-toggleable__content {max-height: 200px;max-width: 100%;overflow: auto;}#sk-container-id-2 input.sk-toggleable__control:checked~label.sk-toggleable__label-arrow:before {content: \"▾\";}#sk-container-id-2 div.sk-estimator input.sk-toggleable__control:checked~label.sk-toggleable__label {background-color: #d4ebff;}#sk-container-id-2 div.sk-label input.sk-toggleable__control:checked~label.sk-toggleable__label {background-color: #d4ebff;}#sk-container-id-2 input.sk-hidden--visually {border: 0;clip: rect(1px 1px 1px 1px);clip: rect(1px, 1px, 1px, 1px);height: 1px;margin: -1px;overflow: hidden;padding: 0;position: absolute;width: 1px;}#sk-container-id-2 div.sk-estimator {font-family: monospace;background-color: #f0f8ff;border: 1px dotted black;border-radius: 0.25em;box-sizing: border-box;margin-bottom: 0.5em;}#sk-container-id-2 div.sk-estimator:hover {background-color: #d4ebff;}#sk-container-id-2 div.sk-parallel-item::after {content: \"\";width: 100%;border-bottom: 1px solid gray;flex-grow: 1;}#sk-container-id-2 div.sk-label:hover label.sk-toggleable__label {background-color: #d4ebff;}#sk-container-id-2 div.sk-serial::before {content: \"\";position: absolute;border-left: 1px solid gray;box-sizing: border-box;top: 0;bottom: 0;left: 50%;z-index: 0;}#sk-container-id-2 div.sk-serial {display: flex;flex-direction: column;align-items: center;background-color: white;padding-right: 0.2em;padding-left: 0.2em;position: relative;}#sk-container-id-2 div.sk-item {position: relative;z-index: 1;}#sk-container-id-2 div.sk-parallel {display: flex;align-items: stretch;justify-content: center;background-color: white;position: relative;}#sk-container-id-2 div.sk-item::before, #sk-container-id-2 div.sk-parallel-item::before {content: \"\";position: absolute;border-left: 1px solid gray;box-sizing: border-box;top: 0;bottom: 0;left: 50%;z-index: -1;}#sk-container-id-2 div.sk-parallel-item {display: flex;flex-direction: column;z-index: 1;position: relative;background-color: white;}#sk-container-id-2 div.sk-parallel-item:first-child::after {align-self: flex-end;width: 50%;}#sk-container-id-2 div.sk-parallel-item:last-child::after {align-self: flex-start;width: 50%;}#sk-container-id-2 div.sk-parallel-item:only-child::after {width: 0;}#sk-container-id-2 div.sk-dashed-wrapped {border: 1px dashed gray;margin: 0 0.4em 0.5em 0.4em;box-sizing: border-box;padding-bottom: 0.4em;background-color: white;}#sk-container-id-2 div.sk-label label {font-family: monospace;font-weight: bold;display: inline-block;line-height: 1.2em;}#sk-container-id-2 div.sk-label-container {text-align: center;}#sk-container-id-2 div.sk-container {/* jupyter's `normalize.less` sets `[hidden] { display: none; }` but bootstrap.min.css set `[hidden] { display: none !important; }` so we also need the `!important` here to be able to override the default hidden behavior on the sphinx rendered scikit-learn.org. See: https://github.com/scikit-learn/scikit-learn/issues/21755 */display: inline-block !important;position: relative;}#sk-container-id-2 div.sk-text-repr-fallback {display: none;}</style><div id=\"sk-container-id-2\" class=\"sk-top-container\"><div class=\"sk-text-repr-fallback\"><pre>RandomForestClassifier(min_samples_leaf=2, min_samples_split=4,\n                       n_estimators=200, n_jobs=-1, random_state=42)</pre><b>In a Jupyter environment, please rerun this cell to show the HTML representation or trust the notebook. <br />On GitHub, the HTML representation is unable to render, please try loading this page with nbviewer.org.</b></div><div class=\"sk-container\" hidden><div class=\"sk-item\"><div class=\"sk-estimator sk-toggleable\"><input class=\"sk-toggleable__control sk-hidden--visually\" id=\"sk-estimator-id-2\" type=\"checkbox\" checked><label for=\"sk-estimator-id-2\" class=\"sk-toggleable__label sk-toggleable__label-arrow\">RandomForestClassifier</label><div class=\"sk-toggleable__content\"><pre>RandomForestClassifier(min_samples_leaf=2, min_samples_split=4,\n                       n_estimators=200, n_jobs=-1, random_state=42)</pre></div></div></div></div></div>"
     },
     "execution_count": 48,
     "metadata": {},
     "output_type": "execute_result"
    }
   ],
   "source": [
    "rf.fit(X_features_train_scaled, y_features_train)"
   ],
   "metadata": {
    "collapsed": false,
    "pycharm": {
     "name": "#%%\n"
    }
   }
  },
  {
   "cell_type": "markdown",
   "source": [
    "### Otimização de Hyperparametros\n",
    "\n",
    "Nesse passo, vamos tentar encontrar a melhor combinação de hyperparametros para o modelo\n",
    "\n",
    "Referências:\n",
    "\n",
    "- [https://scikit-learn.org/stable/modules/grid_search.html#randomized-parameter-search]"
   ],
   "metadata": {
    "collapsed": false,
    "pycharm": {
     "name": "#%% md\n"
    }
   }
  },
  {
   "cell_type": "code",
   "execution_count": 49,
   "outputs": [],
   "source": [
    "# Codigo\n",
    "# rf = RandomForestClassifier(random_state = 42, n_jobs = -1)\n",
    "# params = {\n",
    "#   'n_estimators': [100,200,300],\n",
    "#   'min_samples_split': [2,3,4,5],\n",
    "#   'min_samples_leaf': [1,2,3,4],\n",
    "# }\n",
    "\n",
    "# clf = RandomizedSearchCV(rf, params, scoring='f1_weighted', random_state=42)\n",
    "# clf.fit(X_features_train_scaled, y_features_train)\n",
    "\n",
    "# print(\"Best F-Score: {:.2f}%\".format(clf.best_score_*100))"
   ],
   "metadata": {
    "collapsed": false,
    "pycharm": {
     "name": "#%%\n"
    }
   }
  },
  {
   "cell_type": "code",
   "execution_count": 50,
   "outputs": [
    {
     "name": "stdout",
     "output_type": "stream",
     "text": [
      "{'n_estimators': 200, 'min_samples_split': 4, 'min_samples_leaf': 2}\n"
     ]
    }
   ],
   "source": [
    "# clf.best_params_\n",
    "print({\"n_estimators\": 200, \"min_samples_split\": 4, \"min_samples_leaf\": 2})"
   ],
   "metadata": {
    "collapsed": false,
    "pycharm": {
     "name": "#%%\n"
    }
   }
  },
  {
   "cell_type": "code",
   "execution_count": 51,
   "outputs": [],
   "source": [
    "# rf = clf.best_estimator_"
   ],
   "metadata": {
    "collapsed": false,
    "pycharm": {
     "name": "#%%\n"
    }
   }
  },
  {
   "cell_type": "markdown",
   "source": [
    "#### Comparação com Métrica base"
   ],
   "metadata": {
    "collapsed": false,
    "pycharm": {
     "name": "#%% md\n"
    }
   }
  },
  {
   "cell_type": "code",
   "execution_count": 52,
   "outputs": [
    {
     "name": "stdout",
     "output_type": "stream",
     "text": [
      "Score Baseline : 43.03%\n",
      "Score Modelo   : 58.92%\n",
      "Diferença      : 15.90%\n"
     ]
    }
   ],
   "source": [
    "print(\"Score Baseline : {:.2f}%\".format(baseline_score * 100))\n",
    "print(\"Score Modelo   : {:.2f}%\".format(rf_score * 100))\n",
    "print(\"Diferença      : {:.2f}%\".format(np.abs(baseline_score - rf_score) * 100))"
   ],
   "metadata": {
    "collapsed": false,
    "pycharm": {
     "name": "#%%\n"
    }
   }
  },
  {
   "cell_type": "markdown",
   "source": [
    "### Performance no Conjunto de Treino"
   ],
   "metadata": {
    "collapsed": false,
    "pycharm": {
     "name": "#%% md\n"
    }
   }
  },
  {
   "cell_type": "code",
   "execution_count": 53,
   "outputs": [
    {
     "name": "stdout",
     "output_type": "stream",
     "text": [
      "F-Score: 90.28%\n"
     ]
    }
   ],
   "source": [
    "y_pred = rf.predict(X_features_train_scaled)\n",
    "score = f1_score(y_features_train, y_pred, average=\"weighted\")\n",
    "print(\"F-Score: {:.2f}%\".format(score * 100))"
   ],
   "metadata": {
    "collapsed": false,
    "pycharm": {
     "name": "#%%\n"
    }
   }
  },
  {
   "cell_type": "markdown",
   "source": [
    "### Curva de Aprendizado"
   ],
   "metadata": {
    "collapsed": false,
    "pycharm": {
     "name": "#%% md\n"
    }
   }
  },
  {
   "cell_type": "code",
   "execution_count": 54,
   "outputs": [
    {
     "data": {
      "text/plain": "<Figure size 800x600 with 1 Axes>",
      "image/png": "[encoded data removed]"
     },
     "metadata": {},
     "output_type": "display_data"
    }
   ],
   "source": [
    "plt = plot_learning_curve(\n",
    "    classifier, X_features_train_scaled, y_features_train, scoring=\"f1_weighted\"\n",
    ")\n",
    "plt.show()"
   ],
   "metadata": {
    "collapsed": false,
    "pycharm": {
     "name": "#%%\n"
    }
   }
  },
  {
   "cell_type": "markdown",
   "source": [
    "## Validação em conjunto de Teste"
   ],
   "metadata": {
    "collapsed": false,
    "pycharm": {
     "name": "#%% md\n"
    }
   }
  },
  {
   "cell_type": "code",
   "execution_count": 55,
   "outputs": [
    {
     "name": "stdout",
     "output_type": "stream",
     "text": [
      "F-Score: 58.73%\n"
     ]
    }
   ],
   "source": [
    "y_pred = rf.predict(X_features_test_scaled)\n",
    "score = f1_score(y_features_test, y_pred, average=\"weighted\")\n",
    "print(\"F-Score: {:.2f}%\".format(score * 100))"
   ],
   "metadata": {
    "collapsed": false,
    "pycharm": {
     "name": "#%%\n"
    }
   }
  },
  {
   "cell_type": "markdown",
   "source": [
    "### Preditos Positivos"
   ],
   "metadata": {
    "collapsed": false,
    "pycharm": {
     "name": "#%% md\n"
    }
   }
  },
  {
   "cell_type": "code",
   "execution_count": 56,
   "outputs": [],
   "source": [
    "preditos_positivos = X_test[y_pred == 1]"
   ],
   "metadata": {
    "collapsed": false,
    "pycharm": {
     "name": "#%%\n"
    }
   }
  },
  {
   "cell_type": "markdown",
   "source": [
    "#### Falso Positivo -> Negativo"
   ],
   "metadata": {
    "collapsed": false,
    "pycharm": {
     "name": "#%% md\n"
    }
   }
  },
  {
   "cell_type": "code",
   "execution_count": 57,
   "outputs": [
    {
     "data": {
      "text/plain": "array(['são os brações que não deixam ele completar o coração 😔',\n       'maldita carinha vai dize se n é o amor da mia vida 😭',\n       'que pena que não dá tempo pra tu vim junto😔',\n       'as homenagens continuam😭',\n       'não! todos tem a ver com algum elemento kkk exceto hatsheput, que foi uma homenagem a uma rainha egípcia pela qual eu estava obcecada na época 💀',\n       'tão se juntando pra meter o pau em mim 😔😤',\n       'minhas aulas começam amanhã, adeus férias 😭',\n       'eu só queria um feriado 😩',\n       'nao ... 😔 mas tem um cara cara aí que as vezes tenta ser responsável pra se mostrar um pai presente pras pessoas ne...',\n       'só pq te dei o gatinho 😔'], dtype=object)"
     },
     "execution_count": 57,
     "metadata": {},
     "output_type": "execute_result"
    }
   ],
   "source": [
    "preditos_positivos[preditos_positivos[\"label\"] == -1][\"text\"].sample(10).values"
   ],
   "metadata": {
    "collapsed": false,
    "pycharm": {
     "name": "#%%\n"
    }
   }
  },
  {
   "cell_type": "markdown",
   "source": [
    "#### Falso Positivo -> Neutro"
   ],
   "metadata": {
    "collapsed": false,
    "pycharm": {
     "name": "#%% md\n"
    }
   }
  },
  {
   "cell_type": "code",
   "execution_count": 58,
   "outputs": [
    {
     "data": {
      "text/plain": "array(['qualquer coisa que eu falo pra minha mãe ela fala chega do guarujá vem embora logo pra são paulo eu fico pensativa o mês inteiro 😩😂😂',\n       'cometo sempre e não tenho vergonha 😂',\n       'deyverson é o novo treinador do vozão! ⚫️⚪️ o comandante e sua comissão chegam quinta-feira na capital cearense. bem-vindo, professor! 👊 cearásc vozão',\n       'o famoso nunca mais aconteceu novamente 😶😂',\n       'que que aconteceu? tava lavando o cabelo 😱',\n       'prendi a alça da mochila três vezes ontem no banco dos ônibus q inferno q foi p tirar 😅',\n       'bom diaaa, o sol já nasceu lá na fazendinhaaa 💥🌞',\n       'claro, tu brinca mt 😂',\n       'krai, mabi prozeando com geral e eu pra la e pra ca balones kkk 🔥',\n       '👀 partiu ?? 🤣🤣🤪'], dtype=object)"
     },
     "execution_count": 58,
     "metadata": {},
     "output_type": "execute_result"
    }
   ],
   "source": [
    "preditos_positivos[preditos_positivos[\"label\"] == 0][\"text\"].sample(10).values"
   ],
   "metadata": {
    "collapsed": false,
    "pycharm": {
     "name": "#%%\n"
    }
   }
  },
  {
   "cell_type": "markdown",
   "source": [
    "#### Verdadeiro Positivo"
   ],
   "metadata": {
    "collapsed": false,
    "pycharm": {
     "name": "#%% md\n"
    }
   }
  },
  {
   "cell_type": "code",
   "execution_count": 59,
   "outputs": [
    {
     "data": {
      "text/plain": "array(['não mesmo 😌', 'boom dia ✨🤞🏼',\n       'e há boatos q o presidente está numa pior 🤔🤔😂😂🥂🥂',\n       'bom diaaa com jesus ❤️\\u200d🔥❤️\\u200d🔥❤️\\u200d🔥',\n       'pai é amor, cuidado, proteção.. pai é bênção!! papai nota . ❤',\n       'ultimos destaques 🤨 bolsonaro resolveu suspender o uso de radares ... 😉 temendo empate, comissão que sabatinará ed…',\n       'essa vergonha eu não passei 💪',\n       'ah, vá!!! conta uma novidade agora!!! 😋😋😋',\n       'ontem eu fui dormir com um \"boa noite vida\" 😻',\n       'uma mulher com sua skin care completa não quer guerra com ninguém 💖'],\n      dtype=object)"
     },
     "execution_count": 59,
     "metadata": {},
     "output_type": "execute_result"
    }
   ],
   "source": [
    "preditos_positivos[preditos_positivos[\"label\"] == 1][\"text\"].sample(10).values"
   ],
   "metadata": {
    "collapsed": false,
    "pycharm": {
     "name": "#%%\n"
    }
   }
  },
  {
   "cell_type": "markdown",
   "source": [
    "### Preditos Negativos"
   ],
   "metadata": {
    "collapsed": false,
    "pycharm": {
     "name": "#%% md\n"
    }
   }
  },
  {
   "cell_type": "code",
   "execution_count": 60,
   "outputs": [],
   "source": [
    "preditos_negativos = X_test[y_pred == -1]"
   ],
   "metadata": {
    "collapsed": false,
    "pycharm": {
     "name": "#%%\n"
    }
   }
  },
  {
   "cell_type": "markdown",
   "source": [
    "#### Falso Negativo -> Positivo"
   ],
   "metadata": {
    "collapsed": false,
    "pycharm": {
     "name": "#%% md\n"
    }
   }
  },
  {
   "cell_type": "code",
   "execution_count": 61,
   "outputs": [
    {
     "data": {
      "text/plain": "array(['bem q a minha sala tava precisando de uma animação, uma treta não faz mal a ninguém 😜',\n       'que sono 😴💤💤 vou dormir mais um pouco',\n       'eu tava com saudades do meu querido twitter 💙',\n       'assistindo tudo em inglês agora!💜',\n       'depende de qual, tem umas que são horríveis (aquelas gigante) mas tem umas que são fantásticas 😍',\n       'se arranca a cursar 💪', 'to nem aí pra porra nenhuma 😌',\n       '😚 biquinho', 'eu só queria ter pai presente só isso 😌',\n       'no problem, nana 💜'], dtype=object)"
     },
     "execution_count": 61,
     "metadata": {},
     "output_type": "execute_result"
    }
   ],
   "source": [
    "preditos_negativos[preditos_negativos[\"label\"] == 1][\"text\"].sample(10).values"
   ],
   "metadata": {
    "collapsed": false,
    "pycharm": {
     "name": "#%%\n"
    }
   }
  },
  {
   "cell_type": "markdown",
   "source": [
    "#### Falso Negativo -> Neutro"
   ],
   "metadata": {
    "collapsed": false,
    "pycharm": {
     "name": "#%% md\n"
    }
   }
  },
  {
   "cell_type": "code",
   "execution_count": 62,
   "outputs": [
    {
     "data": {
      "text/plain": "array(['é uns pobre mais fudido q eu apoiando o bolsonaro, q eu fico 🤔🤔🤔😳🤨🤨',\n       'ma’am 😂', 'acho q meu celular chega amanhã 👀👀',\n       'tenho um aluno que é igualzinho esse que tá querendo brigar 🤣🤣 passo um dobrado quando isso acontece 😰',\n       'é o que tô pensando? 👀',\n       'tenho medo de dormi sozinha nessa casa 😢', 'qr ser o 😳',\n       'cara ninguém me ensinou agr querem me cobrar 😥',\n       'pensar nisto deixa me triste 😢',\n       'tô com você nessa corrida deputado para são paulo .. bora bora pq agora não tem mas volta 🔥'],\n      dtype=object)"
     },
     "execution_count": 62,
     "metadata": {},
     "output_type": "execute_result"
    }
   ],
   "source": [
    "preditos_negativos[preditos_negativos[\"label\"] == 0][\"text\"].sample(10).values"
   ],
   "metadata": {
    "collapsed": false,
    "pycharm": {
     "name": "#%%\n"
    }
   }
  },
  {
   "cell_type": "markdown",
   "source": [
    "#### Verdadeiro Negativo"
   ],
   "metadata": {
    "collapsed": false,
    "pycharm": {
     "name": "#%% md\n"
    }
   }
  },
  {
   "cell_type": "code",
   "execution_count": 63,
   "outputs": [
    {
     "data": {
      "text/plain": "array([\"vim mais no shopping pra comer no mcdonald's vai lá e fecha afz vou ter que comer um burger king agora 💔\",\n       \"passei a pasta d'água no pescoço de danilo ele tá reclamando mas ainda tadinho 😔\",\n       'você é romântico(a)? - solteira 🤪 - simm mas sou timida - sim - sim 😔 - acho q sim viu - sim kk - o…',\n       'tadinho do meu neném ta enjoadinho 💔',\n       'a única coisa q eu precisava mesmo era da mh filha comigo 😭',\n       'saudades sextou em riolândia 😩', 'que dor no corpo 😔', 'huhuu😭',\n       'n aguento mais sentir dor de cabeça 😔', 'volta olimpíadas😭'],\n      dtype=object)"
     },
     "execution_count": 63,
     "metadata": {},
     "output_type": "execute_result"
    }
   ],
   "source": [
    "preditos_negativos[preditos_negativos[\"label\"] == -1][\"text\"].sample(10).values"
   ],
   "metadata": {
    "collapsed": false,
    "pycharm": {
     "name": "#%%\n"
    }
   }
  },
  {
   "cell_type": "markdown",
   "source": [
    "### Preditos Neutros"
   ],
   "metadata": {
    "collapsed": false,
    "pycharm": {
     "name": "#%% md\n"
    }
   }
  },
  {
   "cell_type": "code",
   "execution_count": 64,
   "outputs": [],
   "source": [
    "preditos_neutros = X_test[y_pred == 0]"
   ],
   "metadata": {
    "collapsed": false,
    "pycharm": {
     "name": "#%%\n"
    }
   }
  },
  {
   "cell_type": "markdown",
   "source": [
    "#### Falso Neutro -> Positivo"
   ],
   "metadata": {
    "collapsed": false,
    "pycharm": {
     "name": "#%% md\n"
    }
   }
  },
  {
   "cell_type": "code",
   "execution_count": 65,
   "outputs": [
    {
     "data": {
      "text/plain": "array(['semana de gincana na escola da sophia, já sabem quem vai ganhar a medalha né ? 😂💛',\n       'amizades novas, da um fv aí que eu chamo!!! 😄',\n       'ummm empanadillaaasss bd ❤️😘☕', 'no terceiro ✌',\n       'alexynha dos predinhos 😎', 'uia ele todo apaixonadinho 😍',\n       'o auge da maturidade é ter vontade de falar mil coisas e ficar caladinha. porque o silêncio vence e tem verdades que não precisam ser ditas !😉',\n       'vitória, sai zica 🙌', 'assim de saúde 😀',\n       'o dinheiro move o mundo 🎶'], dtype=object)"
     },
     "execution_count": 65,
     "metadata": {},
     "output_type": "execute_result"
    }
   ],
   "source": [
    "preditos_neutros[preditos_neutros[\"label\"] == 1][\"text\"].sample(10).values"
   ],
   "metadata": {
    "collapsed": false,
    "pycharm": {
     "name": "#%%\n"
    }
   }
  },
  {
   "cell_type": "markdown",
   "source": [
    "#### Falso Neutro -> Negativo"
   ],
   "metadata": {
    "collapsed": false,
    "pycharm": {
     "name": "#%% md\n"
    }
   }
  },
  {
   "cell_type": "code",
   "execution_count": 66,
   "outputs": [
    {
     "data": {
      "text/plain": "array(['um gajo sai de arouca é logo bar aberto na zénite 😒',\n       '😒 . alguém?', 'o medico é bue hot tf😭',\n       'foi horrivel a imagem continua na minha mente 😔',\n       'não sei oque eu ainda estou fazendo acordada, vou acorda : pra ir pro curso amanhã 😪',\n       'eu tinha visto 😭', 'magui 😭😭😭',\n       'essa vida de adulto não é fácil 😭',\n       'aa não lembrei que você ia cortar por agora😔',\n       'nem fala cr, como q pode 😡'], dtype=object)"
     },
     "execution_count": 66,
     "metadata": {},
     "output_type": "execute_result"
    }
   ],
   "source": [
    "preditos_neutros[preditos_neutros[\"label\"] == -1][\"text\"].sample(10).values"
   ],
   "metadata": {
    "collapsed": false,
    "pycharm": {
     "name": "#%%\n"
    }
   }
  },
  {
   "cell_type": "markdown",
   "source": [
    "#### Verdadeiro Neutro"
   ],
   "metadata": {
    "collapsed": false,
    "pycharm": {
     "name": "#%% md\n"
    }
   }
  },
  {
   "cell_type": "code",
   "execution_count": 67,
   "outputs": [
    {
     "data": {
      "text/plain": "array(['crlh pensei q ñ ia conseguir chegar a tempo kkk a lux me salvou 😅',\n       'toca aqui! ✋', 'eu no futo 😅', 'no vex 😂', '😂 sor-praais!',\n       'a minha familia é inteirinha atleticana, pense 😅',\n       'alguém teria um pacote de macarrão e um molho de tomate pra eu fazer sopa pra mim e pra minha mãezinha por favor 😭? estou doente, tenho câncer em estado avançado, perdi parte da visão e audição 😔 moro com a minha mãe que já é idosa, peço doações por nós 🙏',\n       'solteira que se diz??? 😅',\n       'pensei que a cabeça do cara fosse o joelho dela 😥',\n       'missão do dia: fazer essa imagem chegar aos cantos do país, através de todas as redes, e escrever aqui no twiter a frase: bolsonaro usa deus. deus usa lula! 👊🇧🇷'],\n      dtype=object)"
     },
     "execution_count": 67,
     "metadata": {},
     "output_type": "execute_result"
    }
   ],
   "source": [
    "preditos_neutros[preditos_neutros[\"label\"] == 0][\"text\"].sample(10).values"
   ],
   "metadata": {
    "collapsed": false,
    "pycharm": {
     "name": "#%%\n"
    }
   }
  },
  {
   "cell_type": "code",
   "execution_count": 67,
   "outputs": [],
   "source": [],
   "metadata": {
    "collapsed": false,
    "pycharm": {
     "name": "#%%\n"
    }
   }
  }
 ],
 "metadata": {
  "kernelspec": {
   "display_name": "Python 3",
   "language": "python",
   "name": "python3"
  },
  "language_info": {
   "codemirror_mode": {
    "name": "ipython",
    "version": 2
   },
   "file_extension": ".py",
   "mimetype": "text/x-python",
   "name": "python",
   "nbconvert_exporter": "python",
   "pygments_lexer": "ipython2",
   "version": "2.7.6"
  }
 },
 "nbformat": 4,
 "nbformat_minor": 0
}