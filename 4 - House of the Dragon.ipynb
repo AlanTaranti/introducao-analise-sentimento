{
 "cells": [
  {
   "cell_type": "code",
   "execution_count": 1,
   "metadata": {
    "collapsed": true,
    "pycharm": {
     "name": "#%%\n"
    }
   },
   "outputs": [],
   "source": [
    "import pandas as pd\n",
    "import re\n",
    "from pandarallel import pandarallel\n",
    "import nltk\n",
    "from os import path\n",
    "from unicodedata import normalize\n",
    "import seaborn as sns"
   ]
  },
  {
   "cell_type": "code",
   "execution_count": 2,
   "outputs": [
    {
     "name": "stdout",
     "output_type": "stream",
     "text": [
      "INFO: Pandarallel will run on 10 workers.\n",
      "INFO: Pandarallel will use Memory file system to transfer data between the main process and workers.\n"
     ]
    }
   ],
   "source": [
    "pandarallel.initialize(progress_bar=True)"
   ],
   "metadata": {
    "collapsed": false,
    "pycharm": {
     "name": "#%%\n"
    }
   }
  },
  {
   "cell_type": "markdown",
   "source": [
    "# Carregar os dados\n",
    "\n",
    "O conjunto de dados possui 15.500 tweets extraídos sobre House of The Dragon utilizando o Twitter Stream Extractor.\n",
    "\n",
    "\n",
    "Dataset apenas para fins educacionais, para uso em produção recomendo a coleta durante um longo período para diminuir vieses temporais (dia dos pais, situação política, natal)\n",
    "\n",
    "Referência:\n",
    "- [Twitter Stream Extractor](https://github.com/AlanTaranti/twitter_stream_extractor)"
   ],
   "metadata": {
    "collapsed": false,
    "pycharm": {
     "name": "#%% md\n"
    }
   }
  },
  {
   "cell_type": "code",
   "execution_count": 3,
   "outputs": [
    {
     "data": {
      "text/plain": "                    id                                               text\n0  1561490169131372552  hoje lance o primeiro ep de house of the drago...\n0  1561536457717809153          cenas pesadíssimas em house of the dragon\n0  1561536925877559297  Ótima primeira impressão de House of The Drago...\n0  1561572726791442433  @fabwiano e não me arrependi arrepiei do começ...\n0  1561530689102684162  nossa euphoria causou muito mais na minha tl d...\n0  1561574490928209920  rapaziada n tá preparada pra quanta cena bruta...\n0  1561541592078602241                @BarryKeoghanBRA SURTANDO ATÉ AGORA\n0  1561630652776288256  já tá liberado abreviar House of the Dragon pr...\n0  1561489216940527616  HOJE TEM ESTREIA DE HOUSE OF THE DRAGON, E NÃO...\n0  1561657811418873856           @AnisGiulia v- você é… ner- ne- nerdola?",
      "text/html": "<div>\n<style scoped>\n    .dataframe tbody tr th:only-of-type {\n        vertical-align: middle;\n    }\n\n    .dataframe tbody tr th {\n        vertical-align: top;\n    }\n\n    .dataframe thead th {\n        text-align: right;\n    }\n</style>\n<table border=\"1\" class=\"dataframe\">\n  <thead>\n    <tr style=\"text-align: right;\">\n      <th></th>\n      <th>id</th>\n      <th>text</th>\n    </tr>\n  </thead>\n  <tbody>\n    <tr>\n      <th>0</th>\n      <td>1561490169131372552</td>\n      <td>hoje lance o primeiro ep de house of the drago...</td>\n    </tr>\n    <tr>\n      <th>0</th>\n      <td>1561536457717809153</td>\n      <td>cenas pesadíssimas em house of the dragon</td>\n    </tr>\n    <tr>\n      <th>0</th>\n      <td>1561536925877559297</td>\n      <td>Ótima primeira impressão de House of The Drago...</td>\n    </tr>\n    <tr>\n      <th>0</th>\n      <td>1561572726791442433</td>\n      <td>@fabwiano e não me arrependi arrepiei do começ...</td>\n    </tr>\n    <tr>\n      <th>0</th>\n      <td>1561530689102684162</td>\n      <td>nossa euphoria causou muito mais na minha tl d...</td>\n    </tr>\n    <tr>\n      <th>0</th>\n      <td>1561574490928209920</td>\n      <td>rapaziada n tá preparada pra quanta cena bruta...</td>\n    </tr>\n    <tr>\n      <th>0</th>\n      <td>1561541592078602241</td>\n      <td>@BarryKeoghanBRA SURTANDO ATÉ AGORA</td>\n    </tr>\n    <tr>\n      <th>0</th>\n      <td>1561630652776288256</td>\n      <td>já tá liberado abreviar House of the Dragon pr...</td>\n    </tr>\n    <tr>\n      <th>0</th>\n      <td>1561489216940527616</td>\n      <td>HOJE TEM ESTREIA DE HOUSE OF THE DRAGON, E NÃO...</td>\n    </tr>\n    <tr>\n      <th>0</th>\n      <td>1561657811418873856</td>\n      <td>@AnisGiulia v- você é… ner- ne- nerdola?</td>\n    </tr>\n  </tbody>\n</table>\n</div>"
     },
     "execution_count": 3,
     "metadata": {},
     "output_type": "execute_result"
    }
   ],
   "source": [
    "# Definir caminho do arquivo\n",
    "filename = \"got.parquet.gzip\"\n",
    "directory = \"data\"\n",
    "filepath = path.join(directory, filename)\n",
    "\n",
    "# Carregar dados\n",
    "data = pd.read_parquet(filepath)\n",
    "\n",
    "# Amostra dos dados\n",
    "data.sample(10)"
   ],
   "metadata": {
    "collapsed": false,
    "pycharm": {
     "name": "#%%\n"
    }
   }
  },
  {
   "cell_type": "code",
   "execution_count": 4,
   "outputs": [
    {
     "name": "stdout",
     "output_type": "stream",
     "text": [
      "<class 'pandas.core.frame.DataFrame'>\n",
      "Int64Index: 15500 entries, 0 to 0\n",
      "Data columns (total 2 columns):\n",
      " #   Column  Non-Null Count  Dtype \n",
      "---  ------  --------------  ----- \n",
      " 0   id      15500 non-null  object\n",
      " 1   text    15500 non-null  object\n",
      "dtypes: object(2)\n",
      "memory usage: 363.3+ KB\n"
     ]
    }
   ],
   "source": [
    "data.info()"
   ],
   "metadata": {
    "collapsed": false,
    "pycharm": {
     "name": "#%%\n"
    }
   }
  },
  {
   "cell_type": "code",
   "execution_count": 5,
   "outputs": [],
   "source": [
    "def preprocess_data(string, stopwords, stemmer=None):\n",
    "\n",
    "    # Normalizar a string\n",
    "    string_tratada = normalize(\"NFC\", string)\n",
    "\n",
    "    # Converter para minuscula\n",
    "    string_tratada = string_tratada.lower()\n",
    "\n",
    "    # Remover referencia a outros usuários\n",
    "    string_tratada = re.sub(\"(@[\\w]+ | @[\\w]+)\", \" \", string_tratada)\n",
    "\n",
    "    # Remover new line\n",
    "    string_tratada = re.sub(\"\\n\", \" \", string_tratada)\n",
    "\n",
    "    # Remover as hashtags\n",
    "    string_tratada = re.sub(\"(#.+ | #.+)\", \" \", string_tratada)\n",
    "\n",
    "    # Remover os links\n",
    "    string_tratada = re.sub(\"\\w+:\\/\\/\\S+\", \" \", string_tratada)\n",
    "\n",
    "    # Remover Numeros\n",
    "    string_tratada = re.sub(\"\\d\", \" \", string_tratada)\n",
    "\n",
    "    # Remover underline\n",
    "    string_tratada = re.sub(\"_\", \" \", string_tratada)\n",
    "\n",
    "    # Remover os Emojis e Pontuações\n",
    "    string_tratada = re.sub(\"\\W\", \" \", string)\n",
    "\n",
    "    # Tratar Repetições — Permite no máximo 3\n",
    "    string_tratada = re.sub(r\"(.+?)\\1{3,}\", r\"\\1\\1\\1\", string_tratada)\n",
    "\n",
    "    # Remover stopwords\n",
    "    string_tratada = \" \".join(\n",
    "        [\n",
    "            substring\n",
    "            for substring in string_tratada.split()\n",
    "            if substring not in stopwords\n",
    "        ]\n",
    "    )\n",
    "\n",
    "    # Stemming\n",
    "    if stemmer:\n",
    "        string_tratada = \" \".join(\n",
    "            [stemmer.stem(substring) for substring in string_tratada.split()]\n",
    "        )\n",
    "\n",
    "    # Remover espaços extras\n",
    "    string_tratada = re.sub(\" +\", \" \", string_tratada)\n",
    "    string_tratada = re.sub(\"(^ )\", \"\", string_tratada)\n",
    "    string_tratada = re.sub(\"( $)\", \"\", string_tratada)\n",
    "\n",
    "    return string_tratada"
   ],
   "metadata": {
    "collapsed": false,
    "pycharm": {
     "name": "#%%\n"
    }
   }
  },
  {
   "cell_type": "code",
   "execution_count": 6,
   "outputs": [],
   "source": [
    "# Obter as stopwords\n",
    "portuguese_stopwords = nltk.corpus.stopwords.words(\"portuguese\")\n",
    "\n",
    "# Inicializar o Stemmer\n",
    "rlp_stemmer = nltk.stem.RSLPStemmer()"
   ],
   "metadata": {
    "collapsed": false,
    "pycharm": {
     "name": "#%%\n"
    }
   }
  },
  {
   "cell_type": "markdown",
   "source": [
    "### Demonstração do Tratamento"
   ],
   "metadata": {
    "collapsed": false,
    "pycharm": {
     "name": "#%% md\n"
    }
   }
  },
  {
   "cell_type": "code",
   "execution_count": 7,
   "outputs": [
    {
     "name": "stdout",
     "output_type": "stream",
     "text": [
      "Tweet Original: Esse primeiro ep de House of The Dragon superou as minhas expectativas, eu amei!\n",
      "\n",
      "Tweet Limpo   : Esse primeiro ep House of The Dragon superou expectativas amei\n",
      "\n",
      "Tweet Stemed  : ess prim ep hous of the dragon super expect ame\n"
     ]
    }
   ],
   "source": [
    "tweet = data[\"text\"].sample(1).values[0]\n",
    "tweet_limpo = preprocess_data(tweet, portuguese_stopwords)\n",
    "tweet_limpo_stemmed = preprocess_data(tweet, portuguese_stopwords, rlp_stemmer)\n",
    "\n",
    "print(\"Tweet Original: {}\".format(tweet))\n",
    "print(\"\")\n",
    "print(\"Tweet Limpo   : {}\".format(tweet_limpo))\n",
    "print(\"\")\n",
    "print(\"Tweet Stemed  : {}\".format(tweet_limpo_stemmed))"
   ],
   "metadata": {
    "collapsed": false,
    "pycharm": {
     "name": "#%%\n"
    }
   }
  },
  {
   "cell_type": "markdown",
   "source": [
    "## Aplicação da Limpeza"
   ],
   "metadata": {
    "collapsed": false,
    "pycharm": {
     "name": "#%% md\n"
    }
   }
  },
  {
   "cell_type": "code",
   "execution_count": 8,
   "outputs": [
    {
     "data": {
      "text/plain": "VBox(children=(HBox(children=(IntProgress(value=0, description='0.00%', max=1550), Label(value='0 / 1550'))), …",
      "application/vnd.jupyter.widget-view+json": {
       "version_major": 2,
       "version_minor": 0,
       "model_id": "1245df763e3341df94c9936a40e4156d"
      }
     },
     "metadata": {},
     "output_type": "display_data"
    }
   ],
   "source": [
    "data[\"cleaned\"] = data[\"text\"].parallel_apply(\n",
    "    lambda x: preprocess_data(x, portuguese_stopwords, rlp_stemmer)\n",
    ")"
   ],
   "metadata": {
    "collapsed": false,
    "pycharm": {
     "name": "#%%\n"
    }
   }
  },
  {
   "cell_type": "code",
   "execution_count": 9,
   "outputs": [
    {
     "data": {
      "text/plain": "0                       eu hj 22h http t co ienafztu8h\n0    bom hous of the dragon n fic olh car bund joa nev\n0    n to tank ver hous of the dragon sdd tav ver v...\n0    hous of the dragon promet aind viol sex açã go...\n0    quer tant assist hous of the dragon hoj carai ...\n0    tod mund hyp pra caralh hous of the dragon got...\n0    begoniatort entr grup whatsapp sobr hous of th...\n0            itsnotdoc da pra assist nunc ter vist got\n0        procur alguém assist hous of the dragon comig\n0                 luscacalixt simmm amig tô surt manoo\nName: cleaned, dtype: object"
     },
     "execution_count": 9,
     "metadata": {},
     "output_type": "execute_result"
    }
   ],
   "source": [
    "data[\"cleaned\"].sample(10)"
   ],
   "metadata": {
    "collapsed": false,
    "pycharm": {
     "name": "#%%\n"
    }
   }
  },
  {
   "cell_type": "markdown",
   "source": [
    "# Carregar Pipeline"
   ],
   "metadata": {
    "collapsed": false,
    "pycharm": {
     "name": "#%% md\n"
    }
   }
  },
  {
   "cell_type": "code",
   "execution_count": 10,
   "outputs": [],
   "source": [
    "import pickle\n",
    "\n",
    "filepath = \"models/pre-label-model.pkl\"\n",
    "\n",
    "pipe = pickle.load(open(filepath, \"rb\"))"
   ],
   "metadata": {
    "collapsed": false,
    "pycharm": {
     "name": "#%%\n"
    }
   }
  },
  {
   "cell_type": "markdown",
   "source": [
    "# Predição de Sentimento"
   ],
   "metadata": {
    "collapsed": false,
    "pycharm": {
     "name": "#%% md\n"
    }
   }
  },
  {
   "cell_type": "code",
   "execution_count": 11,
   "outputs": [],
   "source": [
    "sentimento = pipe.predict(data[\"cleaned\"])"
   ],
   "metadata": {
    "collapsed": false,
    "pycharm": {
     "name": "#%%\n"
    }
   }
  },
  {
   "cell_type": "code",
   "execution_count": 12,
   "outputs": [],
   "source": [
    "data[\"label\"] = sentimento"
   ],
   "metadata": {
    "collapsed": false,
    "pycharm": {
     "name": "#%%\n"
    }
   }
  },
  {
   "cell_type": "markdown",
   "source": [
    "## Demonstração de Classificações"
   ],
   "metadata": {
    "collapsed": false,
    "pycharm": {
     "name": "#%% md\n"
    }
   }
  },
  {
   "cell_type": "markdown",
   "source": [
    "### Positivo"
   ],
   "metadata": {
    "collapsed": false,
    "pycharm": {
     "name": "#%% md\n"
    }
   }
  },
  {
   "cell_type": "code",
   "execution_count": 13,
   "outputs": [
    {
     "data": {
      "text/plain": "                                                text  label\n0                                   @Robs1906 vem dm      1\n0  se a hbo cair na hora sagrada eu cometo um cri...      1\n0  House of the Dragon começou muito bem e me deu...      1\n0  cheirinho de água oxigenada no set de house of...      1\n0  Tenho HBO Max, mas o ep the House of the Drago...      1\n0  “Senti falta do carisma dos personagens de GOT...      1\n0  hoje é dia de esquecer os vacilos que cometera...      1\n0  HOUSE OF THE DRAGON TÁ MUITO BOM VSF EU TE AMO...      1\n0  Amei esse episódio de House of the dragon, a q...      1\n0         @Lxmpzz assisti o primeiro ep ontemmm amei      1",
      "text/html": "<div>\n<style scoped>\n    .dataframe tbody tr th:only-of-type {\n        vertical-align: middle;\n    }\n\n    .dataframe tbody tr th {\n        vertical-align: top;\n    }\n\n    .dataframe thead th {\n        text-align: right;\n    }\n</style>\n<table border=\"1\" class=\"dataframe\">\n  <thead>\n    <tr style=\"text-align: right;\">\n      <th></th>\n      <th>text</th>\n      <th>label</th>\n    </tr>\n  </thead>\n  <tbody>\n    <tr>\n      <th>0</th>\n      <td>@Robs1906 vem dm</td>\n      <td>1</td>\n    </tr>\n    <tr>\n      <th>0</th>\n      <td>se a hbo cair na hora sagrada eu cometo um cri...</td>\n      <td>1</td>\n    </tr>\n    <tr>\n      <th>0</th>\n      <td>House of the Dragon começou muito bem e me deu...</td>\n      <td>1</td>\n    </tr>\n    <tr>\n      <th>0</th>\n      <td>cheirinho de água oxigenada no set de house of...</td>\n      <td>1</td>\n    </tr>\n    <tr>\n      <th>0</th>\n      <td>Tenho HBO Max, mas o ep the House of the Drago...</td>\n      <td>1</td>\n    </tr>\n    <tr>\n      <th>0</th>\n      <td>“Senti falta do carisma dos personagens de GOT...</td>\n      <td>1</td>\n    </tr>\n    <tr>\n      <th>0</th>\n      <td>hoje é dia de esquecer os vacilos que cometera...</td>\n      <td>1</td>\n    </tr>\n    <tr>\n      <th>0</th>\n      <td>HOUSE OF THE DRAGON TÁ MUITO BOM VSF EU TE AMO...</td>\n      <td>1</td>\n    </tr>\n    <tr>\n      <th>0</th>\n      <td>Amei esse episódio de House of the dragon, a q...</td>\n      <td>1</td>\n    </tr>\n    <tr>\n      <th>0</th>\n      <td>@Lxmpzz assisti o primeiro ep ontemmm amei</td>\n      <td>1</td>\n    </tr>\n  </tbody>\n</table>\n</div>"
     },
     "execution_count": 13,
     "metadata": {},
     "output_type": "execute_result"
    }
   ],
   "source": [
    "data[data[\"label\"] == 1].sample(10)[[\"text\", \"label\"]]"
   ],
   "metadata": {
    "collapsed": false,
    "pycharm": {
     "name": "#%%\n"
    }
   }
  },
  {
   "cell_type": "markdown",
   "source": [
    "### Neutro"
   ],
   "metadata": {
    "collapsed": false,
    "pycharm": {
     "name": "#%% md\n"
    }
   }
  },
  {
   "cell_type": "code",
   "execution_count": 14,
   "outputs": [
    {
     "data": {
      "text/plain": "                                                text  label\n0                                 @camilagms_ Duasss      0\n0  @heliumchis quero ver tua cara quando souber q...      0\n0  House of the Dragon não está à altura da quali...      0\n0  E então Twitter, como foi a estreia de House o...      0\n0  Fiz pipoca correndo pra ver House of The Drago...      0\n0  o primeiro episódio de house of the dragon abs...      0\n0     @DelusionalThom6 KKKKKKKKKKKKKKKKKKKKKK de lei      0\n0  vejam got vejam house of the dragon sejam feli...      0\n0  eu e vinícius contando as horas pra house of t...      0\n0  senti a euforia que eu sentia vendo GOT dnv co...      0",
      "text/html": "<div>\n<style scoped>\n    .dataframe tbody tr th:only-of-type {\n        vertical-align: middle;\n    }\n\n    .dataframe tbody tr th {\n        vertical-align: top;\n    }\n\n    .dataframe thead th {\n        text-align: right;\n    }\n</style>\n<table border=\"1\" class=\"dataframe\">\n  <thead>\n    <tr style=\"text-align: right;\">\n      <th></th>\n      <th>text</th>\n      <th>label</th>\n    </tr>\n  </thead>\n  <tbody>\n    <tr>\n      <th>0</th>\n      <td>@camilagms_ Duasss</td>\n      <td>0</td>\n    </tr>\n    <tr>\n      <th>0</th>\n      <td>@heliumchis quero ver tua cara quando souber q...</td>\n      <td>0</td>\n    </tr>\n    <tr>\n      <th>0</th>\n      <td>House of the Dragon não está à altura da quali...</td>\n      <td>0</td>\n    </tr>\n    <tr>\n      <th>0</th>\n      <td>E então Twitter, como foi a estreia de House o...</td>\n      <td>0</td>\n    </tr>\n    <tr>\n      <th>0</th>\n      <td>Fiz pipoca correndo pra ver House of The Drago...</td>\n      <td>0</td>\n    </tr>\n    <tr>\n      <th>0</th>\n      <td>o primeiro episódio de house of the dragon abs...</td>\n      <td>0</td>\n    </tr>\n    <tr>\n      <th>0</th>\n      <td>@DelusionalThom6 KKKKKKKKKKKKKKKKKKKKKK de lei</td>\n      <td>0</td>\n    </tr>\n    <tr>\n      <th>0</th>\n      <td>vejam got vejam house of the dragon sejam feli...</td>\n      <td>0</td>\n    </tr>\n    <tr>\n      <th>0</th>\n      <td>eu e vinícius contando as horas pra house of t...</td>\n      <td>0</td>\n    </tr>\n    <tr>\n      <th>0</th>\n      <td>senti a euforia que eu sentia vendo GOT dnv co...</td>\n      <td>0</td>\n    </tr>\n  </tbody>\n</table>\n</div>"
     },
     "execution_count": 14,
     "metadata": {},
     "output_type": "execute_result"
    }
   ],
   "source": [
    "data[data[\"label\"] == 0].sample(10)[[\"text\", \"label\"]]"
   ],
   "metadata": {
    "collapsed": false,
    "pycharm": {
     "name": "#%%\n"
    }
   }
  },
  {
   "cell_type": "markdown",
   "source": [
    "### Negativo"
   ],
   "metadata": {
    "collapsed": false,
    "pycharm": {
     "name": "#%% md\n"
    }
   }
  },
  {
   "cell_type": "code",
   "execution_count": 15,
   "outputs": [
    {
     "data": {
      "text/plain": "                                                text  label\n0  house of the dragon vai ter umas 4/5 temporada...     -1\n0  queria muito wue meu wi-fi voltasse eu tenho t...     -1\n0  Quem é a pessoa de deus que vai me passar uma ...     -1\n0  fdse n quero ver spoilers do house of the drag...     -1\n0                  @merasnixx Eu esperando o EP todo     -1\n0  assisti house of the dragon de madrugada mas e...     -1\n0  matt smith tá uma delícia em house of the drag...     -1\n0  Deveria dormir p malhar cedinho amanhã mas hoj...     -1\n0     @pilulasalgueiro Não veja meu status lá no wpp     -1\n0  Eai einnnn #HouseoftheDragon \\n\\nCASA DO DRAGÃ...     -1",
      "text/html": "<div>\n<style scoped>\n    .dataframe tbody tr th:only-of-type {\n        vertical-align: middle;\n    }\n\n    .dataframe tbody tr th {\n        vertical-align: top;\n    }\n\n    .dataframe thead th {\n        text-align: right;\n    }\n</style>\n<table border=\"1\" class=\"dataframe\">\n  <thead>\n    <tr style=\"text-align: right;\">\n      <th></th>\n      <th>text</th>\n      <th>label</th>\n    </tr>\n  </thead>\n  <tbody>\n    <tr>\n      <th>0</th>\n      <td>house of the dragon vai ter umas 4/5 temporada...</td>\n      <td>-1</td>\n    </tr>\n    <tr>\n      <th>0</th>\n      <td>queria muito wue meu wi-fi voltasse eu tenho t...</td>\n      <td>-1</td>\n    </tr>\n    <tr>\n      <th>0</th>\n      <td>Quem é a pessoa de deus que vai me passar uma ...</td>\n      <td>-1</td>\n    </tr>\n    <tr>\n      <th>0</th>\n      <td>fdse n quero ver spoilers do house of the drag...</td>\n      <td>-1</td>\n    </tr>\n    <tr>\n      <th>0</th>\n      <td>@merasnixx Eu esperando o EP todo</td>\n      <td>-1</td>\n    </tr>\n    <tr>\n      <th>0</th>\n      <td>assisti house of the dragon de madrugada mas e...</td>\n      <td>-1</td>\n    </tr>\n    <tr>\n      <th>0</th>\n      <td>matt smith tá uma delícia em house of the drag...</td>\n      <td>-1</td>\n    </tr>\n    <tr>\n      <th>0</th>\n      <td>Deveria dormir p malhar cedinho amanhã mas hoj...</td>\n      <td>-1</td>\n    </tr>\n    <tr>\n      <th>0</th>\n      <td>@pilulasalgueiro Não veja meu status lá no wpp</td>\n      <td>-1</td>\n    </tr>\n    <tr>\n      <th>0</th>\n      <td>Eai einnnn #HouseoftheDragon \\n\\nCASA DO DRAGÃ...</td>\n      <td>-1</td>\n    </tr>\n  </tbody>\n</table>\n</div>"
     },
     "execution_count": 15,
     "metadata": {},
     "output_type": "execute_result"
    }
   ],
   "source": [
    "data[data[\"label\"] == -1].sample(10)[[\"text\", \"label\"]]"
   ],
   "metadata": {
    "collapsed": false,
    "pycharm": {
     "name": "#%%\n"
    }
   }
  },
  {
   "cell_type": "markdown",
   "source": [
    "# Visualizações das Predições"
   ],
   "metadata": {
    "collapsed": false,
    "pycharm": {
     "name": "#%% md\n"
    }
   }
  },
  {
   "cell_type": "code",
   "execution_count": 16,
   "outputs": [
    {
     "name": "stdout",
     "output_type": "stream",
     "text": [
      "House of the Dragon: 62.17% dos comentários são positivos, enquanto 24.79% dos comentários são negativos e 13.04% dos comentários são neutros\n"
     ]
    }
   ],
   "source": [
    "porcentagem_positivos = (data[\"label\"] == 1).sum() / data.shape[0]\n",
    "porcentagem_neutros = (data[\"label\"] == 0).sum() / data.shape[0]\n",
    "porcentagem_negativos = (data[\"label\"] == -1).sum() / data.shape[0]\n",
    "\n",
    "print(\"House of the Dragon: {:.2f}% dos comentários são positivos, enquanto {:.2f}% dos comentários são negativos e {:.2f}% dos comentários são neutros\".format(porcentagem_positivos*100, porcentagem_negativos*100, porcentagem_neutros*100))"
   ],
   "metadata": {
    "collapsed": false,
    "pycharm": {
     "name": "#%%\n"
    }
   }
  },
  {
   "cell_type": "code",
   "execution_count": 17,
   "outputs": [
    {
     "data": {
      "text/plain": "Text(0.5, 1.0, 'Sentimento dos Comentários de House of the Dragon no Twitter')"
     },
     "execution_count": 17,
     "metadata": {},
     "output_type": "execute_result"
    },
    {
     "data": {
      "text/plain": "<Figure size 640x480 with 1 Axes>",
      "image/png": "[encoded data removed]"
     },
     "metadata": {},
     "output_type": "display_data"
    }
   ],
   "source": [
    "ax = sns.countplot(x=\"label\", data=data)\n",
    "\n",
    "ax.set_title(\"Sentimento dos Comentários de House of the Dragon no Twitter\")"
   ],
   "metadata": {
    "collapsed": false,
    "pycharm": {
     "name": "#%%\n"
    }
   }
  }
 ],
 "metadata": {
  "kernelspec": {
   "display_name": "Python 3",
   "language": "python",
   "name": "python3"
  },
  "language_info": {
   "codemirror_mode": {
    "name": "ipython",
    "version": 2
   },
   "file_extension": ".py",
   "mimetype": "text/x-python",
   "name": "python",
   "nbconvert_exporter": "python",
   "pygments_lexer": "ipython2",
   "version": "2.7.6"
  }
 },
 "nbformat": 4,
 "nbformat_minor": 0
}