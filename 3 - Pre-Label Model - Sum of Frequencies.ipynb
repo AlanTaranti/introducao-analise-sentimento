{
 "cells": [
  {
   "cell_type": "code",
   "execution_count": 1,
   "id": "7d578184-94cf-4ee7-b475-405866c8ae19",
   "metadata": {
    "pycharm": {
     "name": "#%%\n"
    }
   },
   "outputs": [],
   "source": [
    "import re\n",
    "from os import path\n",
    "from time import time\n",
    "\n",
    "import nltk\n",
    "import numpy as np\n",
    "import pandas as pd\n",
    "import matplotlib.pyplot as plt\n",
    "from pandarallel import pandarallel\n",
    "\n",
    "from sklearn.preprocessing import StandardScaler\n",
    "from sklearn.linear_model import LogisticRegression\n",
    "from sklearn.ensemble import RandomForestClassifier\n",
    "from sklearn.metrics import f1_score\n",
    "from sklearn.model_selection import train_test_split, learning_curve, cross_val_score, RandomizedSearchCV"
   ]
  },
  {
   "cell_type": "code",
   "execution_count": 2,
   "id": "954693ae-a6e1-45d9-b3f7-c657869d1fad",
   "metadata": {
    "pycharm": {
     "name": "#%%\n"
    }
   },
   "outputs": [
    {
     "name": "stdout",
     "output_type": "stream",
     "text": [
      "INFO: Pandarallel will run on 10 workers.\n",
      "INFO: Pandarallel will use Memory file system to transfer data between the main process and workers.\n"
     ]
    }
   ],
   "source": [
    "pandarallel.initialize(progress_bar=True)"
   ]
  },
  {
   "cell_type": "markdown",
   "id": "fbcd33b5-99d5-48be-a054-d04975bdc60e",
   "metadata": {
    "pycharm": {
     "name": "#%% md\n"
    }
   },
   "source": [
    "# Carregar os dados"
   ]
  },
  {
   "cell_type": "markdown",
   "id": "66ba4993-25db-4676-958c-b2cf3ffb03ce",
   "metadata": {
    "pycharm": {
     "name": "#%% md\n"
    }
   },
   "source": [
    "## Tweets"
   ]
  },
  {
   "cell_type": "code",
   "execution_count": 3,
   "id": "216542bf-22bf-4284-946b-a900ebcf9671",
   "metadata": {
    "pycharm": {
     "name": "#%%\n"
    }
   },
   "outputs": [
    {
     "data": {
      "text/plain": "                         id  \\\n237107  1559912500526718977   \n626596  1160850270621962241   \n34693   1559755724321955840   \n314106  1559962900369915910   \n814168  1161199545793073152   \n432901  1160380227484360704   \n115110  1559858593373065216   \n93391   1559844887964557314   \n319860  1559965223439585280   \n396444  1160239239348523008   \n\n                                                     text     score  label  \n237107  minha criatividade para elogios acabou a muito... -0.146058     -1  \n626596  queria ver a live toda mas tenho que ir pra au... -0.146058     -1  \n34693                        assim para certos tuites: 👀📝  0.063415      0  \n314106  nada me estressa hj, só de ser que mas tarde t...  1.171490      1  \n814168  tenho reunião de trabalho hj e tô com uma cara... -0.080586     -1  \n432901              é por isso que eu amo muito os dois 💗  0.659091      1  \n115110                                      bom dia 😎👉👉🇧🇷  1.281040      1  \n93391   laís ia deixa minha mãe famosa no tiktok. fez ...  0.220968      0  \n319860                                      bravo bebou 🎉  0.739556      1  \n396444  📡📡💯 dg instalações 💯📡📡 👉 serviços com instalaç...  1.793144      1  ",
      "text/html": "<div>\n<style scoped>\n    .dataframe tbody tr th:only-of-type {\n        vertical-align: middle;\n    }\n\n    .dataframe tbody tr th {\n        vertical-align: top;\n    }\n\n    .dataframe thead th {\n        text-align: right;\n    }\n</style>\n<table border=\"1\" class=\"dataframe\">\n  <thead>\n    <tr style=\"text-align: right;\">\n      <th></th>\n      <th>id</th>\n      <th>text</th>\n      <th>score</th>\n      <th>label</th>\n    </tr>\n  </thead>\n  <tbody>\n    <tr>\n      <th>237107</th>\n      <td>1559912500526718977</td>\n      <td>minha criatividade para elogios acabou a muito...</td>\n      <td>-0.146058</td>\n      <td>-1</td>\n    </tr>\n    <tr>\n      <th>626596</th>\n      <td>1160850270621962241</td>\n      <td>queria ver a live toda mas tenho que ir pra au...</td>\n      <td>-0.146058</td>\n      <td>-1</td>\n    </tr>\n    <tr>\n      <th>34693</th>\n      <td>1559755724321955840</td>\n      <td>assim para certos tuites: 👀📝</td>\n      <td>0.063415</td>\n      <td>0</td>\n    </tr>\n    <tr>\n      <th>314106</th>\n      <td>1559962900369915910</td>\n      <td>nada me estressa hj, só de ser que mas tarde t...</td>\n      <td>1.171490</td>\n      <td>1</td>\n    </tr>\n    <tr>\n      <th>814168</th>\n      <td>1161199545793073152</td>\n      <td>tenho reunião de trabalho hj e tô com uma cara...</td>\n      <td>-0.080586</td>\n      <td>-1</td>\n    </tr>\n    <tr>\n      <th>432901</th>\n      <td>1160380227484360704</td>\n      <td>é por isso que eu amo muito os dois 💗</td>\n      <td>0.659091</td>\n      <td>1</td>\n    </tr>\n    <tr>\n      <th>115110</th>\n      <td>1559858593373065216</td>\n      <td>bom dia 😎👉👉🇧🇷</td>\n      <td>1.281040</td>\n      <td>1</td>\n    </tr>\n    <tr>\n      <th>93391</th>\n      <td>1559844887964557314</td>\n      <td>laís ia deixa minha mãe famosa no tiktok. fez ...</td>\n      <td>0.220968</td>\n      <td>0</td>\n    </tr>\n    <tr>\n      <th>319860</th>\n      <td>1559965223439585280</td>\n      <td>bravo bebou 🎉</td>\n      <td>0.739556</td>\n      <td>1</td>\n    </tr>\n    <tr>\n      <th>396444</th>\n      <td>1160239239348523008</td>\n      <td>📡📡💯 dg instalações 💯📡📡 👉 serviços com instalaç...</td>\n      <td>1.793144</td>\n      <td>1</td>\n    </tr>\n  </tbody>\n</table>\n</div>"
     },
     "execution_count": 3,
     "metadata": {},
     "output_type": "execute_result"
    }
   ],
   "source": [
    "# Definir caminho do arquivo\n",
    "filename = \"labeled_data.parquet.gzip\"\n",
    "directory = \"data\"\n",
    "filepath = path.join(directory, filename)\n",
    "\n",
    "# Carregar dados\n",
    "data = pd.read_parquet(filepath)\n",
    "\n",
    "# Amostra dos dados\n",
    "data.sample(10)"
   ]
  },
  {
   "cell_type": "markdown",
   "id": "b7968c48-0bcf-43f7-b7da-1fce6bcaf41f",
   "metadata": {
    "jp-MarkdownHeadingCollapsed": true,
    "tags": [],
    "pycharm": {
     "name": "#%% md\n"
    }
   },
   "source": [
    "## Limpeza de Dados\n",
    "\n",
    "No modelo Soma das Frequencias*, precisamos saber a quantidade de determinadas palavras que aparecem em tweets positivos, negativos e neutros.\n",
    "\n",
    "Removeremos as Stopwords (palavras que não adicionam muito significado ao texto).\n",
    "\n",
    "Para melhorar o modelo, utilizaremos o Stemming, que visa remove alguns [afixos](https://pt.wikipedia.org/wiki/Afixo) das palavras. Exemplo: papel gramatical, tempo, morfologia derivacional, deixando apenas o radical da palavra.\n",
    "Assim, contaremos apenas os radicais das palavras em vez de suas derivações.\n",
    "\n",
    "Referências:\n",
    "\n",
    "- [StopWords](https://en.wikipedia.org/wiki/Stop_word)\n",
    "- [Stemming](https://en.wikipedia.org/wiki/Stemming)"
   ]
  },
  {
   "cell_type": "code",
   "execution_count": 4,
   "id": "da235645-1379-47b7-b92c-d0f005c44b5c",
   "metadata": {
    "pycharm": {
     "name": "#%%\n"
    }
   },
   "outputs": [],
   "source": [
    "def preprocess_data(string, stopwords, stemmer=None):\n",
    "\n",
    "    # Remover os Emojis e Pontuações\n",
    "    string_tratada = re.sub(\"\\W\", \" \", string)\n",
    "\n",
    "    # Remover stopwords\n",
    "    string_tratada = \" \".join(\n",
    "        [substring for substring in string_tratada.split() if substring not in stopwords]\n",
    "    )\n",
    "\n",
    "    # Stemming\n",
    "    if stemmer:\n",
    "        string_tratada = \" \".join([stemmer.stem(substring) for substring in string_tratada.split()])\n",
    "\n",
    "    # Remover espaços extras\n",
    "    string_tratada = re.sub(\" +\", \" \", string_tratada)\n",
    "    string_tratada = re.sub(\"(^ )\", \"\", string_tratada)\n",
    "    string_tratada = re.sub(\"( $)\", \"\", string_tratada)\n",
    "\n",
    "    return string_tratada"
   ]
  },
  {
   "cell_type": "code",
   "execution_count": 5,
   "id": "0db35abc-c7a2-45cf-9b35-e33f875fa90e",
   "metadata": {
    "pycharm": {
     "name": "#%%\n"
    }
   },
   "outputs": [],
   "source": [
    "# Obter as stopwords\n",
    "portuguese_stopwords = nltk.corpus.stopwords.words(\"portuguese\")\n",
    "\n",
    "# Inicializar o Stemmer\n",
    "rlp_stemmer = nltk.stem.RSLPStemmer()"
   ]
  },
  {
   "cell_type": "code",
   "execution_count": 6,
   "outputs": [
    {
     "data": {
      "text/plain": "156          seria\n16              de\n59     estivéramos\n126          nossa\n62       estivesse\ndtype: object"
     },
     "execution_count": 6,
     "metadata": {},
     "output_type": "execute_result"
    }
   ],
   "source": [
    "# Mostra das stopwords\n",
    "pd.Series(portuguese_stopwords).sample(5)"
   ],
   "metadata": {
    "collapsed": false,
    "pycharm": {
     "name": "#%%\n"
    }
   }
  },
  {
   "cell_type": "markdown",
   "source": [
    "### Demonstração do Tratamento"
   ],
   "metadata": {
    "collapsed": false,
    "pycharm": {
     "name": "#%% md\n"
    }
   }
  },
  {
   "cell_type": "code",
   "execution_count": 7,
   "id": "3552479e-c2a1-4f14-81a4-ff2afcb16f98",
   "metadata": {
    "pycharm": {
     "name": "#%%\n"
    }
   },
   "outputs": [
    {
     "name": "stdout",
     "output_type": "stream",
     "text": [
      "Tweet Original: ô delícia 🤤🔥🍆\n",
      "\n",
      "Tweet Limpo   : ô delícia\n",
      "\n",
      "Tweet Stemed  : ô delíc\n"
     ]
    }
   ],
   "source": [
    "tweet = data[\"text\"].sample(1).values[0]\n",
    "tweet_limpo = preprocess_data(tweet, portuguese_stopwords)\n",
    "tweet_limpo_stemmed = preprocess_data(tweet, portuguese_stopwords, rlp_stemmer)\n",
    "\n",
    "print(\"Tweet Original: {}\".format(tweet))\n",
    "print(\"\")\n",
    "print(\"Tweet Limpo   : {}\".format(tweet_limpo))\n",
    "print(\"\")\n",
    "print(\"Tweet Stemed  : {}\".format(tweet_limpo_stemmed))"
   ]
  },
  {
   "cell_type": "markdown",
   "id": "ca945d98-5af2-43f1-902a-335eacf4d6d1",
   "metadata": {
    "jp-MarkdownHeadingCollapsed": true,
    "tags": [],
    "pycharm": {
     "name": "#%% md\n"
    }
   },
   "source": [
    "## Aplicação da Limpeza"
   ]
  },
  {
   "cell_type": "code",
   "execution_count": 8,
   "id": "ac969f3f-7d32-419f-a87a-79dc30a0330c",
   "metadata": {
    "pycharm": {
     "name": "#%%\n"
    }
   },
   "outputs": [
    {
     "data": {
      "text/plain": "VBox(children=(HBox(children=(IntProgress(value=0, description='0.00%', max=91196), Label(value='0 / 91196')))…",
      "application/vnd.jupyter.widget-view+json": {
       "version_major": 2,
       "version_minor": 0,
       "model_id": "de15905d06d54009919d6b26c5575e68"
      }
     },
     "metadata": {},
     "output_type": "display_data"
    }
   ],
   "source": [
    "data[\"cleaned\"] = data[\"text\"].parallel_apply(\n",
    "    lambda x: preprocess_data(x, portuguese_stopwords, rlp_stemmer)\n",
    ")"
   ]
  },
  {
   "cell_type": "code",
   "execution_count": 9,
   "id": "c91e0d7b-a7c3-4cfb-9bb7-a6037a362b5f",
   "metadata": {
    "pycharm": {
     "name": "#%%\n"
    }
   },
   "outputs": [
    {
     "data": {
      "text/plain": "                         id  \\\n161236  1559881656651096064   \n355010  1559985110681882627   \n182271  1559890835008782336   \n737157  1161011295581298688   \n579575  1160746736283004931   \n\n                                                     text     score  label  \\\n161236                   deus sabe de todas as coisas 🙏☹️  0.417804      1   \n355010       ta sobrando uma quirera ainda graças a ele 🙏  0.417804      1   \n182271  \"na frente dos teus amigos tu se solta e eu go...  1.753140      1   \n737157  e o pneu da moto que furou e eu tive que gasta...  0.006676      0   \n579575                                        mas vc é! 💜  0.656017      1   \n\n                                       cleaned  \n161236                        deu sab tod cois  \n355010                  ta sobr quir aind graç  \n182271        frent amig solt gost diss amo vó  \n737157  pneu mot fur gast money compr lanch fd  \n579575                                      vc  ",
      "text/html": "<div>\n<style scoped>\n    .dataframe tbody tr th:only-of-type {\n        vertical-align: middle;\n    }\n\n    .dataframe tbody tr th {\n        vertical-align: top;\n    }\n\n    .dataframe thead th {\n        text-align: right;\n    }\n</style>\n<table border=\"1\" class=\"dataframe\">\n  <thead>\n    <tr style=\"text-align: right;\">\n      <th></th>\n      <th>id</th>\n      <th>text</th>\n      <th>score</th>\n      <th>label</th>\n      <th>cleaned</th>\n    </tr>\n  </thead>\n  <tbody>\n    <tr>\n      <th>161236</th>\n      <td>1559881656651096064</td>\n      <td>deus sabe de todas as coisas 🙏☹️</td>\n      <td>0.417804</td>\n      <td>1</td>\n      <td>deu sab tod cois</td>\n    </tr>\n    <tr>\n      <th>355010</th>\n      <td>1559985110681882627</td>\n      <td>ta sobrando uma quirera ainda graças a ele 🙏</td>\n      <td>0.417804</td>\n      <td>1</td>\n      <td>ta sobr quir aind graç</td>\n    </tr>\n    <tr>\n      <th>182271</th>\n      <td>1559890835008782336</td>\n      <td>\"na frente dos teus amigos tu se solta e eu go...</td>\n      <td>1.753140</td>\n      <td>1</td>\n      <td>frent amig solt gost diss amo vó</td>\n    </tr>\n    <tr>\n      <th>737157</th>\n      <td>1161011295581298688</td>\n      <td>e o pneu da moto que furou e eu tive que gasta...</td>\n      <td>0.006676</td>\n      <td>0</td>\n      <td>pneu mot fur gast money compr lanch fd</td>\n    </tr>\n    <tr>\n      <th>579575</th>\n      <td>1160746736283004931</td>\n      <td>mas vc é! 💜</td>\n      <td>0.656017</td>\n      <td>1</td>\n      <td>vc</td>\n    </tr>\n  </tbody>\n</table>\n</div>"
     },
     "execution_count": 9,
     "metadata": {},
     "output_type": "execute_result"
    }
   ],
   "source": [
    "data.sample(5)"
   ]
  },
  {
   "cell_type": "markdown",
   "id": "6710b34a-4ea2-4a2e-b86e-fdaf45de790c",
   "metadata": {
    "jp-MarkdownHeadingCollapsed": true,
    "tags": [],
    "pycharm": {
     "name": "#%% md\n"
    }
   },
   "source": [
    "# Modelo Soma das Frequencias\n",
    "\n",
    "Este modelo é extremamente simples.\n",
    "\n",
    "Vamos transformar o texto numa representação vetorial utilizando o somatório da frequencia que cada palavra aparece nos tweets por rótulo."
   ]
  },
  {
   "cell_type": "markdown",
   "id": "51d270b7-9a3b-4206-94bc-d4402009ccc5",
   "metadata": {
    "tags": [],
    "pycharm": {
     "name": "#%% md\n"
    }
   },
   "source": [
    "## Gerar dicionário de frequencias\n",
    "\n",
    "Basicamente criaremos três dicionários, um positivo, um negativo e um neutro.\n",
    "\n",
    "Cada dicionário terá a soma das vezes que a palavra aparece em seu respectivo rótulo (positivo, negativo ou neutro) em todo o dataset."
   ]
  },
  {
   "cell_type": "markdown",
   "id": "6e570f71-e417-4ec7-aacd-2bc8e04a61b0",
   "metadata": {
    "pycharm": {
     "name": "#%% md\n"
    }
   },
   "source": [
    "### Separar conjuntos de treinamento e teste\n",
    "\n",
    "Aqui faremos a separação de conjunto de treino e teste.\n",
    "\n",
    "O dicionário será criado utilizando o conjunto de treino, e posteriormente verificado sua eficácia no conjunto de teste."
   ]
  },
  {
   "cell_type": "code",
   "execution_count": 10,
   "id": "f6ccd032-859a-461b-9d11-9d748f6df90d",
   "metadata": {
    "pycharm": {
     "name": "#%%\n"
    }
   },
   "outputs": [],
   "source": [
    "X_train, X_test = train_test_split(data, random_state=42)"
   ]
  },
  {
   "cell_type": "code",
   "execution_count": 11,
   "id": "a89146dd-3b47-48c9-905d-22635b283581",
   "metadata": {
    "pycharm": {
     "name": "#%%\n"
    }
   },
   "outputs": [],
   "source": [
    "# Aqui vamos criar nosso dicionário\n",
    "def gerador_dicionario_tweet(tweet, dicionario):\n",
    "    words = tweet.split()\n",
    "\n",
    "    for word in words:\n",
    "        dicionario[word] = dicionario.get(word, 0) + 1"
   ]
  },
  {
   "cell_type": "code",
   "execution_count": 12,
   "id": "c6a0bea9-05ae-49dc-adc8-8d331fcb2a8b",
   "metadata": {
    "pycharm": {
     "name": "#%%\n"
    }
   },
   "outputs": [
    {
     "name": "stdout",
     "output_type": "stream",
     "text": [
      "Chaves: 58366\n"
     ]
    }
   ],
   "source": [
    "dicionario_positivo = {}\n",
    "\n",
    "X_train[X_train[\"label\"] == 1][\"cleaned\"].apply(\n",
    "    lambda x: gerador_dicionario_tweet(x, dicionario_positivo)\n",
    ")\n",
    "\n",
    "print(\"Chaves: {}\".format(len(dicionario_positivo.keys())))"
   ]
  },
  {
   "cell_type": "code",
   "execution_count": 13,
   "id": "ec458169-1ade-45d3-af76-4847bf9904fe",
   "metadata": {
    "pycharm": {
     "name": "#%%\n"
    }
   },
   "outputs": [
    {
     "name": "stdout",
     "output_type": "stream",
     "text": [
      "Chaves: 27524\n"
     ]
    }
   ],
   "source": [
    "dicionario_neutro = {}\n",
    "\n",
    "X_train[X_train[\"label\"] == 0][\"cleaned\"].apply(\n",
    "    lambda x: gerador_dicionario_tweet(x, dicionario_neutro)\n",
    ")\n",
    "\n",
    "print(\"Chaves: {}\".format(len(dicionario_neutro.keys())))"
   ]
  },
  {
   "cell_type": "code",
   "execution_count": 14,
   "id": "27c0b69f-7e34-4d5e-99d3-8edaff72a7f0",
   "metadata": {
    "pycharm": {
     "name": "#%%\n"
    }
   },
   "outputs": [
    {
     "name": "stdout",
     "output_type": "stream",
     "text": [
      "Chaves: 32001\n"
     ]
    }
   ],
   "source": [
    "dicionario_negativo = {}\n",
    "\n",
    "X_train[X_train[\"label\"] == -1][\"cleaned\"].apply(\n",
    "    lambda x: gerador_dicionario_tweet(x, dicionario_negativo)\n",
    ")\n",
    "\n",
    "print(\"Chaves: {}\".format(len(dicionario_negativo.keys())))"
   ]
  },
  {
   "cell_type": "markdown",
   "source": [
    "### Visualização dos Dicionários"
   ],
   "metadata": {
    "collapsed": false,
    "pycharm": {
     "name": "#%% md\n"
    }
   }
  },
  {
   "cell_type": "code",
   "execution_count": 15,
   "outputs": [],
   "source": [
    "dicionarios = pd.DataFrame([\n",
    "    pd.Series(dicionario_positivo, name=\"positivo\"),\n",
    "    pd.Series(dicionario_neutro, name=\"neutro\"),\n",
    "    pd.Series(dicionario_negativo, name=\"negativo\")\n",
    "]).T"
   ],
   "metadata": {
    "collapsed": false,
    "pycharm": {
     "name": "#%%\n"
    }
   }
  },
  {
   "cell_type": "code",
   "execution_count": 16,
   "outputs": [
    {
     "data": {
      "text/plain": "              positivo  neutro  negativo\nseguimorees        1.0     NaN       NaN\naaaw               4.0     NaN       1.0\ndeera              1.0     NaN       NaN\natsuk              1.0     NaN       NaN\nvalpassosbfr       1.0     NaN       NaN\nlucylain           1.0     NaN       NaN\nacabej             1.0     NaN       NaN\nasmod              2.0     NaN       1.0\nfaded              NaN     NaN       1.0\npercy             14.0     5.0      16.0",
      "text/html": "<div>\n<style scoped>\n    .dataframe tbody tr th:only-of-type {\n        vertical-align: middle;\n    }\n\n    .dataframe tbody tr th {\n        vertical-align: top;\n    }\n\n    .dataframe thead th {\n        text-align: right;\n    }\n</style>\n<table border=\"1\" class=\"dataframe\">\n  <thead>\n    <tr style=\"text-align: right;\">\n      <th></th>\n      <th>positivo</th>\n      <th>neutro</th>\n      <th>negativo</th>\n    </tr>\n  </thead>\n  <tbody>\n    <tr>\n      <th>seguimorees</th>\n      <td>1.0</td>\n      <td>NaN</td>\n      <td>NaN</td>\n    </tr>\n    <tr>\n      <th>aaaw</th>\n      <td>4.0</td>\n      <td>NaN</td>\n      <td>1.0</td>\n    </tr>\n    <tr>\n      <th>deera</th>\n      <td>1.0</td>\n      <td>NaN</td>\n      <td>NaN</td>\n    </tr>\n    <tr>\n      <th>atsuk</th>\n      <td>1.0</td>\n      <td>NaN</td>\n      <td>NaN</td>\n    </tr>\n    <tr>\n      <th>valpassosbfr</th>\n      <td>1.0</td>\n      <td>NaN</td>\n      <td>NaN</td>\n    </tr>\n    <tr>\n      <th>lucylain</th>\n      <td>1.0</td>\n      <td>NaN</td>\n      <td>NaN</td>\n    </tr>\n    <tr>\n      <th>acabej</th>\n      <td>1.0</td>\n      <td>NaN</td>\n      <td>NaN</td>\n    </tr>\n    <tr>\n      <th>asmod</th>\n      <td>2.0</td>\n      <td>NaN</td>\n      <td>1.0</td>\n    </tr>\n    <tr>\n      <th>faded</th>\n      <td>NaN</td>\n      <td>NaN</td>\n      <td>1.0</td>\n    </tr>\n    <tr>\n      <th>percy</th>\n      <td>14.0</td>\n      <td>5.0</td>\n      <td>16.0</td>\n    </tr>\n  </tbody>\n</table>\n</div>"
     },
     "execution_count": 16,
     "metadata": {},
     "output_type": "execute_result"
    }
   ],
   "source": [
    "dicionarios.sample(10)"
   ],
   "metadata": {
    "collapsed": false,
    "pycharm": {
     "name": "#%%\n"
    }
   }
  },
  {
   "cell_type": "markdown",
   "id": "ee550038-1a83-46a4-bc8b-1606dbd78352",
   "metadata": {
    "tags": [],
    "pycharm": {
     "name": "#%% md\n"
    }
   },
   "source": [
    "## Gerar feature vector\n",
    "\n",
    "Aqui nós transformaremos os textos em um vetor para podermos utilizá-los em um aprendizado supervisionado.\n",
    "\n",
    "Nosso vetor será representado em três dimensões, uma para positivo, uma para negativo e outro para neutro.\n",
    "\n",
    "O valor de cada dimensão é definido como o somatório das frequencias de cada palavra do tweet no dicionário da dimensão (positivo, negativo, neutro)"
   ]
  },
  {
   "cell_type": "code",
   "execution_count": 17,
   "id": "0bff1663-d96c-4e66-82a5-d93a36477a6e",
   "metadata": {
    "pycharm": {
     "name": "#%%\n"
    }
   },
   "outputs": [],
   "source": [
    "def gerar_feature_vector(\n",
    "    string, dicionario_positivo, dicionario_neutro, dicionario_negativo\n",
    "):\n",
    "    tokens = string.split()\n",
    "\n",
    "    # Calcula o valor de cada dimensão do vetor\n",
    "    feature_positiva = sum([dicionario_positivo.get(word, 0) for word in tokens])\n",
    "    feature_neutra = sum([dicionario_neutro.get(word, 0) for word in tokens])\n",
    "    feature_negativa = sum([dicionario_negativo.get(word, 0) for word in tokens])\n",
    "\n",
    "    return pd.Series(\n",
    "        [feature_positiva, feature_neutra, feature_negativa],\n",
    "        index=[\"positiva\", \"neutra\", \"negativa\"],\n",
    "    )"
   ]
  },
  {
   "cell_type": "markdown",
   "source": [
    "### Demonstração da Geração do Feature Vector"
   ],
   "metadata": {
    "collapsed": false,
    "pycharm": {
     "name": "#%% md\n"
    }
   }
  },
  {
   "cell_type": "code",
   "execution_count": 18,
   "outputs": [
    {
     "name": "stdout",
     "output_type": "stream",
     "text": [
      "Tweet: infeliz vou ter extrem fri compr photobook yoong\n"
     ]
    },
    {
     "data": {
      "text/plain": "positiva    24929\nneutra       6782\nnegativa    18553\ndtype: int64"
     },
     "execution_count": 18,
     "metadata": {},
     "output_type": "execute_result"
    }
   ],
   "source": [
    "tweet = X_train[\"cleaned\"].sample(1).values[0]\n",
    "feature_vector = gerar_feature_vector(tweet, dicionario_positivo, dicionario_neutro, dicionario_negativo)\n",
    "\n",
    "print(\"Tweet: {}\".format(tweet))\n",
    "feature_vector"
   ],
   "metadata": {
    "collapsed": false,
    "pycharm": {
     "name": "#%%\n"
    }
   }
  },
  {
   "cell_type": "markdown",
   "source": [
    "### Aplicar a Geração do Feature Vector em todo o Dataset de Treino"
   ],
   "metadata": {
    "collapsed": false,
    "pycharm": {
     "name": "#%% md\n"
    }
   }
  },
  {
   "cell_type": "code",
   "execution_count": 19,
   "id": "7815c94c-594d-4977-b41e-cd4b6444c526",
   "metadata": {
    "pycharm": {
     "name": "#%%\n"
    }
   },
   "outputs": [
    {
     "data": {
      "text/plain": "VBox(children=(HBox(children=(IntProgress(value=0, description='0.00%', max=68397), Label(value='0 / 68397')))…",
      "application/vnd.jupyter.widget-view+json": {
       "version_major": 2,
       "version_minor": 0,
       "model_id": "fc797f737cfe4bc485103395743d9d29"
      }
     },
     "metadata": {},
     "output_type": "display_data"
    }
   ],
   "source": [
    "# Gerar Features Train\n",
    "features_train = X_train[\"cleaned\"].parallel_apply(\n",
    "    lambda x: gerar_feature_vector(\n",
    "        x, dicionario_positivo, dicionario_neutro, dicionario_negativo\n",
    "    )\n",
    ")\n",
    "features_train[\"label\"] = X_train[\"label\"]"
   ]
  },
  {
   "cell_type": "code",
   "execution_count": 20,
   "id": "4d31841f-0c1f-48a1-b97d-e7b64875a658",
   "metadata": {
    "pycharm": {
     "name": "#%%\n"
    }
   },
   "outputs": [
    {
     "data": {
      "text/plain": "        positiva  neutra  negativa  label\n241851      9118    1253      3077     -1\n355266     13070    4441     14373     -1\n310229     19985    5737     11521      1\n491197      7582    2476      8030     -1\n485797     37797    4991     10931     -1",
      "text/html": "<div>\n<style scoped>\n    .dataframe tbody tr th:only-of-type {\n        vertical-align: middle;\n    }\n\n    .dataframe tbody tr th {\n        vertical-align: top;\n    }\n\n    .dataframe thead th {\n        text-align: right;\n    }\n</style>\n<table border=\"1\" class=\"dataframe\">\n  <thead>\n    <tr style=\"text-align: right;\">\n      <th></th>\n      <th>positiva</th>\n      <th>neutra</th>\n      <th>negativa</th>\n      <th>label</th>\n    </tr>\n  </thead>\n  <tbody>\n    <tr>\n      <th>241851</th>\n      <td>9118</td>\n      <td>1253</td>\n      <td>3077</td>\n      <td>-1</td>\n    </tr>\n    <tr>\n      <th>355266</th>\n      <td>13070</td>\n      <td>4441</td>\n      <td>14373</td>\n      <td>-1</td>\n    </tr>\n    <tr>\n      <th>310229</th>\n      <td>19985</td>\n      <td>5737</td>\n      <td>11521</td>\n      <td>1</td>\n    </tr>\n    <tr>\n      <th>491197</th>\n      <td>7582</td>\n      <td>2476</td>\n      <td>8030</td>\n      <td>-1</td>\n    </tr>\n    <tr>\n      <th>485797</th>\n      <td>37797</td>\n      <td>4991</td>\n      <td>10931</td>\n      <td>-1</td>\n    </tr>\n  </tbody>\n</table>\n</div>"
     },
     "execution_count": 20,
     "metadata": {},
     "output_type": "execute_result"
    }
   ],
   "source": [
    "features_train.sample(5)"
   ]
  },
  {
   "cell_type": "code",
   "execution_count": 21,
   "id": "7a8f9daf-03b3-4a24-a43a-b84358151f04",
   "metadata": {
    "pycharm": {
     "name": "#%%\n"
    }
   },
   "outputs": [
    {
     "data": {
      "text/plain": "        positiva  neutra  negativa\n187920     10150    1653      2564\n252528      9483    2554      8435\n20816      25141    6592     11033\n419429      4386    1294      2101\n650746     17749    4986     10228",
      "text/html": "<div>\n<style scoped>\n    .dataframe tbody tr th:only-of-type {\n        vertical-align: middle;\n    }\n\n    .dataframe tbody tr th {\n        vertical-align: top;\n    }\n\n    .dataframe thead th {\n        text-align: right;\n    }\n</style>\n<table border=\"1\" class=\"dataframe\">\n  <thead>\n    <tr style=\"text-align: right;\">\n      <th></th>\n      <th>positiva</th>\n      <th>neutra</th>\n      <th>negativa</th>\n    </tr>\n  </thead>\n  <tbody>\n    <tr>\n      <th>187920</th>\n      <td>10150</td>\n      <td>1653</td>\n      <td>2564</td>\n    </tr>\n    <tr>\n      <th>252528</th>\n      <td>9483</td>\n      <td>2554</td>\n      <td>8435</td>\n    </tr>\n    <tr>\n      <th>20816</th>\n      <td>25141</td>\n      <td>6592</td>\n      <td>11033</td>\n    </tr>\n    <tr>\n      <th>419429</th>\n      <td>4386</td>\n      <td>1294</td>\n      <td>2101</td>\n    </tr>\n    <tr>\n      <th>650746</th>\n      <td>17749</td>\n      <td>4986</td>\n      <td>10228</td>\n    </tr>\n  </tbody>\n</table>\n</div>"
     },
     "execution_count": 21,
     "metadata": {},
     "output_type": "execute_result"
    }
   ],
   "source": [
    "X_features_train = features_train[[\"positiva\", \"neutra\", \"negativa\"]]\n",
    "X_features_train.sample(5)"
   ]
  },
  {
   "cell_type": "code",
   "execution_count": 22,
   "id": "f9e6dc18-f23e-4cc6-865c-b5b5072e70ae",
   "metadata": {
    "pycharm": {
     "name": "#%%\n"
    }
   },
   "outputs": [
    {
     "data": {
      "text/plain": "326132   -1\n406448   -1\n501771    1\n270092   -1\n576336    0\nName: label, dtype: int64"
     },
     "execution_count": 22,
     "metadata": {},
     "output_type": "execute_result"
    }
   ],
   "source": [
    "y_features_train = features_train[\"label\"]\n",
    "y_features_train.sample(5)"
   ]
  },
  {
   "cell_type": "markdown",
   "source": [
    "### Aplicar a Geração do Feature Vector em todo o Dataset de Teste"
   ],
   "metadata": {
    "collapsed": false,
    "pycharm": {
     "name": "#%% md\n"
    }
   }
  },
  {
   "cell_type": "code",
   "execution_count": 23,
   "id": "8e02dfbb-82db-42e7-93cf-a9191c22042f",
   "metadata": {
    "pycharm": {
     "name": "#%%\n"
    }
   },
   "outputs": [
    {
     "data": {
      "text/plain": "VBox(children=(HBox(children=(IntProgress(value=0, description='0.00%', max=22799), Label(value='0 / 22799')))…",
      "application/vnd.jupyter.widget-view+json": {
       "version_major": 2,
       "version_minor": 0,
       "model_id": "d990914ac2e243efb62ed27eb0f46776"
      }
     },
     "metadata": {},
     "output_type": "display_data"
    }
   ],
   "source": [
    "# Gerar Features Teste\n",
    "features_test = X_test[\"cleaned\"].parallel_apply(\n",
    "    lambda x: gerar_feature_vector(\n",
    "        x, dicionario_positivo, dicionario_neutro, dicionario_negativo\n",
    "    )\n",
    ")\n",
    "features_test[\"label\"] = X_test[\"label\"]"
   ]
  },
  {
   "cell_type": "code",
   "execution_count": 24,
   "id": "62a14285-d982-4e21-9817-c227a1d861b3",
   "metadata": {
    "pycharm": {
     "name": "#%%\n"
    }
   },
   "outputs": [
    {
     "data": {
      "text/plain": "        positiva  neutra  negativa  label\n607280     11354    3594      7216      1\n209550     79528   11185     24431      1\n35839       8576    2209      4176      1\n563451      2521     536      1123      1\n806383     32960    8850     18697     -1",
      "text/html": "<div>\n<style scoped>\n    .dataframe tbody tr th:only-of-type {\n        vertical-align: middle;\n    }\n\n    .dataframe tbody tr th {\n        vertical-align: top;\n    }\n\n    .dataframe thead th {\n        text-align: right;\n    }\n</style>\n<table border=\"1\" class=\"dataframe\">\n  <thead>\n    <tr style=\"text-align: right;\">\n      <th></th>\n      <th>positiva</th>\n      <th>neutra</th>\n      <th>negativa</th>\n      <th>label</th>\n    </tr>\n  </thead>\n  <tbody>\n    <tr>\n      <th>607280</th>\n      <td>11354</td>\n      <td>3594</td>\n      <td>7216</td>\n      <td>1</td>\n    </tr>\n    <tr>\n      <th>209550</th>\n      <td>79528</td>\n      <td>11185</td>\n      <td>24431</td>\n      <td>1</td>\n    </tr>\n    <tr>\n      <th>35839</th>\n      <td>8576</td>\n      <td>2209</td>\n      <td>4176</td>\n      <td>1</td>\n    </tr>\n    <tr>\n      <th>563451</th>\n      <td>2521</td>\n      <td>536</td>\n      <td>1123</td>\n      <td>1</td>\n    </tr>\n    <tr>\n      <th>806383</th>\n      <td>32960</td>\n      <td>8850</td>\n      <td>18697</td>\n      <td>-1</td>\n    </tr>\n  </tbody>\n</table>\n</div>"
     },
     "execution_count": 24,
     "metadata": {},
     "output_type": "execute_result"
    }
   ],
   "source": [
    "features_test.sample(5)"
   ]
  },
  {
   "cell_type": "code",
   "execution_count": 25,
   "id": "421a0c04-d773-4c12-b276-1ac322d38e11",
   "metadata": {
    "pycharm": {
     "name": "#%%\n"
    }
   },
   "outputs": [
    {
     "data": {
      "text/plain": "        positiva  neutra  negativa\n701885       176      53       153\n51077      34062    9123     19029\n573762     11180    1668      3812\n366665      1807      75        37\n864514     16146    5297      9498",
      "text/html": "<div>\n<style scoped>\n    .dataframe tbody tr th:only-of-type {\n        vertical-align: middle;\n    }\n\n    .dataframe tbody tr th {\n        vertical-align: top;\n    }\n\n    .dataframe thead th {\n        text-align: right;\n    }\n</style>\n<table border=\"1\" class=\"dataframe\">\n  <thead>\n    <tr style=\"text-align: right;\">\n      <th></th>\n      <th>positiva</th>\n      <th>neutra</th>\n      <th>negativa</th>\n    </tr>\n  </thead>\n  <tbody>\n    <tr>\n      <th>701885</th>\n      <td>176</td>\n      <td>53</td>\n      <td>153</td>\n    </tr>\n    <tr>\n      <th>51077</th>\n      <td>34062</td>\n      <td>9123</td>\n      <td>19029</td>\n    </tr>\n    <tr>\n      <th>573762</th>\n      <td>11180</td>\n      <td>1668</td>\n      <td>3812</td>\n    </tr>\n    <tr>\n      <th>366665</th>\n      <td>1807</td>\n      <td>75</td>\n      <td>37</td>\n    </tr>\n    <tr>\n      <th>864514</th>\n      <td>16146</td>\n      <td>5297</td>\n      <td>9498</td>\n    </tr>\n  </tbody>\n</table>\n</div>"
     },
     "execution_count": 25,
     "metadata": {},
     "output_type": "execute_result"
    }
   ],
   "source": [
    "X_features_test = features_test[[\"positiva\", \"neutra\", \"negativa\"]]\n",
    "X_features_test.sample(5)"
   ]
  },
  {
   "cell_type": "code",
   "execution_count": 26,
   "id": "594f3257-d14e-4cd2-9957-1be2b7b1a1e4",
   "metadata": {
    "pycharm": {
     "name": "#%%\n"
    }
   },
   "outputs": [
    {
     "data": {
      "text/plain": "136867    1\n424907    1\n444329    1\n446855    1\n301340    1\nName: label, dtype: int64"
     },
     "execution_count": 26,
     "metadata": {},
     "output_type": "execute_result"
    }
   ],
   "source": [
    "y_features_test = features_test[\"label\"]\n",
    "y_features_test.sample(5)"
   ]
  },
  {
   "attachments": {
    "6d508352-d446-485d-9926-59c21069b87c.png": {
     "image/png": "[encoded data removed]"
    }
   },
   "cell_type": "markdown",
   "id": "a260e92f-4549-4688-89b6-277e9a1eee7c",
   "metadata": {
    "tags": [],
    "pycharm": {
     "name": "#%% md\n"
    }
   },
   "source": [
    "## Feature Scaling\n",
    "\n",
    "Aqui vamos normalizar os dados utilizando o Standard Scaler\n",
    "\n",
    "\n",
    "Referências:\n",
    " - [https://en.wikipedia.org/wiki/Normalization_(statistics)](https://en.wikipedia.org/wiki/Normalization_(statistics))\n",
    " - [https://en.wikipedia.org/wiki/Standard_score](https://en.wikipedia.org/wiki/Standard_score)\n",
    " - [https://scikit-learn.org/stable/modules/preprocessing.html#standardization-or-mean-removal-and-variance-scaling](https://scikit-learn.org/stable/modules/preprocessing.html#standardization-or-mean-removal-and-variance-scaling)"
   ]
  },
  {
   "cell_type": "code",
   "execution_count": 27,
   "id": "ffff8599-e75f-4657-a82f-3b1cb7de00c5",
   "metadata": {
    "pycharm": {
     "name": "#%%\n"
    }
   },
   "outputs": [
    {
     "data": {
      "text/plain": "StandardScaler()",
      "text/html": "<style>#sk-container-id-1 {color: black;background-color: white;}#sk-container-id-1 pre{padding: 0;}#sk-container-id-1 div.sk-toggleable {background-color: white;}#sk-container-id-1 label.sk-toggleable__label {cursor: pointer;display: block;width: 100%;margin-bottom: 0;padding: 0.3em;box-sizing: border-box;text-align: center;}#sk-container-id-1 label.sk-toggleable__label-arrow:before {content: \"▸\";float: left;margin-right: 0.25em;color: #696969;}#sk-container-id-1 label.sk-toggleable__label-arrow:hover:before {color: black;}#sk-container-id-1 div.sk-estimator:hover label.sk-toggleable__label-arrow:before {color: black;}#sk-container-id-1 div.sk-toggleable__content {max-height: 0;max-width: 0;overflow: hidden;text-align: left;background-color: #f0f8ff;}#sk-container-id-1 div.sk-toggleable__content pre {margin: 0.2em;color: black;border-radius: 0.25em;background-color: #f0f8ff;}#sk-container-id-1 input.sk-toggleable__control:checked~div.sk-toggleable__content {max-height: 200px;max-width: 100%;overflow: auto;}#sk-container-id-1 input.sk-toggleable__control:checked~label.sk-toggleable__label-arrow:before {content: \"▾\";}#sk-container-id-1 div.sk-estimator input.sk-toggleable__control:checked~label.sk-toggleable__label {background-color: #d4ebff;}#sk-container-id-1 div.sk-label input.sk-toggleable__control:checked~label.sk-toggleable__label {background-color: #d4ebff;}#sk-container-id-1 input.sk-hidden--visually {border: 0;clip: rect(1px 1px 1px 1px);clip: rect(1px, 1px, 1px, 1px);height: 1px;margin: -1px;overflow: hidden;padding: 0;position: absolute;width: 1px;}#sk-container-id-1 div.sk-estimator {font-family: monospace;background-color: #f0f8ff;border: 1px dotted black;border-radius: 0.25em;box-sizing: border-box;margin-bottom: 0.5em;}#sk-container-id-1 div.sk-estimator:hover {background-color: #d4ebff;}#sk-container-id-1 div.sk-parallel-item::after {content: \"\";width: 100%;border-bottom: 1px solid gray;flex-grow: 1;}#sk-container-id-1 div.sk-label:hover label.sk-toggleable__label {background-color: #d4ebff;}#sk-container-id-1 div.sk-serial::before {content: \"\";position: absolute;border-left: 1px solid gray;box-sizing: border-box;top: 0;bottom: 0;left: 50%;z-index: 0;}#sk-container-id-1 div.sk-serial {display: flex;flex-direction: column;align-items: center;background-color: white;padding-right: 0.2em;padding-left: 0.2em;position: relative;}#sk-container-id-1 div.sk-item {position: relative;z-index: 1;}#sk-container-id-1 div.sk-parallel {display: flex;align-items: stretch;justify-content: center;background-color: white;position: relative;}#sk-container-id-1 div.sk-item::before, #sk-container-id-1 div.sk-parallel-item::before {content: \"\";position: absolute;border-left: 1px solid gray;box-sizing: border-box;top: 0;bottom: 0;left: 50%;z-index: -1;}#sk-container-id-1 div.sk-parallel-item {display: flex;flex-direction: column;z-index: 1;position: relative;background-color: white;}#sk-container-id-1 div.sk-parallel-item:first-child::after {align-self: flex-end;width: 50%;}#sk-container-id-1 div.sk-parallel-item:last-child::after {align-self: flex-start;width: 50%;}#sk-container-id-1 div.sk-parallel-item:only-child::after {width: 0;}#sk-container-id-1 div.sk-dashed-wrapped {border: 1px dashed gray;margin: 0 0.4em 0.5em 0.4em;box-sizing: border-box;padding-bottom: 0.4em;background-color: white;}#sk-container-id-1 div.sk-label label {font-family: monospace;font-weight: bold;display: inline-block;line-height: 1.2em;}#sk-container-id-1 div.sk-label-container {text-align: center;}#sk-container-id-1 div.sk-container {/* jupyter's `normalize.less` sets `[hidden] { display: none; }` but bootstrap.min.css set `[hidden] { display: none !important; }` so we also need the `!important` here to be able to override the default hidden behavior on the sphinx rendered scikit-learn.org. See: https://github.com/scikit-learn/scikit-learn/issues/21755 */display: inline-block !important;position: relative;}#sk-container-id-1 div.sk-text-repr-fallback {display: none;}</style><div id=\"sk-container-id-1\" class=\"sk-top-container\"><div class=\"sk-text-repr-fallback\"><pre>StandardScaler()</pre><b>In a Jupyter environment, please rerun this cell to show the HTML representation or trust the notebook. <br />On GitHub, the HTML representation is unable to render, please try loading this page with nbviewer.org.</b></div><div class=\"sk-container\" hidden><div class=\"sk-item\"><div class=\"sk-estimator sk-toggleable\"><input class=\"sk-toggleable__control sk-hidden--visually\" id=\"sk-estimator-id-1\" type=\"checkbox\" checked><label for=\"sk-estimator-id-1\" class=\"sk-toggleable__label sk-toggleable__label-arrow\">StandardScaler</label><div class=\"sk-toggleable__content\"><pre>StandardScaler()</pre></div></div></div></div></div>"
     },
     "execution_count": 27,
     "metadata": {},
     "output_type": "execute_result"
    }
   ],
   "source": [
    "# Inicializar o Scaler\n",
    "scaler = StandardScaler()\n",
    "\n",
    "# Treinar o Scaler\n",
    "scaler.fit(X_features_train)"
   ]
  },
  {
   "cell_type": "code",
   "execution_count": 28,
   "id": "2347391b-fabb-4236-8789-5205b11ea215",
   "metadata": {
    "pycharm": {
     "name": "#%%\n"
    }
   },
   "outputs": [
    {
     "data": {
      "text/plain": "        positiva    neutra  negativa\n303379 -0.833538 -0.703513 -0.833662\n302572  1.806918  1.505163  1.433860\n140231 -0.497593 -0.546937 -0.676597\n377126 -0.255187  0.284965 -0.268780\n23922  -0.369373 -0.306832 -0.144349",
      "text/html": "<div>\n<style scoped>\n    .dataframe tbody tr th:only-of-type {\n        vertical-align: middle;\n    }\n\n    .dataframe tbody tr th {\n        vertical-align: top;\n    }\n\n    .dataframe thead th {\n        text-align: right;\n    }\n</style>\n<table border=\"1\" class=\"dataframe\">\n  <thead>\n    <tr style=\"text-align: right;\">\n      <th></th>\n      <th>positiva</th>\n      <th>neutra</th>\n      <th>negativa</th>\n    </tr>\n  </thead>\n  <tbody>\n    <tr>\n      <th>303379</th>\n      <td>-0.833538</td>\n      <td>-0.703513</td>\n      <td>-0.833662</td>\n    </tr>\n    <tr>\n      <th>302572</th>\n      <td>1.806918</td>\n      <td>1.505163</td>\n      <td>1.433860</td>\n    </tr>\n    <tr>\n      <th>140231</th>\n      <td>-0.497593</td>\n      <td>-0.546937</td>\n      <td>-0.676597</td>\n    </tr>\n    <tr>\n      <th>377126</th>\n      <td>-0.255187</td>\n      <td>0.284965</td>\n      <td>-0.268780</td>\n    </tr>\n    <tr>\n      <th>23922</th>\n      <td>-0.369373</td>\n      <td>-0.306832</td>\n      <td>-0.144349</td>\n    </tr>\n  </tbody>\n</table>\n</div>"
     },
     "execution_count": 28,
     "metadata": {},
     "output_type": "execute_result"
    }
   ],
   "source": [
    "# Transformar o conjunto de treinamento\n",
    "transformed = scaler.transform(X_features_train)\n",
    "\n",
    "# Gerar um dataframe com a saída do scaler\n",
    "X_features_train_scaled = pd.DataFrame(transformed, columns=scaler.feature_names_in_)\n",
    "\n",
    "# Amostra\n",
    "X_features_train_scaled.sample(5)"
   ]
  },
  {
   "cell_type": "code",
   "execution_count": 29,
   "id": "45142262-d8bc-4c18-8c5e-4dac0c1de6e7",
   "metadata": {
    "pycharm": {
     "name": "#%%\n"
    }
   },
   "outputs": [
    {
     "data": {
      "text/plain": "        positiva    neutra  negativa\n49940   0.354502  0.473630  0.338838\n186903  1.506648  0.302541  0.225019\n161864  0.373937  0.655523  0.385645\n56133   1.191057 -0.057374 -0.028422\n64243   0.004339 -0.532263 -0.596793",
      "text/html": "<div>\n<style scoped>\n    .dataframe tbody tr th:only-of-type {\n        vertical-align: middle;\n    }\n\n    .dataframe tbody tr th {\n        vertical-align: top;\n    }\n\n    .dataframe thead th {\n        text-align: right;\n    }\n</style>\n<table border=\"1\" class=\"dataframe\">\n  <thead>\n    <tr style=\"text-align: right;\">\n      <th></th>\n      <th>positiva</th>\n      <th>neutra</th>\n      <th>negativa</th>\n    </tr>\n  </thead>\n  <tbody>\n    <tr>\n      <th>49940</th>\n      <td>0.354502</td>\n      <td>0.473630</td>\n      <td>0.338838</td>\n    </tr>\n    <tr>\n      <th>186903</th>\n      <td>1.506648</td>\n      <td>0.302541</td>\n      <td>0.225019</td>\n    </tr>\n    <tr>\n      <th>161864</th>\n      <td>0.373937</td>\n      <td>0.655523</td>\n      <td>0.385645</td>\n    </tr>\n    <tr>\n      <th>56133</th>\n      <td>1.191057</td>\n      <td>-0.057374</td>\n      <td>-0.028422</td>\n    </tr>\n    <tr>\n      <th>64243</th>\n      <td>0.004339</td>\n      <td>-0.532263</td>\n      <td>-0.596793</td>\n    </tr>\n  </tbody>\n</table>\n</div>"
     },
     "execution_count": 29,
     "metadata": {},
     "output_type": "execute_result"
    }
   ],
   "source": [
    "transformed = scaler.transform(X_features_test)\n",
    "\n",
    "# Gerar um dataframe com a saída do scaler\n",
    "X_features_test_scaled = pd.DataFrame(transformed, columns=scaler.feature_names_in_)\n",
    "\n",
    "# Amostra\n",
    "X_features_test_scaled.sample(5)"
   ]
  },
  {
   "cell_type": "markdown",
   "id": "62b74f25-12f9-43c9-ad12-9e7160bbfa0d",
   "metadata": {
    "tags": [],
    "pycharm": {
     "name": "#%% md\n"
    }
   },
   "source": [
    "# Learning\n"
   ]
  },
  {
   "cell_type": "markdown",
   "id": "bcdf302f-5938-4585-999c-ed13b4c1ecda",
   "metadata": {
    "tags": [],
    "pycharm": {
     "name": "#%% md\n"
    }
   },
   "source": [
    "## Baseline Score\n",
    "\n",
    "Aqui vamos, criar um score de base. Ou seja, o resultado que conseguiriamos com o menor esforço possível (que é atribuir indiscriminadamente qualquer valor)\n",
    "\n",
    "Referências:\n",
    "- [https://scikit-learn.org/stable/modules/model_evaluation.html#precision-recall-f-measure-metrics](https://scikit-learn.org/stable/modules/model_evaluation.html#precision-recall-f-measure-metrics)"
   ]
  },
  {
   "cell_type": "code",
   "execution_count": 30,
   "id": "715d46d6-6d55-471b-bad3-bfab6a0e4777",
   "metadata": {
    "pycharm": {
     "name": "#%%\n"
    }
   },
   "outputs": [
    {
     "name": "stdout",
     "output_type": "stream",
     "text": [
      "F-Score: 3.64%\n"
     ]
    }
   ],
   "source": [
    "# Assumindo tudo como 0\n",
    "score_assumindo_tudo_neutro = f1_score(\n",
    "    y_features_train, [0 for _ in y_features_train], average=\"weighted\"\n",
    ")\n",
    "\n",
    "print(\"F-Score: {:.2f}%\".format(score_assumindo_tudo_neutro * 100))"
   ]
  },
  {
   "cell_type": "code",
   "execution_count": 31,
   "id": "249df0e2-ce08-4537-8bc1-f93b282c3daf",
   "metadata": {
    "pycharm": {
     "name": "#%%\n"
    }
   },
   "outputs": [
    {
     "name": "stdout",
     "output_type": "stream",
     "text": [
      "F-Score: 11.62%\n"
     ]
    }
   ],
   "source": [
    "# Assumindo tudo como -1\n",
    "score_assumindo_tudo_negativo = f1_score(\n",
    "    y_features_train, [-1 for _ in y_features_train], average=\"weighted\"\n",
    ")\n",
    "\n",
    "print(\"F-Score: {:.2f}%\".format(score_assumindo_tudo_negativo * 100))"
   ]
  },
  {
   "cell_type": "code",
   "execution_count": 32,
   "id": "1297f2d5-03a5-4b9a-b12b-443178a5cb02",
   "metadata": {
    "pycharm": {
     "name": "#%%\n"
    }
   },
   "outputs": [
    {
     "name": "stdout",
     "output_type": "stream",
     "text": [
      "F-Score: 43.03%\n"
     ]
    }
   ],
   "source": [
    "# Assumindo tudo como 1\n",
    "score_assumindo_tudo_positivo = f1_score(\n",
    "    y_features_train, [1 for _ in y_features_train], average=\"weighted\"\n",
    ")\n",
    "\n",
    "print(\"F-Score: {:.2f}%\".format(score_assumindo_tudo_positivo * 100))"
   ]
  },
  {
   "cell_type": "code",
   "execution_count": 33,
   "id": "a63e08a2-bd0a-40ab-af29-4eb9f7e8f2fe",
   "metadata": {
    "pycharm": {
     "name": "#%%\n"
    }
   },
   "outputs": [
    {
     "name": "stdout",
     "output_type": "stream",
     "text": [
      "F-Score: 43.03%\n"
     ]
    }
   ],
   "source": [
    "# Baseline Score\n",
    "baseline_score = np.max(\n",
    "    [\n",
    "        score_assumindo_tudo_neutro,\n",
    "        score_assumindo_tudo_negativo,\n",
    "        score_assumindo_tudo_positivo,\n",
    "    ]\n",
    ")\n",
    "\n",
    "print(\"F-Score: {:.2f}%\".format(baseline_score * 100))"
   ]
  },
  {
   "cell_type": "markdown",
   "id": "c673b3ee-1c2c-48e3-8410-e8f4d08bd37e",
   "metadata": {
    "tags": [],
    "pycharm": {
     "name": "#%% md\n"
    }
   },
   "source": [
    "## Logistic Regression\n",
    "\n",
    "Referências:\n",
    "- [https://en.wikipedia.org/wiki/Logistic_regression](https://en.wikipedia.org/wiki/Logistic_regression)\n",
    "- [https://scikit-learn.org/stable/modules/linear_model.html#logistic-regression](https://scikit-learn.org/stable/modules/linear_model.html#logistic-regression)"
   ]
  },
  {
   "cell_type": "code",
   "execution_count": 34,
   "id": "7e8be239-d044-4cc3-be63-d731de79f24e",
   "metadata": {
    "pycharm": {
     "name": "#%%\n"
    }
   },
   "outputs": [],
   "source": [
    "log = LogisticRegression(random_state=42)"
   ]
  },
  {
   "cell_type": "markdown",
   "id": "e96d25fe-79e8-4936-ac15-62a0f14981f0",
   "metadata": {
    "tags": [],
    "pycharm": {
     "name": "#%% md\n"
    }
   },
   "source": [
    "### Otimização de Hyperparametros\n",
    "\n",
    "Nesse passo, vamos tentar encontrar a melhor combinação de hyperparametros para o modelo\n",
    "\n",
    "Referências:\n",
    "\n",
    "- [https://scikit-learn.org/stable/modules/grid_search.html#randomized-parameter-search](https://scikit-learn.org/stable/modules/grid_search.html#randomized-parameter-search)"
   ]
  },
  {
   "cell_type": "code",
   "execution_count": 35,
   "id": "6ad6444e-98aa-4d4c-a0a8-1d48f31a4b4b",
   "metadata": {
    "pycharm": {
     "name": "#%%\n"
    }
   },
   "outputs": [
    {
     "name": "stdout",
     "output_type": "stream",
     "text": [
      "Best F-Score: 52.12%\n"
     ]
    }
   ],
   "source": [
    "params = {\n",
    "    \"C\": [\n",
    "        0.47,\n",
    "        0.53,\n",
    "        0.59,\n",
    "        0.61,\n",
    "        0.67,\n",
    "        0.71,\n",
    "        0.73,\n",
    "        0.79,\n",
    "        0.83,\n",
    "        0.89,\n",
    "        0.97,\n",
    "        1,\n",
    "        2,\n",
    "        3,\n",
    "        5,\n",
    "        7,\n",
    "        9,\n",
    "        11,\n",
    "        13,\n",
    "        17,\n",
    "        19,\n",
    "        21,\n",
    "    ],\n",
    "    \"tol\": [1e-5, 5e-5, 1e-4, 5e-4, 1e-3, 5e-3],\n",
    "}\n",
    "\n",
    "clf = RandomizedSearchCV(log, params, scoring=\"f1_weighted\", n_jobs=-1, random_state=42)\n",
    "clf.fit(X_features_train_scaled, y_features_train)\n",
    "\n",
    "print(\"Best F-Score: {:.2f}%\".format(clf.best_score_ * 100))"
   ]
  },
  {
   "cell_type": "code",
   "execution_count": 36,
   "outputs": [],
   "source": [
    "classifier = clf.best_estimator_"
   ],
   "metadata": {
    "collapsed": false,
    "pycharm": {
     "name": "#%%\n"
    }
   }
  },
  {
   "cell_type": "markdown",
   "source": [
    "#### Comparação com Métrica base"
   ],
   "metadata": {
    "collapsed": false,
    "pycharm": {
     "name": "#%% md\n"
    }
   }
  },
  {
   "cell_type": "code",
   "execution_count": 37,
   "outputs": [
    {
     "name": "stdout",
     "output_type": "stream",
     "text": [
      "Score Baseline : 43.03%\n",
      "Score Modelo   : 52.12%\n",
      "Diferença      : 9.10%\n"
     ]
    }
   ],
   "source": [
    "print(\"Score Baseline : {:.2f}%\".format(baseline_score*100))\n",
    "print(\"Score Modelo   : {:.2f}%\".format(clf.best_score_*100))\n",
    "print(\"Diferença      : {:.2f}%\".format(np.abs(baseline_score-clf.best_score_)*100))"
   ],
   "metadata": {
    "collapsed": false,
    "pycharm": {
     "name": "#%%\n"
    }
   }
  },
  {
   "cell_type": "markdown",
   "id": "a1c8aa66-56c3-4d6d-ad5b-b8c4acf88411",
   "metadata": {
    "tags": [],
    "pycharm": {
     "name": "#%% md\n"
    }
   },
   "source": [
    "### Performance no Conjunto de Treino"
   ]
  },
  {
   "cell_type": "code",
   "execution_count": 38,
   "id": "5e18a496-24dd-44e5-bf6c-6d59066ba02b",
   "metadata": {
    "pycharm": {
     "name": "#%%\n"
    }
   },
   "outputs": [
    {
     "name": "stdout",
     "output_type": "stream",
     "text": [
      "F-Score: 52.12%\n"
     ]
    }
   ],
   "source": [
    "y_pred = classifier.predict(X_features_train_scaled)\n",
    "score = f1_score(y_features_train, y_pred, average=\"weighted\")\n",
    "print(\"F-Score: {:.2f}%\".format(score * 100))"
   ]
  },
  {
   "cell_type": "markdown",
   "id": "282b4073-668f-40ac-96fa-41d77e475010",
   "metadata": {
    "pycharm": {
     "name": "#%% md\n"
    }
   },
   "source": [
    "### Curva de Aprendizado"
   ]
  },
  {
   "cell_type": "code",
   "execution_count": 39,
   "id": "1311814a-f3a6-4eaa-83d6-a0a3b8d1eaa2",
   "metadata": {
    "pycharm": {
     "name": "#%%\n"
    }
   },
   "outputs": [],
   "source": [
    "def plot_learning_curve(estimator, X, y, scoring):\n",
    "\n",
    "    plt.figure(figsize=(8, 6))\n",
    "    plt.title(\"Learning Curve\")\n",
    "\n",
    "    plt.xlabel(\"Training examples\")\n",
    "    plt.ylabel(\"Score: {}\".format(scoring))\n",
    "\n",
    "    train_sizes, train_scores, test_scores = learning_curve(\n",
    "        estimator, X, y, scoring=scoring, n_jobs=-1\n",
    "    )\n",
    "\n",
    "    train_scores_mean = np.mean(train_scores, axis=1)\n",
    "    train_scores_std = np.std(train_scores, axis=1)\n",
    "    test_scores_mean = np.mean(test_scores, axis=1)\n",
    "    test_scores_std = np.std(test_scores, axis=1)\n",
    "\n",
    "    plt.ylim(round(min([np.min(train_scores), np.min(test_scores)]), 2) - 0.01, 1.01)\n",
    "\n",
    "    plt.grid()\n",
    "\n",
    "    plt.fill_between(\n",
    "        train_sizes,\n",
    "        train_scores_mean - train_scores_std,\n",
    "        train_scores_mean + train_scores_std,\n",
    "        alpha=0.1,\n",
    "        color=\"r\",\n",
    "    )\n",
    "\n",
    "    plt.fill_between(\n",
    "        train_sizes,\n",
    "        test_scores_mean - test_scores_std,\n",
    "        test_scores_mean + test_scores_std,\n",
    "        alpha=0.1,\n",
    "        color=\"g\",\n",
    "    )\n",
    "\n",
    "    plt.plot(train_sizes, train_scores_mean, \"o-\", color=\"r\", label=\"Training score\")\n",
    "    plt.plot(\n",
    "        train_sizes, test_scores_mean, \"o-\", color=\"g\", label=\"Cross-validation score\"\n",
    "    )\n",
    "\n",
    "    plt.legend(loc=\"best\")\n",
    "\n",
    "    return plt"
   ]
  },
  {
   "cell_type": "code",
   "execution_count": 40,
   "id": "4b18334d-62b7-4df8-bd27-bb9e6280e565",
   "metadata": {
    "pycharm": {
     "name": "#%%\n"
    }
   },
   "outputs": [
    {
     "data": {
      "text/plain": "<Figure size 800x600 with 1 Axes>",
      "image/png": "[encoded data removed]"
     },
     "metadata": {},
     "output_type": "display_data"
    }
   ],
   "source": [
    "plt = plot_learning_curve(\n",
    "    classifier, X_features_train_scaled, y_features_train, scoring=\"f1_weighted\"\n",
    ")\n",
    "plt.show()"
   ]
  },
  {
   "cell_type": "markdown",
   "id": "71638aed-2211-4631-889c-112132ea4ce0",
   "metadata": {
    "jp-MarkdownHeadingCollapsed": true,
    "tags": [],
    "pycharm": {
     "name": "#%% md\n"
    }
   },
   "source": [
    "## Random Forest\n",
    "\n",
    "Referências:\n",
    "- [https://en.wikipedia.org/wiki/Random_forest](https://en.wikipedia.org/wiki/Random_forest)\n",
    "- [https://scikit-learn.org/stable/modules/ensemble.html#forest](https://scikit-learn.org/stable/modules/ensemble.html#forest)"
   ]
  },
  {
   "cell_type": "code",
   "execution_count": 41,
   "id": "729495dd-706c-4f38-bbb3-6380496b498f",
   "metadata": {
    "pycharm": {
     "name": "#%%\n"
    }
   },
   "outputs": [],
   "source": [
    "rf = RandomForestClassifier(\n",
    "    n_estimators=100,\n",
    "    min_samples_split=2,\n",
    "    min_samples_leaf=2,\n",
    "    random_state=42,\n",
    "    n_jobs=-1,\n",
    ")"
   ]
  },
  {
   "cell_type": "code",
   "execution_count": 42,
   "id": "85695983-7e16-4724-80d0-45cc50a98419",
   "metadata": {
    "pycharm": {
     "name": "#%%\n"
    }
   },
   "outputs": [
    {
     "name": "stdout",
     "output_type": "stream",
     "text": [
      "Elapsed Time:  54 seconds\n",
      "F-Score: 58.87%\n"
     ]
    }
   ],
   "source": [
    "s1 = time()\n",
    "scores = cross_val_score(\n",
    "    rf, X_features_train_scaled, y_features_train, scoring=\"f1_weighted\"\n",
    ")\n",
    "rf_score = scores.mean()\n",
    "\n",
    "s2 = time()\n",
    "print(\"Elapsed Time: \", int(s2 - s1), \"seconds\")\n",
    "\n",
    "print(\"F-Score: {:.2f}%\".format(rf_score * 100))"
   ]
  },
  {
   "cell_type": "code",
   "execution_count": 43,
   "id": "56b8f801-74fd-4412-ae4e-2f4d96fe1b1a",
   "metadata": {
    "pycharm": {
     "name": "#%%\n"
    }
   },
   "outputs": [
    {
     "data": {
      "text/plain": "RandomForestClassifier(min_samples_leaf=2, n_jobs=-1, random_state=42)",
      "text/html": "<style>#sk-container-id-2 {color: black;background-color: white;}#sk-container-id-2 pre{padding: 0;}#sk-container-id-2 div.sk-toggleable {background-color: white;}#sk-container-id-2 label.sk-toggleable__label {cursor: pointer;display: block;width: 100%;margin-bottom: 0;padding: 0.3em;box-sizing: border-box;text-align: center;}#sk-container-id-2 label.sk-toggleable__label-arrow:before {content: \"▸\";float: left;margin-right: 0.25em;color: #696969;}#sk-container-id-2 label.sk-toggleable__label-arrow:hover:before {color: black;}#sk-container-id-2 div.sk-estimator:hover label.sk-toggleable__label-arrow:before {color: black;}#sk-container-id-2 div.sk-toggleable__content {max-height: 0;max-width: 0;overflow: hidden;text-align: left;background-color: #f0f8ff;}#sk-container-id-2 div.sk-toggleable__content pre {margin: 0.2em;color: black;border-radius: 0.25em;background-color: #f0f8ff;}#sk-container-id-2 input.sk-toggleable__control:checked~div.sk-toggleable__content {max-height: 200px;max-width: 100%;overflow: auto;}#sk-container-id-2 input.sk-toggleable__control:checked~label.sk-toggleable__label-arrow:before {content: \"▾\";}#sk-container-id-2 div.sk-estimator input.sk-toggleable__control:checked~label.sk-toggleable__label {background-color: #d4ebff;}#sk-container-id-2 div.sk-label input.sk-toggleable__control:checked~label.sk-toggleable__label {background-color: #d4ebff;}#sk-container-id-2 input.sk-hidden--visually {border: 0;clip: rect(1px 1px 1px 1px);clip: rect(1px, 1px, 1px, 1px);height: 1px;margin: -1px;overflow: hidden;padding: 0;position: absolute;width: 1px;}#sk-container-id-2 div.sk-estimator {font-family: monospace;background-color: #f0f8ff;border: 1px dotted black;border-radius: 0.25em;box-sizing: border-box;margin-bottom: 0.5em;}#sk-container-id-2 div.sk-estimator:hover {background-color: #d4ebff;}#sk-container-id-2 div.sk-parallel-item::after {content: \"\";width: 100%;border-bottom: 1px solid gray;flex-grow: 1;}#sk-container-id-2 div.sk-label:hover label.sk-toggleable__label {background-color: #d4ebff;}#sk-container-id-2 div.sk-serial::before {content: \"\";position: absolute;border-left: 1px solid gray;box-sizing: border-box;top: 0;bottom: 0;left: 50%;z-index: 0;}#sk-container-id-2 div.sk-serial {display: flex;flex-direction: column;align-items: center;background-color: white;padding-right: 0.2em;padding-left: 0.2em;position: relative;}#sk-container-id-2 div.sk-item {position: relative;z-index: 1;}#sk-container-id-2 div.sk-parallel {display: flex;align-items: stretch;justify-content: center;background-color: white;position: relative;}#sk-container-id-2 div.sk-item::before, #sk-container-id-2 div.sk-parallel-item::before {content: \"\";position: absolute;border-left: 1px solid gray;box-sizing: border-box;top: 0;bottom: 0;left: 50%;z-index: -1;}#sk-container-id-2 div.sk-parallel-item {display: flex;flex-direction: column;z-index: 1;position: relative;background-color: white;}#sk-container-id-2 div.sk-parallel-item:first-child::after {align-self: flex-end;width: 50%;}#sk-container-id-2 div.sk-parallel-item:last-child::after {align-self: flex-start;width: 50%;}#sk-container-id-2 div.sk-parallel-item:only-child::after {width: 0;}#sk-container-id-2 div.sk-dashed-wrapped {border: 1px dashed gray;margin: 0 0.4em 0.5em 0.4em;box-sizing: border-box;padding-bottom: 0.4em;background-color: white;}#sk-container-id-2 div.sk-label label {font-family: monospace;font-weight: bold;display: inline-block;line-height: 1.2em;}#sk-container-id-2 div.sk-label-container {text-align: center;}#sk-container-id-2 div.sk-container {/* jupyter's `normalize.less` sets `[hidden] { display: none; }` but bootstrap.min.css set `[hidden] { display: none !important; }` so we also need the `!important` here to be able to override the default hidden behavior on the sphinx rendered scikit-learn.org. See: https://github.com/scikit-learn/scikit-learn/issues/21755 */display: inline-block !important;position: relative;}#sk-container-id-2 div.sk-text-repr-fallback {display: none;}</style><div id=\"sk-container-id-2\" class=\"sk-top-container\"><div class=\"sk-text-repr-fallback\"><pre>RandomForestClassifier(min_samples_leaf=2, n_jobs=-1, random_state=42)</pre><b>In a Jupyter environment, please rerun this cell to show the HTML representation or trust the notebook. <br />On GitHub, the HTML representation is unable to render, please try loading this page with nbviewer.org.</b></div><div class=\"sk-container\" hidden><div class=\"sk-item\"><div class=\"sk-estimator sk-toggleable\"><input class=\"sk-toggleable__control sk-hidden--visually\" id=\"sk-estimator-id-2\" type=\"checkbox\" checked><label for=\"sk-estimator-id-2\" class=\"sk-toggleable__label sk-toggleable__label-arrow\">RandomForestClassifier</label><div class=\"sk-toggleable__content\"><pre>RandomForestClassifier(min_samples_leaf=2, n_jobs=-1, random_state=42)</pre></div></div></div></div></div>"
     },
     "execution_count": 43,
     "metadata": {},
     "output_type": "execute_result"
    }
   ],
   "source": [
    "rf.fit(X_features_train_scaled, y_features_train)"
   ]
  },
  {
   "cell_type": "markdown",
   "id": "022c6984-c13c-477d-95db-3f487864fb23",
   "metadata": {
    "tags": [],
    "pycharm": {
     "name": "#%% md\n"
    }
   },
   "source": [
    "### Otimização de Hyperparametros\n",
    "\n",
    "Nesse passo, vamos tentar encontrar a melhor combinação de hyperparametros para o modelo\n",
    "\n",
    "Referências:\n",
    "\n",
    "- [https://scikit-learn.org/stable/modules/grid_search.html#randomized-parameter-search]"
   ]
  },
  {
   "cell_type": "code",
   "execution_count": 44,
   "id": "5ef8d47e-459e-4187-89b2-a9dc0ca70044",
   "metadata": {
    "pycharm": {
     "name": "#%%\n"
    }
   },
   "outputs": [],
   "source": [
    "# Codigo\n",
    "# rf = RandomForestClassifier(random_state = 42, n_jobs = -1)\n",
    "# params = {\n",
    "#    'n_estimators': [100,200,300],\n",
    "#    'min_samples_split': [2,3,4,5],\n",
    "#    'min_samples_leaf': [1,2,3,4],\n",
    "# }\n",
    "\n",
    "# clf = RandomizedSearchCV(rf, params, scoring='f1_weighted', random_state=42)\n",
    "# clf.fit(X_features_train_scaled, y_features_train)\n",
    "\n",
    "# print(\"Best F-Score: {:.2f}%\".format(clf.best_score_*100))"
   ]
  },
  {
   "cell_type": "code",
   "execution_count": 45,
   "id": "42e2453a-8398-40c4-877d-09c4882866d6",
   "metadata": {
    "pycharm": {
     "name": "#%%\n"
    }
   },
   "outputs": [
    {
     "name": "stdout",
     "output_type": "stream",
     "text": [
      "{'n_estimators': 100, 'min_samples_split': 2, 'min_samples_leaf': 2}\n"
     ]
    }
   ],
   "source": [
    "# clf.best_params_\n",
    "print({\"n_estimators\": 100, \"min_samples_split\": 2, \"min_samples_leaf\": 2})"
   ]
  },
  {
   "cell_type": "code",
   "execution_count": 46,
   "id": "aa286073-0714-4a69-81f0-a434389d7cc8",
   "metadata": {
    "pycharm": {
     "name": "#%%\n"
    }
   },
   "outputs": [],
   "source": [
    "# rf = clf.best_estimator_"
   ]
  },
  {
   "cell_type": "markdown",
   "source": [
    "#### Comparação com Métrica base"
   ],
   "metadata": {
    "collapsed": false,
    "pycharm": {
     "name": "#%% md\n"
    }
   }
  },
  {
   "cell_type": "code",
   "execution_count": 47,
   "outputs": [
    {
     "name": "stdout",
     "output_type": "stream",
     "text": [
      "Score Baseline : 43.03%\n",
      "Score Modelo   : 58.87%\n",
      "Diferença      : 15.85%\n"
     ]
    }
   ],
   "source": [
    "print(\"Score Baseline : {:.2f}%\".format(baseline_score*100))\n",
    "print(\"Score Modelo   : {:.2f}%\".format(rf_score*100))\n",
    "print(\"Diferença      : {:.2f}%\".format(np.abs(baseline_score-rf_score)*100))"
   ],
   "metadata": {
    "collapsed": false,
    "pycharm": {
     "name": "#%%\n"
    }
   }
  },
  {
   "cell_type": "markdown",
   "id": "73a8a2fc-ec00-4ea0-8991-dcb0bfdbe6cb",
   "metadata": {
    "pycharm": {
     "name": "#%% md\n"
    }
   },
   "source": [
    "### Performance no Conjunto de Treino"
   ]
  },
  {
   "cell_type": "code",
   "execution_count": 48,
   "id": "bb36ef4d-8f74-4df1-8e72-211759114526",
   "metadata": {
    "pycharm": {
     "name": "#%%\n"
    }
   },
   "outputs": [
    {
     "name": "stdout",
     "output_type": "stream",
     "text": [
      "F-Score: 89.98%\n"
     ]
    }
   ],
   "source": [
    "y_pred = rf.predict(X_features_train_scaled)\n",
    "score = f1_score(y_features_train, y_pred, average=\"weighted\")\n",
    "print(\"F-Score: {:.2f}%\".format(score * 100))"
   ]
  },
  {
   "cell_type": "markdown",
   "id": "dd76528f-bc42-4493-8951-7f96e7de71be",
   "metadata": {
    "pycharm": {
     "name": "#%% md\n"
    }
   },
   "source": [
    "### Curva de Aprendizado"
   ]
  },
  {
   "cell_type": "code",
   "execution_count": 49,
   "id": "d3553509-0106-490c-9eee-cd2fded7a865",
   "metadata": {
    "pycharm": {
     "name": "#%%\n"
    }
   },
   "outputs": [
    {
     "data": {
      "text/plain": "<Figure size 800x600 with 1 Axes>",
      "image/png": "[encoded data removed]"
     },
     "metadata": {},
     "output_type": "display_data"
    }
   ],
   "source": [
    "plt = plot_learning_curve(\n",
    "    classifier, X_features_train_scaled, y_features_train, scoring=\"f1_weighted\"\n",
    ")\n",
    "plt.show()"
   ]
  },
  {
   "cell_type": "markdown",
   "id": "af5797da-ad8a-4e03-8d0b-379851688702",
   "metadata": {
    "pycharm": {
     "name": "#%% md\n"
    }
   },
   "source": [
    "## Validação em conjunto de Teste"
   ]
  },
  {
   "cell_type": "code",
   "execution_count": 50,
   "id": "6a961a16-4ad3-4c3b-8311-4ae8237b28a6",
   "metadata": {
    "pycharm": {
     "name": "#%%\n"
    }
   },
   "outputs": [
    {
     "name": "stdout",
     "output_type": "stream",
     "text": [
      "F-Score: 58.61%\n"
     ]
    }
   ],
   "source": [
    "y_pred = rf.predict(X_features_test_scaled)\n",
    "score = f1_score(y_features_test, y_pred, average=\"weighted\")\n",
    "print(\"F-Score: {:.2f}%\".format(score * 100))"
   ]
  },
  {
   "cell_type": "markdown",
   "id": "d9f4d914-c13f-40ed-9b49-3b2014a39bf5",
   "metadata": {
    "pycharm": {
     "name": "#%% md\n"
    }
   },
   "source": [
    "### Preditos Positivos"
   ]
  },
  {
   "cell_type": "code",
   "execution_count": 51,
   "id": "a5069185-eb2a-4703-aab2-c1df0f48b2a5",
   "metadata": {
    "pycharm": {
     "name": "#%%\n"
    }
   },
   "outputs": [],
   "source": [
    "preditos_positivos = X_test[y_pred == 1]"
   ]
  },
  {
   "cell_type": "markdown",
   "id": "baa3d3bc-75c4-4ecd-9912-9fe5d7135ccc",
   "metadata": {
    "pycharm": {
     "name": "#%% md\n"
    }
   },
   "source": [
    "#### Falso Positivo -> Negativo"
   ]
  },
  {
   "cell_type": "code",
   "execution_count": 52,
   "id": "21622347-6a52-4fe8-89fc-0244e42f2204",
   "metadata": {
    "pycharm": {
     "name": "#%%\n"
    }
   },
   "outputs": [
    {
     "data": {
      "text/plain": "array(['usei c vc até vc tirar 😔', 'mas ele é lindinho demais 😭😭😭',\n       'existe. ganharam do meu heat em ... 😔',\n       'ninguém me manda bom dia no whatsapp pq sou uma azeda 😤',\n       'lavei o belinho 😣', 'que dia corrido, desde cedo na rua 😴',\n       'nós odeia a covardia 😠',\n       'eu assim 😡😤 chegando na escola com uma raiva da porra com not shy estourando no fone',\n       'jep é semana que vem e eu não conheço nem meus colegas de equipe 😪',\n       'preciso de uns dias off,mente a mil 😪'], dtype=object)"
     },
     "execution_count": 52,
     "metadata": {},
     "output_type": "execute_result"
    }
   ],
   "source": [
    "preditos_positivos[preditos_positivos[\"label\"] == -1][\"text\"].sample(10).values"
   ]
  },
  {
   "cell_type": "markdown",
   "id": "2d254704-fcfa-49d8-87b4-c035af2f66e4",
   "metadata": {
    "pycharm": {
     "name": "#%% md\n"
    }
   },
   "source": [
    "#### Falso Positivo -> Neutro"
   ]
  },
  {
   "cell_type": "code",
   "execution_count": 53,
   "id": "e9e6a5d3-5d89-42e6-b417-c5de53df9d8b",
   "metadata": {
    "pycharm": {
     "name": "#%%\n"
    }
   },
   "outputs": [
    {
     "data": {
      "text/plain": "array(['é impressionante cara, quando eu encontro os grts eles sempre precisam lembrar de alguma historia 😂',\n       'choque e vccc 😂',\n       '😂 pois é. me lembrei que vi uma foto dele indo cumprimentar o lula na posse do moraes',\n       'ele só disse a verdade 😂', 'juvia is a % sub😅',\n       'não é. se for eu entro na quinta idade ano que vem. 😂',\n       'bom dia 😅', 'accha 😕 😂😂', 'o gerasimov 😂',\n       'devíamos pensar todos assim 👀'], dtype=object)"
     },
     "execution_count": 53,
     "metadata": {},
     "output_type": "execute_result"
    }
   ],
   "source": [
    "preditos_positivos[preditos_positivos[\"label\"] == 0][\"text\"].sample(10).values"
   ]
  },
  {
   "cell_type": "markdown",
   "id": "b1de613c-ec7e-4a6d-8a8d-e9b4f4494697",
   "metadata": {
    "pycharm": {
     "name": "#%% md\n"
    }
   },
   "source": [
    "#### Verdadeiro Positivo"
   ]
  },
  {
   "cell_type": "code",
   "execution_count": 54,
   "id": "d0a98d4a-a7a0-417f-bcc4-d9605d9ffdd0",
   "metadata": {
    "pycharm": {
     "name": "#%%\n"
    }
   },
   "outputs": [
    {
     "data": {
      "text/plain": "array(['vou mandar vários spoilers pra você. 😂😂', 'linda??? 💜',\n       'o ca tem uma inveja do gg do caramba...é impressionante... o gg já foi artilheiro de várias copas e brasileirão...mas para o ca o nome de gabigol não tem nada a ver com o jogador...😀😀😀',\n       '[ / : ] ❤: aff arrumei uma mulher maconheira [ / : ] ❤: o rap venceu poha aaa jkkk',\n       'lindas. e como se parecem, né? 😍',\n       'primeira vez que ficamos/ nós agora hehe ❤️ te amo vida!',\n       'anem que bonitinho 😍', 'hooo hooo hooo hooo 💃',\n       'agora quero ser chamada de loirinha da zdm 😎', 'delícia 😈'],\n      dtype=object)"
     },
     "execution_count": 54,
     "metadata": {},
     "output_type": "execute_result"
    }
   ],
   "source": [
    "preditos_positivos[preditos_positivos[\"label\"] == 1][\"text\"].sample(10).values"
   ]
  },
  {
   "cell_type": "markdown",
   "id": "5a449bcd-e31f-48c9-8d99-b0f1d8977942",
   "metadata": {
    "pycharm": {
     "name": "#%% md\n"
    }
   },
   "source": [
    "### Preditos Negativos"
   ]
  },
  {
   "cell_type": "code",
   "execution_count": 55,
   "id": "9b4d59fd-227f-47f3-a585-9c9284d3fc09",
   "metadata": {
    "pycharm": {
     "name": "#%%\n"
    }
   },
   "outputs": [],
   "source": [
    "preditos_negativos = X_test[y_pred == -1]"
   ]
  },
  {
   "cell_type": "markdown",
   "id": "14b89887-6cef-4e33-bad2-cc8355bf14c1",
   "metadata": {
    "pycharm": {
     "name": "#%% md\n"
    }
   },
   "source": [
    "#### Falso Negativo -> Positivo"
   ]
  },
  {
   "cell_type": "code",
   "execution_count": 56,
   "id": "c929df8e-d956-4b97-9702-79f5016ddf7e",
   "metadata": {
    "pycharm": {
     "name": "#%%\n"
    }
   },
   "outputs": [
    {
     "data": {
      "text/plain": "array(['marco zero já tá cheio, já tô começando a me arrepender 😍',\n       'levando meus remédios pra passear 😍😍', 'vou dormir ! beijunda 😘',\n       'como eu queria ouvir tua voz, dizendo que ainda existe nós, mas vou ficar aqui com a minha dor... 🎶',\n       'afff vc q eh 😍',\n       'queria gozar junto com um cacete na minha bucetinha 😈',\n       'tem diversas coisas pra eu comer mas eu ainda prefiro e purê com linguiça e macarrão 😍',\n       'q sdds do meu homem 💗', 'mata raisho. 😊',\n       'ain pq tão querido 😍 saudades dmilk'], dtype=object)"
     },
     "execution_count": 56,
     "metadata": {},
     "output_type": "execute_result"
    }
   ],
   "source": [
    "preditos_negativos[preditos_negativos[\"label\"] == 1][\"text\"].sample(10).values"
   ]
  },
  {
   "cell_type": "markdown",
   "id": "9a46481c-0fa3-4575-983d-f2edf85e3af3",
   "metadata": {
    "pycharm": {
     "name": "#%% md\n"
    }
   },
   "source": [
    "#### Falso Negativo -> Neutro"
   ]
  },
  {
   "cell_type": "code",
   "execution_count": 57,
   "id": "038cc018-682a-44e5-8a69-c9ce96af453c",
   "metadata": {
    "pycharm": {
     "name": "#%%\n"
    }
   },
   "outputs": [
    {
     "data": {
      "text/plain": "array(['pq sinceramente, eu sou tarada na sua inteligência. logo, meus sensores vibram de n maneiras... 😅',\n       'n posso me entregar 😂',\n       'quem já comeu o cuzinho pardo do heytor levanta a mão ✋',\n       'esse é um tipo de argumento usado por quem tem dislexia cerebral no útero 😳',\n       'como é que é possível 😂',\n       'será? não quero crer??? mas... @carlosbolsonaro @zambelli @biakicis 👂😱 roubo de votos: denúncia gravíssima! títulos novos ( jovens) e, transferidos ja sendo emitidos com qr code l- (lula ). 🇧🇷😳🇧🇷 não custa nada averiguar!!!',\n       'vou lavar meu cabelo e vou dormir um pouco, quando eu acordar eu faço 😰',\n       'eu só queria ficar na minha casa hj de noite 😢',\n       'o vento q bate no pátio da empresa me carrega legal 😂',\n       'ahaha não era assim tão difícil de perceber então 😂 — suponho que devia ter sido mais cuidadoso'],\n      dtype=object)"
     },
     "execution_count": 57,
     "metadata": {},
     "output_type": "execute_result"
    }
   ],
   "source": [
    "preditos_negativos[preditos_negativos[\"label\"] == 0][\"text\"].sample(10).values"
   ]
  },
  {
   "cell_type": "markdown",
   "id": "b204bebd-c171-4a6f-9cd4-ac152cc80626",
   "metadata": {
    "pycharm": {
     "name": "#%% md\n"
    }
   },
   "source": [
    "#### Verdadeiro Negativo"
   ]
  },
  {
   "cell_type": "code",
   "execution_count": 58,
   "id": "1efeab84-af16-4bd9-8492-2647b1e10d7c",
   "metadata": {
    "pycharm": {
     "name": "#%%\n"
    }
   },
   "outputs": [
    {
     "data": {
      "text/plain": "array(['tenho saudades dela 😡😡😡',\n       'quando terminei tog eu também entrei em ressaca literária, aliás, logo depois de torre do alvorecer eu tive uma profunda mas sempre dou um tempo, respiro e releio algum livro favoritado tbm preciso terminar a saga de estilhaça me mas to de ressaca no momento 😭',\n       'eu nunca vou esquecer a minha tristeza profunda quando isso saiu 💔',\n       'aconteceu um milagre no braço da izzy😭😭😭',\n       'a desgraçada me deixou com mais tesao 😩',\n       'queria ir pra casa mas ainda tenho q ir p o dentista 💔',\n       'mas eu sou maior de idade, para com isso 😭😭😭',\n       'eu vi pessoas morrerem na minha frente por falta d oxígênio, e não foram nem não, adorador d gente cruel. e teu presidente sabia q iria faltar desde antes do final do ano, pazzuello já havia avisado ele. ms ele simplesmente ignorou. agora o stf serve? hum...🤔😒',\n       'onde foi q eu errei??💔',\n       'o mal de alguns mlks é achar q mulher vai abaixar a cabeça 😴'],\n      dtype=object)"
     },
     "execution_count": 58,
     "metadata": {},
     "output_type": "execute_result"
    }
   ],
   "source": [
    "preditos_negativos[preditos_negativos[\"label\"] == -1][\"text\"].sample(10).values"
   ]
  },
  {
   "cell_type": "markdown",
   "id": "450acc69-e98d-4915-be12-ccacb5ea9696",
   "metadata": {
    "pycharm": {
     "name": "#%% md\n"
    }
   },
   "source": [
    "### Preditos Neutros"
   ]
  },
  {
   "cell_type": "code",
   "execution_count": 59,
   "id": "73af6117-3bd0-4287-9cde-6d9c10da6545",
   "metadata": {
    "pycharm": {
     "name": "#%%\n"
    }
   },
   "outputs": [],
   "source": [
    "preditos_neutros = X_test[y_pred == 0]"
   ]
  },
  {
   "cell_type": "markdown",
   "id": "6668e030-a892-41c1-94c7-42f8d16b8f76",
   "metadata": {
    "pycharm": {
     "name": "#%% md\n"
    }
   },
   "source": [
    "#### Falso Neutro -> Positivo"
   ]
  },
  {
   "cell_type": "code",
   "execution_count": 60,
   "id": "ded5afc4-f54f-4fe0-9c94-8f1002de5214",
   "metadata": {
    "pycharm": {
     "name": "#%%\n"
    }
   },
   "outputs": [
    {
     "data": {
      "text/plain": "array(['sabes onde estou 😉', 'loiras de olhos azuis 😭❤',\n       'é como assistir uma estrela e saber que ela já está morta a milhares de anos 😌🤏',\n       'inclusive, partida gigante da minha imperatriz 😍',\n       'mãe dela fugindo da pulisa 😎',\n       'aquele deus me livre mas quem me dera kkk 😈😈😈',\n       'perfeição do caralho 😍\\U0001fae6',\n       'o sinal veio do céu e as núvens foram ao encontro assegurar que devemos nos aproximar mais uns dos outros, para resgatar o que ficou esquecido. cris avatar 😘😘',\n       'muito tempo que não ia na igreja 🙏', 'que sede que deu 😋'],\n      dtype=object)"
     },
     "execution_count": 60,
     "metadata": {},
     "output_type": "execute_result"
    }
   ],
   "source": [
    "preditos_neutros[preditos_neutros[\"label\"] == 1][\"text\"].sample(10).values"
   ]
  },
  {
   "cell_type": "markdown",
   "id": "dc1257b2-d3c2-40f8-b4b7-ee8c79783d8c",
   "metadata": {
    "pycharm": {
     "name": "#%% md\n"
    }
   },
   "source": [
    "#### Falso Neutro -> Negativo"
   ]
  },
  {
   "cell_type": "code",
   "execution_count": 61,
   "id": "7f7f9bd4-4432-4b61-a703-ec3dc737548b",
   "metadata": {
    "pycharm": {
     "name": "#%%\n"
    }
   },
   "outputs": [
    {
     "data": {
      "text/plain": "array(['meu wpp tá mortinho, ngm fala cmg 😪',\n       'resfriado me pegou firme pqp 😪',\n       'sou macho de buceta e ngm quer me fuder😭', 'kkk q sacoo🤡😭',\n       'só agora que eu vi que a já me notou 🥺 🥰 como assim não vi a notificação dela ontem, poxa ig 😔',\n       'eu tô com um calo enorme no dedo e tá doendo 😭',\n       'acabei a minha série, é suposto fazer o quê agora? 😩',\n       'odeio reler algumas conversas e perceber que eu tava me humilhando 💀',\n       'eu to aq falando bem do meu pai mas eu n faço a mínima ideia de onde ele tá 😡',\n       'minha irmã tem uma língua de sabão do crlh mané, que ódio 😠'],\n      dtype=object)"
     },
     "execution_count": 61,
     "metadata": {},
     "output_type": "execute_result"
    }
   ],
   "source": [
    "preditos_neutros[preditos_neutros[\"label\"] == -1][\"text\"].sample(10).values"
   ]
  },
  {
   "cell_type": "markdown",
   "id": "97b4838f-81f1-42d7-811d-40a9feca575e",
   "metadata": {
    "pycharm": {
     "name": "#%% md\n"
    }
   },
   "source": [
    "#### Verdadeiro Neutro"
   ]
  },
  {
   "cell_type": "code",
   "execution_count": 62,
   "id": "043201bc-0dff-4f4d-a5dd-04ad2d2dd284",
   "metadata": {
    "pycharm": {
     "name": "#%%\n"
    }
   },
   "outputs": [
    {
     "data": {
      "text/plain": "array(['recebi meu verdin na porta de casa e com frete grátis ainda 🤤😂',\n       'aí tai, só quem viveu sabe! 😅', 'tagos 😂',\n       'eu me divirto nesse twitter cara 😂', 'o jogo virou 😢',\n       'eu iria fazer uma piada mais acabei esquecendo 😅',\n       'drake sobre \"it\\'s only me\", próximo single do lil baby 🔥 \"estive esperando por isso durante um mês... wham é realmente o cara\"',\n       'rir pra não chorar 😂', 'nas festas de nevogilde falamos 😂',\n       'acha 😂'], dtype=object)"
     },
     "execution_count": 62,
     "metadata": {},
     "output_type": "execute_result"
    }
   ],
   "source": [
    "preditos_neutros[preditos_neutros[\"label\"] == 0][\"text\"].sample(10).values"
   ]
  },
  {
   "cell_type": "code",
   "execution_count": 62,
   "id": "26c6c1b7-2811-4e9f-97a7-dc085c6c238f",
   "metadata": {
    "pycharm": {
     "name": "#%%\n"
    }
   },
   "outputs": [],
   "source": []
  }
 ],
 "metadata": {
  "kernelspec": {
   "display_name": "Python 3 (ipykernel)",
   "language": "python",
   "name": "python3"
  },
  "language_info": {
   "codemirror_mode": {
    "name": "ipython",
    "version": 3
   },
   "file_extension": ".py",
   "mimetype": "text/x-python",
   "name": "python",
   "nbconvert_exporter": "python",
   "pygments_lexer": "ipython3",
   "version": "3.10.4"
  }
 },
 "nbformat": 4,
 "nbformat_minor": 5
}