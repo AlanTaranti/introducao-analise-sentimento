{
 "cells": [
  {
   "cell_type": "code",
   "execution_count": 1,
   "id": "7d578184-94cf-4ee7-b475-405866c8ae19",
   "metadata": {
    "pycharm": {
     "name": "#%%\n"
    }
   },
   "outputs": [],
   "source": [
    "import re\n",
    "from os import path\n",
    "from time import time\n",
    "\n",
    "import nltk\n",
    "import numpy as np\n",
    "import pandas as pd\n",
    "import matplotlib.pyplot as plt\n",
    "from pandarallel import pandarallel\n",
    "\n",
    "from sklearn.preprocessing import StandardScaler\n",
    "from sklearn.linear_model import LogisticRegression\n",
    "from sklearn.ensemble import RandomForestClassifier\n",
    "from sklearn.metrics import f1_score, ConfusionMatrixDisplay, confusion_matrix\n",
    "from sklearn.model_selection import train_test_split, learning_curve, cross_val_score, RandomizedSearchCV"
   ]
  },
  {
   "cell_type": "code",
   "execution_count": 2,
   "id": "954693ae-a6e1-45d9-b3f7-c657869d1fad",
   "metadata": {
    "pycharm": {
     "name": "#%%\n"
    }
   },
   "outputs": [
    {
     "name": "stdout",
     "output_type": "stream",
     "text": [
      "INFO: Pandarallel will run on 10 workers.\n",
      "INFO: Pandarallel will use Memory file system to transfer data between the main process and workers.\n"
     ]
    }
   ],
   "source": [
    "pandarallel.initialize(progress_bar=True)"
   ]
  },
  {
   "cell_type": "markdown",
   "id": "fbcd33b5-99d5-48be-a054-d04975bdc60e",
   "metadata": {
    "pycharm": {
     "name": "#%% md\n"
    }
   },
   "source": [
    "# Carregar os dados"
   ]
  },
  {
   "cell_type": "markdown",
   "id": "66ba4993-25db-4676-958c-b2cf3ffb03ce",
   "metadata": {
    "pycharm": {
     "name": "#%% md\n"
    }
   },
   "source": [
    "## Tweets"
   ]
  },
  {
   "cell_type": "code",
   "execution_count": 3,
   "id": "216542bf-22bf-4284-946b-a900ebcf9671",
   "metadata": {
    "pycharm": {
     "name": "#%%\n"
    }
   },
   "outputs": [
    {
     "data": {
      "text/plain": "                         id  \\\n322477  1559966305008091138   \n262434  1559921456351412224   \n560526  1160722896198787073   \n158524  1559880387249274882   \n713725  1160973094900707329   \n247871  1559916397806948354   \n654384  1160893614588907520   \n341610  1559979680014503939   \n778096  1161082318850863107   \n870648  1161317173954002944   \n\n                                                     text     score  label  \n322477           desse jeito mesmo... entra lá no fundo 😈  0.267692      1  \n262434                                      hj já pode? 👀  0.063415      0  \n560526  eu não tenho psicológico pra isso 😍 te amo e n...  1.424024      1  \n158524  kkkķkkkķkkķ quer a imagem verdadeira eu mando ...  1.676596      1  \n713725  meus familiares arrependidos tb tão calados 🤣n... -0.093377     -1  \n247871                                  obrigado angela 💚  0.659218      1  \n654384                      ele nem ligou mas eu fiquei 💔 -0.121951     -1  \n341610                                            queria😔 -0.146058     -1  \n778096                                     pra você tbm 💞  0.742358      1  \n870648                    comida foi por minha conta hj 😍  0.677937      1  ",
      "text/html": "<div>\n<style scoped>\n    .dataframe tbody tr th:only-of-type {\n        vertical-align: middle;\n    }\n\n    .dataframe tbody tr th {\n        vertical-align: top;\n    }\n\n    .dataframe thead th {\n        text-align: right;\n    }\n</style>\n<table border=\"1\" class=\"dataframe\">\n  <thead>\n    <tr style=\"text-align: right;\">\n      <th></th>\n      <th>id</th>\n      <th>text</th>\n      <th>score</th>\n      <th>label</th>\n    </tr>\n  </thead>\n  <tbody>\n    <tr>\n      <th>322477</th>\n      <td>1559966305008091138</td>\n      <td>desse jeito mesmo... entra lá no fundo 😈</td>\n      <td>0.267692</td>\n      <td>1</td>\n    </tr>\n    <tr>\n      <th>262434</th>\n      <td>1559921456351412224</td>\n      <td>hj já pode? 👀</td>\n      <td>0.063415</td>\n      <td>0</td>\n    </tr>\n    <tr>\n      <th>560526</th>\n      <td>1160722896198787073</td>\n      <td>eu não tenho psicológico pra isso 😍 te amo e n...</td>\n      <td>1.424024</td>\n      <td>1</td>\n    </tr>\n    <tr>\n      <th>158524</th>\n      <td>1559880387249274882</td>\n      <td>kkkķkkkķkkķ quer a imagem verdadeira eu mando ...</td>\n      <td>1.676596</td>\n      <td>1</td>\n    </tr>\n    <tr>\n      <th>713725</th>\n      <td>1160973094900707329</td>\n      <td>meus familiares arrependidos tb tão calados 🤣n...</td>\n      <td>-0.093377</td>\n      <td>-1</td>\n    </tr>\n    <tr>\n      <th>247871</th>\n      <td>1559916397806948354</td>\n      <td>obrigado angela 💚</td>\n      <td>0.659218</td>\n      <td>1</td>\n    </tr>\n    <tr>\n      <th>654384</th>\n      <td>1160893614588907520</td>\n      <td>ele nem ligou mas eu fiquei 💔</td>\n      <td>-0.121951</td>\n      <td>-1</td>\n    </tr>\n    <tr>\n      <th>341610</th>\n      <td>1559979680014503939</td>\n      <td>queria😔</td>\n      <td>-0.146058</td>\n      <td>-1</td>\n    </tr>\n    <tr>\n      <th>778096</th>\n      <td>1161082318850863107</td>\n      <td>pra você tbm 💞</td>\n      <td>0.742358</td>\n      <td>1</td>\n    </tr>\n    <tr>\n      <th>870648</th>\n      <td>1161317173954002944</td>\n      <td>comida foi por minha conta hj 😍</td>\n      <td>0.677937</td>\n      <td>1</td>\n    </tr>\n  </tbody>\n</table>\n</div>"
     },
     "execution_count": 3,
     "metadata": {},
     "output_type": "execute_result"
    }
   ],
   "source": [
    "# Definir caminho do arquivo\n",
    "filename = \"labeled_data.parquet.gzip\"\n",
    "directory = \"data\"\n",
    "filepath = path.join(directory, filename)\n",
    "\n",
    "# Carregar dados\n",
    "data = pd.read_parquet(filepath)\n",
    "\n",
    "# Amostra dos dados\n",
    "data.sample(10)"
   ]
  },
  {
   "cell_type": "markdown",
   "id": "b7968c48-0bcf-43f7-b7da-1fce6bcaf41f",
   "metadata": {
    "jp-MarkdownHeadingCollapsed": true,
    "tags": [],
    "pycharm": {
     "name": "#%% md\n"
    }
   },
   "source": [
    "## Limpeza de Dados\n",
    "\n",
    "No modelo Soma das Frequencias*, precisamos saber a quantidade de determinadas palavras que aparecem em tweets positivos, negativos e neutros.\n",
    "\n",
    "Removeremos as Stopwords (palavras que não adicionam muito significado ao texto).\n",
    "\n",
    "Para melhorar o modelo, utilizaremos o Stemming, que visa remove alguns [afixos](https://pt.wikipedia.org/wiki/Afixo) das palavras. Exemplo: papel gramatical, tempo, morfologia derivacional, deixando apenas o radical da palavra.\n",
    "Assim, contaremos apenas os radicais das palavras em vez de suas derivações.\n",
    "\n",
    "Referências:\n",
    "\n",
    "- [StopWords](https://en.wikipedia.org/wiki/Stop_word)\n",
    "- [Stemming](https://en.wikipedia.org/wiki/Stemming)"
   ]
  },
  {
   "cell_type": "code",
   "execution_count": 4,
   "id": "da235645-1379-47b7-b92c-d0f005c44b5c",
   "metadata": {
    "pycharm": {
     "name": "#%%\n"
    }
   },
   "outputs": [],
   "source": [
    "def preprocess_data(string, stopwords, stemmer=None):\n",
    "\n",
    "    # Remover os Emojis e Pontuações\n",
    "    string_tratada = re.sub(\"\\W\", \" \", string)\n",
    "\n",
    "    # Remover stopwords\n",
    "    string_tratada = \" \".join(\n",
    "        [substring for substring in string_tratada.split() if substring not in stopwords]\n",
    "    )\n",
    "\n",
    "    # Stemming\n",
    "    if stemmer:\n",
    "        string_tratada = \" \".join([stemmer.stem(substring) for substring in string_tratada.split()])\n",
    "\n",
    "    # Remover espaços extras\n",
    "    string_tratada = re.sub(\" +\", \" \", string_tratada)\n",
    "    string_tratada = re.sub(\"(^ )\", \"\", string_tratada)\n",
    "    string_tratada = re.sub(\"( $)\", \"\", string_tratada)\n",
    "\n",
    "    return string_tratada"
   ]
  },
  {
   "cell_type": "code",
   "execution_count": 5,
   "id": "0db35abc-c7a2-45cf-9b35-e33f875fa90e",
   "metadata": {
    "pycharm": {
     "name": "#%%\n"
    }
   },
   "outputs": [],
   "source": [
    "# Obter as stopwords\n",
    "portuguese_stopwords = nltk.corpus.stopwords.words(\"portuguese\")\n",
    "\n",
    "# Inicializar o Stemmer\n",
    "rlp_stemmer = nltk.stem.RSLPStemmer()"
   ]
  },
  {
   "cell_type": "code",
   "execution_count": 6,
   "outputs": [
    {
     "data": {
      "text/plain": "180       teriam\n98      houveria\n113        mesmo\n162        somos\n101    houvermos\ndtype: object"
     },
     "execution_count": 6,
     "metadata": {},
     "output_type": "execute_result"
    }
   ],
   "source": [
    "# Mostra das stopwords\n",
    "pd.Series(portuguese_stopwords).sample(5)"
   ],
   "metadata": {
    "collapsed": false,
    "pycharm": {
     "name": "#%%\n"
    }
   }
  },
  {
   "cell_type": "markdown",
   "source": [
    "### Demonstração do Tratamento"
   ],
   "metadata": {
    "collapsed": false,
    "pycharm": {
     "name": "#%% md\n"
    }
   }
  },
  {
   "cell_type": "code",
   "execution_count": 7,
   "id": "3552479e-c2a1-4f14-81a4-ff2afcb16f98",
   "metadata": {
    "pycharm": {
     "name": "#%%\n"
    }
   },
   "outputs": [
    {
     "name": "stdout",
     "output_type": "stream",
     "text": [
      "Tweet Original: algumas fotos que fiz no primeiro ensaio do meu studio, estou bem orgulhoso 😁\n",
      "\n",
      "Tweet Limpo   : algumas fotos fiz primeiro ensaio studio bem orgulhoso\n",
      "\n",
      "Tweet Stemed  : algum fot fiz prim ensai studi bem orgulh\n"
     ]
    }
   ],
   "source": [
    "tweet = data[\"text\"].sample(1).values[0]\n",
    "tweet_limpo = preprocess_data(tweet, portuguese_stopwords)\n",
    "tweet_limpo_stemmed = preprocess_data(tweet, portuguese_stopwords, rlp_stemmer)\n",
    "\n",
    "print(\"Tweet Original: {}\".format(tweet))\n",
    "print(\"\")\n",
    "print(\"Tweet Limpo   : {}\".format(tweet_limpo))\n",
    "print(\"\")\n",
    "print(\"Tweet Stemed  : {}\".format(tweet_limpo_stemmed))"
   ]
  },
  {
   "cell_type": "markdown",
   "id": "ca945d98-5af2-43f1-902a-335eacf4d6d1",
   "metadata": {
    "jp-MarkdownHeadingCollapsed": true,
    "tags": [],
    "pycharm": {
     "name": "#%% md\n"
    }
   },
   "source": [
    "## Aplicação da Limpeza"
   ]
  },
  {
   "cell_type": "code",
   "execution_count": 8,
   "id": "ac969f3f-7d32-419f-a87a-79dc30a0330c",
   "metadata": {
    "pycharm": {
     "name": "#%%\n"
    }
   },
   "outputs": [
    {
     "data": {
      "text/plain": "VBox(children=(HBox(children=(IntProgress(value=0, description='0.00%', max=91196), Label(value='0 / 91196')))…",
      "application/vnd.jupyter.widget-view+json": {
       "version_major": 2,
       "version_minor": 0,
       "model_id": "77023867c51c4b03a20f5fdeb2992800"
      }
     },
     "metadata": {},
     "output_type": "display_data"
    }
   ],
   "source": [
    "data[\"cleaned\"] = data[\"text\"].parallel_apply(\n",
    "    lambda x: preprocess_data(x, portuguese_stopwords, rlp_stemmer)\n",
    ")"
   ]
  },
  {
   "cell_type": "code",
   "execution_count": 9,
   "id": "c91e0d7b-a7c3-4cfb-9bb7-a6037a362b5f",
   "metadata": {
    "pycharm": {
     "name": "#%%\n"
    }
   },
   "outputs": [
    {
     "data": {
      "text/plain": "                         id  \\\n587887  1160752171056586757   \n900920  1161399353908629505   \n837783  1161242998610497536   \n26535   1559750366488666114   \n862050  1161297669110816770   \n\n                                                     text     score  label  \\\n587887                  até de porra haha imagina cuspe 😋  0.633515      1   \n900920                         kit q eu uso diariamente 😂  0.220968      0   \n837783  😂 😂 😂 ohhh loko bate aquele desespero, pega o ...  0.662905      1   \n26535          eu tô sentindo tanto medo, que angústia! 😓 -0.080586     -1   \n862050  entrou varias paradinhas no meu olho nessa ven... -0.374729     -1   \n\n                                                  cleaned  \n587887                               porr hah imagin cusp  \n900920                                       kit q uso di  \n837783  ohhh lok bat desesper peg control invé baix aí...  \n26535                             tô sent tant med angúst  \n862050                       entr var par olh ness ventan  ",
      "text/html": "<div>\n<style scoped>\n    .dataframe tbody tr th:only-of-type {\n        vertical-align: middle;\n    }\n\n    .dataframe tbody tr th {\n        vertical-align: top;\n    }\n\n    .dataframe thead th {\n        text-align: right;\n    }\n</style>\n<table border=\"1\" class=\"dataframe\">\n  <thead>\n    <tr style=\"text-align: right;\">\n      <th></th>\n      <th>id</th>\n      <th>text</th>\n      <th>score</th>\n      <th>label</th>\n      <th>cleaned</th>\n    </tr>\n  </thead>\n  <tbody>\n    <tr>\n      <th>587887</th>\n      <td>1160752171056586757</td>\n      <td>até de porra haha imagina cuspe 😋</td>\n      <td>0.633515</td>\n      <td>1</td>\n      <td>porr hah imagin cusp</td>\n    </tr>\n    <tr>\n      <th>900920</th>\n      <td>1161399353908629505</td>\n      <td>kit q eu uso diariamente 😂</td>\n      <td>0.220968</td>\n      <td>0</td>\n      <td>kit q uso di</td>\n    </tr>\n    <tr>\n      <th>837783</th>\n      <td>1161242998610497536</td>\n      <td>😂 😂 😂 ohhh loko bate aquele desespero, pega o ...</td>\n      <td>0.662905</td>\n      <td>1</td>\n      <td>ohhh lok bat desesper peg control invé baix aí...</td>\n    </tr>\n    <tr>\n      <th>26535</th>\n      <td>1559750366488666114</td>\n      <td>eu tô sentindo tanto medo, que angústia! 😓</td>\n      <td>-0.080586</td>\n      <td>-1</td>\n      <td>tô sent tant med angúst</td>\n    </tr>\n    <tr>\n      <th>862050</th>\n      <td>1161297669110816770</td>\n      <td>entrou varias paradinhas no meu olho nessa ven...</td>\n      <td>-0.374729</td>\n      <td>-1</td>\n      <td>entr var par olh ness ventan</td>\n    </tr>\n  </tbody>\n</table>\n</div>"
     },
     "execution_count": 9,
     "metadata": {},
     "output_type": "execute_result"
    }
   ],
   "source": [
    "data.sample(5)"
   ]
  },
  {
   "cell_type": "markdown",
   "id": "6710b34a-4ea2-4a2e-b86e-fdaf45de790c",
   "metadata": {
    "jp-MarkdownHeadingCollapsed": true,
    "tags": [],
    "pycharm": {
     "name": "#%% md\n"
    }
   },
   "source": [
    "# Modelo Soma das Frequencias\n",
    "\n",
    "Este modelo é extremamente simples.\n",
    "\n",
    "Vamos transformar o texto numa representação vetorial utilizando o somatório da frequencia que cada palavra aparece nos tweets por rótulo."
   ]
  },
  {
   "cell_type": "markdown",
   "id": "51d270b7-9a3b-4206-94bc-d4402009ccc5",
   "metadata": {
    "tags": [],
    "pycharm": {
     "name": "#%% md\n"
    }
   },
   "source": [
    "## Gerar dicionário de frequencias\n",
    "\n",
    "Basicamente criaremos três dicionários, um positivo, um negativo e um neutro.\n",
    "\n",
    "Cada dicionário terá a soma das vezes que a palavra aparece em seu respectivo rótulo (positivo, negativo ou neutro) em todo o dataset."
   ]
  },
  {
   "cell_type": "markdown",
   "id": "6e570f71-e417-4ec7-aacd-2bc8e04a61b0",
   "metadata": {
    "pycharm": {
     "name": "#%% md\n"
    }
   },
   "source": [
    "### Separar conjuntos de treinamento e teste\n",
    "\n",
    "Aqui faremos a separação de conjunto de treino e teste.\n",
    "\n",
    "O dicionário será criado utilizando o conjunto de treino, e posteriormente verificado sua eficácia no conjunto de teste."
   ]
  },
  {
   "cell_type": "code",
   "execution_count": 10,
   "id": "f6ccd032-859a-461b-9d11-9d748f6df90d",
   "metadata": {
    "pycharm": {
     "name": "#%%\n"
    }
   },
   "outputs": [],
   "source": [
    "X_train, X_test = train_test_split(data, random_state=42)"
   ]
  },
  {
   "cell_type": "code",
   "execution_count": 11,
   "id": "a89146dd-3b47-48c9-905d-22635b283581",
   "metadata": {
    "pycharm": {
     "name": "#%%\n"
    }
   },
   "outputs": [],
   "source": [
    "# Aqui vamos criar nosso dicionário\n",
    "def gerador_dicionario_tweet(tweet, dicionario):\n",
    "    words = tweet.split()\n",
    "\n",
    "    for word in words:\n",
    "        dicionario[word] = dicionario.get(word, 0) + 1"
   ]
  },
  {
   "cell_type": "code",
   "execution_count": 12,
   "id": "c6a0bea9-05ae-49dc-adc8-8d331fcb2a8b",
   "metadata": {
    "pycharm": {
     "name": "#%%\n"
    }
   },
   "outputs": [
    {
     "name": "stdout",
     "output_type": "stream",
     "text": [
      "Chaves: 58366\n"
     ]
    }
   ],
   "source": [
    "dicionario_positivo = {}\n",
    "\n",
    "X_train[X_train[\"label\"] == 1][\"cleaned\"].apply(\n",
    "    lambda x: gerador_dicionario_tweet(x, dicionario_positivo)\n",
    ")\n",
    "\n",
    "print(\"Chaves: {}\".format(len(dicionario_positivo.keys())))"
   ]
  },
  {
   "cell_type": "code",
   "execution_count": 13,
   "id": "ec458169-1ade-45d3-af76-4847bf9904fe",
   "metadata": {
    "pycharm": {
     "name": "#%%\n"
    }
   },
   "outputs": [
    {
     "name": "stdout",
     "output_type": "stream",
     "text": [
      "Chaves: 27524\n"
     ]
    }
   ],
   "source": [
    "dicionario_neutro = {}\n",
    "\n",
    "X_train[X_train[\"label\"] == 0][\"cleaned\"].apply(\n",
    "    lambda x: gerador_dicionario_tweet(x, dicionario_neutro)\n",
    ")\n",
    "\n",
    "print(\"Chaves: {}\".format(len(dicionario_neutro.keys())))"
   ]
  },
  {
   "cell_type": "code",
   "execution_count": 14,
   "id": "27c0b69f-7e34-4d5e-99d3-8edaff72a7f0",
   "metadata": {
    "pycharm": {
     "name": "#%%\n"
    }
   },
   "outputs": [
    {
     "name": "stdout",
     "output_type": "stream",
     "text": [
      "Chaves: 32001\n"
     ]
    }
   ],
   "source": [
    "dicionario_negativo = {}\n",
    "\n",
    "X_train[X_train[\"label\"] == -1][\"cleaned\"].apply(\n",
    "    lambda x: gerador_dicionario_tweet(x, dicionario_negativo)\n",
    ")\n",
    "\n",
    "print(\"Chaves: {}\".format(len(dicionario_negativo.keys())))"
   ]
  },
  {
   "cell_type": "markdown",
   "source": [
    "### Visualização dos Dicionários"
   ],
   "metadata": {
    "collapsed": false,
    "pycharm": {
     "name": "#%% md\n"
    }
   }
  },
  {
   "cell_type": "code",
   "execution_count": 15,
   "outputs": [],
   "source": [
    "dicionarios = pd.DataFrame([\n",
    "    pd.Series(dicionario_positivo, name=\"positivo\"),\n",
    "    pd.Series(dicionario_neutro, name=\"neutro\"),\n",
    "    pd.Series(dicionario_negativo, name=\"negativo\")\n",
    "]).T"
   ],
   "metadata": {
    "collapsed": false,
    "pycharm": {
     "name": "#%%\n"
    }
   }
  },
  {
   "cell_type": "code",
   "execution_count": 16,
   "outputs": [
    {
     "data": {
      "text/plain": "            positivo  neutro  negativo\nsquard           NaN     NaN       1.0\naliss            2.0     1.0       2.0\nágath            4.0     3.0       3.0\ndescansaa        1.0     NaN       NaN\naaajdkskak       1.0     NaN       NaN\nelmit            2.0     NaN       NaN\ndelii            1.0     NaN       NaN\nalema            1.0     1.0       1.0\nsarmient         1.0     NaN       NaN\nwors             NaN     1.0       NaN",
      "text/html": "<div>\n<style scoped>\n    .dataframe tbody tr th:only-of-type {\n        vertical-align: middle;\n    }\n\n    .dataframe tbody tr th {\n        vertical-align: top;\n    }\n\n    .dataframe thead th {\n        text-align: right;\n    }\n</style>\n<table border=\"1\" class=\"dataframe\">\n  <thead>\n    <tr style=\"text-align: right;\">\n      <th></th>\n      <th>positivo</th>\n      <th>neutro</th>\n      <th>negativo</th>\n    </tr>\n  </thead>\n  <tbody>\n    <tr>\n      <th>squard</th>\n      <td>NaN</td>\n      <td>NaN</td>\n      <td>1.0</td>\n    </tr>\n    <tr>\n      <th>aliss</th>\n      <td>2.0</td>\n      <td>1.0</td>\n      <td>2.0</td>\n    </tr>\n    <tr>\n      <th>ágath</th>\n      <td>4.0</td>\n      <td>3.0</td>\n      <td>3.0</td>\n    </tr>\n    <tr>\n      <th>descansaa</th>\n      <td>1.0</td>\n      <td>NaN</td>\n      <td>NaN</td>\n    </tr>\n    <tr>\n      <th>aaajdkskak</th>\n      <td>1.0</td>\n      <td>NaN</td>\n      <td>NaN</td>\n    </tr>\n    <tr>\n      <th>elmit</th>\n      <td>2.0</td>\n      <td>NaN</td>\n      <td>NaN</td>\n    </tr>\n    <tr>\n      <th>delii</th>\n      <td>1.0</td>\n      <td>NaN</td>\n      <td>NaN</td>\n    </tr>\n    <tr>\n      <th>alema</th>\n      <td>1.0</td>\n      <td>1.0</td>\n      <td>1.0</td>\n    </tr>\n    <tr>\n      <th>sarmient</th>\n      <td>1.0</td>\n      <td>NaN</td>\n      <td>NaN</td>\n    </tr>\n    <tr>\n      <th>wors</th>\n      <td>NaN</td>\n      <td>1.0</td>\n      <td>NaN</td>\n    </tr>\n  </tbody>\n</table>\n</div>"
     },
     "execution_count": 16,
     "metadata": {},
     "output_type": "execute_result"
    }
   ],
   "source": [
    "dicionarios.sample(10)"
   ],
   "metadata": {
    "collapsed": false,
    "pycharm": {
     "name": "#%%\n"
    }
   }
  },
  {
   "cell_type": "markdown",
   "id": "ee550038-1a83-46a4-bc8b-1606dbd78352",
   "metadata": {
    "tags": [],
    "pycharm": {
     "name": "#%% md\n"
    }
   },
   "source": [
    "## Gerar feature vector\n",
    "\n",
    "Aqui nós transformaremos os textos em um vetor para podermos utilizá-los em um aprendizado supervisionado.\n",
    "\n",
    "Nosso vetor será representado em três dimensões, uma para positivo, uma para negativo e outro para neutro.\n",
    "\n",
    "O valor de cada dimensão é definido como o somatório das frequencias de cada palavra do tweet no dicionário da dimensão (positivo, negativo, neutro)"
   ]
  },
  {
   "cell_type": "code",
   "execution_count": 17,
   "id": "0bff1663-d96c-4e66-82a5-d93a36477a6e",
   "metadata": {
    "pycharm": {
     "name": "#%%\n"
    }
   },
   "outputs": [],
   "source": [
    "def gerar_feature_vector(\n",
    "    string, dicionario_positivo, dicionario_neutro, dicionario_negativo\n",
    "):\n",
    "    tokens = string.split()\n",
    "\n",
    "    # Calcula o valor de cada dimensão do vetor\n",
    "    feature_positiva = sum([dicionario_positivo.get(word, 0) for word in tokens])\n",
    "    feature_neutra = sum([dicionario_neutro.get(word, 0) for word in tokens])\n",
    "    feature_negativa = sum([dicionario_negativo.get(word, 0) for word in tokens])\n",
    "\n",
    "    return pd.Series(\n",
    "        [feature_positiva, feature_neutra, feature_negativa],\n",
    "        index=[\"positiva\", \"neutra\", \"negativa\"],\n",
    "    )"
   ]
  },
  {
   "cell_type": "markdown",
   "source": [
    "### Demonstração da Geração do Feature Vector"
   ],
   "metadata": {
    "collapsed": false,
    "pycharm": {
     "name": "#%% md\n"
    }
   }
  },
  {
   "cell_type": "code",
   "execution_count": 18,
   "outputs": [
    {
     "name": "stdout",
     "output_type": "stream",
     "text": [
      "Tweet: tb\n"
     ]
    },
    {
     "data": {
      "text/plain": "positiva    1168\nneutra       351\nnegativa     587\ndtype: int64"
     },
     "execution_count": 18,
     "metadata": {},
     "output_type": "execute_result"
    }
   ],
   "source": [
    "tweet = X_train[\"cleaned\"].sample(1).values[0]\n",
    "feature_vector = gerar_feature_vector(tweet, dicionario_positivo, dicionario_neutro, dicionario_negativo)\n",
    "\n",
    "print(\"Tweet: {}\".format(tweet))\n",
    "feature_vector"
   ],
   "metadata": {
    "collapsed": false,
    "pycharm": {
     "name": "#%%\n"
    }
   }
  },
  {
   "cell_type": "markdown",
   "source": [
    "### Aplicar a Geração do Feature Vector em todo o Dataset de Treino"
   ],
   "metadata": {
    "collapsed": false,
    "pycharm": {
     "name": "#%% md\n"
    }
   }
  },
  {
   "cell_type": "code",
   "execution_count": 19,
   "id": "7815c94c-594d-4977-b41e-cd4b6444c526",
   "metadata": {
    "pycharm": {
     "name": "#%%\n"
    }
   },
   "outputs": [
    {
     "data": {
      "text/plain": "VBox(children=(HBox(children=(IntProgress(value=0, description='0.00%', max=68397), Label(value='0 / 68397')))…",
      "application/vnd.jupyter.widget-view+json": {
       "version_major": 2,
       "version_minor": 0,
       "model_id": "d5973a9642ad491588e6a9256e801a71"
      }
     },
     "metadata": {},
     "output_type": "display_data"
    }
   ],
   "source": [
    "# Gerar Features Train\n",
    "features_train = X_train[\"cleaned\"].parallel_apply(\n",
    "    lambda x: gerar_feature_vector(\n",
    "        x, dicionario_positivo, dicionario_neutro, dicionario_negativo\n",
    "    )\n",
    ")\n",
    "features_train[\"label\"] = X_train[\"label\"]"
   ]
  },
  {
   "cell_type": "code",
   "execution_count": 20,
   "id": "4d31841f-0c1f-48a1-b97d-e7b64875a658",
   "metadata": {
    "pycharm": {
     "name": "#%%\n"
    }
   },
   "outputs": [
    {
     "data": {
      "text/plain": "        positiva  neutra  negativa  label\n236729     28567    9069     18841     -1\n273545     22703    2419      9534     -1\n706274     56272    9688     21409     -1\n654935     40559   10654     24628      1\n694271     58716   16305     30979     -1",
      "text/html": "<div>\n<style scoped>\n    .dataframe tbody tr th:only-of-type {\n        vertical-align: middle;\n    }\n\n    .dataframe tbody tr th {\n        vertical-align: top;\n    }\n\n    .dataframe thead th {\n        text-align: right;\n    }\n</style>\n<table border=\"1\" class=\"dataframe\">\n  <thead>\n    <tr style=\"text-align: right;\">\n      <th></th>\n      <th>positiva</th>\n      <th>neutra</th>\n      <th>negativa</th>\n      <th>label</th>\n    </tr>\n  </thead>\n  <tbody>\n    <tr>\n      <th>236729</th>\n      <td>28567</td>\n      <td>9069</td>\n      <td>18841</td>\n      <td>-1</td>\n    </tr>\n    <tr>\n      <th>273545</th>\n      <td>22703</td>\n      <td>2419</td>\n      <td>9534</td>\n      <td>-1</td>\n    </tr>\n    <tr>\n      <th>706274</th>\n      <td>56272</td>\n      <td>9688</td>\n      <td>21409</td>\n      <td>-1</td>\n    </tr>\n    <tr>\n      <th>654935</th>\n      <td>40559</td>\n      <td>10654</td>\n      <td>24628</td>\n      <td>1</td>\n    </tr>\n    <tr>\n      <th>694271</th>\n      <td>58716</td>\n      <td>16305</td>\n      <td>30979</td>\n      <td>-1</td>\n    </tr>\n  </tbody>\n</table>\n</div>"
     },
     "execution_count": 20,
     "metadata": {},
     "output_type": "execute_result"
    }
   ],
   "source": [
    "features_train.sample(5)"
   ]
  },
  {
   "cell_type": "code",
   "execution_count": 21,
   "id": "7a8f9daf-03b3-4a24-a43a-b84358151f04",
   "metadata": {
    "pycharm": {
     "name": "#%%\n"
    }
   },
   "outputs": [
    {
     "data": {
      "text/plain": "        positiva  neutra  negativa\n236413     12400     972      1930\n576307     40164   11691     26210\n806485      1215     326       999\n317325     50909    7536     15999\n419783     38153    8179     17579",
      "text/html": "<div>\n<style scoped>\n    .dataframe tbody tr th:only-of-type {\n        vertical-align: middle;\n    }\n\n    .dataframe tbody tr th {\n        vertical-align: top;\n    }\n\n    .dataframe thead th {\n        text-align: right;\n    }\n</style>\n<table border=\"1\" class=\"dataframe\">\n  <thead>\n    <tr style=\"text-align: right;\">\n      <th></th>\n      <th>positiva</th>\n      <th>neutra</th>\n      <th>negativa</th>\n    </tr>\n  </thead>\n  <tbody>\n    <tr>\n      <th>236413</th>\n      <td>12400</td>\n      <td>972</td>\n      <td>1930</td>\n    </tr>\n    <tr>\n      <th>576307</th>\n      <td>40164</td>\n      <td>11691</td>\n      <td>26210</td>\n    </tr>\n    <tr>\n      <th>806485</th>\n      <td>1215</td>\n      <td>326</td>\n      <td>999</td>\n    </tr>\n    <tr>\n      <th>317325</th>\n      <td>50909</td>\n      <td>7536</td>\n      <td>15999</td>\n    </tr>\n    <tr>\n      <th>419783</th>\n      <td>38153</td>\n      <td>8179</td>\n      <td>17579</td>\n    </tr>\n  </tbody>\n</table>\n</div>"
     },
     "execution_count": 21,
     "metadata": {},
     "output_type": "execute_result"
    }
   ],
   "source": [
    "X_features_train = features_train[[\"positiva\", \"neutra\", \"negativa\"]]\n",
    "X_features_train.sample(5)"
   ]
  },
  {
   "cell_type": "code",
   "execution_count": 22,
   "id": "f9e6dc18-f23e-4cc6-865c-b5b5072e70ae",
   "metadata": {
    "pycharm": {
     "name": "#%%\n"
    }
   },
   "outputs": [
    {
     "data": {
      "text/plain": "763424   -1\n849800    0\n432367    1\n157211    1\n579705    1\nName: label, dtype: int64"
     },
     "execution_count": 22,
     "metadata": {},
     "output_type": "execute_result"
    }
   ],
   "source": [
    "y_features_train = features_train[\"label\"]\n",
    "y_features_train.sample(5)"
   ]
  },
  {
   "cell_type": "markdown",
   "source": [
    "### Aplicar a Geração do Feature Vector em todo o Dataset de Teste"
   ],
   "metadata": {
    "collapsed": false,
    "pycharm": {
     "name": "#%% md\n"
    }
   }
  },
  {
   "cell_type": "code",
   "execution_count": 23,
   "id": "8e02dfbb-82db-42e7-93cf-a9191c22042f",
   "metadata": {
    "pycharm": {
     "name": "#%%\n"
    }
   },
   "outputs": [
    {
     "data": {
      "text/plain": "VBox(children=(HBox(children=(IntProgress(value=0, description='0.00%', max=22799), Label(value='0 / 22799')))…",
      "application/vnd.jupyter.widget-view+json": {
       "version_major": 2,
       "version_minor": 0,
       "model_id": "55c520d6c7b941d9b915c90bfefada62"
      }
     },
     "metadata": {},
     "output_type": "display_data"
    }
   ],
   "source": [
    "# Gerar Features Teste\n",
    "features_test = X_test[\"cleaned\"].parallel_apply(\n",
    "    lambda x: gerar_feature_vector(\n",
    "        x, dicionario_positivo, dicionario_neutro, dicionario_negativo\n",
    "    )\n",
    ")\n",
    "features_test[\"label\"] = X_test[\"label\"]"
   ]
  },
  {
   "cell_type": "code",
   "execution_count": 24,
   "id": "62a14285-d982-4e21-9817-c227a1d861b3",
   "metadata": {
    "pycharm": {
     "name": "#%%\n"
    }
   },
   "outputs": [
    {
     "data": {
      "text/plain": "        positiva  neutra  negativa  label\n520993     16124    4183      9204      1\n327649     68932   15261     34042      1\n248137     26184    6686     11083      0\n503279     13197    2991      8451      1\n176009        21      14        13      1",
      "text/html": "<div>\n<style scoped>\n    .dataframe tbody tr th:only-of-type {\n        vertical-align: middle;\n    }\n\n    .dataframe tbody tr th {\n        vertical-align: top;\n    }\n\n    .dataframe thead th {\n        text-align: right;\n    }\n</style>\n<table border=\"1\" class=\"dataframe\">\n  <thead>\n    <tr style=\"text-align: right;\">\n      <th></th>\n      <th>positiva</th>\n      <th>neutra</th>\n      <th>negativa</th>\n      <th>label</th>\n    </tr>\n  </thead>\n  <tbody>\n    <tr>\n      <th>520993</th>\n      <td>16124</td>\n      <td>4183</td>\n      <td>9204</td>\n      <td>1</td>\n    </tr>\n    <tr>\n      <th>327649</th>\n      <td>68932</td>\n      <td>15261</td>\n      <td>34042</td>\n      <td>1</td>\n    </tr>\n    <tr>\n      <th>248137</th>\n      <td>26184</td>\n      <td>6686</td>\n      <td>11083</td>\n      <td>0</td>\n    </tr>\n    <tr>\n      <th>503279</th>\n      <td>13197</td>\n      <td>2991</td>\n      <td>8451</td>\n      <td>1</td>\n    </tr>\n    <tr>\n      <th>176009</th>\n      <td>21</td>\n      <td>14</td>\n      <td>13</td>\n      <td>1</td>\n    </tr>\n  </tbody>\n</table>\n</div>"
     },
     "execution_count": 24,
     "metadata": {},
     "output_type": "execute_result"
    }
   ],
   "source": [
    "features_test.sample(5)"
   ]
  },
  {
   "cell_type": "code",
   "execution_count": 25,
   "id": "421a0c04-d773-4c12-b276-1ac322d38e11",
   "metadata": {
    "pycharm": {
     "name": "#%%\n"
    }
   },
   "outputs": [
    {
     "data": {
      "text/plain": "        positiva  neutra  negativa\n750034       975     232       514\n749950     13010    4124     13602\n75149      23996    1426      4883\n215708      4611    1977      3566\n840313      1066     276       704",
      "text/html": "<div>\n<style scoped>\n    .dataframe tbody tr th:only-of-type {\n        vertical-align: middle;\n    }\n\n    .dataframe tbody tr th {\n        vertical-align: top;\n    }\n\n    .dataframe thead th {\n        text-align: right;\n    }\n</style>\n<table border=\"1\" class=\"dataframe\">\n  <thead>\n    <tr style=\"text-align: right;\">\n      <th></th>\n      <th>positiva</th>\n      <th>neutra</th>\n      <th>negativa</th>\n    </tr>\n  </thead>\n  <tbody>\n    <tr>\n      <th>750034</th>\n      <td>975</td>\n      <td>232</td>\n      <td>514</td>\n    </tr>\n    <tr>\n      <th>749950</th>\n      <td>13010</td>\n      <td>4124</td>\n      <td>13602</td>\n    </tr>\n    <tr>\n      <th>75149</th>\n      <td>23996</td>\n      <td>1426</td>\n      <td>4883</td>\n    </tr>\n    <tr>\n      <th>215708</th>\n      <td>4611</td>\n      <td>1977</td>\n      <td>3566</td>\n    </tr>\n    <tr>\n      <th>840313</th>\n      <td>1066</td>\n      <td>276</td>\n      <td>704</td>\n    </tr>\n  </tbody>\n</table>\n</div>"
     },
     "execution_count": 25,
     "metadata": {},
     "output_type": "execute_result"
    }
   ],
   "source": [
    "X_features_test = features_test[[\"positiva\", \"neutra\", \"negativa\"]]\n",
    "X_features_test.sample(5)"
   ]
  },
  {
   "cell_type": "code",
   "execution_count": 26,
   "id": "594f3257-d14e-4cd2-9957-1be2b7b1a1e4",
   "metadata": {
    "pycharm": {
     "name": "#%%\n"
    }
   },
   "outputs": [
    {
     "data": {
      "text/plain": "78266     1\n680224    1\n579265    1\n645332    1\n115562    1\nName: label, dtype: int64"
     },
     "execution_count": 26,
     "metadata": {},
     "output_type": "execute_result"
    }
   ],
   "source": [
    "y_features_test = features_test[\"label\"]\n",
    "y_features_test.sample(5)"
   ]
  },
  {
   "attachments": {
    "6d508352-d446-485d-9926-59c21069b87c.png": {
     "image/png": "[encoded data removed]"
    }
   },
   "cell_type": "markdown",
   "id": "a260e92f-4549-4688-89b6-277e9a1eee7c",
   "metadata": {
    "tags": [],
    "pycharm": {
     "name": "#%% md\n"
    }
   },
   "source": [
    "## Feature Scaling\n",
    "\n",
    "Aqui vamos normalizar os dados utilizando o Standard Scaler\n",
    "\n",
    "\n",
    "Referências:\n",
    " - [https://en.wikipedia.org/wiki/Normalization_(statistics)](https://en.wikipedia.org/wiki/Normalization_(statistics))\n",
    " - [https://en.wikipedia.org/wiki/Standard_score](https://en.wikipedia.org/wiki/Standard_score)\n",
    " - [https://scikit-learn.org/stable/modules/preprocessing.html#standardization-or-mean-removal-and-variance-scaling](https://scikit-learn.org/stable/modules/preprocessing.html#standardization-or-mean-removal-and-variance-scaling)"
   ]
  },
  {
   "cell_type": "code",
   "execution_count": 27,
   "id": "ffff8599-e75f-4657-a82f-3b1cb7de00c5",
   "metadata": {
    "pycharm": {
     "name": "#%%\n"
    }
   },
   "outputs": [
    {
     "data": {
      "text/plain": "StandardScaler()",
      "text/html": "<style>#sk-container-id-1 {color: black;background-color: white;}#sk-container-id-1 pre{padding: 0;}#sk-container-id-1 div.sk-toggleable {background-color: white;}#sk-container-id-1 label.sk-toggleable__label {cursor: pointer;display: block;width: 100%;margin-bottom: 0;padding: 0.3em;box-sizing: border-box;text-align: center;}#sk-container-id-1 label.sk-toggleable__label-arrow:before {content: \"▸\";float: left;margin-right: 0.25em;color: #696969;}#sk-container-id-1 label.sk-toggleable__label-arrow:hover:before {color: black;}#sk-container-id-1 div.sk-estimator:hover label.sk-toggleable__label-arrow:before {color: black;}#sk-container-id-1 div.sk-toggleable__content {max-height: 0;max-width: 0;overflow: hidden;text-align: left;background-color: #f0f8ff;}#sk-container-id-1 div.sk-toggleable__content pre {margin: 0.2em;color: black;border-radius: 0.25em;background-color: #f0f8ff;}#sk-container-id-1 input.sk-toggleable__control:checked~div.sk-toggleable__content {max-height: 200px;max-width: 100%;overflow: auto;}#sk-container-id-1 input.sk-toggleable__control:checked~label.sk-toggleable__label-arrow:before {content: \"▾\";}#sk-container-id-1 div.sk-estimator input.sk-toggleable__control:checked~label.sk-toggleable__label {background-color: #d4ebff;}#sk-container-id-1 div.sk-label input.sk-toggleable__control:checked~label.sk-toggleable__label {background-color: #d4ebff;}#sk-container-id-1 input.sk-hidden--visually {border: 0;clip: rect(1px 1px 1px 1px);clip: rect(1px, 1px, 1px, 1px);height: 1px;margin: -1px;overflow: hidden;padding: 0;position: absolute;width: 1px;}#sk-container-id-1 div.sk-estimator {font-family: monospace;background-color: #f0f8ff;border: 1px dotted black;border-radius: 0.25em;box-sizing: border-box;margin-bottom: 0.5em;}#sk-container-id-1 div.sk-estimator:hover {background-color: #d4ebff;}#sk-container-id-1 div.sk-parallel-item::after {content: \"\";width: 100%;border-bottom: 1px solid gray;flex-grow: 1;}#sk-container-id-1 div.sk-label:hover label.sk-toggleable__label {background-color: #d4ebff;}#sk-container-id-1 div.sk-serial::before {content: \"\";position: absolute;border-left: 1px solid gray;box-sizing: border-box;top: 0;bottom: 0;left: 50%;z-index: 0;}#sk-container-id-1 div.sk-serial {display: flex;flex-direction: column;align-items: center;background-color: white;padding-right: 0.2em;padding-left: 0.2em;position: relative;}#sk-container-id-1 div.sk-item {position: relative;z-index: 1;}#sk-container-id-1 div.sk-parallel {display: flex;align-items: stretch;justify-content: center;background-color: white;position: relative;}#sk-container-id-1 div.sk-item::before, #sk-container-id-1 div.sk-parallel-item::before {content: \"\";position: absolute;border-left: 1px solid gray;box-sizing: border-box;top: 0;bottom: 0;left: 50%;z-index: -1;}#sk-container-id-1 div.sk-parallel-item {display: flex;flex-direction: column;z-index: 1;position: relative;background-color: white;}#sk-container-id-1 div.sk-parallel-item:first-child::after {align-self: flex-end;width: 50%;}#sk-container-id-1 div.sk-parallel-item:last-child::after {align-self: flex-start;width: 50%;}#sk-container-id-1 div.sk-parallel-item:only-child::after {width: 0;}#sk-container-id-1 div.sk-dashed-wrapped {border: 1px dashed gray;margin: 0 0.4em 0.5em 0.4em;box-sizing: border-box;padding-bottom: 0.4em;background-color: white;}#sk-container-id-1 div.sk-label label {font-family: monospace;font-weight: bold;display: inline-block;line-height: 1.2em;}#sk-container-id-1 div.sk-label-container {text-align: center;}#sk-container-id-1 div.sk-container {/* jupyter's `normalize.less` sets `[hidden] { display: none; }` but bootstrap.min.css set `[hidden] { display: none !important; }` so we also need the `!important` here to be able to override the default hidden behavior on the sphinx rendered scikit-learn.org. See: https://github.com/scikit-learn/scikit-learn/issues/21755 */display: inline-block !important;position: relative;}#sk-container-id-1 div.sk-text-repr-fallback {display: none;}</style><div id=\"sk-container-id-1\" class=\"sk-top-container\"><div class=\"sk-text-repr-fallback\"><pre>StandardScaler()</pre><b>In a Jupyter environment, please rerun this cell to show the HTML representation or trust the notebook. <br />On GitHub, the HTML representation is unable to render, please try loading this page with nbviewer.org.</b></div><div class=\"sk-container\" hidden><div class=\"sk-item\"><div class=\"sk-estimator sk-toggleable\"><input class=\"sk-toggleable__control sk-hidden--visually\" id=\"sk-estimator-id-1\" type=\"checkbox\" checked><label for=\"sk-estimator-id-1\" class=\"sk-toggleable__label sk-toggleable__label-arrow\">StandardScaler</label><div class=\"sk-toggleable__content\"><pre>StandardScaler()</pre></div></div></div></div></div>"
     },
     "execution_count": 27,
     "metadata": {},
     "output_type": "execute_result"
    }
   ],
   "source": [
    "# Inicializar o Scaler\n",
    "scaler = StandardScaler()\n",
    "\n",
    "# Treinar o Scaler\n",
    "scaler.fit(X_features_train)"
   ]
  },
  {
   "cell_type": "code",
   "execution_count": 28,
   "id": "2347391b-fabb-4236-8789-5205b11ea215",
   "metadata": {
    "pycharm": {
     "name": "#%%\n"
    }
   },
   "outputs": [
    {
     "data": {
      "text/plain": "        positiva    neutra  negativa\n235304 -0.488482 -0.518395 -0.632552\n567755  0.050447  0.369139  0.166946\n478700 -0.924468 -0.902337 -0.894787\n264368 -0.508542 -0.554999 -0.677469\n108786 -0.822332 -0.760435 -0.744918",
      "text/html": "<div>\n<style scoped>\n    .dataframe tbody tr th:only-of-type {\n        vertical-align: middle;\n    }\n\n    .dataframe tbody tr th {\n        vertical-align: top;\n    }\n\n    .dataframe thead th {\n        text-align: right;\n    }\n</style>\n<table border=\"1\" class=\"dataframe\">\n  <thead>\n    <tr style=\"text-align: right;\">\n      <th></th>\n      <th>positiva</th>\n      <th>neutra</th>\n      <th>negativa</th>\n    </tr>\n  </thead>\n  <tbody>\n    <tr>\n      <th>235304</th>\n      <td>-0.488482</td>\n      <td>-0.518395</td>\n      <td>-0.632552</td>\n    </tr>\n    <tr>\n      <th>567755</th>\n      <td>0.050447</td>\n      <td>0.369139</td>\n      <td>0.166946</td>\n    </tr>\n    <tr>\n      <th>478700</th>\n      <td>-0.924468</td>\n      <td>-0.902337</td>\n      <td>-0.894787</td>\n    </tr>\n    <tr>\n      <th>264368</th>\n      <td>-0.508542</td>\n      <td>-0.554999</td>\n      <td>-0.677469</td>\n    </tr>\n    <tr>\n      <th>108786</th>\n      <td>-0.822332</td>\n      <td>-0.760435</td>\n      <td>-0.744918</td>\n    </tr>\n  </tbody>\n</table>\n</div>"
     },
     "execution_count": 28,
     "metadata": {},
     "output_type": "execute_result"
    }
   ],
   "source": [
    "# Transformar o conjunto de treinamento\n",
    "transformed = scaler.transform(X_features_train)\n",
    "\n",
    "# Gerar um dataframe com a saída do scaler\n",
    "X_features_train_scaled = pd.DataFrame(transformed, columns=scaler.feature_names_in_)\n",
    "\n",
    "# Amostra\n",
    "X_features_train_scaled.sample(5)"
   ]
  },
  {
   "cell_type": "code",
   "execution_count": 29,
   "id": "45142262-d8bc-4c18-8c5e-4dac0c1de6e7",
   "metadata": {
    "pycharm": {
     "name": "#%%\n"
    }
   },
   "outputs": [
    {
     "data": {
      "text/plain": "        positiva    neutra  negativa\n160955  1.748723  0.650041  0.623096\n197503 -0.577097 -0.374074 -0.470908\n5147   -0.860357 -0.881858 -0.878797\n58169   0.438745  0.681162  1.148148\n178654 -0.847646 -0.815745 -0.815201",
      "text/html": "<div>\n<style scoped>\n    .dataframe tbody tr th:only-of-type {\n        vertical-align: middle;\n    }\n\n    .dataframe tbody tr th {\n        vertical-align: top;\n    }\n\n    .dataframe thead th {\n        text-align: right;\n    }\n</style>\n<table border=\"1\" class=\"dataframe\">\n  <thead>\n    <tr style=\"text-align: right;\">\n      <th></th>\n      <th>positiva</th>\n      <th>neutra</th>\n      <th>negativa</th>\n    </tr>\n  </thead>\n  <tbody>\n    <tr>\n      <th>160955</th>\n      <td>1.748723</td>\n      <td>0.650041</td>\n      <td>0.623096</td>\n    </tr>\n    <tr>\n      <th>197503</th>\n      <td>-0.577097</td>\n      <td>-0.374074</td>\n      <td>-0.470908</td>\n    </tr>\n    <tr>\n      <th>5147</th>\n      <td>-0.860357</td>\n      <td>-0.881858</td>\n      <td>-0.878797</td>\n    </tr>\n    <tr>\n      <th>58169</th>\n      <td>0.438745</td>\n      <td>0.681162</td>\n      <td>1.148148</td>\n    </tr>\n    <tr>\n      <th>178654</th>\n      <td>-0.847646</td>\n      <td>-0.815745</td>\n      <td>-0.815201</td>\n    </tr>\n  </tbody>\n</table>\n</div>"
     },
     "execution_count": 29,
     "metadata": {},
     "output_type": "execute_result"
    }
   ],
   "source": [
    "transformed = scaler.transform(X_features_test)\n",
    "\n",
    "# Gerar um dataframe com a saída do scaler\n",
    "X_features_test_scaled = pd.DataFrame(transformed, columns=scaler.feature_names_in_)\n",
    "\n",
    "# Amostra\n",
    "X_features_test_scaled.sample(5)"
   ]
  },
  {
   "cell_type": "markdown",
   "id": "62b74f25-12f9-43c9-ad12-9e7160bbfa0d",
   "metadata": {
    "tags": [],
    "pycharm": {
     "name": "#%% md\n"
    }
   },
   "source": [
    "# Learning\n"
   ]
  },
  {
   "cell_type": "markdown",
   "id": "bcdf302f-5938-4585-999c-ed13b4c1ecda",
   "metadata": {
    "tags": [],
    "pycharm": {
     "name": "#%% md\n"
    }
   },
   "source": [
    "## Baseline Score\n",
    "\n",
    "Aqui vamos, criar um score de base. Ou seja, o resultado que conseguiriamos com o menor esforço possível (que é atribuir indiscriminadamente qualquer valor)\n",
    "\n",
    "Referências:\n",
    "- [https://scikit-learn.org/stable/modules/model_evaluation.html#precision-recall-f-measure-metrics](https://scikit-learn.org/stable/modules/model_evaluation.html#precision-recall-f-measure-metrics)"
   ]
  },
  {
   "cell_type": "code",
   "execution_count": 30,
   "id": "715d46d6-6d55-471b-bad3-bfab6a0e4777",
   "metadata": {
    "pycharm": {
     "name": "#%%\n"
    }
   },
   "outputs": [
    {
     "name": "stdout",
     "output_type": "stream",
     "text": [
      "F-Score: 3.64%\n"
     ]
    }
   ],
   "source": [
    "# Assumindo tudo como 0\n",
    "score_assumindo_tudo_neutro = f1_score(\n",
    "    y_features_train, [0 for _ in y_features_train], average=\"weighted\"\n",
    ")\n",
    "\n",
    "print(\"F-Score: {:.2f}%\".format(score_assumindo_tudo_neutro * 100))"
   ]
  },
  {
   "cell_type": "code",
   "execution_count": 31,
   "id": "249df0e2-ce08-4537-8bc1-f93b282c3daf",
   "metadata": {
    "pycharm": {
     "name": "#%%\n"
    }
   },
   "outputs": [
    {
     "name": "stdout",
     "output_type": "stream",
     "text": [
      "F-Score: 11.62%\n"
     ]
    }
   ],
   "source": [
    "# Assumindo tudo como -1\n",
    "score_assumindo_tudo_negativo = f1_score(\n",
    "    y_features_train, [-1 for _ in y_features_train], average=\"weighted\"\n",
    ")\n",
    "\n",
    "print(\"F-Score: {:.2f}%\".format(score_assumindo_tudo_negativo * 100))"
   ]
  },
  {
   "cell_type": "code",
   "execution_count": 32,
   "id": "1297f2d5-03a5-4b9a-b12b-443178a5cb02",
   "metadata": {
    "pycharm": {
     "name": "#%%\n"
    }
   },
   "outputs": [
    {
     "name": "stdout",
     "output_type": "stream",
     "text": [
      "F-Score: 43.03%\n"
     ]
    }
   ],
   "source": [
    "# Assumindo tudo como 1\n",
    "score_assumindo_tudo_positivo = f1_score(\n",
    "    y_features_train, [1 for _ in y_features_train], average=\"weighted\"\n",
    ")\n",
    "\n",
    "print(\"F-Score: {:.2f}%\".format(score_assumindo_tudo_positivo * 100))"
   ]
  },
  {
   "cell_type": "code",
   "execution_count": 33,
   "id": "a63e08a2-bd0a-40ab-af29-4eb9f7e8f2fe",
   "metadata": {
    "pycharm": {
     "name": "#%%\n"
    }
   },
   "outputs": [
    {
     "name": "stdout",
     "output_type": "stream",
     "text": [
      "F-Score: 43.03%\n"
     ]
    }
   ],
   "source": [
    "# Baseline Score\n",
    "baseline_score = np.max(\n",
    "    [\n",
    "        score_assumindo_tudo_neutro,\n",
    "        score_assumindo_tudo_negativo,\n",
    "        score_assumindo_tudo_positivo,\n",
    "    ]\n",
    ")\n",
    "\n",
    "print(\"F-Score: {:.2f}%\".format(baseline_score * 100))"
   ]
  },
  {
   "cell_type": "markdown",
   "id": "c673b3ee-1c2c-48e3-8410-e8f4d08bd37e",
   "metadata": {
    "tags": [],
    "pycharm": {
     "name": "#%% md\n"
    }
   },
   "source": [
    "## Logistic Regression\n",
    "\n",
    "Referências:\n",
    "- [https://en.wikipedia.org/wiki/Logistic_regression](https://en.wikipedia.org/wiki/Logistic_regression)\n",
    "- [https://scikit-learn.org/stable/modules/linear_model.html#logistic-regression](https://scikit-learn.org/stable/modules/linear_model.html#logistic-regression)"
   ]
  },
  {
   "cell_type": "code",
   "execution_count": 34,
   "id": "7e8be239-d044-4cc3-be63-d731de79f24e",
   "metadata": {
    "pycharm": {
     "name": "#%%\n"
    }
   },
   "outputs": [],
   "source": [
    "log = LogisticRegression(random_state=42)"
   ]
  },
  {
   "cell_type": "markdown",
   "id": "e96d25fe-79e8-4936-ac15-62a0f14981f0",
   "metadata": {
    "tags": [],
    "pycharm": {
     "name": "#%% md\n"
    }
   },
   "source": [
    "### Otimização de Hyperparametros\n",
    "\n",
    "Nesse passo, vamos tentar encontrar a melhor combinação de hyperparametros para o modelo\n",
    "\n",
    "Referências:\n",
    "\n",
    "- [https://scikit-learn.org/stable/modules/grid_search.html#randomized-parameter-search](https://scikit-learn.org/stable/modules/grid_search.html#randomized-parameter-search)"
   ]
  },
  {
   "cell_type": "code",
   "execution_count": 35,
   "id": "6ad6444e-98aa-4d4c-a0a8-1d48f31a4b4b",
   "metadata": {
    "pycharm": {
     "name": "#%%\n"
    }
   },
   "outputs": [
    {
     "name": "stdout",
     "output_type": "stream",
     "text": [
      "Best F-Score: 52.12%\n"
     ]
    }
   ],
   "source": [
    "params = {\n",
    "    \"C\": [\n",
    "        0.47,\n",
    "        0.53,\n",
    "        0.59,\n",
    "        0.61,\n",
    "        0.67,\n",
    "        0.71,\n",
    "        0.73,\n",
    "        0.79,\n",
    "        0.83,\n",
    "        0.89,\n",
    "        0.97,\n",
    "        1,\n",
    "        2,\n",
    "        3,\n",
    "        5,\n",
    "        7,\n",
    "        9,\n",
    "        11,\n",
    "        13,\n",
    "        17,\n",
    "        19,\n",
    "        21,\n",
    "    ],\n",
    "    \"tol\": [1e-5, 5e-5, 1e-4, 5e-4, 1e-3, 5e-3],\n",
    "}\n",
    "\n",
    "clf = RandomizedSearchCV(log, params, scoring=\"f1_weighted\", n_jobs=-1, random_state=42)\n",
    "clf.fit(X_features_train_scaled, y_features_train)\n",
    "\n",
    "print(\"Best F-Score: {:.2f}%\".format(clf.best_score_ * 100))"
   ]
  },
  {
   "cell_type": "code",
   "execution_count": 36,
   "outputs": [],
   "source": [
    "classifier = clf.best_estimator_"
   ],
   "metadata": {
    "collapsed": false,
    "pycharm": {
     "name": "#%%\n"
    }
   }
  },
  {
   "cell_type": "markdown",
   "source": [
    "#### Comparação com Métrica base"
   ],
   "metadata": {
    "collapsed": false,
    "pycharm": {
     "name": "#%% md\n"
    }
   }
  },
  {
   "cell_type": "code",
   "execution_count": 37,
   "outputs": [
    {
     "name": "stdout",
     "output_type": "stream",
     "text": [
      "Score Baseline : 43.03%\n",
      "Score Modelo   : 52.12%\n",
      "Diferença      : 9.10%\n"
     ]
    }
   ],
   "source": [
    "print(\"Score Baseline : {:.2f}%\".format(baseline_score*100))\n",
    "print(\"Score Modelo   : {:.2f}%\".format(clf.best_score_*100))\n",
    "print(\"Diferença      : {:.2f}%\".format(np.abs(baseline_score-clf.best_score_)*100))"
   ],
   "metadata": {
    "collapsed": false,
    "pycharm": {
     "name": "#%%\n"
    }
   }
  },
  {
   "cell_type": "markdown",
   "id": "a1c8aa66-56c3-4d6d-ad5b-b8c4acf88411",
   "metadata": {
    "tags": [],
    "pycharm": {
     "name": "#%% md\n"
    }
   },
   "source": [
    "### Performance no Conjunto de Treino"
   ]
  },
  {
   "cell_type": "code",
   "execution_count": 38,
   "id": "5e18a496-24dd-44e5-bf6c-6d59066ba02b",
   "metadata": {
    "pycharm": {
     "name": "#%%\n"
    }
   },
   "outputs": [
    {
     "name": "stdout",
     "output_type": "stream",
     "text": [
      "F-Score: 52.12%\n"
     ]
    }
   ],
   "source": [
    "y_pred = classifier.predict(X_features_train_scaled)\n",
    "score = f1_score(y_features_train, y_pred, average=\"weighted\")\n",
    "print(\"F-Score: {:.2f}%\".format(score * 100))"
   ]
  },
  {
   "cell_type": "markdown",
   "id": "282b4073-668f-40ac-96fa-41d77e475010",
   "metadata": {
    "pycharm": {
     "name": "#%% md\n"
    }
   },
   "source": [
    "### Curva de Aprendizado"
   ]
  },
  {
   "cell_type": "code",
   "execution_count": 39,
   "id": "1311814a-f3a6-4eaa-83d6-a0a3b8d1eaa2",
   "metadata": {
    "pycharm": {
     "name": "#%%\n"
    }
   },
   "outputs": [],
   "source": [
    "def plot_learning_curve(estimator, X, y, scoring):\n",
    "\n",
    "    plt.figure(figsize=(8, 6))\n",
    "    plt.title(\"Learning Curve\")\n",
    "\n",
    "    plt.xlabel(\"Training examples\")\n",
    "    plt.ylabel(\"Score: {}\".format(scoring))\n",
    "\n",
    "    train_sizes, train_scores, test_scores = learning_curve(\n",
    "        estimator, X, y, scoring=scoring, n_jobs=-1\n",
    "    )\n",
    "\n",
    "    train_scores_mean = np.mean(train_scores, axis=1)\n",
    "    train_scores_std = np.std(train_scores, axis=1)\n",
    "    test_scores_mean = np.mean(test_scores, axis=1)\n",
    "    test_scores_std = np.std(test_scores, axis=1)\n",
    "\n",
    "    plt.ylim(round(min([np.min(train_scores), np.min(test_scores)]), 2) - 0.01, 1.01)\n",
    "\n",
    "    plt.grid()\n",
    "\n",
    "    plt.fill_between(\n",
    "        train_sizes,\n",
    "        train_scores_mean - train_scores_std,\n",
    "        train_scores_mean + train_scores_std,\n",
    "        alpha=0.1,\n",
    "        color=\"r\",\n",
    "    )\n",
    "\n",
    "    plt.fill_between(\n",
    "        train_sizes,\n",
    "        test_scores_mean - test_scores_std,\n",
    "        test_scores_mean + test_scores_std,\n",
    "        alpha=0.1,\n",
    "        color=\"g\",\n",
    "    )\n",
    "\n",
    "    plt.plot(train_sizes, train_scores_mean, \"o-\", color=\"r\", label=\"Training score\")\n",
    "    plt.plot(\n",
    "        train_sizes, test_scores_mean, \"o-\", color=\"g\", label=\"Cross-validation score\"\n",
    "    )\n",
    "\n",
    "    plt.legend(loc=\"best\")\n",
    "\n",
    "    return plt"
   ]
  },
  {
   "cell_type": "code",
   "execution_count": 40,
   "id": "4b18334d-62b7-4df8-bd27-bb9e6280e565",
   "metadata": {
    "pycharm": {
     "name": "#%%\n"
    }
   },
   "outputs": [
    {
     "data": {
      "text/plain": "<Figure size 800x600 with 1 Axes>",
      "image/png": "[encoded data removed]"
     },
     "metadata": {},
     "output_type": "display_data"
    }
   ],
   "source": [
    "plt = plot_learning_curve(\n",
    "    classifier, X_features_train_scaled, y_features_train, scoring=\"f1_weighted\"\n",
    ")\n",
    "plt.show()"
   ]
  },
  {
   "cell_type": "markdown",
   "id": "71638aed-2211-4631-889c-112132ea4ce0",
   "metadata": {
    "jp-MarkdownHeadingCollapsed": true,
    "tags": [],
    "pycharm": {
     "name": "#%% md\n"
    }
   },
   "source": [
    "## Random Forest\n",
    "\n",
    "Referências:\n",
    "- [https://en.wikipedia.org/wiki/Random_forest](https://en.wikipedia.org/wiki/Random_forest)\n",
    "- [https://scikit-learn.org/stable/modules/ensemble.html#forest](https://scikit-learn.org/stable/modules/ensemble.html#forest)"
   ]
  },
  {
   "cell_type": "code",
   "execution_count": 41,
   "id": "729495dd-706c-4f38-bbb3-6380496b498f",
   "metadata": {
    "pycharm": {
     "name": "#%%\n"
    }
   },
   "outputs": [],
   "source": [
    "rf = RandomForestClassifier(\n",
    "    n_estimators=100,\n",
    "    min_samples_split=2,\n",
    "    min_samples_leaf=2,\n",
    "    random_state=42,\n",
    "    n_jobs=-1,\n",
    ")"
   ]
  },
  {
   "cell_type": "code",
   "execution_count": 42,
   "id": "85695983-7e16-4724-80d0-45cc50a98419",
   "metadata": {
    "pycharm": {
     "name": "#%%\n"
    }
   },
   "outputs": [
    {
     "name": "stdout",
     "output_type": "stream",
     "text": [
      "Elapsed Time:  52 seconds\n",
      "F-Score: 58.87%\n"
     ]
    }
   ],
   "source": [
    "s1 = time()\n",
    "scores = cross_val_score(\n",
    "    rf, X_features_train_scaled, y_features_train, scoring=\"f1_weighted\"\n",
    ")\n",
    "rf_score = scores.mean()\n",
    "\n",
    "s2 = time()\n",
    "print(\"Elapsed Time: \", int(s2 - s1), \"seconds\")\n",
    "\n",
    "print(\"F-Score: {:.2f}%\".format(rf_score * 100))"
   ]
  },
  {
   "cell_type": "code",
   "execution_count": 43,
   "id": "56b8f801-74fd-4412-ae4e-2f4d96fe1b1a",
   "metadata": {
    "pycharm": {
     "name": "#%%\n"
    }
   },
   "outputs": [
    {
     "data": {
      "text/plain": "RandomForestClassifier(min_samples_leaf=2, n_jobs=-1, random_state=42)",
      "text/html": "<style>#sk-container-id-2 {color: black;background-color: white;}#sk-container-id-2 pre{padding: 0;}#sk-container-id-2 div.sk-toggleable {background-color: white;}#sk-container-id-2 label.sk-toggleable__label {cursor: pointer;display: block;width: 100%;margin-bottom: 0;padding: 0.3em;box-sizing: border-box;text-align: center;}#sk-container-id-2 label.sk-toggleable__label-arrow:before {content: \"▸\";float: left;margin-right: 0.25em;color: #696969;}#sk-container-id-2 label.sk-toggleable__label-arrow:hover:before {color: black;}#sk-container-id-2 div.sk-estimator:hover label.sk-toggleable__label-arrow:before {color: black;}#sk-container-id-2 div.sk-toggleable__content {max-height: 0;max-width: 0;overflow: hidden;text-align: left;background-color: #f0f8ff;}#sk-container-id-2 div.sk-toggleable__content pre {margin: 0.2em;color: black;border-radius: 0.25em;background-color: #f0f8ff;}#sk-container-id-2 input.sk-toggleable__control:checked~div.sk-toggleable__content {max-height: 200px;max-width: 100%;overflow: auto;}#sk-container-id-2 input.sk-toggleable__control:checked~label.sk-toggleable__label-arrow:before {content: \"▾\";}#sk-container-id-2 div.sk-estimator input.sk-toggleable__control:checked~label.sk-toggleable__label {background-color: #d4ebff;}#sk-container-id-2 div.sk-label input.sk-toggleable__control:checked~label.sk-toggleable__label {background-color: #d4ebff;}#sk-container-id-2 input.sk-hidden--visually {border: 0;clip: rect(1px 1px 1px 1px);clip: rect(1px, 1px, 1px, 1px);height: 1px;margin: -1px;overflow: hidden;padding: 0;position: absolute;width: 1px;}#sk-container-id-2 div.sk-estimator {font-family: monospace;background-color: #f0f8ff;border: 1px dotted black;border-radius: 0.25em;box-sizing: border-box;margin-bottom: 0.5em;}#sk-container-id-2 div.sk-estimator:hover {background-color: #d4ebff;}#sk-container-id-2 div.sk-parallel-item::after {content: \"\";width: 100%;border-bottom: 1px solid gray;flex-grow: 1;}#sk-container-id-2 div.sk-label:hover label.sk-toggleable__label {background-color: #d4ebff;}#sk-container-id-2 div.sk-serial::before {content: \"\";position: absolute;border-left: 1px solid gray;box-sizing: border-box;top: 0;bottom: 0;left: 50%;z-index: 0;}#sk-container-id-2 div.sk-serial {display: flex;flex-direction: column;align-items: center;background-color: white;padding-right: 0.2em;padding-left: 0.2em;position: relative;}#sk-container-id-2 div.sk-item {position: relative;z-index: 1;}#sk-container-id-2 div.sk-parallel {display: flex;align-items: stretch;justify-content: center;background-color: white;position: relative;}#sk-container-id-2 div.sk-item::before, #sk-container-id-2 div.sk-parallel-item::before {content: \"\";position: absolute;border-left: 1px solid gray;box-sizing: border-box;top: 0;bottom: 0;left: 50%;z-index: -1;}#sk-container-id-2 div.sk-parallel-item {display: flex;flex-direction: column;z-index: 1;position: relative;background-color: white;}#sk-container-id-2 div.sk-parallel-item:first-child::after {align-self: flex-end;width: 50%;}#sk-container-id-2 div.sk-parallel-item:last-child::after {align-self: flex-start;width: 50%;}#sk-container-id-2 div.sk-parallel-item:only-child::after {width: 0;}#sk-container-id-2 div.sk-dashed-wrapped {border: 1px dashed gray;margin: 0 0.4em 0.5em 0.4em;box-sizing: border-box;padding-bottom: 0.4em;background-color: white;}#sk-container-id-2 div.sk-label label {font-family: monospace;font-weight: bold;display: inline-block;line-height: 1.2em;}#sk-container-id-2 div.sk-label-container {text-align: center;}#sk-container-id-2 div.sk-container {/* jupyter's `normalize.less` sets `[hidden] { display: none; }` but bootstrap.min.css set `[hidden] { display: none !important; }` so we also need the `!important` here to be able to override the default hidden behavior on the sphinx rendered scikit-learn.org. See: https://github.com/scikit-learn/scikit-learn/issues/21755 */display: inline-block !important;position: relative;}#sk-container-id-2 div.sk-text-repr-fallback {display: none;}</style><div id=\"sk-container-id-2\" class=\"sk-top-container\"><div class=\"sk-text-repr-fallback\"><pre>RandomForestClassifier(min_samples_leaf=2, n_jobs=-1, random_state=42)</pre><b>In a Jupyter environment, please rerun this cell to show the HTML representation or trust the notebook. <br />On GitHub, the HTML representation is unable to render, please try loading this page with nbviewer.org.</b></div><div class=\"sk-container\" hidden><div class=\"sk-item\"><div class=\"sk-estimator sk-toggleable\"><input class=\"sk-toggleable__control sk-hidden--visually\" id=\"sk-estimator-id-2\" type=\"checkbox\" checked><label for=\"sk-estimator-id-2\" class=\"sk-toggleable__label sk-toggleable__label-arrow\">RandomForestClassifier</label><div class=\"sk-toggleable__content\"><pre>RandomForestClassifier(min_samples_leaf=2, n_jobs=-1, random_state=42)</pre></div></div></div></div></div>"
     },
     "execution_count": 43,
     "metadata": {},
     "output_type": "execute_result"
    }
   ],
   "source": [
    "rf.fit(X_features_train_scaled, y_features_train)"
   ]
  },
  {
   "cell_type": "markdown",
   "id": "022c6984-c13c-477d-95db-3f487864fb23",
   "metadata": {
    "tags": [],
    "pycharm": {
     "name": "#%% md\n"
    }
   },
   "source": [
    "### Otimização de Hyperparametros\n",
    "\n",
    "Nesse passo, vamos tentar encontrar a melhor combinação de hyperparametros para o modelo\n",
    "\n",
    "Referências:\n",
    "\n",
    "- [https://scikit-learn.org/stable/modules/grid_search.html#randomized-parameter-search]"
   ]
  },
  {
   "cell_type": "code",
   "execution_count": 44,
   "id": "5ef8d47e-459e-4187-89b2-a9dc0ca70044",
   "metadata": {
    "pycharm": {
     "name": "#%%\n"
    }
   },
   "outputs": [],
   "source": [
    "# Codigo\n",
    "# rf = RandomForestClassifier(random_state = 42, n_jobs = -1)\n",
    "# params = {\n",
    "#    'n_estimators': [100,200,300],\n",
    "#    'min_samples_split': [2,3,4,5],\n",
    "#    'min_samples_leaf': [1,2,3,4],\n",
    "# }\n",
    "\n",
    "# clf = RandomizedSearchCV(rf, params, scoring='f1_weighted', random_state=42)\n",
    "# clf.fit(X_features_train_scaled, y_features_train)\n",
    "\n",
    "# print(\"Best F-Score: {:.2f}%\".format(clf.best_score_*100))"
   ]
  },
  {
   "cell_type": "code",
   "execution_count": 45,
   "id": "42e2453a-8398-40c4-877d-09c4882866d6",
   "metadata": {
    "pycharm": {
     "name": "#%%\n"
    }
   },
   "outputs": [
    {
     "name": "stdout",
     "output_type": "stream",
     "text": [
      "{'n_estimators': 100, 'min_samples_split': 2, 'min_samples_leaf': 2}\n"
     ]
    }
   ],
   "source": [
    "# clf.best_params_\n",
    "print({\"n_estimators\": 100, \"min_samples_split\": 2, \"min_samples_leaf\": 2})"
   ]
  },
  {
   "cell_type": "code",
   "execution_count": 46,
   "id": "aa286073-0714-4a69-81f0-a434389d7cc8",
   "metadata": {
    "pycharm": {
     "name": "#%%\n"
    }
   },
   "outputs": [],
   "source": [
    "# rf = clf.best_estimator_"
   ]
  },
  {
   "cell_type": "markdown",
   "source": [
    "#### Comparação com Métrica base"
   ],
   "metadata": {
    "collapsed": false,
    "pycharm": {
     "name": "#%% md\n"
    }
   }
  },
  {
   "cell_type": "code",
   "execution_count": 47,
   "outputs": [
    {
     "name": "stdout",
     "output_type": "stream",
     "text": [
      "Score Baseline : 43.03%\n",
      "Score Modelo   : 58.87%\n",
      "Diferença      : 15.85%\n"
     ]
    }
   ],
   "source": [
    "print(\"Score Baseline : {:.2f}%\".format(baseline_score*100))\n",
    "print(\"Score Modelo   : {:.2f}%\".format(rf_score*100))\n",
    "print(\"Diferença      : {:.2f}%\".format(np.abs(baseline_score-rf_score)*100))"
   ],
   "metadata": {
    "collapsed": false,
    "pycharm": {
     "name": "#%%\n"
    }
   }
  },
  {
   "cell_type": "markdown",
   "id": "73a8a2fc-ec00-4ea0-8991-dcb0bfdbe6cb",
   "metadata": {
    "pycharm": {
     "name": "#%% md\n"
    }
   },
   "source": [
    "### Performance no Conjunto de Treino"
   ]
  },
  {
   "cell_type": "code",
   "execution_count": 48,
   "id": "bb36ef4d-8f74-4df1-8e72-211759114526",
   "metadata": {
    "pycharm": {
     "name": "#%%\n"
    }
   },
   "outputs": [
    {
     "name": "stdout",
     "output_type": "stream",
     "text": [
      "F-Score: 89.98%\n"
     ]
    }
   ],
   "source": [
    "y_pred = rf.predict(X_features_train_scaled)\n",
    "score = f1_score(y_features_train, y_pred, average=\"weighted\")\n",
    "print(\"F-Score: {:.2f}%\".format(score * 100))"
   ]
  },
  {
   "cell_type": "markdown",
   "id": "dd76528f-bc42-4493-8951-7f96e7de71be",
   "metadata": {
    "pycharm": {
     "name": "#%% md\n"
    }
   },
   "source": [
    "### Curva de Aprendizado"
   ]
  },
  {
   "cell_type": "code",
   "execution_count": 49,
   "id": "d3553509-0106-490c-9eee-cd2fded7a865",
   "metadata": {
    "pycharm": {
     "name": "#%%\n"
    }
   },
   "outputs": [
    {
     "data": {
      "text/plain": "<Figure size 800x600 with 1 Axes>",
      "image/png": "[encoded data removed]"
     },
     "metadata": {},
     "output_type": "display_data"
    }
   ],
   "source": [
    "plt = plot_learning_curve(\n",
    "    classifier, X_features_train_scaled, y_features_train, scoring=\"f1_weighted\"\n",
    ")\n",
    "plt.show()"
   ]
  },
  {
   "cell_type": "markdown",
   "id": "af5797da-ad8a-4e03-8d0b-379851688702",
   "metadata": {
    "pycharm": {
     "name": "#%% md\n"
    }
   },
   "source": [
    "## Validação em conjunto de Teste"
   ]
  },
  {
   "cell_type": "code",
   "execution_count": 50,
   "id": "6a961a16-4ad3-4c3b-8311-4ae8237b28a6",
   "metadata": {
    "pycharm": {
     "name": "#%%\n"
    }
   },
   "outputs": [
    {
     "name": "stdout",
     "output_type": "stream",
     "text": [
      "F-Score: 58.61%\n"
     ]
    }
   ],
   "source": [
    "y_pred = rf.predict(X_features_test_scaled)\n",
    "score = f1_score(y_features_test, y_pred, average=\"weighted\")\n",
    "print(\"F-Score: {:.2f}%\".format(score * 100))"
   ]
  },
  {
   "cell_type": "markdown",
   "id": "d9f4d914-c13f-40ed-9b49-3b2014a39bf5",
   "metadata": {
    "pycharm": {
     "name": "#%% md\n"
    }
   },
   "source": [
    "### Preditos Positivos"
   ]
  },
  {
   "cell_type": "code",
   "execution_count": 51,
   "id": "a5069185-eb2a-4703-aab2-c1df0f48b2a5",
   "metadata": {
    "pycharm": {
     "name": "#%%\n"
    }
   },
   "outputs": [],
   "source": [
    "preditos_positivos = X_test[y_pred == 1]"
   ]
  },
  {
   "cell_type": "markdown",
   "id": "baa3d3bc-75c4-4ecd-9912-9fe5d7135ccc",
   "metadata": {
    "pycharm": {
     "name": "#%% md\n"
    }
   },
   "source": [
    "#### Falso Positivo -> Negativo"
   ]
  },
  {
   "cell_type": "code",
   "execution_count": 52,
   "id": "21622347-6a52-4fe8-89fc-0244e42f2204",
   "metadata": {
    "pycharm": {
     "name": "#%%\n"
    }
   },
   "outputs": [
    {
     "data": {
      "text/plain": "array(['eu não tenho irmã 😭', 'sobrancelha tá horrivel😐',\n       'pelo amor de deus eu não sei o que tá acontecendo cmg 😕',\n       'eu até faço a publi😫',\n       '😭😭 só gostam de gente magra na internet 😭',\n       'é mais barato você mesmo customizar, fora isso é sorte achar😪',\n       'nossa que sonho 😔',\n       'as vezes minha vontade é de sumir 😤 só assim as pessoas irão dar o devido valor, ou dar graças a deus .',\n       'hahshahhahshaa 😭', 'askaksksksk😔😔\\U0001faf6🏻'], dtype=object)"
     },
     "execution_count": 52,
     "metadata": {},
     "output_type": "execute_result"
    }
   ],
   "source": [
    "preditos_positivos[preditos_positivos[\"label\"] == -1][\"text\"].sample(10).values"
   ]
  },
  {
   "cell_type": "markdown",
   "id": "2d254704-fcfa-49d8-87b4-c035af2f66e4",
   "metadata": {
    "pycharm": {
     "name": "#%% md\n"
    }
   },
   "source": [
    "#### Falso Positivo -> Neutro"
   ]
  },
  {
   "cell_type": "code",
   "execution_count": 53,
   "id": "e9e6a5d3-5d89-42e6-b417-c5de53df9d8b",
   "metadata": {
    "pycharm": {
     "name": "#%%\n"
    }
   },
   "outputs": [
    {
     "data": {
      "text/plain": "array(['tu tá tirando fácil uns reais livre por mês! brabo 🔥',\n       'ainda sobre o final de semana.. 😅🤧',\n       'você é uma das minas mais gostosas que eu já vi, morro de vontade de comprar teu pack no snap, pena que namoro 😂 —…',\n       'eu b sei 😰', 'eu dou te os meus kg a mais 😂',\n       '😂 agora estão usando até a vovozinha.',\n       'pelo menos assim ja temos companhia 😂', 'bom dia ☕ boa semana',\n       'resolvi postar minha primeira dancinha no tiktok 😂',\n       'olha eu e a 😂'], dtype=object)"
     },
     "execution_count": 53,
     "metadata": {},
     "output_type": "execute_result"
    }
   ],
   "source": [
    "preditos_positivos[preditos_positivos[\"label\"] == 0][\"text\"].sample(10).values"
   ]
  },
  {
   "cell_type": "markdown",
   "id": "b1de613c-ec7e-4a6d-8a8d-e9b4f4494697",
   "metadata": {
    "pycharm": {
     "name": "#%% md\n"
    }
   },
   "source": [
    "#### Verdadeiro Positivo"
   ]
  },
  {
   "cell_type": "code",
   "execution_count": 54,
   "id": "d0a98d4a-a7a0-417f-bcc4-d9605d9ffdd0",
   "metadata": {
    "pycharm": {
     "name": "#%%\n"
    }
   },
   "outputs": [
    {
     "data": {
      "text/plain": "array(['você i eu 😚',\n       'se cuida aí e fica com deus meu amor. que ele te proteja de tudo e todos. te amo do tamanho do mundo 💙',\n       'olá , adoraria escutar \"cansar de dançar” da juliette, em sua programação! obrigada (o)! londrina 🎶💃',\n       'obg mo 💙',\n       'haverá dias bons, haverá dias ruins, mas haverá deus em tds! bom dia ❤',\n       'sempre splendida 🤗😘',\n       'mostre de qual estado vcs são e mande a listas por estado tbm pf 🙏👈🇧🇷😎',\n       '‼️pré venda abre meio dia!🚀🚀🚀 🎉carnarildy • a / • rio centro - rj 💡o ingresso com desconto é o que tem a tarja verde! 🎟️código de desconto: burla 👆o link c/desconto é esse mas as vendas só abrem meio dia, favorita aqui pra n perder!',\n       'tbm te amo 💘', 'vão conhecer minha pior versão 😎'], dtype=object)"
     },
     "execution_count": 54,
     "metadata": {},
     "output_type": "execute_result"
    }
   ],
   "source": [
    "preditos_positivos[preditos_positivos[\"label\"] == 1][\"text\"].sample(10).values"
   ]
  },
  {
   "cell_type": "markdown",
   "id": "5a449bcd-e31f-48c9-8d99-b0f1d8977942",
   "metadata": {
    "pycharm": {
     "name": "#%% md\n"
    }
   },
   "source": [
    "### Preditos Negativos"
   ]
  },
  {
   "cell_type": "code",
   "execution_count": 55,
   "id": "9b4d59fd-227f-47f3-a585-9c9284d3fc09",
   "metadata": {
    "pycharm": {
     "name": "#%%\n"
    }
   },
   "outputs": [],
   "source": [
    "preditos_negativos = X_test[y_pred == -1]"
   ]
  },
  {
   "cell_type": "markdown",
   "id": "14b89887-6cef-4e33-bad2-cc8355bf14c1",
   "metadata": {
    "pycharm": {
     "name": "#%% md\n"
    }
   },
   "source": [
    "#### Falso Negativo -> Positivo"
   ]
  },
  {
   "cell_type": "code",
   "execution_count": 56,
   "id": "c929df8e-d956-4b97-9702-79f5016ddf7e",
   "metadata": {
    "pycharm": {
     "name": "#%%\n"
    }
   },
   "outputs": [
    {
     "data": {
      "text/plain": "array(['só queria que a puma tivesse esse compromisso comigo 😌😏',\n       'que sdd que eu tava de ir lá 😄',\n       'esse churros ali da esquina tá caro p crlh, tnc 😈',\n       'me da tanta paz el tema sunset lover no se porque 😌',\n       'poxa obg 💙 fiquei tímida', 'eu sou doida todo dia mano 👍',\n       'eu quero um romance assim 🥰💪🏻🐀🐓', 'fumando outro 🎈',\n       'ne? e é só no sábado a noite essa putaria. assisto fofocaçizando e sempre começa e acaba na hora certinha. 😝',\n       'queria tanto um quarteirão do mc 😋'], dtype=object)"
     },
     "execution_count": 56,
     "metadata": {},
     "output_type": "execute_result"
    }
   ],
   "source": [
    "preditos_negativos[preditos_negativos[\"label\"] == 1][\"text\"].sample(10).values"
   ]
  },
  {
   "cell_type": "markdown",
   "id": "9a46481c-0fa3-4575-983d-f2edf85e3af3",
   "metadata": {
    "pycharm": {
     "name": "#%% md\n"
    }
   },
   "source": [
    "#### Falso Negativo -> Neutro"
   ]
  },
  {
   "cell_type": "code",
   "execution_count": 57,
   "id": "038cc018-682a-44e5-8a69-c9ce96af453c",
   "metadata": {
    "pycharm": {
     "name": "#%%\n"
    }
   },
   "outputs": [
    {
     "data": {
      "text/plain": "array(['é cúmulo do despautério 😹',\n       'fudeu 😳 tenho uma insônia doida n quero nem saber o q tenho feito acordada nos sonhos alheios',\n       'parece que alguém levou um baile e não foi o puto 👀',\n       'necessites ajuda?😳',\n       'nem to chateado com a derrota, agora e so ganhar mais seguidas e ta perdoado 😅',\n       'eu olhando os nudes no celular da falsiane 😱 como é que o márcio deu confirmação p/ essa embuste …',\n       'eu preciso sair 😳',\n       'convenhamos q uma criança de anos nunca viu o botafogo ganhar um título... 👀',\n       'hj volto pro curso de inglês. tinha até esquecido! 😂',\n       'tentando não pensar muito no jogo para não ficar nervoso😂🥵🥵'],\n      dtype=object)"
     },
     "execution_count": 57,
     "metadata": {},
     "output_type": "execute_result"
    }
   ],
   "source": [
    "preditos_negativos[preditos_negativos[\"label\"] == 0][\"text\"].sample(10).values"
   ]
  },
  {
   "cell_type": "markdown",
   "id": "b204bebd-c171-4a6f-9cd4-ac152cc80626",
   "metadata": {
    "pycharm": {
     "name": "#%% md\n"
    }
   },
   "source": [
    "#### Verdadeiro Negativo"
   ]
  },
  {
   "cell_type": "code",
   "execution_count": 58,
   "id": "1efeab84-af16-4bd9-8492-2647b1e10d7c",
   "metadata": {
    "pycharm": {
     "name": "#%%\n"
    }
   },
   "outputs": [
    {
     "data": {
      "text/plain": "array(['dias pro meu aniversário 😣',\n       'minha cabeça tá explodindo, só queria conseguir dormir 😫',\n       'eu só queria aquele abraço gostoso dnv 😪',\n       'passa tanta coisa na minha cabeça que eu fico sem entender 😫',\n       'meu tio com esses roncos atrapalha o sono dos outros 😡',\n       'da nem pra acreditar, logo você irmão 😭', 'naaaoo 😭',\n       'quero ver a viagem mas n tem no globoplay 😔',\n       'eu queria tá como 😭😭😭', 'volto ou nao volto a vender doces??? 😫😫'],\n      dtype=object)"
     },
     "execution_count": 58,
     "metadata": {},
     "output_type": "execute_result"
    }
   ],
   "source": [
    "preditos_negativos[preditos_negativos[\"label\"] == -1][\"text\"].sample(10).values"
   ]
  },
  {
   "cell_type": "markdown",
   "id": "450acc69-e98d-4915-be12-ccacb5ea9696",
   "metadata": {
    "pycharm": {
     "name": "#%% md\n"
    }
   },
   "source": [
    "### Preditos Neutros"
   ]
  },
  {
   "cell_type": "code",
   "execution_count": 59,
   "id": "73af6117-3bd0-4287-9cde-6d9c10da6545",
   "metadata": {
    "pycharm": {
     "name": "#%%\n"
    }
   },
   "outputs": [],
   "source": [
    "preditos_neutros = X_test[y_pred == 0]"
   ]
  },
  {
   "cell_type": "markdown",
   "id": "6668e030-a892-41c1-94c7-42f8d16b8f76",
   "metadata": {
    "pycharm": {
     "name": "#%% md\n"
    }
   },
   "source": [
    "#### Falso Neutro -> Positivo"
   ]
  },
  {
   "cell_type": "code",
   "execution_count": 60,
   "id": "ded5afc4-f54f-4fe0-9c94-8f1002de5214",
   "metadata": {
    "pycharm": {
     "name": "#%%\n"
    }
   },
   "outputs": [
    {
     "data": {
      "text/plain": "array(['👏🏻👏🏻👍👍.. não sabia thiago ! pensava que os motores a pistão fossem maiores e mais pesados ..por serem antigos',\n       'que vergonha alheia 🙈', 'se for vc eu quero🙈',\n       'que pena que pena, que querer não é poder se fosse, se fosse só ia dar eu e você..🎶',\n       'vamos os dois 🙏',\n       'chega a madrugada, o telefone toca mas eu não atendo, bate em minha porta só que eu tenho medo de me arrepender já não sei direito mais quem é você 🎶🎶',\n       'houve a notícia no morro que a polícia chegou malandro que é malandro se esconde em baixo da figueira perguntou seu marabô onde mora exu caveira 🎶🚬🎲🎩',\n       'kkk meu braço cansa de copia as coisa na escola mas não cansa quando to laçando kkk😝',\n       'é logo ali 😘', 'era só uma praia hj 😏'], dtype=object)"
     },
     "execution_count": 60,
     "metadata": {},
     "output_type": "execute_result"
    }
   ],
   "source": [
    "preditos_neutros[preditos_neutros[\"label\"] == 1][\"text\"].sample(10).values"
   ]
  },
  {
   "cell_type": "markdown",
   "id": "dc1257b2-d3c2-40f8-b4b7-ee8c79783d8c",
   "metadata": {
    "pycharm": {
     "name": "#%% md\n"
    }
   },
   "source": [
    "#### Falso Neutro -> Negativo"
   ]
  },
  {
   "cell_type": "code",
   "execution_count": 61,
   "id": "7f7f9bd4-4432-4b61-a703-ec3dc737548b",
   "metadata": {
    "pycharm": {
     "name": "#%%\n"
    }
   },
   "outputs": [
    {
     "data": {
      "text/plain": "array(['ela escreve a anos, mas não sabe escrever há anos 😔',\n       'alguém faz 😭',\n       'ficar sem notícias não poder fazer nada e muito ruim 😫',\n       'ele quer q eu cuide? 😔',\n       'kkk fui seco achando que tinha um canal mesmo. mas será que eu sou um qualquer um daí??? 😔',\n       'tinha anos que eu não passava barbeador na axila (só uso máquina). tinha me esquecido como essa porra coça 😑',\n       'geral na praia e eu? 😭', 'o meu tbm esta assim 😒',\n       'última temporada 😔', 'duro mesmo é morar km longe deles 😩'],\n      dtype=object)"
     },
     "execution_count": 61,
     "metadata": {},
     "output_type": "execute_result"
    }
   ],
   "source": [
    "preditos_neutros[preditos_neutros[\"label\"] == -1][\"text\"].sample(10).values"
   ]
  },
  {
   "cell_type": "markdown",
   "id": "97b4838f-81f1-42d7-811d-40a9feca575e",
   "metadata": {
    "pycharm": {
     "name": "#%% md\n"
    }
   },
   "source": [
    "#### Verdadeiro Neutro"
   ]
  },
  {
   "cell_type": "code",
   "execution_count": 62,
   "id": "043201bc-0dff-4f4d-a5dd-04ad2d2dd284",
   "metadata": {
    "pycharm": {
     "name": "#%%\n"
    }
   },
   "outputs": [
    {
     "data": {
      "text/plain": "array(['pique o travis 🙅🏻🔥', 'ontas bebe 👀',\n       'quase kg 😮 baratinho! nutriwhey pouch . kg morango, integralmedica 🔥r$ , à vista 🛒',\n       'eu já li muito sobre energias eu que estas a falar 😅',\n       '📣 ™ 🆙 go book 🆙 💯 🏛', '👀 cadê ❓❓❓',\n       'eu montei outra playlist só de funk pesado cara e tá muito foda 👀',\n       'pior que não. acho que era uma contribuição pro churrasco mesmo 😂',\n       'nem me digas nada 😅',\n       'meu série s tá com meu sobrinho...e ele praticamente só joga warzone! ontem ele veio perguntar se eu ia comprar o cód 😂! eu praticamente só estou jogando play por causa dele...não sei o q faço 🤦🏻\\u200d♀️'],\n      dtype=object)"
     },
     "execution_count": 62,
     "metadata": {},
     "output_type": "execute_result"
    }
   ],
   "source": [
    "preditos_neutros[preditos_neutros[\"label\"] == 0][\"text\"].sample(10).values"
   ]
  },
  {
   "cell_type": "code",
   "execution_count": 62,
   "id": "26c6c1b7-2811-4e9f-97a7-dc085c6c238f",
   "metadata": {
    "pycharm": {
     "name": "#%%\n"
    }
   },
   "outputs": [],
   "source": []
  }
 ],
 "metadata": {
  "kernelspec": {
   "display_name": "Python 3 (ipykernel)",
   "language": "python",
   "name": "python3"
  },
  "language_info": {
   "codemirror_mode": {
    "name": "ipython",
    "version": 3
   },
   "file_extension": ".py",
   "mimetype": "text/x-python",
   "name": "python",
   "nbconvert_exporter": "python",
   "pygments_lexer": "ipython3",
   "version": "3.10.4"
  }
 },
 "nbformat": 4,
 "nbformat_minor": 5
}