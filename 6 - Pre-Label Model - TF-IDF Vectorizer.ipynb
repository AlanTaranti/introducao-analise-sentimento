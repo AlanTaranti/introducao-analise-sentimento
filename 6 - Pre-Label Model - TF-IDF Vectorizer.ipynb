{
 "cells": [
  {
   "cell_type": "code",
   "execution_count": 1,
   "metadata": {
    "collapsed": true,
    "pycharm": {
     "name": "#%%\n"
    }
   },
   "outputs": [],
   "source": [
    "import re\n",
    "from os import path\n",
    "\n",
    "import nltk\n",
    "import numpy as np\n",
    "import pandas as pd\n",
    "import matplotlib.pyplot as plt\n",
    "from pandarallel import pandarallel\n",
    "\n",
    "from sklearn.preprocessing import StandardScaler\n",
    "from sklearn.naive_bayes import MultinomialNB\n",
    "from sklearn.metrics import f1_score\n",
    "from sklearn.feature_selection import SelectPercentile, f_classif\n",
    "from sklearn.model_selection import (\n",
    "    train_test_split,\n",
    "    learning_curve,\n",
    "    RandomizedSearchCV,\n",
    ")\n",
    "from sklearn.feature_extraction.text import TfidfVectorizer"
   ]
  },
  {
   "cell_type": "code",
   "execution_count": 2,
   "outputs": [
    {
     "name": "stdout",
     "output_type": "stream",
     "text": [
      "INFO: Pandarallel will run on 10 workers.\n",
      "INFO: Pandarallel will use Memory file system to transfer data between the main process and workers.\n"
     ]
    }
   ],
   "source": [
    "pandarallel.initialize(progress_bar=True)"
   ],
   "metadata": {
    "collapsed": false,
    "pycharm": {
     "name": "#%%\n"
    }
   }
  },
  {
   "cell_type": "markdown",
   "source": [
    "# Carregar os dados"
   ],
   "metadata": {
    "collapsed": false,
    "pycharm": {
     "name": "#%% md\n"
    }
   }
  },
  {
   "cell_type": "markdown",
   "source": [
    "## Tweets"
   ],
   "metadata": {
    "collapsed": false,
    "pycharm": {
     "name": "#%% md\n"
    }
   }
  },
  {
   "cell_type": "code",
   "execution_count": 3,
   "outputs": [
    {
     "data": {
      "text/plain": "                         id  \\\n48959   1559770894045794312   \n886     1559737934869254145   \n376245  1559993471200595974   \n269523  1559925669076910082   \n98952   1559848804278587393   \n751610  1161034489340014593   \n759253  1161051351314587650   \n865992  1161306391874822144   \n715094  1160975228916379651   \n742175  1161018286710185984   \n\n                                                     text     score  label  \n48959   tem duas jurupinga e um corote na minha gelade... -0.093377     -1  \n886                                       ñ 💔 💔 m m .p lñ -0.243902     -1  \n376245  queria participar de um grupo de collector p n... -0.080586     -1  \n269523  meu neném loirinho ta a coisa mais linda desse...  0.669873      1  \n98952                                         verdade 😂😂😂  0.662905      1  \n751610  isso aqui causou um bafo na tl que vou te cont...  0.220968      0  \n759253  minha net dados tá foda n ta dando pra ver stts 😑 -0.314381     -1  \n865992                 acabei de falar com a minha mãe! 😍  0.677937      1  \n715094           só por que eu vim embora tu aparece né 😔 -0.146058     -1  \n742175  a vida é igual restaurante, você nunca sai sem...  0.449977      1  ",
      "text/html": "<div>\n<style scoped>\n    .dataframe tbody tr th:only-of-type {\n        vertical-align: middle;\n    }\n\n    .dataframe tbody tr th {\n        vertical-align: top;\n    }\n\n    .dataframe thead th {\n        text-align: right;\n    }\n</style>\n<table border=\"1\" class=\"dataframe\">\n  <thead>\n    <tr style=\"text-align: right;\">\n      <th></th>\n      <th>id</th>\n      <th>text</th>\n      <th>score</th>\n      <th>label</th>\n    </tr>\n  </thead>\n  <tbody>\n    <tr>\n      <th>48959</th>\n      <td>1559770894045794312</td>\n      <td>tem duas jurupinga e um corote na minha gelade...</td>\n      <td>-0.093377</td>\n      <td>-1</td>\n    </tr>\n    <tr>\n      <th>886</th>\n      <td>1559737934869254145</td>\n      <td>ñ 💔 💔 m m .p lñ</td>\n      <td>-0.243902</td>\n      <td>-1</td>\n    </tr>\n    <tr>\n      <th>376245</th>\n      <td>1559993471200595974</td>\n      <td>queria participar de um grupo de collector p n...</td>\n      <td>-0.080586</td>\n      <td>-1</td>\n    </tr>\n    <tr>\n      <th>269523</th>\n      <td>1559925669076910082</td>\n      <td>meu neném loirinho ta a coisa mais linda desse...</td>\n      <td>0.669873</td>\n      <td>1</td>\n    </tr>\n    <tr>\n      <th>98952</th>\n      <td>1559848804278587393</td>\n      <td>verdade 😂😂😂</td>\n      <td>0.662905</td>\n      <td>1</td>\n    </tr>\n    <tr>\n      <th>751610</th>\n      <td>1161034489340014593</td>\n      <td>isso aqui causou um bafo na tl que vou te cont...</td>\n      <td>0.220968</td>\n      <td>0</td>\n    </tr>\n    <tr>\n      <th>759253</th>\n      <td>1161051351314587650</td>\n      <td>minha net dados tá foda n ta dando pra ver stts 😑</td>\n      <td>-0.314381</td>\n      <td>-1</td>\n    </tr>\n    <tr>\n      <th>865992</th>\n      <td>1161306391874822144</td>\n      <td>acabei de falar com a minha mãe! 😍</td>\n      <td>0.677937</td>\n      <td>1</td>\n    </tr>\n    <tr>\n      <th>715094</th>\n      <td>1160975228916379651</td>\n      <td>só por que eu vim embora tu aparece né 😔</td>\n      <td>-0.146058</td>\n      <td>-1</td>\n    </tr>\n    <tr>\n      <th>742175</th>\n      <td>1161018286710185984</td>\n      <td>a vida é igual restaurante, você nunca sai sem...</td>\n      <td>0.449977</td>\n      <td>1</td>\n    </tr>\n  </tbody>\n</table>\n</div>"
     },
     "execution_count": 3,
     "metadata": {},
     "output_type": "execute_result"
    }
   ],
   "source": [
    "# Definir caminho do arquivo\n",
    "filename = \"labeled_data.parquet.gzip\"\n",
    "directory = \"data\"\n",
    "filepath = path.join(directory, filename)\n",
    "\n",
    "# Carregar dados\n",
    "data = pd.read_parquet(filepath)\n",
    "\n",
    "# Amostra dos dados\n",
    "data.sample(10)"
   ],
   "metadata": {
    "collapsed": false,
    "pycharm": {
     "name": "#%%\n"
    }
   }
  },
  {
   "cell_type": "markdown",
   "source": [
    "## Limpeza de Dados\n",
    "\n",
    "No modelo Soma das Frequencias*, precisamos saber a quantidade de determinadas palavras que aparecem em tweets positivos, negativos e neutros.\n",
    "\n",
    "Removeremos as Stopwords (palavras que não adicionam muito significado ao texto).\n",
    "\n",
    "Para melhorar o modelo, utilizaremos o Stemming, que visa remove alguns [afixos](https://pt.wikipedia.org/wiki/Afixo) das palavras. Exemplo: papel gramatical, tempo, morfologia derivacional, deixando apenas o radical da palavra.\n",
    "Assim, contaremos apenas os radicais das palavras em vez de suas derivações.\n",
    "\n",
    "Referências:\n",
    "\n",
    "- [StopWords](https://en.wikipedia.org/wiki/Stop_word)\n",
    "- [Stemming](https://en.wikipedia.org/wiki/Stemming)"
   ],
   "metadata": {
    "collapsed": false,
    "pycharm": {
     "name": "#%% md\n"
    }
   }
  },
  {
   "cell_type": "code",
   "execution_count": 4,
   "outputs": [],
   "source": [
    "def preprocess_data(string, stopwords, stemmer=None):\n",
    "\n",
    "    # Remover os Emojis e Pontuações\n",
    "    string_tratada = re.sub(\"\\W\", \" \", string)\n",
    "\n",
    "    # Remover stopwords\n",
    "    string_tratada = \" \".join(\n",
    "        [\n",
    "            substring\n",
    "            for substring in string_tratada.split()\n",
    "            if substring not in stopwords\n",
    "        ]\n",
    "    )\n",
    "\n",
    "    # Stemming\n",
    "    if stemmer:\n",
    "        string_tratada = \" \".join(\n",
    "            [stemmer.stem(substring) for substring in string_tratada.split()]\n",
    "        )\n",
    "\n",
    "    # Remover espaços extras\n",
    "    string_tratada = re.sub(\" +\", \" \", string_tratada)\n",
    "    string_tratada = re.sub(\"(^ )\", \"\", string_tratada)\n",
    "    string_tratada = re.sub(\"( $)\", \"\", string_tratada)\n",
    "\n",
    "    return string_tratada"
   ],
   "metadata": {
    "collapsed": false,
    "pycharm": {
     "name": "#%%\n"
    }
   }
  },
  {
   "cell_type": "code",
   "execution_count": 5,
   "outputs": [],
   "source": [
    "# Obter as stopwords\n",
    "portuguese_stopwords = nltk.corpus.stopwords.words(\"portuguese\")\n",
    "\n",
    "# Inicializar o Stemmer\n",
    "rlp_stemmer = nltk.stem.RSLPStemmer()"
   ],
   "metadata": {
    "collapsed": false,
    "pycharm": {
     "name": "#%%\n"
    }
   }
  },
  {
   "cell_type": "code",
   "execution_count": 6,
   "outputs": [
    {
     "data": {
      "text/plain": "46      estavam\n89       houver\n151         ser\n52        estes\n187    tínhamos\ndtype: object"
     },
     "execution_count": 6,
     "metadata": {},
     "output_type": "execute_result"
    }
   ],
   "source": [
    "# Mostra das stopwords\n",
    "pd.Series(portuguese_stopwords).sample(5)"
   ],
   "metadata": {
    "collapsed": false,
    "pycharm": {
     "name": "#%%\n"
    }
   }
  },
  {
   "cell_type": "markdown",
   "source": [
    "### Demonstração do Tratamento"
   ],
   "metadata": {
    "collapsed": false,
    "pycharm": {
     "name": "#%% md\n"
    }
   }
  },
  {
   "cell_type": "code",
   "execution_count": 7,
   "outputs": [
    {
     "name": "stdout",
     "output_type": "stream",
     "text": [
      "Tweet Original: você é vibe killer man 😏\n",
      "\n",
      "Tweet Limpo   : vibe killer man\n",
      "\n",
      "Tweet Stemed  : vib kill man\n"
     ]
    }
   ],
   "source": [
    "tweet = data[\"text\"].sample(1).values[0]\n",
    "tweet_limpo = preprocess_data(tweet, portuguese_stopwords)\n",
    "tweet_limpo_stemmed = preprocess_data(tweet, portuguese_stopwords, rlp_stemmer)\n",
    "\n",
    "print(\"Tweet Original: {}\".format(tweet))\n",
    "print(\"\")\n",
    "print(\"Tweet Limpo   : {}\".format(tweet_limpo))\n",
    "print(\"\")\n",
    "print(\"Tweet Stemed  : {}\".format(tweet_limpo_stemmed))"
   ],
   "metadata": {
    "collapsed": false,
    "pycharm": {
     "name": "#%%\n"
    }
   }
  },
  {
   "cell_type": "markdown",
   "source": [
    "## Aplicação da Limpeza"
   ],
   "metadata": {
    "collapsed": false,
    "pycharm": {
     "name": "#%% md\n"
    }
   }
  },
  {
   "cell_type": "code",
   "execution_count": 8,
   "outputs": [
    {
     "data": {
      "text/plain": "VBox(children=(HBox(children=(IntProgress(value=0, description='0.00%', max=91196), Label(value='0 / 91196')))…",
      "application/vnd.jupyter.widget-view+json": {
       "version_major": 2,
       "version_minor": 0,
       "model_id": "79ca3aaed36a40ad999416677898bc74"
      }
     },
     "metadata": {},
     "output_type": "display_data"
    }
   ],
   "source": [
    "data[\"cleaned\"] = data[\"text\"].parallel_apply(\n",
    "    lambda x: preprocess_data(x, portuguese_stopwords, rlp_stemmer)\n",
    ")"
   ],
   "metadata": {
    "collapsed": false,
    "pycharm": {
     "name": "#%%\n"
    }
   }
  },
  {
   "cell_type": "code",
   "execution_count": 9,
   "outputs": [
    {
     "data": {
      "text/plain": "                         id  \\\n545667  1160715401296273408   \n209553  1559901952057769986   \n653803  1160892774754988032   \n850000  1161268631445131264   \n308514  1559960666903027713   \n\n                                                     text     score  label  \\\n545667                    também quero que você volte ! ❤  0.746087      1   \n209553                   vídeo completo no meu privacy 😏😈  0.600150      1   \n653803                                     q ódio disso 😠 -0.302083     -1   \n850000  chega em casa e dar uma geral pra sair com a s...  0.332457      1   \n308514  mas que barbaridade!!! os juízes se levantam c...  0.190265      0   \n\n                                                  cleaned  \n545667                                          quer volt  \n209553                               víde complet privacy  \n653803                                         q ódi diss  \n850000                    cheg cas dar geral pra sair sam  \n308514  barbar juíz levant contr pag coleg comet arbit...  ",
      "text/html": "<div>\n<style scoped>\n    .dataframe tbody tr th:only-of-type {\n        vertical-align: middle;\n    }\n\n    .dataframe tbody tr th {\n        vertical-align: top;\n    }\n\n    .dataframe thead th {\n        text-align: right;\n    }\n</style>\n<table border=\"1\" class=\"dataframe\">\n  <thead>\n    <tr style=\"text-align: right;\">\n      <th></th>\n      <th>id</th>\n      <th>text</th>\n      <th>score</th>\n      <th>label</th>\n      <th>cleaned</th>\n    </tr>\n  </thead>\n  <tbody>\n    <tr>\n      <th>545667</th>\n      <td>1160715401296273408</td>\n      <td>também quero que você volte ! ❤</td>\n      <td>0.746087</td>\n      <td>1</td>\n      <td>quer volt</td>\n    </tr>\n    <tr>\n      <th>209553</th>\n      <td>1559901952057769986</td>\n      <td>vídeo completo no meu privacy 😏😈</td>\n      <td>0.600150</td>\n      <td>1</td>\n      <td>víde complet privacy</td>\n    </tr>\n    <tr>\n      <th>653803</th>\n      <td>1160892774754988032</td>\n      <td>q ódio disso 😠</td>\n      <td>-0.302083</td>\n      <td>-1</td>\n      <td>q ódi diss</td>\n    </tr>\n    <tr>\n      <th>850000</th>\n      <td>1161268631445131264</td>\n      <td>chega em casa e dar uma geral pra sair com a s...</td>\n      <td>0.332457</td>\n      <td>1</td>\n      <td>cheg cas dar geral pra sair sam</td>\n    </tr>\n    <tr>\n      <th>308514</th>\n      <td>1559960666903027713</td>\n      <td>mas que barbaridade!!! os juízes se levantam c...</td>\n      <td>0.190265</td>\n      <td>0</td>\n      <td>barbar juíz levant contr pag coleg comet arbit...</td>\n    </tr>\n  </tbody>\n</table>\n</div>"
     },
     "execution_count": 9,
     "metadata": {},
     "output_type": "execute_result"
    }
   ],
   "source": [
    "data.sample(5)"
   ],
   "metadata": {
    "collapsed": false,
    "pycharm": {
     "name": "#%%\n"
    }
   }
  },
  {
   "cell_type": "markdown",
   "source": [
    "# Engenharia de Atributos: TF-IDF Vectorizer\n",
    "\n",
    "Este modelo utiliza uma matriz esparsa com a frequencia de cada palavra."
   ],
   "metadata": {
    "collapsed": false,
    "pycharm": {
     "name": "#%% md\n"
    }
   }
  },
  {
   "cell_type": "markdown",
   "source": [
    "### Separar conjuntos de treinamento e teste\n",
    "\n",
    "Aqui faremos a separação de conjunto de treino e teste.\n",
    "\n",
    "O dicionário será criado utilizando o conjunto de treino, e posteriormente verificado sua eficácia no conjunto de teste."
   ],
   "metadata": {
    "collapsed": false,
    "pycharm": {
     "name": "#%% md\n"
    }
   }
  },
  {
   "cell_type": "code",
   "execution_count": 10,
   "outputs": [],
   "source": [
    "X_train, X_test = train_test_split(data, random_state=42)"
   ],
   "metadata": {
    "collapsed": false,
    "pycharm": {
     "name": "#%%\n"
    }
   }
  },
  {
   "cell_type": "markdown",
   "source": [
    "### TF-IDF Vectorizer"
   ],
   "metadata": {
    "collapsed": false,
    "pycharm": {
     "name": "#%% md\n"
    }
   }
  },
  {
   "cell_type": "code",
   "execution_count": 11,
   "outputs": [
    {
     "data": {
      "text/plain": "TfidfVectorizer(ngram_range=(1, 2))",
      "text/html": "<style>#sk-container-id-1 {color: black;background-color: white;}#sk-container-id-1 pre{padding: 0;}#sk-container-id-1 div.sk-toggleable {background-color: white;}#sk-container-id-1 label.sk-toggleable__label {cursor: pointer;display: block;width: 100%;margin-bottom: 0;padding: 0.3em;box-sizing: border-box;text-align: center;}#sk-container-id-1 label.sk-toggleable__label-arrow:before {content: \"▸\";float: left;margin-right: 0.25em;color: #696969;}#sk-container-id-1 label.sk-toggleable__label-arrow:hover:before {color: black;}#sk-container-id-1 div.sk-estimator:hover label.sk-toggleable__label-arrow:before {color: black;}#sk-container-id-1 div.sk-toggleable__content {max-height: 0;max-width: 0;overflow: hidden;text-align: left;background-color: #f0f8ff;}#sk-container-id-1 div.sk-toggleable__content pre {margin: 0.2em;color: black;border-radius: 0.25em;background-color: #f0f8ff;}#sk-container-id-1 input.sk-toggleable__control:checked~div.sk-toggleable__content {max-height: 200px;max-width: 100%;overflow: auto;}#sk-container-id-1 input.sk-toggleable__control:checked~label.sk-toggleable__label-arrow:before {content: \"▾\";}#sk-container-id-1 div.sk-estimator input.sk-toggleable__control:checked~label.sk-toggleable__label {background-color: #d4ebff;}#sk-container-id-1 div.sk-label input.sk-toggleable__control:checked~label.sk-toggleable__label {background-color: #d4ebff;}#sk-container-id-1 input.sk-hidden--visually {border: 0;clip: rect(1px 1px 1px 1px);clip: rect(1px, 1px, 1px, 1px);height: 1px;margin: -1px;overflow: hidden;padding: 0;position: absolute;width: 1px;}#sk-container-id-1 div.sk-estimator {font-family: monospace;background-color: #f0f8ff;border: 1px dotted black;border-radius: 0.25em;box-sizing: border-box;margin-bottom: 0.5em;}#sk-container-id-1 div.sk-estimator:hover {background-color: #d4ebff;}#sk-container-id-1 div.sk-parallel-item::after {content: \"\";width: 100%;border-bottom: 1px solid gray;flex-grow: 1;}#sk-container-id-1 div.sk-label:hover label.sk-toggleable__label {background-color: #d4ebff;}#sk-container-id-1 div.sk-serial::before {content: \"\";position: absolute;border-left: 1px solid gray;box-sizing: border-box;top: 0;bottom: 0;left: 50%;z-index: 0;}#sk-container-id-1 div.sk-serial {display: flex;flex-direction: column;align-items: center;background-color: white;padding-right: 0.2em;padding-left: 0.2em;position: relative;}#sk-container-id-1 div.sk-item {position: relative;z-index: 1;}#sk-container-id-1 div.sk-parallel {display: flex;align-items: stretch;justify-content: center;background-color: white;position: relative;}#sk-container-id-1 div.sk-item::before, #sk-container-id-1 div.sk-parallel-item::before {content: \"\";position: absolute;border-left: 1px solid gray;box-sizing: border-box;top: 0;bottom: 0;left: 50%;z-index: -1;}#sk-container-id-1 div.sk-parallel-item {display: flex;flex-direction: column;z-index: 1;position: relative;background-color: white;}#sk-container-id-1 div.sk-parallel-item:first-child::after {align-self: flex-end;width: 50%;}#sk-container-id-1 div.sk-parallel-item:last-child::after {align-self: flex-start;width: 50%;}#sk-container-id-1 div.sk-parallel-item:only-child::after {width: 0;}#sk-container-id-1 div.sk-dashed-wrapped {border: 1px dashed gray;margin: 0 0.4em 0.5em 0.4em;box-sizing: border-box;padding-bottom: 0.4em;background-color: white;}#sk-container-id-1 div.sk-label label {font-family: monospace;font-weight: bold;display: inline-block;line-height: 1.2em;}#sk-container-id-1 div.sk-label-container {text-align: center;}#sk-container-id-1 div.sk-container {/* jupyter's `normalize.less` sets `[hidden] { display: none; }` but bootstrap.min.css set `[hidden] { display: none !important; }` so we also need the `!important` here to be able to override the default hidden behavior on the sphinx rendered scikit-learn.org. See: https://github.com/scikit-learn/scikit-learn/issues/21755 */display: inline-block !important;position: relative;}#sk-container-id-1 div.sk-text-repr-fallback {display: none;}</style><div id=\"sk-container-id-1\" class=\"sk-top-container\"><div class=\"sk-text-repr-fallback\"><pre>TfidfVectorizer(ngram_range=(1, 2))</pre><b>In a Jupyter environment, please rerun this cell to show the HTML representation or trust the notebook. <br />On GitHub, the HTML representation is unable to render, please try loading this page with nbviewer.org.</b></div><div class=\"sk-container\" hidden><div class=\"sk-item\"><div class=\"sk-estimator sk-toggleable\"><input class=\"sk-toggleable__control sk-hidden--visually\" id=\"sk-estimator-id-1\" type=\"checkbox\" checked><label for=\"sk-estimator-id-1\" class=\"sk-toggleable__label sk-toggleable__label-arrow\">TfidfVectorizer</label><div class=\"sk-toggleable__content\"><pre>TfidfVectorizer(ngram_range=(1, 2))</pre></div></div></div></div></div>"
     },
     "execution_count": 11,
     "metadata": {},
     "output_type": "execute_result"
    }
   ],
   "source": [
    "vectorizer = TfidfVectorizer(ngram_range=(1,2))\n",
    "vectorizer.fit(X_train[\"cleaned\"])"
   ],
   "metadata": {
    "collapsed": false,
    "pycharm": {
     "name": "#%%\n"
    }
   }
  },
  {
   "cell_type": "markdown",
   "source": [
    "#### Aplicar a Geração do Feature Vector em todo o Dataset de Treino"
   ],
   "metadata": {
    "collapsed": false,
    "pycharm": {
     "name": "#%% md\n"
    }
   }
  },
  {
   "cell_type": "code",
   "execution_count": 12,
   "outputs": [],
   "source": [
    "X_features_train = vectorizer.transform(X_train[\"cleaned\"])\n",
    "y_features_train = X_train[\"label\"]"
   ],
   "metadata": {
    "collapsed": false,
    "pycharm": {
     "name": "#%%\n"
    }
   }
  },
  {
   "cell_type": "markdown",
   "source": [
    "#### Aplicar a Geração do Feature Vector em todo o Dataset de Teste"
   ],
   "metadata": {
    "collapsed": false,
    "pycharm": {
     "name": "#%% md\n"
    }
   }
  },
  {
   "cell_type": "code",
   "execution_count": 13,
   "outputs": [],
   "source": [
    "X_features_test = vectorizer.transform(X_test[\"cleaned\"])\n",
    "y_features_test = X_test[\"label\"]"
   ],
   "metadata": {
    "collapsed": false,
    "pycharm": {
     "name": "#%%\n"
    }
   }
  },
  {
   "cell_type": "markdown",
   "source": [
    "## Seleção de Atributos\n",
    "\n",
    "Referência:\n",
    "\n",
    "- [https://en.wikipedia.org/wiki/Feature_selection](https://en.wikipedia.org/wiki/Feature_selection)\n",
    "- [https://scikit-learn.org/stable/modules/feature_selection.html#univariate-feature-selection](https://scikit-learn.org/stable/modules/feature_selection.html#univariate-feature-selection)"
   ],
   "metadata": {
    "collapsed": false,
    "pycharm": {
     "name": "#%% md\n"
    }
   }
  },
  {
   "cell_type": "code",
   "execution_count": 14,
   "outputs": [
    {
     "data": {
      "text/plain": "SelectPercentile(percentile=60)",
      "text/html": "<style>#sk-container-id-2 {color: black;background-color: white;}#sk-container-id-2 pre{padding: 0;}#sk-container-id-2 div.sk-toggleable {background-color: white;}#sk-container-id-2 label.sk-toggleable__label {cursor: pointer;display: block;width: 100%;margin-bottom: 0;padding: 0.3em;box-sizing: border-box;text-align: center;}#sk-container-id-2 label.sk-toggleable__label-arrow:before {content: \"▸\";float: left;margin-right: 0.25em;color: #696969;}#sk-container-id-2 label.sk-toggleable__label-arrow:hover:before {color: black;}#sk-container-id-2 div.sk-estimator:hover label.sk-toggleable__label-arrow:before {color: black;}#sk-container-id-2 div.sk-toggleable__content {max-height: 0;max-width: 0;overflow: hidden;text-align: left;background-color: #f0f8ff;}#sk-container-id-2 div.sk-toggleable__content pre {margin: 0.2em;color: black;border-radius: 0.25em;background-color: #f0f8ff;}#sk-container-id-2 input.sk-toggleable__control:checked~div.sk-toggleable__content {max-height: 200px;max-width: 100%;overflow: auto;}#sk-container-id-2 input.sk-toggleable__control:checked~label.sk-toggleable__label-arrow:before {content: \"▾\";}#sk-container-id-2 div.sk-estimator input.sk-toggleable__control:checked~label.sk-toggleable__label {background-color: #d4ebff;}#sk-container-id-2 div.sk-label input.sk-toggleable__control:checked~label.sk-toggleable__label {background-color: #d4ebff;}#sk-container-id-2 input.sk-hidden--visually {border: 0;clip: rect(1px 1px 1px 1px);clip: rect(1px, 1px, 1px, 1px);height: 1px;margin: -1px;overflow: hidden;padding: 0;position: absolute;width: 1px;}#sk-container-id-2 div.sk-estimator {font-family: monospace;background-color: #f0f8ff;border: 1px dotted black;border-radius: 0.25em;box-sizing: border-box;margin-bottom: 0.5em;}#sk-container-id-2 div.sk-estimator:hover {background-color: #d4ebff;}#sk-container-id-2 div.sk-parallel-item::after {content: \"\";width: 100%;border-bottom: 1px solid gray;flex-grow: 1;}#sk-container-id-2 div.sk-label:hover label.sk-toggleable__label {background-color: #d4ebff;}#sk-container-id-2 div.sk-serial::before {content: \"\";position: absolute;border-left: 1px solid gray;box-sizing: border-box;top: 0;bottom: 0;left: 50%;z-index: 0;}#sk-container-id-2 div.sk-serial {display: flex;flex-direction: column;align-items: center;background-color: white;padding-right: 0.2em;padding-left: 0.2em;position: relative;}#sk-container-id-2 div.sk-item {position: relative;z-index: 1;}#sk-container-id-2 div.sk-parallel {display: flex;align-items: stretch;justify-content: center;background-color: white;position: relative;}#sk-container-id-2 div.sk-item::before, #sk-container-id-2 div.sk-parallel-item::before {content: \"\";position: absolute;border-left: 1px solid gray;box-sizing: border-box;top: 0;bottom: 0;left: 50%;z-index: -1;}#sk-container-id-2 div.sk-parallel-item {display: flex;flex-direction: column;z-index: 1;position: relative;background-color: white;}#sk-container-id-2 div.sk-parallel-item:first-child::after {align-self: flex-end;width: 50%;}#sk-container-id-2 div.sk-parallel-item:last-child::after {align-self: flex-start;width: 50%;}#sk-container-id-2 div.sk-parallel-item:only-child::after {width: 0;}#sk-container-id-2 div.sk-dashed-wrapped {border: 1px dashed gray;margin: 0 0.4em 0.5em 0.4em;box-sizing: border-box;padding-bottom: 0.4em;background-color: white;}#sk-container-id-2 div.sk-label label {font-family: monospace;font-weight: bold;display: inline-block;line-height: 1.2em;}#sk-container-id-2 div.sk-label-container {text-align: center;}#sk-container-id-2 div.sk-container {/* jupyter's `normalize.less` sets `[hidden] { display: none; }` but bootstrap.min.css set `[hidden] { display: none !important; }` so we also need the `!important` here to be able to override the default hidden behavior on the sphinx rendered scikit-learn.org. See: https://github.com/scikit-learn/scikit-learn/issues/21755 */display: inline-block !important;position: relative;}#sk-container-id-2 div.sk-text-repr-fallback {display: none;}</style><div id=\"sk-container-id-2\" class=\"sk-top-container\"><div class=\"sk-text-repr-fallback\"><pre>SelectPercentile(percentile=60)</pre><b>In a Jupyter environment, please rerun this cell to show the HTML representation or trust the notebook. <br />On GitHub, the HTML representation is unable to render, please try loading this page with nbviewer.org.</b></div><div class=\"sk-container\" hidden><div class=\"sk-item\"><div class=\"sk-estimator sk-toggleable\"><input class=\"sk-toggleable__control sk-hidden--visually\" id=\"sk-estimator-id-2\" type=\"checkbox\" checked><label for=\"sk-estimator-id-2\" class=\"sk-toggleable__label sk-toggleable__label-arrow\">SelectPercentile</label><div class=\"sk-toggleable__content\"><pre>SelectPercentile(percentile=60)</pre></div></div></div></div></div>"
     },
     "execution_count": 14,
     "metadata": {},
     "output_type": "execute_result"
    }
   ],
   "source": [
    "selector = SelectPercentile(f_classif, percentile=60)\n",
    "\n",
    "selector.fit(X_features_train, y_features_train)"
   ],
   "metadata": {
    "collapsed": false,
    "pycharm": {
     "name": "#%%\n"
    }
   }
  },
  {
   "cell_type": "code",
   "execution_count": 15,
   "outputs": [],
   "source": [
    "X_features_train_selected = selector.transform(X_features_train)\n",
    "X_features_test_selected = selector.transform(X_features_test)"
   ],
   "metadata": {
    "collapsed": false,
    "pycharm": {
     "name": "#%%\n"
    }
   }
  },
  {
   "cell_type": "markdown",
   "source": [
    "## Feature Scaling\n",
    "\n",
    "Aqui vamos normalizar os dados utilizando o Standard Scaler\n",
    "\n",
    "\n",
    "Referências:\n",
    " - [https://en.wikipedia.org/wiki/Normalization_(statistics)](https://en.wikipedia.org/wiki/Normalization_(statistics))\n",
    " - [https://en.wikipedia.org/wiki/Standard_score](https://en.wikipedia.org/wiki/Standard_score)\n",
    " - [https://scikit-learn.org/stable/modules/preprocessing.html#standardization-or-mean-removal-and-variance-scaling](https://scikit-learn.org/stable/modules/preprocessing.html#standardization-or-mean-removal-and-variance-scaling)"
   ],
   "metadata": {
    "collapsed": false,
    "pycharm": {
     "name": "#%% md\n"
    }
   }
  },
  {
   "cell_type": "code",
   "execution_count": 16,
   "outputs": [
    {
     "data": {
      "text/plain": "StandardScaler(with_mean=False)",
      "text/html": "<style>#sk-container-id-3 {color: black;background-color: white;}#sk-container-id-3 pre{padding: 0;}#sk-container-id-3 div.sk-toggleable {background-color: white;}#sk-container-id-3 label.sk-toggleable__label {cursor: pointer;display: block;width: 100%;margin-bottom: 0;padding: 0.3em;box-sizing: border-box;text-align: center;}#sk-container-id-3 label.sk-toggleable__label-arrow:before {content: \"▸\";float: left;margin-right: 0.25em;color: #696969;}#sk-container-id-3 label.sk-toggleable__label-arrow:hover:before {color: black;}#sk-container-id-3 div.sk-estimator:hover label.sk-toggleable__label-arrow:before {color: black;}#sk-container-id-3 div.sk-toggleable__content {max-height: 0;max-width: 0;overflow: hidden;text-align: left;background-color: #f0f8ff;}#sk-container-id-3 div.sk-toggleable__content pre {margin: 0.2em;color: black;border-radius: 0.25em;background-color: #f0f8ff;}#sk-container-id-3 input.sk-toggleable__control:checked~div.sk-toggleable__content {max-height: 200px;max-width: 100%;overflow: auto;}#sk-container-id-3 input.sk-toggleable__control:checked~label.sk-toggleable__label-arrow:before {content: \"▾\";}#sk-container-id-3 div.sk-estimator input.sk-toggleable__control:checked~label.sk-toggleable__label {background-color: #d4ebff;}#sk-container-id-3 div.sk-label input.sk-toggleable__control:checked~label.sk-toggleable__label {background-color: #d4ebff;}#sk-container-id-3 input.sk-hidden--visually {border: 0;clip: rect(1px 1px 1px 1px);clip: rect(1px, 1px, 1px, 1px);height: 1px;margin: -1px;overflow: hidden;padding: 0;position: absolute;width: 1px;}#sk-container-id-3 div.sk-estimator {font-family: monospace;background-color: #f0f8ff;border: 1px dotted black;border-radius: 0.25em;box-sizing: border-box;margin-bottom: 0.5em;}#sk-container-id-3 div.sk-estimator:hover {background-color: #d4ebff;}#sk-container-id-3 div.sk-parallel-item::after {content: \"\";width: 100%;border-bottom: 1px solid gray;flex-grow: 1;}#sk-container-id-3 div.sk-label:hover label.sk-toggleable__label {background-color: #d4ebff;}#sk-container-id-3 div.sk-serial::before {content: \"\";position: absolute;border-left: 1px solid gray;box-sizing: border-box;top: 0;bottom: 0;left: 50%;z-index: 0;}#sk-container-id-3 div.sk-serial {display: flex;flex-direction: column;align-items: center;background-color: white;padding-right: 0.2em;padding-left: 0.2em;position: relative;}#sk-container-id-3 div.sk-item {position: relative;z-index: 1;}#sk-container-id-3 div.sk-parallel {display: flex;align-items: stretch;justify-content: center;background-color: white;position: relative;}#sk-container-id-3 div.sk-item::before, #sk-container-id-3 div.sk-parallel-item::before {content: \"\";position: absolute;border-left: 1px solid gray;box-sizing: border-box;top: 0;bottom: 0;left: 50%;z-index: -1;}#sk-container-id-3 div.sk-parallel-item {display: flex;flex-direction: column;z-index: 1;position: relative;background-color: white;}#sk-container-id-3 div.sk-parallel-item:first-child::after {align-self: flex-end;width: 50%;}#sk-container-id-3 div.sk-parallel-item:last-child::after {align-self: flex-start;width: 50%;}#sk-container-id-3 div.sk-parallel-item:only-child::after {width: 0;}#sk-container-id-3 div.sk-dashed-wrapped {border: 1px dashed gray;margin: 0 0.4em 0.5em 0.4em;box-sizing: border-box;padding-bottom: 0.4em;background-color: white;}#sk-container-id-3 div.sk-label label {font-family: monospace;font-weight: bold;display: inline-block;line-height: 1.2em;}#sk-container-id-3 div.sk-label-container {text-align: center;}#sk-container-id-3 div.sk-container {/* jupyter's `normalize.less` sets `[hidden] { display: none; }` but bootstrap.min.css set `[hidden] { display: none !important; }` so we also need the `!important` here to be able to override the default hidden behavior on the sphinx rendered scikit-learn.org. See: https://github.com/scikit-learn/scikit-learn/issues/21755 */display: inline-block !important;position: relative;}#sk-container-id-3 div.sk-text-repr-fallback {display: none;}</style><div id=\"sk-container-id-3\" class=\"sk-top-container\"><div class=\"sk-text-repr-fallback\"><pre>StandardScaler(with_mean=False)</pre><b>In a Jupyter environment, please rerun this cell to show the HTML representation or trust the notebook. <br />On GitHub, the HTML representation is unable to render, please try loading this page with nbviewer.org.</b></div><div class=\"sk-container\" hidden><div class=\"sk-item\"><div class=\"sk-estimator sk-toggleable\"><input class=\"sk-toggleable__control sk-hidden--visually\" id=\"sk-estimator-id-3\" type=\"checkbox\" checked><label for=\"sk-estimator-id-3\" class=\"sk-toggleable__label sk-toggleable__label-arrow\">StandardScaler</label><div class=\"sk-toggleable__content\"><pre>StandardScaler(with_mean=False)</pre></div></div></div></div></div>"
     },
     "execution_count": 16,
     "metadata": {},
     "output_type": "execute_result"
    }
   ],
   "source": [
    "# Inicializar o Scaler\n",
    "scaler = StandardScaler(with_mean=False)\n",
    "\n",
    "# Treinar o Scaler\n",
    "scaler.fit(X_features_train_selected)"
   ],
   "metadata": {
    "collapsed": false,
    "pycharm": {
     "name": "#%%\n"
    }
   }
  },
  {
   "cell_type": "code",
   "execution_count": 17,
   "outputs": [],
   "source": [
    "# Transformar o conjunto de treinamento\n",
    "X_features_train_scaled = scaler.transform(X_features_train_selected)"
   ],
   "metadata": {
    "collapsed": false,
    "pycharm": {
     "name": "#%%\n"
    }
   }
  },
  {
   "cell_type": "code",
   "execution_count": 18,
   "outputs": [],
   "source": [
    "X_features_test_scaled = scaler.transform(X_features_test_selected)"
   ],
   "metadata": {
    "collapsed": false,
    "pycharm": {
     "name": "#%%\n"
    }
   }
  },
  {
   "cell_type": "markdown",
   "source": [
    "# Learning\n"
   ],
   "metadata": {
    "collapsed": false,
    "pycharm": {
     "name": "#%% md\n"
    }
   }
  },
  {
   "cell_type": "markdown",
   "source": [
    "## Baseline Score\n",
    "\n",
    "Aqui vamos, criar um score de base. Ou seja, o resultado que conseguiriamos com o menor esforço possível (que é atribuir indiscriminadamente qualquer valor)\n",
    "\n",
    "Referências:\n",
    "- [https://scikit-learn.org/stable/modules/model_evaluation.html#precision-recall-f-measure-metrics](https://scikit-learn.org/stable/modules/model_evaluation.html#precision-recall-f-measure-metrics)"
   ],
   "metadata": {
    "collapsed": false,
    "pycharm": {
     "name": "#%% md\n"
    }
   }
  },
  {
   "cell_type": "code",
   "execution_count": 19,
   "outputs": [
    {
     "name": "stdout",
     "output_type": "stream",
     "text": [
      "F-Score: 3.64%\n"
     ]
    }
   ],
   "source": [
    "# Assumindo tudo como 0\n",
    "score_assumindo_tudo_neutro = f1_score(\n",
    "    y_features_train, [0 for _ in y_features_train], average=\"weighted\"\n",
    ")\n",
    "\n",
    "print(\"F-Score: {:.2f}%\".format(score_assumindo_tudo_neutro * 100))"
   ],
   "metadata": {
    "collapsed": false,
    "pycharm": {
     "name": "#%%\n"
    }
   }
  },
  {
   "cell_type": "code",
   "execution_count": 20,
   "outputs": [
    {
     "name": "stdout",
     "output_type": "stream",
     "text": [
      "F-Score: 11.62%\n"
     ]
    }
   ],
   "source": [
    "# Assumindo tudo como -1\n",
    "score_assumindo_tudo_negativo = f1_score(\n",
    "    y_features_train, [-1 for _ in y_features_train], average=\"weighted\"\n",
    ")\n",
    "\n",
    "print(\"F-Score: {:.2f}%\".format(score_assumindo_tudo_negativo * 100))"
   ],
   "metadata": {
    "collapsed": false,
    "pycharm": {
     "name": "#%%\n"
    }
   }
  },
  {
   "cell_type": "code",
   "execution_count": 21,
   "outputs": [
    {
     "name": "stdout",
     "output_type": "stream",
     "text": [
      "F-Score: 43.03%\n"
     ]
    }
   ],
   "source": [
    "# Assumindo tudo como 1\n",
    "score_assumindo_tudo_positivo = f1_score(\n",
    "    y_features_train, [1 for _ in y_features_train], average=\"weighted\"\n",
    ")\n",
    "\n",
    "print(\"F-Score: {:.2f}%\".format(score_assumindo_tudo_positivo * 100))"
   ],
   "metadata": {
    "collapsed": false,
    "pycharm": {
     "name": "#%%\n"
    }
   }
  },
  {
   "cell_type": "code",
   "execution_count": 22,
   "outputs": [
    {
     "name": "stdout",
     "output_type": "stream",
     "text": [
      "F-Score: 43.03%\n"
     ]
    }
   ],
   "source": [
    "# Baseline Score\n",
    "baseline_score = np.max(\n",
    "    [\n",
    "        score_assumindo_tudo_neutro,\n",
    "        score_assumindo_tudo_negativo,\n",
    "        score_assumindo_tudo_positivo,\n",
    "    ]\n",
    ")\n",
    "\n",
    "print(\"F-Score: {:.2f}%\".format(baseline_score * 100))"
   ],
   "metadata": {
    "collapsed": false,
    "pycharm": {
     "name": "#%%\n"
    }
   }
  },
  {
   "cell_type": "markdown",
   "source": [
    "## Naive Bayes\n",
    "\n",
    "Referências:\n",
    "- [https://en.wikipedia.org/wiki/Naive_Bayes_classifier](https://en.wikipedia.org/wiki/Naive_Bayes_classifier)\n",
    "- [https://scikit-learn.org/stable/modules/naive_bayes.html#multinomial-naive-bayes](https://scikit-learn.org/stable/modules/naive_bayes.html#multinomial-naive-bayes)"
   ],
   "metadata": {
    "collapsed": false,
    "pycharm": {
     "name": "#%% md\n"
    }
   }
  },
  {
   "cell_type": "code",
   "execution_count": 23,
   "outputs": [],
   "source": [
    "nb = MultinomialNB()"
   ],
   "metadata": {
    "collapsed": false,
    "pycharm": {
     "name": "#%%\n"
    }
   }
  },
  {
   "cell_type": "markdown",
   "source": [
    "### Otimização de Hyperparametros\n",
    "\n",
    "Nesse passo, vamos tentar encontrar a melhor combinação de hyperparametros para o modelo\n",
    "\n",
    "Referências:\n",
    "\n",
    "- [https://scikit-learn.org/stable/modules/grid_search.html#randomized-parameter-search](https://scikit-learn.org/stable/modules/grid_search.html#randomized-parameter-search)"
   ],
   "metadata": {
    "collapsed": false,
    "pycharm": {
     "name": "#%% md\n"
    }
   }
  },
  {
   "cell_type": "code",
   "execution_count": 24,
   "outputs": [
    {
     "name": "stdout",
     "output_type": "stream",
     "text": [
      "Best F-Score: 64.24%\n"
     ]
    }
   ],
   "source": [
    "params = {\n",
    "    \"alpha\": np.sort(np.append(np.linspace(0.5, 1.5, 20), 1)),\n",
    "}\n",
    "\n",
    "clf = RandomizedSearchCV(\n",
    "    nb, params, n_iter=10, scoring=\"f1_weighted\", n_jobs=-1, random_state=42\n",
    ")\n",
    "clf.fit(X_features_train_scaled, y_features_train)\n",
    "\n",
    "print(\"Best F-Score: {:.2f}%\".format(clf.best_score_ * 100))"
   ],
   "metadata": {
    "collapsed": false,
    "pycharm": {
     "name": "#%%\n"
    }
   }
  },
  {
   "cell_type": "code",
   "execution_count": 25,
   "outputs": [
    {
     "data": {
      "text/plain": "{'alpha': 1.2894736842105263}"
     },
     "execution_count": 25,
     "metadata": {},
     "output_type": "execute_result"
    }
   ],
   "source": [
    "clf.best_params_"
   ],
   "metadata": {
    "collapsed": false,
    "pycharm": {
     "name": "#%%\n"
    }
   }
  },
  {
   "cell_type": "code",
   "execution_count": 26,
   "outputs": [],
   "source": [
    "classifier = clf.best_estimator_"
   ],
   "metadata": {
    "collapsed": false,
    "pycharm": {
     "name": "#%%\n"
    }
   }
  },
  {
   "cell_type": "markdown",
   "source": [
    "#### Comparação com Métrica base"
   ],
   "metadata": {
    "collapsed": false,
    "pycharm": {
     "name": "#%% md\n"
    }
   }
  },
  {
   "cell_type": "code",
   "execution_count": 27,
   "outputs": [
    {
     "name": "stdout",
     "output_type": "stream",
     "text": [
      "Score Baseline : 43.03%\n",
      "Score Modelo   : 64.24%\n",
      "Diferença      : 21.22%\n"
     ]
    }
   ],
   "source": [
    "print(\"Score Baseline : {:.2f}%\".format(baseline_score * 100))\n",
    "print(\"Score Modelo   : {:.2f}%\".format(clf.best_score_ * 100))\n",
    "print(\"Diferença      : {:.2f}%\".format(np.abs(baseline_score - clf.best_score_) * 100))"
   ],
   "metadata": {
    "collapsed": false,
    "pycharm": {
     "name": "#%%\n"
    }
   }
  },
  {
   "cell_type": "markdown",
   "source": [
    "### Performance no Conjunto de Treino"
   ],
   "metadata": {
    "collapsed": false,
    "pycharm": {
     "name": "#%% md\n"
    }
   }
  },
  {
   "cell_type": "code",
   "execution_count": 28,
   "outputs": [
    {
     "name": "stdout",
     "output_type": "stream",
     "text": [
      "F-Score: 88.71%\n"
     ]
    }
   ],
   "source": [
    "y_pred = classifier.predict(X_features_train_scaled)\n",
    "score = f1_score(y_features_train, y_pred, average=\"weighted\")\n",
    "print(\"F-Score: {:.2f}%\".format(score * 100))"
   ],
   "metadata": {
    "collapsed": false,
    "pycharm": {
     "name": "#%%\n"
    }
   }
  },
  {
   "cell_type": "markdown",
   "source": [
    "### Curva de Aprendizado"
   ],
   "metadata": {
    "collapsed": false,
    "pycharm": {
     "name": "#%% md\n"
    }
   }
  },
  {
   "cell_type": "code",
   "execution_count": 29,
   "outputs": [],
   "source": [
    "def plot_learning_curve(estimator, X, y, scoring):\n",
    "\n",
    "    plt.figure(figsize=(8, 6))\n",
    "    plt.title(\"Learning Curve\")\n",
    "\n",
    "    plt.xlabel(\"Training examples\")\n",
    "    plt.ylabel(\"Score: {}\".format(scoring))\n",
    "\n",
    "    train_sizes, train_scores, test_scores = learning_curve(\n",
    "        estimator, X, y, scoring=scoring, n_jobs=-1\n",
    "    )\n",
    "\n",
    "    train_scores_mean = np.mean(train_scores, axis=1)\n",
    "    train_scores_std = np.std(train_scores, axis=1)\n",
    "    test_scores_mean = np.mean(test_scores, axis=1)\n",
    "    test_scores_std = np.std(test_scores, axis=1)\n",
    "\n",
    "    plt.ylim(round(min([np.min(train_scores), np.min(test_scores)]), 2) - 0.01, 1.01)\n",
    "\n",
    "    plt.grid()\n",
    "\n",
    "    plt.fill_between(\n",
    "        train_sizes,\n",
    "        train_scores_mean - train_scores_std,\n",
    "        train_scores_mean + train_scores_std,\n",
    "        alpha=0.1,\n",
    "        color=\"r\",\n",
    "    )\n",
    "\n",
    "    plt.fill_between(\n",
    "        train_sizes,\n",
    "        test_scores_mean - test_scores_std,\n",
    "        test_scores_mean + test_scores_std,\n",
    "        alpha=0.1,\n",
    "        color=\"g\",\n",
    "    )\n",
    "\n",
    "    plt.plot(train_sizes, train_scores_mean, \"o-\", color=\"r\", label=\"Training score\")\n",
    "    plt.plot(\n",
    "        train_sizes, test_scores_mean, \"o-\", color=\"g\", label=\"Cross-validation score\"\n",
    "    )\n",
    "\n",
    "    plt.legend(loc=\"best\")\n",
    "\n",
    "    return plt"
   ],
   "metadata": {
    "collapsed": false,
    "pycharm": {
     "name": "#%%\n"
    }
   }
  },
  {
   "cell_type": "code",
   "execution_count": 30,
   "outputs": [
    {
     "data": {
      "text/plain": "<Figure size 800x600 with 1 Axes>",
      "image/png": "[encoded data removed]"
     },
     "metadata": {},
     "output_type": "display_data"
    }
   ],
   "source": [
    "plt = plot_learning_curve(\n",
    "    classifier, X_features_train_scaled, y_features_train, scoring=\"f1_weighted\"\n",
    ")\n",
    "plt.show()"
   ],
   "metadata": {
    "collapsed": false,
    "pycharm": {
     "name": "#%%\n"
    }
   }
  },
  {
   "cell_type": "markdown",
   "source": [
    "## Validação em conjunto de Teste"
   ],
   "metadata": {
    "collapsed": false,
    "pycharm": {
     "name": "#%% md\n"
    }
   }
  },
  {
   "cell_type": "code",
   "execution_count": 31,
   "outputs": [
    {
     "name": "stdout",
     "output_type": "stream",
     "text": [
      "F-Score: 59.93%\n"
     ]
    }
   ],
   "source": [
    "y_pred = classifier.predict(X_features_test_scaled)\n",
    "score = f1_score(y_features_test, y_pred, average=\"weighted\")\n",
    "print(\"F-Score: {:.2f}%\".format(score * 100))"
   ],
   "metadata": {
    "collapsed": false,
    "pycharm": {
     "name": "#%%\n"
    }
   }
  },
  {
   "cell_type": "markdown",
   "source": [
    "### Preditos Positivos"
   ],
   "metadata": {
    "collapsed": false,
    "pycharm": {
     "name": "#%% md\n"
    }
   }
  },
  {
   "cell_type": "code",
   "execution_count": 32,
   "outputs": [],
   "source": [
    "preditos_positivos = X_test[y_pred == 1]"
   ],
   "metadata": {
    "collapsed": false,
    "pycharm": {
     "name": "#%%\n"
    }
   }
  },
  {
   "cell_type": "markdown",
   "source": [
    "#### Falso Positivo -> Negativo"
   ],
   "metadata": {
    "collapsed": false,
    "pycharm": {
     "name": "#%% md\n"
    }
   }
  },
  {
   "cell_type": "code",
   "execution_count": 33,
   "outputs": [
    {
     "data": {
      "text/plain": "array(['onde precisava de estar 😔', 'o grêmio é muito filho da puta 😞',\n       'queria ir tanto cntg best 💔',\n       'feliz dia dos pais para minha mãe 😭',\n       'ate pq teu aniversário é só dia 😴', 'o lucas é fofinho demais 😭',\n       'mas eu te amo 😭', 'vai pra pqp 😠', 'não fica assim princesa 😔',\n       'henrique e juliano e ícaro e gilmar 😭'], dtype=object)"
     },
     "execution_count": 33,
     "metadata": {},
     "output_type": "execute_result"
    }
   ],
   "source": [
    "preditos_positivos[preditos_positivos[\"label\"] == -1][\"text\"].sample(10).values"
   ],
   "metadata": {
    "collapsed": false,
    "pycharm": {
     "name": "#%%\n"
    }
   }
  },
  {
   "cell_type": "markdown",
   "source": [
    "#### Falso Positivo -> Neutro"
   ],
   "metadata": {
    "collapsed": false,
    "pycharm": {
     "name": "#%% md\n"
    }
   }
  },
  {
   "cell_type": "code",
   "execution_count": 34,
   "outputs": [
    {
     "data": {
      "text/plain": "array(['sexooo 😂',\n       'acho que ainda tô no pique de ontem pq tô no trabalho meczada 😂 hj tá molezinha',\n       'compra pra mim tsb dia do mes q vem te pago 😅',\n       'novo visual da canhanduba 😂', 'tô nem aí 😅',\n       'da aonde saiu isso kkk😂',\n       'muito bom dia que hoje é dia de guerra 🔥⚫️🔴', 'ahahahshdb elədi😂',\n       'sdds carnaval — sddsss quem é ? 👀',\n       'vamos beber até a raiva passar! 😂'], dtype=object)"
     },
     "execution_count": 34,
     "metadata": {},
     "output_type": "execute_result"
    }
   ],
   "source": [
    "preditos_positivos[preditos_positivos[\"label\"] == 0][\"text\"].sample(10).values"
   ],
   "metadata": {
    "collapsed": false,
    "pycharm": {
     "name": "#%%\n"
    }
   }
  },
  {
   "cell_type": "markdown",
   "source": [
    "#### Verdadeiro Positivo"
   ],
   "metadata": {
    "collapsed": false,
    "pycharm": {
     "name": "#%% md\n"
    }
   }
  },
  {
   "cell_type": "code",
   "execution_count": 35,
   "outputs": [
    {
     "data": {
      "text/plain": "array(['bom dia👋', 'minha base 💙', 'quase lá 😂😂😂',\n       'nossa que bonito isso 👏', 'kkk queeemmm 😆',\n       'gratidão a deus por tudo ❤️\\u200d🔥', 'obg anjo 💖', 'hai eunha 👋',\n       'eu tenho a melhor sogra do mundo, meu amor todinho 💕',\n       'aqui se faz, aqui se paga 😊'], dtype=object)"
     },
     "execution_count": 35,
     "metadata": {},
     "output_type": "execute_result"
    }
   ],
   "source": [
    "preditos_positivos[preditos_positivos[\"label\"] == 1][\"text\"].sample(10).values"
   ],
   "metadata": {
    "collapsed": false,
    "pycharm": {
     "name": "#%%\n"
    }
   }
  },
  {
   "cell_type": "markdown",
   "source": [
    "### Preditos Negativos"
   ],
   "metadata": {
    "collapsed": false,
    "pycharm": {
     "name": "#%% md\n"
    }
   }
  },
  {
   "cell_type": "code",
   "execution_count": 36,
   "outputs": [],
   "source": [
    "preditos_negativos = X_test[y_pred == -1]"
   ],
   "metadata": {
    "collapsed": false,
    "pycharm": {
     "name": "#%%\n"
    }
   }
  },
  {
   "cell_type": "markdown",
   "source": [
    "#### Falso Negativo -> Positivo"
   ],
   "metadata": {
    "collapsed": false,
    "pycharm": {
     "name": "#%% md\n"
    }
   }
  },
  {
   "cell_type": "code",
   "execution_count": 37,
   "outputs": [
    {
     "data": {
      "text/plain": "array(['calma shura, envaina esa excalibur... 😏',\n       'é que o moleque mora longe mas mora onde o sorriso é mais feliz 🎶',\n       'mimem meu fixado novo obrigada 💜',\n       'eu consigo ser gostosa sem ser vulgar 😌',\n       'esse livro tá na minha listaaa 💖', 'você que é ne amg 😍',\n       'mary, já pode marcar com o tatuador! 🌸',\n       'pitico do meu coração 💜 amo tanto,ele tem q entender que ele precisa bagabundear um pouco,ficar só na sombra e agu…',\n       '😂😂😂 é o crl 🙄🙄🙄 aqui é 🚩🚩🚩',\n       'e eu uma hora dessas tentando achar o facebook da melhor professora que eu tive no ensino médio. profa valéria 💖'],\n      dtype=object)"
     },
     "execution_count": 37,
     "metadata": {},
     "output_type": "execute_result"
    }
   ],
   "source": [
    "preditos_negativos[preditos_negativos[\"label\"] == 1][\"text\"].sample(10).values"
   ],
   "metadata": {
    "collapsed": false,
    "pycharm": {
     "name": "#%%\n"
    }
   }
  },
  {
   "cell_type": "markdown",
   "source": [
    "#### Falso Negativo -> Neutro"
   ],
   "metadata": {
    "collapsed": false,
    "pycharm": {
     "name": "#%% md\n"
    }
   }
  },
  {
   "cell_type": "code",
   "execution_count": 38,
   "outputs": [
    {
     "data": {
      "text/plain": "array(['é péssimo 😂', 'ney ney no barça da link como? 😂',\n       'vocês sabem o que é passar na média em duas disciplinas que tu nem sequer abriu um livro pra estudar? muito deus na minha vida 😂',\n       'sua filha parece sua irmã cara, é impressionante!😱',\n       'só queria conseguir compra o ingresso p jogo de quarta 😢',\n       'to c uma dor horrível 😥', 'tbm tô sentindo sua falta 😢',\n       'pb ficou puto, colocou pra escolhe equipe 🎮😅',\n       'a sarah que está fazendo as coisas e agora a culpa é minha 😂',\n       'só um praiou no sábado 🥵😂'], dtype=object)"
     },
     "execution_count": 38,
     "metadata": {},
     "output_type": "execute_result"
    }
   ],
   "source": [
    "preditos_negativos[preditos_negativos[\"label\"] == 0][\"text\"].sample(10).values"
   ],
   "metadata": {
    "collapsed": false,
    "pycharm": {
     "name": "#%%\n"
    }
   }
  },
  {
   "cell_type": "markdown",
   "source": [
    "#### Verdadeiro Negativo"
   ],
   "metadata": {
    "collapsed": false,
    "pycharm": {
     "name": "#%% md\n"
    }
   }
  },
  {
   "cell_type": "code",
   "execution_count": 39,
   "outputs": [
    {
     "data": {
      "text/plain": "array(['estou cansado de tanta humilhação 😪', 'eu qria 💔',\n       'horas de salto alto, meus pés estão pedindo socorro 😪',\n       'porra mn, velozes e furiosos sempre consegue fazer eu chorar, eu nunca vou superar a morte do paul 😭',\n       'acostumei à dormir com a thalita e quando acordei fiquei procurando ela 😔',\n       'meus pêsames, que deus conforte o coração de toda a família 😔🖤',\n       'tudo ta me irritando até a sofia, o dias difícil 😤',\n       'pq vai chover kkk 😭', 'dm é wpp tá morto 😴',\n       'to esperando aqui poxa 😞'], dtype=object)"
     },
     "execution_count": 39,
     "metadata": {},
     "output_type": "execute_result"
    }
   ],
   "source": [
    "preditos_negativos[preditos_negativos[\"label\"] == -1][\"text\"].sample(10).values"
   ],
   "metadata": {
    "collapsed": false,
    "pycharm": {
     "name": "#%%\n"
    }
   }
  },
  {
   "cell_type": "markdown",
   "source": [
    "### Preditos Neutros"
   ],
   "metadata": {
    "collapsed": false,
    "pycharm": {
     "name": "#%% md\n"
    }
   }
  },
  {
   "cell_type": "code",
   "execution_count": 40,
   "outputs": [],
   "source": [
    "preditos_neutros = X_test[y_pred == 0]"
   ],
   "metadata": {
    "collapsed": false,
    "pycharm": {
     "name": "#%%\n"
    }
   }
  },
  {
   "cell_type": "markdown",
   "source": [
    "#### Falso Neutro -> Positivo"
   ],
   "metadata": {
    "collapsed": false,
    "pycharm": {
     "name": "#%% md\n"
    }
   }
  },
  {
   "cell_type": "code",
   "execution_count": 41,
   "outputs": [
    {
     "data": {
      "text/plain": "array(['não vai sobrar ngm vivo 🔥🔥',\n       'literalmente eu quando vi essas fotos do jungoo😂😂😂',\n       'muitos pagam de responsa, mas poucos representam na atitude... 🍃',\n       'bora segurar a onda e outras coisas mais... haha 😆',\n       'se programem, de set é logo ali e eu quero presente ♥',\n       'gabriel vai tatuar meu nome bem grande no peito dele q amor 😍',\n       'o bom disso é que eu tenho informações dos dois lados 💗💗',\n       '[ / / : : ] biela: ❤ [ / / : : ] biela: chal🖐🏽 depois de fazer a fofoca kkk',\n       '😂😂😂 oh caraças',\n       'o meu cunhado vai-me emprestar a ps dele porque ele não a utiliza muito. cuteee ❤'],\n      dtype=object)"
     },
     "execution_count": 41,
     "metadata": {},
     "output_type": "execute_result"
    }
   ],
   "source": [
    "preditos_neutros[preditos_neutros[\"label\"] == 1][\"text\"].sample(10).values"
   ],
   "metadata": {
    "collapsed": false,
    "pycharm": {
     "name": "#%%\n"
    }
   }
  },
  {
   "cell_type": "markdown",
   "source": [
    "#### Falso Neutro -> Negativo"
   ],
   "metadata": {
    "collapsed": false,
    "pycharm": {
     "name": "#%% md\n"
    }
   }
  },
  {
   "cell_type": "code",
   "execution_count": 42,
   "outputs": [
    {
     "data": {
      "text/plain": "array(['ridículo 😡😡',\n       '😭😭😭 barcode não faça isso com seu phi eu vi o que você fez eu era a água',\n       'queria continuar no sol, pena q tenho q trabalhar 😩',\n       'a barbie sem aparecer pois nao teve falas nessa temporada 😭',\n       'vc que esquece que tem namorada 😡',\n       'ando tão cansada ultimamente, tem acontecido tanta coisa. foda 😞',\n       'não bota culpa no menino não palhaço 😒 , bola de cristal quebrou, fala aí vai comprar oq mexmo ? 🤣🤣🤣',\n       'deixam de responder bem à toa 😑', 'tô com vontade de chorar hj 😠',\n       'reação dos meninos quando voltar pra casa sem nenhum prêmio 💔 ( deus faça com que eles ganhem)'],\n      dtype=object)"
     },
     "execution_count": 42,
     "metadata": {},
     "output_type": "execute_result"
    }
   ],
   "source": [
    "preditos_neutros[preditos_neutros[\"label\"] == -1][\"text\"].sample(10).values"
   ],
   "metadata": {
    "collapsed": false,
    "pycharm": {
     "name": "#%%\n"
    }
   }
  },
  {
   "cell_type": "markdown",
   "source": [
    "#### Verdadeiro Neutro"
   ],
   "metadata": {
    "collapsed": false,
    "pycharm": {
     "name": "#%% md\n"
    }
   }
  },
  {
   "cell_type": "code",
   "execution_count": 43,
   "outputs": [
    {
     "data": {
      "text/plain": "array(['ellie eh outro nivel neh kkk twitteiras sao mais honestas 😂',\n       'kkk gente essas mona pensa que passa batida, nem p fazer fake elas prestam 😅',\n       '👀 hahaha porra! aí não... pode cobrar isso dele sim.',\n       'alguém pra tomar um café na di pappi 👀',\n       'a crise está tão feia que ia pedir pra me buscar em casa pra nós ir pra faculdade 😅',\n       'único dia da semana que minha autoestima está alta 😅',\n       'aí lourenço lourenço 😂', 'ja deveria ter desistido faz tempo 😂',\n       'e ainda dizem que nós, sagitarianos, não somos: uma grande mentira, pois tbm sou bastante 😂',\n       'eita 🤭🔥'], dtype=object)"
     },
     "execution_count": 43,
     "metadata": {},
     "output_type": "execute_result"
    }
   ],
   "source": [
    "preditos_neutros[preditos_neutros[\"label\"] == 0][\"text\"].sample(10).values"
   ],
   "metadata": {
    "collapsed": false,
    "pycharm": {
     "name": "#%%\n"
    }
   }
  },
  {
   "cell_type": "code",
   "execution_count": 43,
   "outputs": [],
   "source": [],
   "metadata": {
    "collapsed": false,
    "pycharm": {
     "name": "#%%\n"
    }
   }
  }
 ],
 "metadata": {
  "kernelspec": {
   "display_name": "Python 3",
   "language": "python",
   "name": "python3"
  },
  "language_info": {
   "codemirror_mode": {
    "name": "ipython",
    "version": 2
   },
   "file_extension": ".py",
   "mimetype": "text/x-python",
   "name": "python",
   "nbconvert_exporter": "python",
   "pygments_lexer": "ipython2",
   "version": "2.7.6"
  }
 },
 "nbformat": 4,
 "nbformat_minor": 0
}